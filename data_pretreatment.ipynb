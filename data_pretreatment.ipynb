{
 "cells": [
  {
   "cell_type": "markdown",
   "metadata": {},
   "source": [
    "# Исследование надёжности заёмщиков\n",
    "\n",
    "Заказчик — кредитный отдел банка. Нужно разобраться, влияет ли семейное положение и количество детей клиента на факт погашения кредита в срок. Входные данные от банка — статистика о платёжеспособности клиентов.\n",
    "\n",
    "Результаты исследования будут учтены при построении модели **кредитного скоринга** — специальной системы, которая оценивает способность потенциального заёмщика вернуть кредит банку."
   ]
  },
  {
   "cell_type": "markdown",
   "metadata": {},
   "source": [
    "**Описание данных**\n",
    "- children — количество детей в семье  \n",
    "- days_employed — трудовой стаж в днях\n",
    "- dob_days — возраст клиента в годах\n",
    "- education — образование клиента\n",
    "- education_id — идентификатор образования\n",
    "- family_status — семейное положение\n",
    "- family_status_id — идентификатор семейного положения\n",
    "- gender — пол клиента\n",
    "- income_type — тип занятости\n",
    "- debt — имел ли задолженность по возврату кредитов\n",
    "- total_income — доход в месяц\n",
    "- purpose — цель получения кредита"
   ]
  },
  {
   "cell_type": "markdown",
   "metadata": {},
   "source": [
    "## Импорт файла с данными. Общая информация"
   ]
  },
  {
   "cell_type": "code",
   "execution_count": 1,
   "metadata": {},
   "outputs": [],
   "source": [
    "#имортируем библиотеку pandas\n",
    "import pandas as pd \n",
    "#Импортируем pymystem3 для лемматизации\n",
    "from pymystem3 import Mystem\n",
    "m = Mystem()\n",
    "#Библиотека для подсчета лемм\n",
    "from collections import Counter\n",
    "#импорт библиотеки вычислений\n",
    "import math\n",
    "import numpy as np"
   ]
  },
  {
   "cell_type": "code",
   "execution_count": 2,
   "metadata": {},
   "outputs": [],
   "source": [
    "data = pd.read_csv('/datasets/data.csv') #Загружаем данные"
   ]
  },
  {
   "cell_type": "code",
   "execution_count": 3,
   "metadata": {},
   "outputs": [
    {
     "name": "stdout",
     "output_type": "stream",
     "text": [
      "<class 'pandas.core.frame.DataFrame'>\n",
      "RangeIndex: 21525 entries, 0 to 21524\n",
      "Data columns (total 12 columns):\n",
      "children            21525 non-null int64\n",
      "days_employed       19351 non-null float64\n",
      "dob_years           21525 non-null int64\n",
      "education           21525 non-null object\n",
      "education_id        21525 non-null int64\n",
      "family_status       21525 non-null object\n",
      "family_status_id    21525 non-null int64\n",
      "gender              21525 non-null object\n",
      "income_type         21525 non-null object\n",
      "debt                21525 non-null int64\n",
      "total_income        19351 non-null float64\n",
      "purpose             21525 non-null object\n",
      "dtypes: float64(2), int64(5), object(5)\n",
      "memory usage: 2.0+ MB\n"
     ]
    }
   ],
   "source": [
    "data.info() #общая информация о датафрейме"
   ]
  },
  {
   "cell_type": "code",
   "execution_count": 4,
   "metadata": {},
   "outputs": [
    {
     "data": {
      "text/html": [
       "<div>\n",
       "<style scoped>\n",
       "    .dataframe tbody tr th:only-of-type {\n",
       "        vertical-align: middle;\n",
       "    }\n",
       "\n",
       "    .dataframe tbody tr th {\n",
       "        vertical-align: top;\n",
       "    }\n",
       "\n",
       "    .dataframe thead th {\n",
       "        text-align: right;\n",
       "    }\n",
       "</style>\n",
       "<table border=\"1\" class=\"dataframe\">\n",
       "  <thead>\n",
       "    <tr style=\"text-align: right;\">\n",
       "      <th></th>\n",
       "      <th>children</th>\n",
       "      <th>days_employed</th>\n",
       "      <th>dob_years</th>\n",
       "      <th>education</th>\n",
       "      <th>education_id</th>\n",
       "      <th>family_status</th>\n",
       "      <th>family_status_id</th>\n",
       "      <th>gender</th>\n",
       "      <th>income_type</th>\n",
       "      <th>debt</th>\n",
       "      <th>total_income</th>\n",
       "      <th>purpose</th>\n",
       "    </tr>\n",
       "  </thead>\n",
       "  <tbody>\n",
       "    <tr>\n",
       "      <td>0</td>\n",
       "      <td>1</td>\n",
       "      <td>-8437.673028</td>\n",
       "      <td>42</td>\n",
       "      <td>высшее</td>\n",
       "      <td>0</td>\n",
       "      <td>женат / замужем</td>\n",
       "      <td>0</td>\n",
       "      <td>F</td>\n",
       "      <td>сотрудник</td>\n",
       "      <td>0</td>\n",
       "      <td>253875.639453</td>\n",
       "      <td>покупка жилья</td>\n",
       "    </tr>\n",
       "    <tr>\n",
       "      <td>1</td>\n",
       "      <td>1</td>\n",
       "      <td>-4024.803754</td>\n",
       "      <td>36</td>\n",
       "      <td>среднее</td>\n",
       "      <td>1</td>\n",
       "      <td>женат / замужем</td>\n",
       "      <td>0</td>\n",
       "      <td>F</td>\n",
       "      <td>сотрудник</td>\n",
       "      <td>0</td>\n",
       "      <td>112080.014102</td>\n",
       "      <td>приобретение автомобиля</td>\n",
       "    </tr>\n",
       "    <tr>\n",
       "      <td>2</td>\n",
       "      <td>0</td>\n",
       "      <td>-5623.422610</td>\n",
       "      <td>33</td>\n",
       "      <td>Среднее</td>\n",
       "      <td>1</td>\n",
       "      <td>женат / замужем</td>\n",
       "      <td>0</td>\n",
       "      <td>M</td>\n",
       "      <td>сотрудник</td>\n",
       "      <td>0</td>\n",
       "      <td>145885.952297</td>\n",
       "      <td>покупка жилья</td>\n",
       "    </tr>\n",
       "    <tr>\n",
       "      <td>3</td>\n",
       "      <td>3</td>\n",
       "      <td>-4124.747207</td>\n",
       "      <td>32</td>\n",
       "      <td>среднее</td>\n",
       "      <td>1</td>\n",
       "      <td>женат / замужем</td>\n",
       "      <td>0</td>\n",
       "      <td>M</td>\n",
       "      <td>сотрудник</td>\n",
       "      <td>0</td>\n",
       "      <td>267628.550329</td>\n",
       "      <td>дополнительное образование</td>\n",
       "    </tr>\n",
       "    <tr>\n",
       "      <td>4</td>\n",
       "      <td>0</td>\n",
       "      <td>340266.072047</td>\n",
       "      <td>53</td>\n",
       "      <td>среднее</td>\n",
       "      <td>1</td>\n",
       "      <td>гражданский брак</td>\n",
       "      <td>1</td>\n",
       "      <td>F</td>\n",
       "      <td>пенсионер</td>\n",
       "      <td>0</td>\n",
       "      <td>158616.077870</td>\n",
       "      <td>сыграть свадьбу</td>\n",
       "    </tr>\n",
       "    <tr>\n",
       "      <td>...</td>\n",
       "      <td>...</td>\n",
       "      <td>...</td>\n",
       "      <td>...</td>\n",
       "      <td>...</td>\n",
       "      <td>...</td>\n",
       "      <td>...</td>\n",
       "      <td>...</td>\n",
       "      <td>...</td>\n",
       "      <td>...</td>\n",
       "      <td>...</td>\n",
       "      <td>...</td>\n",
       "      <td>...</td>\n",
       "    </tr>\n",
       "    <tr>\n",
       "      <td>21520</td>\n",
       "      <td>1</td>\n",
       "      <td>-4529.316663</td>\n",
       "      <td>43</td>\n",
       "      <td>среднее</td>\n",
       "      <td>1</td>\n",
       "      <td>гражданский брак</td>\n",
       "      <td>1</td>\n",
       "      <td>F</td>\n",
       "      <td>компаньон</td>\n",
       "      <td>0</td>\n",
       "      <td>224791.862382</td>\n",
       "      <td>операции с жильем</td>\n",
       "    </tr>\n",
       "    <tr>\n",
       "      <td>21521</td>\n",
       "      <td>0</td>\n",
       "      <td>343937.404131</td>\n",
       "      <td>67</td>\n",
       "      <td>среднее</td>\n",
       "      <td>1</td>\n",
       "      <td>женат / замужем</td>\n",
       "      <td>0</td>\n",
       "      <td>F</td>\n",
       "      <td>пенсионер</td>\n",
       "      <td>0</td>\n",
       "      <td>155999.806512</td>\n",
       "      <td>сделка с автомобилем</td>\n",
       "    </tr>\n",
       "    <tr>\n",
       "      <td>21522</td>\n",
       "      <td>1</td>\n",
       "      <td>-2113.346888</td>\n",
       "      <td>38</td>\n",
       "      <td>среднее</td>\n",
       "      <td>1</td>\n",
       "      <td>гражданский брак</td>\n",
       "      <td>1</td>\n",
       "      <td>M</td>\n",
       "      <td>сотрудник</td>\n",
       "      <td>1</td>\n",
       "      <td>89672.561153</td>\n",
       "      <td>недвижимость</td>\n",
       "    </tr>\n",
       "    <tr>\n",
       "      <td>21523</td>\n",
       "      <td>3</td>\n",
       "      <td>-3112.481705</td>\n",
       "      <td>38</td>\n",
       "      <td>среднее</td>\n",
       "      <td>1</td>\n",
       "      <td>женат / замужем</td>\n",
       "      <td>0</td>\n",
       "      <td>M</td>\n",
       "      <td>сотрудник</td>\n",
       "      <td>1</td>\n",
       "      <td>244093.050500</td>\n",
       "      <td>на покупку своего автомобиля</td>\n",
       "    </tr>\n",
       "    <tr>\n",
       "      <td>21524</td>\n",
       "      <td>2</td>\n",
       "      <td>-1984.507589</td>\n",
       "      <td>40</td>\n",
       "      <td>среднее</td>\n",
       "      <td>1</td>\n",
       "      <td>женат / замужем</td>\n",
       "      <td>0</td>\n",
       "      <td>F</td>\n",
       "      <td>сотрудник</td>\n",
       "      <td>0</td>\n",
       "      <td>82047.418899</td>\n",
       "      <td>на покупку автомобиля</td>\n",
       "    </tr>\n",
       "  </tbody>\n",
       "</table>\n",
       "<p>21525 rows × 12 columns</p>\n",
       "</div>"
      ],
      "text/plain": [
       "       children  days_employed  dob_years education  education_id  \\\n",
       "0             1   -8437.673028         42    высшее             0   \n",
       "1             1   -4024.803754         36   среднее             1   \n",
       "2             0   -5623.422610         33   Среднее             1   \n",
       "3             3   -4124.747207         32   среднее             1   \n",
       "4             0  340266.072047         53   среднее             1   \n",
       "...         ...            ...        ...       ...           ...   \n",
       "21520         1   -4529.316663         43   среднее             1   \n",
       "21521         0  343937.404131         67   среднее             1   \n",
       "21522         1   -2113.346888         38   среднее             1   \n",
       "21523         3   -3112.481705         38   среднее             1   \n",
       "21524         2   -1984.507589         40   среднее             1   \n",
       "\n",
       "          family_status  family_status_id gender income_type  debt  \\\n",
       "0       женат / замужем                 0      F   сотрудник     0   \n",
       "1       женат / замужем                 0      F   сотрудник     0   \n",
       "2       женат / замужем                 0      M   сотрудник     0   \n",
       "3       женат / замужем                 0      M   сотрудник     0   \n",
       "4      гражданский брак                 1      F   пенсионер     0   \n",
       "...                 ...               ...    ...         ...   ...   \n",
       "21520  гражданский брак                 1      F   компаньон     0   \n",
       "21521   женат / замужем                 0      F   пенсионер     0   \n",
       "21522  гражданский брак                 1      M   сотрудник     1   \n",
       "21523   женат / замужем                 0      M   сотрудник     1   \n",
       "21524   женат / замужем                 0      F   сотрудник     0   \n",
       "\n",
       "        total_income                       purpose  \n",
       "0      253875.639453                 покупка жилья  \n",
       "1      112080.014102       приобретение автомобиля  \n",
       "2      145885.952297                 покупка жилья  \n",
       "3      267628.550329    дополнительное образование  \n",
       "4      158616.077870               сыграть свадьбу  \n",
       "...              ...                           ...  \n",
       "21520  224791.862382             операции с жильем  \n",
       "21521  155999.806512          сделка с автомобилем  \n",
       "21522   89672.561153                  недвижимость  \n",
       "21523  244093.050500  на покупку своего автомобиля  \n",
       "21524   82047.418899         на покупку автомобиля  \n",
       "\n",
       "[21525 rows x 12 columns]"
      ]
     },
     "execution_count": 4,
     "metadata": {},
     "output_type": "execute_result"
    }
   ],
   "source": [
    "data #просмотр переменной"
   ]
  },
  {
   "cell_type": "code",
   "execution_count": 5,
   "metadata": {},
   "outputs": [
    {
     "data": {
      "text/html": [
       "<div>\n",
       "<style scoped>\n",
       "    .dataframe tbody tr th:only-of-type {\n",
       "        vertical-align: middle;\n",
       "    }\n",
       "\n",
       "    .dataframe tbody tr th {\n",
       "        vertical-align: top;\n",
       "    }\n",
       "\n",
       "    .dataframe thead th {\n",
       "        text-align: right;\n",
       "    }\n",
       "</style>\n",
       "<table border=\"1\" class=\"dataframe\">\n",
       "  <thead>\n",
       "    <tr style=\"text-align: right;\">\n",
       "      <th></th>\n",
       "      <th>children</th>\n",
       "      <th>days_employed</th>\n",
       "      <th>dob_years</th>\n",
       "      <th>education_id</th>\n",
       "      <th>family_status_id</th>\n",
       "      <th>debt</th>\n",
       "      <th>total_income</th>\n",
       "    </tr>\n",
       "  </thead>\n",
       "  <tbody>\n",
       "    <tr>\n",
       "      <td>count</td>\n",
       "      <td>21525.000000</td>\n",
       "      <td>19351.000000</td>\n",
       "      <td>21525.000000</td>\n",
       "      <td>21525.000000</td>\n",
       "      <td>21525.000000</td>\n",
       "      <td>21525.000000</td>\n",
       "      <td>1.935100e+04</td>\n",
       "    </tr>\n",
       "    <tr>\n",
       "      <td>mean</td>\n",
       "      <td>0.538908</td>\n",
       "      <td>63046.497661</td>\n",
       "      <td>43.293380</td>\n",
       "      <td>0.817236</td>\n",
       "      <td>0.972544</td>\n",
       "      <td>0.080883</td>\n",
       "      <td>1.674223e+05</td>\n",
       "    </tr>\n",
       "    <tr>\n",
       "      <td>std</td>\n",
       "      <td>1.381587</td>\n",
       "      <td>140827.311974</td>\n",
       "      <td>12.574584</td>\n",
       "      <td>0.548138</td>\n",
       "      <td>1.420324</td>\n",
       "      <td>0.272661</td>\n",
       "      <td>1.029716e+05</td>\n",
       "    </tr>\n",
       "    <tr>\n",
       "      <td>min</td>\n",
       "      <td>-1.000000</td>\n",
       "      <td>-18388.949901</td>\n",
       "      <td>0.000000</td>\n",
       "      <td>0.000000</td>\n",
       "      <td>0.000000</td>\n",
       "      <td>0.000000</td>\n",
       "      <td>2.066726e+04</td>\n",
       "    </tr>\n",
       "    <tr>\n",
       "      <td>25%</td>\n",
       "      <td>0.000000</td>\n",
       "      <td>-2747.423625</td>\n",
       "      <td>33.000000</td>\n",
       "      <td>1.000000</td>\n",
       "      <td>0.000000</td>\n",
       "      <td>0.000000</td>\n",
       "      <td>1.030532e+05</td>\n",
       "    </tr>\n",
       "    <tr>\n",
       "      <td>50%</td>\n",
       "      <td>0.000000</td>\n",
       "      <td>-1203.369529</td>\n",
       "      <td>42.000000</td>\n",
       "      <td>1.000000</td>\n",
       "      <td>0.000000</td>\n",
       "      <td>0.000000</td>\n",
       "      <td>1.450179e+05</td>\n",
       "    </tr>\n",
       "    <tr>\n",
       "      <td>75%</td>\n",
       "      <td>1.000000</td>\n",
       "      <td>-291.095954</td>\n",
       "      <td>53.000000</td>\n",
       "      <td>1.000000</td>\n",
       "      <td>1.000000</td>\n",
       "      <td>0.000000</td>\n",
       "      <td>2.034351e+05</td>\n",
       "    </tr>\n",
       "    <tr>\n",
       "      <td>max</td>\n",
       "      <td>20.000000</td>\n",
       "      <td>401755.400475</td>\n",
       "      <td>75.000000</td>\n",
       "      <td>4.000000</td>\n",
       "      <td>4.000000</td>\n",
       "      <td>1.000000</td>\n",
       "      <td>2.265604e+06</td>\n",
       "    </tr>\n",
       "  </tbody>\n",
       "</table>\n",
       "</div>"
      ],
      "text/plain": [
       "           children  days_employed     dob_years  education_id  \\\n",
       "count  21525.000000   19351.000000  21525.000000  21525.000000   \n",
       "mean       0.538908   63046.497661     43.293380      0.817236   \n",
       "std        1.381587  140827.311974     12.574584      0.548138   \n",
       "min       -1.000000  -18388.949901      0.000000      0.000000   \n",
       "25%        0.000000   -2747.423625     33.000000      1.000000   \n",
       "50%        0.000000   -1203.369529     42.000000      1.000000   \n",
       "75%        1.000000    -291.095954     53.000000      1.000000   \n",
       "max       20.000000  401755.400475     75.000000      4.000000   \n",
       "\n",
       "       family_status_id          debt  total_income  \n",
       "count      21525.000000  21525.000000  1.935100e+04  \n",
       "mean           0.972544      0.080883  1.674223e+05  \n",
       "std            1.420324      0.272661  1.029716e+05  \n",
       "min            0.000000      0.000000  2.066726e+04  \n",
       "25%            0.000000      0.000000  1.030532e+05  \n",
       "50%            0.000000      0.000000  1.450179e+05  \n",
       "75%            1.000000      0.000000  2.034351e+05  \n",
       "max            4.000000      1.000000  2.265604e+06  "
      ]
     },
     "execution_count": 5,
     "metadata": {},
     "output_type": "execute_result"
    }
   ],
   "source": [
    "data.describe() #Проверка описательной статистики"
   ]
  },
  {
   "cell_type": "markdown",
   "metadata": {},
   "source": [
    "**Вывод**"
   ]
  },
  {
   "cell_type": "markdown",
   "metadata": {},
   "source": [
    "В таблице 12 колонок и 21525 строк. В 2-х колонках есть пропущенные значения. В days_employed тип данных float вместо int. В колонке total_income нет необходимости в такой точности данных, нужно перевести в int. Есть отрицательные значения в колонке дети, там же есть выбросы, которые необходимо обработать."
   ]
  },
  {
   "cell_type": "markdown",
   "metadata": {},
   "source": [
    "## Предобработка данных"
   ]
  },
  {
   "cell_type": "markdown",
   "metadata": {},
   "source": [
    "### Обработка пропусков"
   ]
  },
  {
   "cell_type": "markdown",
   "metadata": {},
   "source": [
    "В колонках total_income и days_employed одинаковое количество пропусков. Проверим, что пропущенные значения сотвествуют одним и тем же людям."
   ]
  },
  {
   "cell_type": "code",
   "execution_count": 6,
   "metadata": {},
   "outputs": [
    {
     "data": {
      "text/plain": [
       "2174"
      ]
     },
     "execution_count": 6,
     "metadata": {},
     "output_type": "execute_result"
    }
   ],
   "source": [
    "data['total_income'].isna().sum() #подсчет пропущеных значений в колонке total_income"
   ]
  },
  {
   "cell_type": "code",
   "execution_count": 7,
   "metadata": {},
   "outputs": [
    {
     "data": {
      "text/plain": [
       "2174"
      ]
     },
     "execution_count": 7,
     "metadata": {},
     "output_type": "execute_result"
    }
   ],
   "source": [
    "#Проверим что всем пропущенным значениям в total_income соответствуют все пропущенные значения в days_employed\n",
    "len(data[(data['total_income'].isna() == True) & (data['days_employed'].isna() == True)]) "
   ]
  },
  {
   "cell_type": "markdown",
   "metadata": {},
   "source": [
    "Возможно эти пропуски отображают людей без работы и заработка. 2174 пропущенных значения - это около 10% об всей выборке, поэтому заполнение нулями или удаление этих строк будет некорректным. Проверим у каких категорий работников пропущенны значения:"
   ]
  },
  {
   "cell_type": "code",
   "execution_count": 8,
   "metadata": {},
   "outputs": [
    {
     "data": {
      "text/plain": [
       "сотрудник          1105\n",
       "компаньон           508\n",
       "пенсионер           413\n",
       "госслужащий         147\n",
       "предприниматель       1\n",
       "Name: income_type, dtype: int64"
      ]
     },
     "execution_count": 8,
     "metadata": {},
     "output_type": "execute_result"
    }
   ],
   "source": [
    "data[data['total_income'].isna()]['income_type'].value_counts()"
   ]
  },
  {
   "cell_type": "markdown",
   "metadata": {},
   "source": [
    "Все из этих категорий скорее всего получают доход. Поэтому заполним пропущенные значения в каждой категории соответствующим медианным значением:"
   ]
  },
  {
   "cell_type": "code",
   "execution_count": 9,
   "metadata": {},
   "outputs": [
    {
     "data": {
      "text/plain": [
       "income_type\n",
       "безработный        131339\n",
       "в декрете           53829\n",
       "госслужащий        150447\n",
       "компаньон          172357\n",
       "пенсионер          118514\n",
       "предприниматель    499163\n",
       "сотрудник          142594\n",
       "студент             98201\n",
       "Name: total_income, dtype: int64"
      ]
     },
     "execution_count": 9,
     "metadata": {},
     "output_type": "execute_result"
    }
   ],
   "source": [
    "income_type_category_median =  data['total_income'].groupby(data['income_type']).median().astype(int)\n",
    "income_type_category_median"
   ]
  },
  {
   "cell_type": "code",
   "execution_count": 10,
   "metadata": {},
   "outputs": [],
   "source": [
    "#data['total_income'] = data['total_income'].fillna('none')\n",
    "#for i in range(len(data['total_income'])):\n",
    "#    if data['total_income'][i] == 'none':\n",
    "#        data['total_income'][i] = income_type_category_median[data['income_type'][i]]"
   ]
  },
  {
   "cell_type": "code",
   "execution_count": 11,
   "metadata": {},
   "outputs": [],
   "source": [
    "# для каждого типа занятости из серии, составленной выше\n",
    "for income_type in income_type_category_median.index: \n",
    "# в нашем датафрейме мы выбираем только те строки, где тип занятости соответствует выбранному выше (по очереди), и берем из доход\n",
    "    data.loc[data['income_type'] == income_type,'total_income'] =  (data\n",
    "    # и приравниваем их к самим себе (сохраняем), только заполняя пропуски доходом из таблички со средним доходом\n",
    "    .loc[data['income_type'] == income_type,'total_income'].fillna(income_type_category_median.loc[income_type]))   "
   ]
  },
  {
   "cell_type": "code",
   "execution_count": 12,
   "metadata": {
    "scrolled": true
   },
   "outputs": [
    {
     "data": {
      "text/plain": [
       "64370.933608        1\n",
       "233632.159449       1\n",
       "162416.137763       1\n",
       "122140.327609       1\n",
       "175780.973093       1\n",
       "                 ... \n",
       "303202.200463       1\n",
       "150447.000000     147\n",
       "118514.000000     413\n",
       "172357.000000     508\n",
       "142594.000000    1105\n",
       "Name: total_income, Length: 19356, dtype: int64"
      ]
     },
     "execution_count": 12,
     "metadata": {},
     "output_type": "execute_result"
    }
   ],
   "source": [
    "data['total_income'].value_counts().sort_values()"
   ]
  },
  {
   "cell_type": "markdown",
   "metadata": {},
   "source": [
    "Пропущенные значения в колонке days_employed заполним 0, т.к. она не влияет на результаты исследования"
   ]
  },
  {
   "cell_type": "code",
   "execution_count": 13,
   "metadata": {},
   "outputs": [],
   "source": [
    "data['days_employed'] = data['days_employed'].fillna(0) #Заполнение значений NaN нулями"
   ]
  },
  {
   "cell_type": "markdown",
   "metadata": {},
   "source": [
    "Проверим отсутствие пропущенных значений."
   ]
  },
  {
   "cell_type": "code",
   "execution_count": 14,
   "metadata": {},
   "outputs": [
    {
     "data": {
      "text/plain": [
       "children            0\n",
       "days_employed       0\n",
       "dob_years           0\n",
       "education           0\n",
       "education_id        0\n",
       "family_status       0\n",
       "family_status_id    0\n",
       "gender              0\n",
       "income_type         0\n",
       "debt                0\n",
       "total_income        0\n",
       "purpose             0\n",
       "dtype: int64"
      ]
     },
     "execution_count": 14,
     "metadata": {},
     "output_type": "execute_result"
    }
   ],
   "source": [
    "data.isna().sum()"
   ]
  },
  {
   "cell_type": "code",
   "execution_count": 15,
   "metadata": {},
   "outputs": [
    {
     "data": {
      "text/plain": [
       "numpy.float64"
      ]
     },
     "execution_count": 15,
     "metadata": {},
     "output_type": "execute_result"
    }
   ],
   "source": [
    "type(data['total_income'][0])"
   ]
  },
  {
   "cell_type": "markdown",
   "metadata": {},
   "source": [
    "**Вывод**"
   ]
  },
  {
   "cell_type": "markdown",
   "metadata": {},
   "source": [
    "Теперь все 21525 столбцов заполнены."
   ]
  },
  {
   "cell_type": "markdown",
   "metadata": {},
   "source": [
    "### Замена типа данных"
   ]
  },
  {
   "cell_type": "markdown",
   "metadata": {},
   "source": [
    "В days_employed тип данных float вместо int. В колонке total_income нет необходимости в такой точности данных, нужно перевести её тип в int."
   ]
  },
  {
   "cell_type": "code",
   "execution_count": 16,
   "metadata": {},
   "outputs": [],
   "source": [
    "#применяем метод astype(), т.к. с ним можно перевести данные в нужный тип\n",
    "data['days_employed'] = data['days_employed'].astype(int) "
   ]
  },
  {
   "cell_type": "code",
   "execution_count": 17,
   "metadata": {},
   "outputs": [],
   "source": [
    "#применяем метод astype(), т.к. с ним можно перевести данные в нужный тип\n",
    "data['total_income'] = data['total_income'].astype(int)"
   ]
  },
  {
   "cell_type": "code",
   "execution_count": 18,
   "metadata": {},
   "outputs": [
    {
     "name": "stdout",
     "output_type": "stream",
     "text": [
      "<class 'pandas.core.frame.DataFrame'>\n",
      "RangeIndex: 21525 entries, 0 to 21524\n",
      "Data columns (total 12 columns):\n",
      "children            21525 non-null int64\n",
      "days_employed       21525 non-null int64\n",
      "dob_years           21525 non-null int64\n",
      "education           21525 non-null object\n",
      "education_id        21525 non-null int64\n",
      "family_status       21525 non-null object\n",
      "family_status_id    21525 non-null int64\n",
      "gender              21525 non-null object\n",
      "income_type         21525 non-null object\n",
      "debt                21525 non-null int64\n",
      "total_income        21525 non-null int64\n",
      "purpose             21525 non-null object\n",
      "dtypes: int64(7), object(5)\n",
      "memory usage: 2.0+ MB\n"
     ]
    }
   ],
   "source": [
    "#проверка изменения типа данных\n",
    "data.info()"
   ]
  },
  {
   "cell_type": "markdown",
   "metadata": {},
   "source": [
    "В колонке days_employed есть отрицательные данные. Это может означать количество дней прошедших с последнего дня официальной работы."
   ]
  },
  {
   "cell_type": "code",
   "execution_count": 19,
   "metadata": {},
   "outputs": [
    {
     "data": {
      "text/plain": [
       "0         -8437\n",
       "1         -4024\n",
       "2         -5623\n",
       "3         -4124\n",
       "4        340266\n",
       "          ...  \n",
       "21520     -4529\n",
       "21521    343937\n",
       "21522     -2113\n",
       "21523     -3112\n",
       "21524     -1984\n",
       "Name: days_employed, Length: 21525, dtype: int64"
      ]
     },
     "execution_count": 19,
     "metadata": {},
     "output_type": "execute_result"
    }
   ],
   "source": [
    "data['days_employed']"
   ]
  },
  {
   "cell_type": "code",
   "execution_count": 20,
   "metadata": {},
   "outputs": [
    {
     "data": {
      "text/plain": [
       "children            0\n",
       "days_employed       0\n",
       "dob_years           0\n",
       "education           0\n",
       "education_id        0\n",
       "family_status       0\n",
       "family_status_id    0\n",
       "gender              0\n",
       "income_type         0\n",
       "debt                0\n",
       "total_income        0\n",
       "purpose             0\n",
       "dtype: int64"
      ]
     },
     "execution_count": 20,
     "metadata": {},
     "output_type": "execute_result"
    }
   ],
   "source": [
    "#Проверим есть ли заёмщики с отрицательным доходом \n",
    "data[data['total_income'] < 0].count()"
   ]
  },
  {
   "cell_type": "code",
   "execution_count": 21,
   "metadata": {},
   "outputs": [
    {
     "data": {
      "text/plain": [
       "children            0\n",
       "days_employed       0\n",
       "dob_years           0\n",
       "education           0\n",
       "education_id        0\n",
       "family_status       0\n",
       "family_status_id    0\n",
       "gender              0\n",
       "income_type         0\n",
       "debt                0\n",
       "total_income        0\n",
       "purpose             0\n",
       "dtype: int64"
      ]
     },
     "execution_count": 21,
     "metadata": {},
     "output_type": "execute_result"
    }
   ],
   "source": [
    "#Проверим есть ли заёмщики с нулевым доходом и отрицательным количеством дней в найме\n",
    "data[(data['days_employed'] < 0) & (data['total_income'] == 0)].count()"
   ]
  },
  {
   "cell_type": "markdown",
   "metadata": {},
   "source": [
    "Выявим категории работников с положительным доходом, но отрицательными днями работы."
   ]
  },
  {
   "cell_type": "code",
   "execution_count": 22,
   "metadata": {},
   "outputs": [
    {
     "data": {
      "text/plain": [
       "сотрудник          10014\n",
       "компаньон           4577\n",
       "госслужащий         1312\n",
       "в декрете              1\n",
       "студент                1\n",
       "предприниматель        1\n",
       "Name: income_type, dtype: int64"
      ]
     },
     "execution_count": 22,
     "metadata": {},
     "output_type": "execute_result"
    }
   ],
   "source": [
    "data[(data['days_employed'] < 0) & (data['total_income'] > 0)]['income_type'].value_counts()"
   ]
  },
  {
   "cell_type": "markdown",
   "metadata": {},
   "source": [
    "1. Для категорий: *студент*, *в декрете*, *предприниматель*, *компаньон* отрицательное число в days_emploed может означать количество дней прошедших с последней работы по найму.\n",
    "2. Для *госслужащих* и *сотрудников* это может означать опечатку, так как при этом их доход не нулевой.\n",
    "3. Также для *сотрудников* это может означать отсутствие подтверждение работы по найму. Но т.к. такие люди составляют почти половину датасета, допустим что это все же опечатека."
   ]
  },
  {
   "cell_type": "markdown",
   "metadata": {},
   "source": [
    "Все случаи позволяют нам заменить отрицательные значения на положительные, допуская, что это опечатка или особенности выгрузки данных."
   ]
  },
  {
   "cell_type": "code",
   "execution_count": 23,
   "metadata": {},
   "outputs": [
    {
     "data": {
      "text/plain": [
       "0       -8437\n",
       "1       -4024\n",
       "2       -5623\n",
       "3       -4124\n",
       "5        -926\n",
       "         ... \n",
       "21519   -2351\n",
       "21520   -4529\n",
       "21522   -2113\n",
       "21523   -3112\n",
       "21524   -1984\n",
       "Name: days_employed, Length: 15906, dtype: int64"
      ]
     },
     "execution_count": 23,
     "metadata": {},
     "output_type": "execute_result"
    }
   ],
   "source": [
    "data['days_employed'][data['days_employed'] < 0]"
   ]
  },
  {
   "cell_type": "code",
   "execution_count": 24,
   "metadata": {},
   "outputs": [],
   "source": [
    "# Перевод отрицательных значений в положительные\n",
    "for i in range(len(data)):\n",
    "    if data.loc[i, 'days_employed'] < 0:\n",
    "        data.loc[i, 'days_employed'] *= (-1)"
   ]
  },
  {
   "cell_type": "code",
   "execution_count": 25,
   "metadata": {},
   "outputs": [
    {
     "data": {
      "text/html": [
       "<div>\n",
       "<style scoped>\n",
       "    .dataframe tbody tr th:only-of-type {\n",
       "        vertical-align: middle;\n",
       "    }\n",
       "\n",
       "    .dataframe tbody tr th {\n",
       "        vertical-align: top;\n",
       "    }\n",
       "\n",
       "    .dataframe thead th {\n",
       "        text-align: right;\n",
       "    }\n",
       "</style>\n",
       "<table border=\"1\" class=\"dataframe\">\n",
       "  <thead>\n",
       "    <tr style=\"text-align: right;\">\n",
       "      <th></th>\n",
       "      <th>children</th>\n",
       "      <th>days_employed</th>\n",
       "      <th>dob_years</th>\n",
       "      <th>education</th>\n",
       "      <th>education_id</th>\n",
       "      <th>family_status</th>\n",
       "      <th>family_status_id</th>\n",
       "      <th>gender</th>\n",
       "      <th>income_type</th>\n",
       "      <th>debt</th>\n",
       "      <th>total_income</th>\n",
       "      <th>purpose</th>\n",
       "    </tr>\n",
       "  </thead>\n",
       "  <tbody>\n",
       "    <tr>\n",
       "      <td>0</td>\n",
       "      <td>1</td>\n",
       "      <td>8437</td>\n",
       "      <td>42</td>\n",
       "      <td>высшее</td>\n",
       "      <td>0</td>\n",
       "      <td>женат / замужем</td>\n",
       "      <td>0</td>\n",
       "      <td>F</td>\n",
       "      <td>сотрудник</td>\n",
       "      <td>0</td>\n",
       "      <td>253875</td>\n",
       "      <td>покупка жилья</td>\n",
       "    </tr>\n",
       "    <tr>\n",
       "      <td>1</td>\n",
       "      <td>1</td>\n",
       "      <td>4024</td>\n",
       "      <td>36</td>\n",
       "      <td>среднее</td>\n",
       "      <td>1</td>\n",
       "      <td>женат / замужем</td>\n",
       "      <td>0</td>\n",
       "      <td>F</td>\n",
       "      <td>сотрудник</td>\n",
       "      <td>0</td>\n",
       "      <td>112080</td>\n",
       "      <td>приобретение автомобиля</td>\n",
       "    </tr>\n",
       "    <tr>\n",
       "      <td>2</td>\n",
       "      <td>0</td>\n",
       "      <td>5623</td>\n",
       "      <td>33</td>\n",
       "      <td>Среднее</td>\n",
       "      <td>1</td>\n",
       "      <td>женат / замужем</td>\n",
       "      <td>0</td>\n",
       "      <td>M</td>\n",
       "      <td>сотрудник</td>\n",
       "      <td>0</td>\n",
       "      <td>145885</td>\n",
       "      <td>покупка жилья</td>\n",
       "    </tr>\n",
       "    <tr>\n",
       "      <td>3</td>\n",
       "      <td>3</td>\n",
       "      <td>4124</td>\n",
       "      <td>32</td>\n",
       "      <td>среднее</td>\n",
       "      <td>1</td>\n",
       "      <td>женат / замужем</td>\n",
       "      <td>0</td>\n",
       "      <td>M</td>\n",
       "      <td>сотрудник</td>\n",
       "      <td>0</td>\n",
       "      <td>267628</td>\n",
       "      <td>дополнительное образование</td>\n",
       "    </tr>\n",
       "    <tr>\n",
       "      <td>4</td>\n",
       "      <td>0</td>\n",
       "      <td>340266</td>\n",
       "      <td>53</td>\n",
       "      <td>среднее</td>\n",
       "      <td>1</td>\n",
       "      <td>гражданский брак</td>\n",
       "      <td>1</td>\n",
       "      <td>F</td>\n",
       "      <td>пенсионер</td>\n",
       "      <td>0</td>\n",
       "      <td>158616</td>\n",
       "      <td>сыграть свадьбу</td>\n",
       "    </tr>\n",
       "    <tr>\n",
       "      <td>...</td>\n",
       "      <td>...</td>\n",
       "      <td>...</td>\n",
       "      <td>...</td>\n",
       "      <td>...</td>\n",
       "      <td>...</td>\n",
       "      <td>...</td>\n",
       "      <td>...</td>\n",
       "      <td>...</td>\n",
       "      <td>...</td>\n",
       "      <td>...</td>\n",
       "      <td>...</td>\n",
       "      <td>...</td>\n",
       "    </tr>\n",
       "    <tr>\n",
       "      <td>21520</td>\n",
       "      <td>1</td>\n",
       "      <td>4529</td>\n",
       "      <td>43</td>\n",
       "      <td>среднее</td>\n",
       "      <td>1</td>\n",
       "      <td>гражданский брак</td>\n",
       "      <td>1</td>\n",
       "      <td>F</td>\n",
       "      <td>компаньон</td>\n",
       "      <td>0</td>\n",
       "      <td>224791</td>\n",
       "      <td>операции с жильем</td>\n",
       "    </tr>\n",
       "    <tr>\n",
       "      <td>21521</td>\n",
       "      <td>0</td>\n",
       "      <td>343937</td>\n",
       "      <td>67</td>\n",
       "      <td>среднее</td>\n",
       "      <td>1</td>\n",
       "      <td>женат / замужем</td>\n",
       "      <td>0</td>\n",
       "      <td>F</td>\n",
       "      <td>пенсионер</td>\n",
       "      <td>0</td>\n",
       "      <td>155999</td>\n",
       "      <td>сделка с автомобилем</td>\n",
       "    </tr>\n",
       "    <tr>\n",
       "      <td>21522</td>\n",
       "      <td>1</td>\n",
       "      <td>2113</td>\n",
       "      <td>38</td>\n",
       "      <td>среднее</td>\n",
       "      <td>1</td>\n",
       "      <td>гражданский брак</td>\n",
       "      <td>1</td>\n",
       "      <td>M</td>\n",
       "      <td>сотрудник</td>\n",
       "      <td>1</td>\n",
       "      <td>89672</td>\n",
       "      <td>недвижимость</td>\n",
       "    </tr>\n",
       "    <tr>\n",
       "      <td>21523</td>\n",
       "      <td>3</td>\n",
       "      <td>3112</td>\n",
       "      <td>38</td>\n",
       "      <td>среднее</td>\n",
       "      <td>1</td>\n",
       "      <td>женат / замужем</td>\n",
       "      <td>0</td>\n",
       "      <td>M</td>\n",
       "      <td>сотрудник</td>\n",
       "      <td>1</td>\n",
       "      <td>244093</td>\n",
       "      <td>на покупку своего автомобиля</td>\n",
       "    </tr>\n",
       "    <tr>\n",
       "      <td>21524</td>\n",
       "      <td>2</td>\n",
       "      <td>1984</td>\n",
       "      <td>40</td>\n",
       "      <td>среднее</td>\n",
       "      <td>1</td>\n",
       "      <td>женат / замужем</td>\n",
       "      <td>0</td>\n",
       "      <td>F</td>\n",
       "      <td>сотрудник</td>\n",
       "      <td>0</td>\n",
       "      <td>82047</td>\n",
       "      <td>на покупку автомобиля</td>\n",
       "    </tr>\n",
       "  </tbody>\n",
       "</table>\n",
       "<p>21525 rows × 12 columns</p>\n",
       "</div>"
      ],
      "text/plain": [
       "       children  days_employed  dob_years education  education_id  \\\n",
       "0             1           8437         42    высшее             0   \n",
       "1             1           4024         36   среднее             1   \n",
       "2             0           5623         33   Среднее             1   \n",
       "3             3           4124         32   среднее             1   \n",
       "4             0         340266         53   среднее             1   \n",
       "...         ...            ...        ...       ...           ...   \n",
       "21520         1           4529         43   среднее             1   \n",
       "21521         0         343937         67   среднее             1   \n",
       "21522         1           2113         38   среднее             1   \n",
       "21523         3           3112         38   среднее             1   \n",
       "21524         2           1984         40   среднее             1   \n",
       "\n",
       "          family_status  family_status_id gender income_type  debt  \\\n",
       "0       женат / замужем                 0      F   сотрудник     0   \n",
       "1       женат / замужем                 0      F   сотрудник     0   \n",
       "2       женат / замужем                 0      M   сотрудник     0   \n",
       "3       женат / замужем                 0      M   сотрудник     0   \n",
       "4      гражданский брак                 1      F   пенсионер     0   \n",
       "...                 ...               ...    ...         ...   ...   \n",
       "21520  гражданский брак                 1      F   компаньон     0   \n",
       "21521   женат / замужем                 0      F   пенсионер     0   \n",
       "21522  гражданский брак                 1      M   сотрудник     1   \n",
       "21523   женат / замужем                 0      M   сотрудник     1   \n",
       "21524   женат / замужем                 0      F   сотрудник     0   \n",
       "\n",
       "       total_income                       purpose  \n",
       "0            253875                 покупка жилья  \n",
       "1            112080       приобретение автомобиля  \n",
       "2            145885                 покупка жилья  \n",
       "3            267628    дополнительное образование  \n",
       "4            158616               сыграть свадьбу  \n",
       "...             ...                           ...  \n",
       "21520        224791             операции с жильем  \n",
       "21521        155999          сделка с автомобилем  \n",
       "21522         89672                  недвижимость  \n",
       "21523        244093  на покупку своего автомобиля  \n",
       "21524         82047         на покупку автомобиля  \n",
       "\n",
       "[21525 rows x 12 columns]"
      ]
     },
     "execution_count": 25,
     "metadata": {},
     "output_type": "execute_result"
    }
   ],
   "source": [
    "# Проверка исправлений\n",
    "data"
   ]
  },
  {
   "cell_type": "markdown",
   "metadata": {},
   "source": [
    "Проверим значения в столбце children:"
   ]
  },
  {
   "cell_type": "code",
   "execution_count": 26,
   "metadata": {},
   "outputs": [
    {
     "data": {
      "text/plain": [
       " 0     14149\n",
       " 1      4818\n",
       " 2      2055\n",
       " 3       330\n",
       " 20       76\n",
       "-1        47\n",
       " 4        41\n",
       " 5         9\n",
       "Name: children, dtype: int64"
      ]
     },
     "execution_count": 26,
     "metadata": {},
     "output_type": "execute_result"
    }
   ],
   "source": [
    "data['children'].value_counts()"
   ]
  },
  {
   "cell_type": "markdown",
   "metadata": {},
   "source": [
    "47 строк с отрицательным значением. Допускаем, что это опечатка, т.к. количество не значительное в масштабе данных. Заменим на положительное значение."
   ]
  },
  {
   "cell_type": "code",
   "execution_count": 27,
   "metadata": {},
   "outputs": [],
   "source": [
    "for i in range(len(data)):\n",
    "    if data.loc[i, 'children'] < 0:\n",
    "        data.loc[i, 'children'] *= (-1)"
   ]
  },
  {
   "cell_type": "code",
   "execution_count": 28,
   "metadata": {},
   "outputs": [
    {
     "data": {
      "text/plain": [
       "0     14149\n",
       "1      4865\n",
       "2      2055\n",
       "3       330\n",
       "20       76\n",
       "4        41\n",
       "5         9\n",
       "Name: children, dtype: int64"
      ]
     },
     "execution_count": 28,
     "metadata": {},
     "output_type": "execute_result"
    }
   ],
   "source": [
    "data['children'].value_counts()"
   ]
  },
  {
   "cell_type": "markdown",
   "metadata": {},
   "source": [
    "Присутствует также выброс в с количеством детей 20. Скорее всего это опечатка с лишним нулем. Заменим эти значения на 2."
   ]
  },
  {
   "cell_type": "code",
   "execution_count": 29,
   "metadata": {},
   "outputs": [],
   "source": [
    "data['children'] = data['children'].replace(20, 2)"
   ]
  },
  {
   "cell_type": "markdown",
   "metadata": {},
   "source": [
    "**Вывод**"
   ]
  },
  {
   "cell_type": "markdown",
   "metadata": {},
   "source": [
    "Тип данных успешно изменен с float на int. Отрицательные значения заменены на положительные."
   ]
  },
  {
   "cell_type": "markdown",
   "metadata": {},
   "source": [
    "### Обработка дубликатов"
   ]
  },
  {
   "cell_type": "code",
   "execution_count": 30,
   "metadata": {},
   "outputs": [],
   "source": [
    "#Приведем все строки к нижнему регистру\n",
    "columns_all = data.columns #Создаём список колонок\n",
    "columns_str = []\n",
    "for column in columns_all:\n",
    "    if data[column].dtype == object:\n",
    "        columns_str.append(column)\n",
    "\n",
    "#Создаем цикл перебора колонок, который уменьшает регистр символов, если колонка имеет тип object\n",
    "for column in columns_str:\n",
    "    data[column] = data[column].str.lower()"
   ]
  },
  {
   "cell_type": "code",
   "execution_count": 31,
   "metadata": {},
   "outputs": [
    {
     "data": {
      "text/plain": [
       "71"
      ]
     },
     "execution_count": 31,
     "metadata": {},
     "output_type": "execute_result"
    }
   ],
   "source": [
    "#Посчитаем явные дубликаты\n",
    "data.duplicated().sum()"
   ]
  },
  {
   "cell_type": "code",
   "execution_count": 32,
   "metadata": {},
   "outputs": [],
   "source": [
    "#Удалим все явные дубликаты с обнулением индексов\n",
    "data = data.drop_duplicates().reset_index(drop=True)"
   ]
  },
  {
   "cell_type": "code",
   "execution_count": 33,
   "metadata": {},
   "outputs": [
    {
     "data": {
      "text/plain": [
       "0"
      ]
     },
     "execution_count": 33,
     "metadata": {},
     "output_type": "execute_result"
    }
   ],
   "source": [
    "#Проверим удаление явных дубликатов\n",
    "data.duplicated().sum()"
   ]
  },
  {
   "cell_type": "markdown",
   "metadata": {},
   "source": [
    "Явные дубликаты удалены. Теперь выявим неявные дубликаты в строковых данных. Проверем уникальные данные в каждой текстовой колонке, чтобы выявить аномалии."
   ]
  },
  {
   "cell_type": "code",
   "execution_count": 34,
   "metadata": {},
   "outputs": [
    {
     "data": {
      "text/plain": [
       "среднее                15172\n",
       "высшее                  5250\n",
       "неоконченное высшее      744\n",
       "начальное                282\n",
       "ученая степень             6\n",
       "Name: education, dtype: int64"
      ]
     },
     "execution_count": 34,
     "metadata": {},
     "output_type": "execute_result"
    }
   ],
   "source": [
    "#Методом отобразим и посчитаем уникальные значения в столбце \"образование\" \n",
    "data[columns_str[0]].value_counts()"
   ]
  },
  {
   "cell_type": "code",
   "execution_count": 35,
   "metadata": {},
   "outputs": [
    {
     "data": {
      "text/plain": [
       "женат / замужем          12339\n",
       "гражданский брак          4151\n",
       "не женат / не замужем     2810\n",
       "в разводе                 1195\n",
       "вдовец / вдова             959\n",
       "Name: family_status, dtype: int64"
      ]
     },
     "execution_count": 35,
     "metadata": {},
     "output_type": "execute_result"
    }
   ],
   "source": [
    "#Методом отобразим и посчитаем уникальные значения в столбце \"семейное положение\"  \n",
    "data[columns_str[1]].value_counts()"
   ]
  },
  {
   "cell_type": "code",
   "execution_count": 36,
   "metadata": {},
   "outputs": [
    {
     "data": {
      "text/plain": [
       "f      14174\n",
       "m       7279\n",
       "xna        1\n",
       "Name: gender, dtype: int64"
      ]
     },
     "execution_count": 36,
     "metadata": {},
     "output_type": "execute_result"
    }
   ],
   "source": [
    "#Методом отобразим и посчитаем уникальные значения в столбце \"пол\" \n",
    "data[columns_str[2]].value_counts()"
   ]
  },
  {
   "cell_type": "code",
   "execution_count": 37,
   "metadata": {},
   "outputs": [
    {
     "data": {
      "text/plain": [
       "сотрудник          11084\n",
       "компаньон           5078\n",
       "пенсионер           3829\n",
       "госслужащий         1457\n",
       "безработный            2\n",
       "предприниматель        2\n",
       "в декрете              1\n",
       "студент                1\n",
       "Name: income_type, dtype: int64"
      ]
     },
     "execution_count": 37,
     "metadata": {},
     "output_type": "execute_result"
    }
   ],
   "source": [
    "#Методом отобразим и посчитаем уникальные значения в столбце \"образование\" \n",
    "data[columns_str[3]].value_counts()"
   ]
  },
  {
   "cell_type": "code",
   "execution_count": 38,
   "metadata": {},
   "outputs": [
    {
     "data": {
      "text/plain": [
       "свадьба                                   791\n",
       "на проведение свадьбы                     768\n",
       "сыграть свадьбу                           765\n",
       "операции с недвижимостью                  675\n",
       "покупка коммерческой недвижимости         661\n",
       "операции с жильем                         652\n",
       "покупка жилья для сдачи                   651\n",
       "операции с коммерческой недвижимостью     650\n",
       "покупка жилья                             646\n",
       "жилье                                     646\n",
       "покупка жилья для семьи                   638\n",
       "строительство собственной недвижимости    635\n",
       "недвижимость                              633\n",
       "операции со своей недвижимостью           627\n",
       "строительство жилой недвижимости          624\n",
       "покупка недвижимости                      621\n",
       "покупка своего жилья                      620\n",
       "строительство недвижимости                619\n",
       "ремонт жилью                              607\n",
       "покупка жилой недвижимости                606\n",
       "на покупку своего автомобиля              505\n",
       "заняться высшим образованием              496\n",
       "автомобиль                                494\n",
       "сделка с подержанным автомобилем          486\n",
       "автомобили                                478\n",
       "свой автомобиль                           478\n",
       "на покупку подержанного автомобиля        478\n",
       "на покупку автомобиля                     471\n",
       "приобретение автомобиля                   461\n",
       "дополнительное образование                460\n",
       "сделка с автомобилем                      455\n",
       "высшее образование                        452\n",
       "образование                               447\n",
       "получение дополнительного образования     446\n",
       "получение образования                     442\n",
       "профильное образование                    436\n",
       "получение высшего образования             426\n",
       "заняться образованием                     408\n",
       "Name: purpose, dtype: int64"
      ]
     },
     "execution_count": 38,
     "metadata": {},
     "output_type": "execute_result"
    }
   ],
   "source": [
    "#Методом отобразим и посчитаем уникальные значения в столбце \"цель\" \n",
    "data[columns_str[4]].value_counts()"
   ]
  },
  {
   "cell_type": "markdown",
   "metadata": {},
   "source": [
    "В столбце 'gender' один человек имеет непонятный пол. Т.к. пол не влияет на результаты исследования, заменим это значение на '' "
   ]
  },
  {
   "cell_type": "code",
   "execution_count": 39,
   "metadata": {},
   "outputs": [
    {
     "data": {
      "text/plain": [
       "Int64Index([10684], dtype='int64')"
      ]
     },
     "execution_count": 39,
     "metadata": {},
     "output_type": "execute_result"
    }
   ],
   "source": [
    "data.loc[data['gender'] == 'xna'].index"
   ]
  },
  {
   "cell_type": "code",
   "execution_count": 40,
   "metadata": {},
   "outputs": [
    {
     "data": {
      "text/plain": [
       "f      14174\n",
       "m       7279\n",
       "xna        1\n",
       "Name: gender, dtype: int64"
      ]
     },
     "execution_count": 40,
     "metadata": {},
     "output_type": "execute_result"
    }
   ],
   "source": [
    "data['gender'].value_counts()"
   ]
  },
  {
   "cell_type": "code",
   "execution_count": 41,
   "metadata": {},
   "outputs": [],
   "source": [
    "data = data.drop(data.loc[data['gender'] == 'xna'].index).reset_index(drop=True)"
   ]
  },
  {
   "cell_type": "code",
   "execution_count": 42,
   "metadata": {},
   "outputs": [
    {
     "data": {
      "text/html": [
       "<div>\n",
       "<style scoped>\n",
       "    .dataframe tbody tr th:only-of-type {\n",
       "        vertical-align: middle;\n",
       "    }\n",
       "\n",
       "    .dataframe tbody tr th {\n",
       "        vertical-align: top;\n",
       "    }\n",
       "\n",
       "    .dataframe thead th {\n",
       "        text-align: right;\n",
       "    }\n",
       "</style>\n",
       "<table border=\"1\" class=\"dataframe\">\n",
       "  <thead>\n",
       "    <tr style=\"text-align: right;\">\n",
       "      <th></th>\n",
       "      <th>children</th>\n",
       "      <th>days_employed</th>\n",
       "      <th>dob_years</th>\n",
       "      <th>education</th>\n",
       "      <th>education_id</th>\n",
       "      <th>family_status</th>\n",
       "      <th>family_status_id</th>\n",
       "      <th>gender</th>\n",
       "      <th>income_type</th>\n",
       "      <th>debt</th>\n",
       "      <th>total_income</th>\n",
       "      <th>purpose</th>\n",
       "    </tr>\n",
       "  </thead>\n",
       "  <tbody>\n",
       "    <tr>\n",
       "      <td>10682</td>\n",
       "      <td>0</td>\n",
       "      <td>5777</td>\n",
       "      <td>53</td>\n",
       "      <td>среднее</td>\n",
       "      <td>1</td>\n",
       "      <td>не женат / не замужем</td>\n",
       "      <td>4</td>\n",
       "      <td>f</td>\n",
       "      <td>сотрудник</td>\n",
       "      <td>0</td>\n",
       "      <td>153948</td>\n",
       "      <td>покупка недвижимости</td>\n",
       "    </tr>\n",
       "    <tr>\n",
       "      <td>10683</td>\n",
       "      <td>1</td>\n",
       "      <td>512</td>\n",
       "      <td>37</td>\n",
       "      <td>высшее</td>\n",
       "      <td>0</td>\n",
       "      <td>женат / замужем</td>\n",
       "      <td>0</td>\n",
       "      <td>f</td>\n",
       "      <td>компаньон</td>\n",
       "      <td>0</td>\n",
       "      <td>174396</td>\n",
       "      <td>ремонт жилью</td>\n",
       "    </tr>\n",
       "    <tr>\n",
       "      <td>10684</td>\n",
       "      <td>0</td>\n",
       "      <td>388606</td>\n",
       "      <td>60</td>\n",
       "      <td>среднее</td>\n",
       "      <td>1</td>\n",
       "      <td>гражданский брак</td>\n",
       "      <td>1</td>\n",
       "      <td>f</td>\n",
       "      <td>пенсионер</td>\n",
       "      <td>0</td>\n",
       "      <td>108125</td>\n",
       "      <td>свадьба</td>\n",
       "    </tr>\n",
       "    <tr>\n",
       "      <td>10685</td>\n",
       "      <td>0</td>\n",
       "      <td>3619</td>\n",
       "      <td>35</td>\n",
       "      <td>среднее</td>\n",
       "      <td>1</td>\n",
       "      <td>женат / замужем</td>\n",
       "      <td>0</td>\n",
       "      <td>f</td>\n",
       "      <td>сотрудник</td>\n",
       "      <td>0</td>\n",
       "      <td>89817</td>\n",
       "      <td>получение образования</td>\n",
       "    </tr>\n",
       "    <tr>\n",
       "      <td>10686</td>\n",
       "      <td>0</td>\n",
       "      <td>921</td>\n",
       "      <td>57</td>\n",
       "      <td>среднее</td>\n",
       "      <td>1</td>\n",
       "      <td>женат / замужем</td>\n",
       "      <td>0</td>\n",
       "      <td>f</td>\n",
       "      <td>сотрудник</td>\n",
       "      <td>0</td>\n",
       "      <td>240825</td>\n",
       "      <td>на покупку подержанного автомобиля</td>\n",
       "    </tr>\n",
       "  </tbody>\n",
       "</table>\n",
       "</div>"
      ],
      "text/plain": [
       "       children  days_employed  dob_years education  education_id  \\\n",
       "10682         0           5777         53   среднее             1   \n",
       "10683         1            512         37    высшее             0   \n",
       "10684         0         388606         60   среднее             1   \n",
       "10685         0           3619         35   среднее             1   \n",
       "10686         0            921         57   среднее             1   \n",
       "\n",
       "               family_status  family_status_id gender income_type  debt  \\\n",
       "10682  не женат / не замужем                 4      f   сотрудник     0   \n",
       "10683        женат / замужем                 0      f   компаньон     0   \n",
       "10684       гражданский брак                 1      f   пенсионер     0   \n",
       "10685        женат / замужем                 0      f   сотрудник     0   \n",
       "10686        женат / замужем                 0      f   сотрудник     0   \n",
       "\n",
       "       total_income                             purpose  \n",
       "10682        153948                покупка недвижимости  \n",
       "10683        174396                        ремонт жилью  \n",
       "10684        108125                             свадьба  \n",
       "10685         89817               получение образования  \n",
       "10686        240825  на покупку подержанного автомобиля  "
      ]
     },
     "execution_count": 42,
     "metadata": {},
     "output_type": "execute_result"
    }
   ],
   "source": [
    "# Проверим результат\n",
    "data.loc[10682:10686, :]"
   ]
  },
  {
   "cell_type": "markdown",
   "metadata": {},
   "source": [
    "**Вывод**"
   ]
  },
  {
   "cell_type": "markdown",
   "metadata": {},
   "source": [
    "Явные дубликаты и пропуск в столбце \"пол\" устранены. Для устранения дубликатов в столбце \"цель\" необходимо проветсти лемматизацию."
   ]
  },
  {
   "cell_type": "markdown",
   "metadata": {},
   "source": [
    "### Лемматизация"
   ]
  },
  {
   "cell_type": "markdown",
   "metadata": {},
   "source": [
    "Проверим сколько различных целей кредита в текущем датасете"
   ]
  },
  {
   "cell_type": "code",
   "execution_count": 43,
   "metadata": {},
   "outputs": [
    {
     "data": {
      "text/plain": [
       "38"
      ]
     },
     "execution_count": 43,
     "metadata": {},
     "output_type": "execute_result"
    }
   ],
   "source": [
    "data['purpose'].value_counts().count()"
   ]
  },
  {
   "cell_type": "code",
   "execution_count": 44,
   "metadata": {},
   "outputs": [],
   "source": [
    "# лемматизируем каждую строку в столбце purpose\n",
    "a1 = [] \n",
    "for row in data['purpose']:\n",
    "    a2 = []\n",
    "    a2 = ''.join(m.lemmatize(row)).replace('\\n', '') # лемматизация каждой строки, удаление лишних пробелов и пропусков строки\n",
    "    a1.append(a2) # создаем список строк\n",
    "data['purpose_lemmatized'] = a1 # создаем новый столбец из лемматезированных строк\n",
    "    "
   ]
  },
  {
   "cell_type": "code",
   "execution_count": 45,
   "metadata": {},
   "outputs": [
    {
     "data": {
      "text/html": [
       "<div>\n",
       "<style scoped>\n",
       "    .dataframe tbody tr th:only-of-type {\n",
       "        vertical-align: middle;\n",
       "    }\n",
       "\n",
       "    .dataframe tbody tr th {\n",
       "        vertical-align: top;\n",
       "    }\n",
       "\n",
       "    .dataframe thead th {\n",
       "        text-align: right;\n",
       "    }\n",
       "</style>\n",
       "<table border=\"1\" class=\"dataframe\">\n",
       "  <thead>\n",
       "    <tr style=\"text-align: right;\">\n",
       "      <th></th>\n",
       "      <th>purpose</th>\n",
       "      <th>purpose_lemmatized</th>\n",
       "    </tr>\n",
       "  </thead>\n",
       "  <tbody>\n",
       "    <tr>\n",
       "      <td>0</td>\n",
       "      <td>покупка жилья</td>\n",
       "      <td>покупка жилье</td>\n",
       "    </tr>\n",
       "    <tr>\n",
       "      <td>1</td>\n",
       "      <td>приобретение автомобиля</td>\n",
       "      <td>приобретение автомобиль</td>\n",
       "    </tr>\n",
       "    <tr>\n",
       "      <td>2</td>\n",
       "      <td>покупка жилья</td>\n",
       "      <td>покупка жилье</td>\n",
       "    </tr>\n",
       "    <tr>\n",
       "      <td>3</td>\n",
       "      <td>дополнительное образование</td>\n",
       "      <td>дополнительный образование</td>\n",
       "    </tr>\n",
       "    <tr>\n",
       "      <td>4</td>\n",
       "      <td>сыграть свадьбу</td>\n",
       "      <td>сыграть свадьба</td>\n",
       "    </tr>\n",
       "    <tr>\n",
       "      <td>...</td>\n",
       "      <td>...</td>\n",
       "      <td>...</td>\n",
       "    </tr>\n",
       "    <tr>\n",
       "      <td>21448</td>\n",
       "      <td>операции с жильем</td>\n",
       "      <td>операция с жилье</td>\n",
       "    </tr>\n",
       "    <tr>\n",
       "      <td>21449</td>\n",
       "      <td>сделка с автомобилем</td>\n",
       "      <td>сделка с автомобиль</td>\n",
       "    </tr>\n",
       "    <tr>\n",
       "      <td>21450</td>\n",
       "      <td>недвижимость</td>\n",
       "      <td>недвижимость</td>\n",
       "    </tr>\n",
       "    <tr>\n",
       "      <td>21451</td>\n",
       "      <td>на покупку своего автомобиля</td>\n",
       "      <td>на покупка свой автомобиль</td>\n",
       "    </tr>\n",
       "    <tr>\n",
       "      <td>21452</td>\n",
       "      <td>на покупку автомобиля</td>\n",
       "      <td>на покупка автомобиль</td>\n",
       "    </tr>\n",
       "  </tbody>\n",
       "</table>\n",
       "<p>21453 rows × 2 columns</p>\n",
       "</div>"
      ],
      "text/plain": [
       "                            purpose          purpose_lemmatized\n",
       "0                     покупка жилья               покупка жилье\n",
       "1           приобретение автомобиля     приобретение автомобиль\n",
       "2                     покупка жилья               покупка жилье\n",
       "3        дополнительное образование  дополнительный образование\n",
       "4                   сыграть свадьбу             сыграть свадьба\n",
       "...                             ...                         ...\n",
       "21448             операции с жильем            операция с жилье\n",
       "21449          сделка с автомобилем         сделка с автомобиль\n",
       "21450                  недвижимость                недвижимость\n",
       "21451  на покупку своего автомобиля  на покупка свой автомобиль\n",
       "21452         на покупку автомобиля       на покупка автомобиль\n",
       "\n",
       "[21453 rows x 2 columns]"
      ]
     },
     "execution_count": 45,
     "metadata": {},
     "output_type": "execute_result"
    }
   ],
   "source": [
    "# проверка результата\n",
    "data.loc[:, 'purpose':'purpose_lemmatized']"
   ]
  },
  {
   "cell_type": "markdown",
   "metadata": {},
   "source": [
    "Проверим какие различные целеи кредита осталось после лемматизации."
   ]
  },
  {
   "cell_type": "code",
   "execution_count": 46,
   "metadata": {},
   "outputs": [
    {
     "data": {
      "text/plain": [
       "автомобиль                                972\n",
       "свадьба                                   791\n",
       "на проведение свадьба                     768\n",
       "сыграть свадьба                           765\n",
       "операция с недвижимость                   675\n",
       "покупка коммерческий недвижимость         661\n",
       "операция с жилье                          652\n",
       "покупка жилье для сдача                   651\n",
       "операция с коммерческий недвижимость      650\n",
       "жилье                                     646\n",
       "покупка жилье                             646\n",
       "покупка жилье для семья                   638\n",
       "строительство собственный недвижимость    635\n",
       "недвижимость                              633\n",
       "операция со свой недвижимость             627\n",
       "строительство жилой недвижимость          624\n",
       "покупка свой жилье                        620\n",
       "покупка недвижимость                      620\n",
       "строительство недвижимость                619\n",
       "ремонт жилье                              607\n",
       "покупка жилой недвижимость                606\n",
       "на покупка свой автомобиль                505\n",
       "заниматься высокий образование            496\n",
       "сделка с подержанный автомобиль           486\n",
       "свой автомобиль                           478\n",
       "на покупка подержать автомобиль           478\n",
       "на покупка автомобиль                     471\n",
       "приобретение автомобиль                   461\n",
       "дополнительный образование                460\n",
       "сделка с автомобиль                       455\n",
       "высокий образование                       452\n",
       "образование                               447\n",
       "получение дополнительный образование      446\n",
       "получение образование                     442\n",
       "профильный образование                    436\n",
       "получение высокий образование             426\n",
       "заниматься образование                    408\n",
       "Name: purpose_lemmatized, dtype: int64"
      ]
     },
     "execution_count": 46,
     "metadata": {},
     "output_type": "execute_result"
    }
   ],
   "source": [
    "# вывод уникальных категорий\n",
    "data['purpose_lemmatized'].value_counts()"
   ]
  },
  {
   "cell_type": "code",
   "execution_count": 47,
   "metadata": {},
   "outputs": [
    {
     "data": {
      "text/plain": [
       "[(' ', 33569),\n",
       " ('\\n', 21453),\n",
       " ('недвижимость', 6350),\n",
       " ('покупка', 5896),\n",
       " ('жилье', 4460),\n",
       " ('автомобиль', 4306),\n",
       " ('образование', 4013),\n",
       " ('с', 2918),\n",
       " ('операция', 2604),\n",
       " ('свадьба', 2324),\n",
       " ('свой', 2230),\n",
       " ('на', 2222),\n",
       " ('строительство', 1878),\n",
       " ('высокий', 1374),\n",
       " ('получение', 1314),\n",
       " ('коммерческий', 1311),\n",
       " ('для', 1289),\n",
       " ('жилой', 1230),\n",
       " ('сделка', 941),\n",
       " ('дополнительный', 906),\n",
       " ('заниматься', 904),\n",
       " ('проведение', 768),\n",
       " ('сыграть', 765),\n",
       " ('сдача', 651),\n",
       " ('семья', 638),\n",
       " ('собственный', 635),\n",
       " ('со', 627),\n",
       " ('ремонт', 607),\n",
       " ('подержанный', 486),\n",
       " ('подержать', 478),\n",
       " ('приобретение', 461),\n",
       " ('профильный', 436)]"
      ]
     },
     "execution_count": 47,
     "metadata": {},
     "output_type": "execute_result"
    }
   ],
   "source": [
    "lemmas_count = sorted(Counter(data['purpose_lemmatized'].apply(m.lemmatize).sum()).items(), key=lambda x: -x[1])\n",
    "lemmas_count"
   ]
  },
  {
   "cell_type": "markdown",
   "metadata": {},
   "source": [
    "Самые популярные леммы: Недвижимость, жилье, автомобиль, образование, свадьба. На основе этого результата выполним категоризацию."
   ]
  },
  {
   "cell_type": "markdown",
   "metadata": {},
   "source": [
    "**Вывод**"
   ]
  },
  {
   "cell_type": "markdown",
   "metadata": {},
   "source": [
    "После лемматизации целей кредита вместо 38 целей осталось37."
   ]
  },
  {
   "cell_type": "markdown",
   "metadata": {},
   "source": [
    "### Категоризация данных"
   ]
  },
  {
   "cell_type": "markdown",
   "metadata": {},
   "source": [
    "Проведем категоризацию в соответствии с целями исследования."
   ]
  },
  {
   "cell_type": "code",
   "execution_count": 48,
   "metadata": {},
   "outputs": [
    {
     "data": {
      "text/html": [
       "<div>\n",
       "<style scoped>\n",
       "    .dataframe tbody tr th:only-of-type {\n",
       "        vertical-align: middle;\n",
       "    }\n",
       "\n",
       "    .dataframe tbody tr th {\n",
       "        vertical-align: top;\n",
       "    }\n",
       "\n",
       "    .dataframe thead th {\n",
       "        text-align: right;\n",
       "    }\n",
       "</style>\n",
       "<table border=\"1\" class=\"dataframe\">\n",
       "  <thead>\n",
       "    <tr style=\"text-align: right;\">\n",
       "      <th></th>\n",
       "      <th>children</th>\n",
       "      <th>days_employed</th>\n",
       "      <th>dob_years</th>\n",
       "      <th>education</th>\n",
       "      <th>education_id</th>\n",
       "      <th>family_status</th>\n",
       "      <th>family_status_id</th>\n",
       "      <th>gender</th>\n",
       "      <th>income_type</th>\n",
       "      <th>debt</th>\n",
       "      <th>total_income</th>\n",
       "      <th>purpose</th>\n",
       "      <th>purpose_lemmatized</th>\n",
       "    </tr>\n",
       "  </thead>\n",
       "  <tbody>\n",
       "    <tr>\n",
       "      <td>0</td>\n",
       "      <td>1</td>\n",
       "      <td>8437</td>\n",
       "      <td>42</td>\n",
       "      <td>высшее</td>\n",
       "      <td>0</td>\n",
       "      <td>женат / замужем</td>\n",
       "      <td>0</td>\n",
       "      <td>f</td>\n",
       "      <td>сотрудник</td>\n",
       "      <td>0</td>\n",
       "      <td>253875</td>\n",
       "      <td>покупка жилья</td>\n",
       "      <td>покупка жилье</td>\n",
       "    </tr>\n",
       "    <tr>\n",
       "      <td>1</td>\n",
       "      <td>1</td>\n",
       "      <td>4024</td>\n",
       "      <td>36</td>\n",
       "      <td>среднее</td>\n",
       "      <td>1</td>\n",
       "      <td>женат / замужем</td>\n",
       "      <td>0</td>\n",
       "      <td>f</td>\n",
       "      <td>сотрудник</td>\n",
       "      <td>0</td>\n",
       "      <td>112080</td>\n",
       "      <td>приобретение автомобиля</td>\n",
       "      <td>приобретение автомобиль</td>\n",
       "    </tr>\n",
       "    <tr>\n",
       "      <td>2</td>\n",
       "      <td>0</td>\n",
       "      <td>5623</td>\n",
       "      <td>33</td>\n",
       "      <td>среднее</td>\n",
       "      <td>1</td>\n",
       "      <td>женат / замужем</td>\n",
       "      <td>0</td>\n",
       "      <td>m</td>\n",
       "      <td>сотрудник</td>\n",
       "      <td>0</td>\n",
       "      <td>145885</td>\n",
       "      <td>покупка жилья</td>\n",
       "      <td>покупка жилье</td>\n",
       "    </tr>\n",
       "    <tr>\n",
       "      <td>3</td>\n",
       "      <td>3</td>\n",
       "      <td>4124</td>\n",
       "      <td>32</td>\n",
       "      <td>среднее</td>\n",
       "      <td>1</td>\n",
       "      <td>женат / замужем</td>\n",
       "      <td>0</td>\n",
       "      <td>m</td>\n",
       "      <td>сотрудник</td>\n",
       "      <td>0</td>\n",
       "      <td>267628</td>\n",
       "      <td>дополнительное образование</td>\n",
       "      <td>дополнительный образование</td>\n",
       "    </tr>\n",
       "    <tr>\n",
       "      <td>4</td>\n",
       "      <td>0</td>\n",
       "      <td>340266</td>\n",
       "      <td>53</td>\n",
       "      <td>среднее</td>\n",
       "      <td>1</td>\n",
       "      <td>гражданский брак</td>\n",
       "      <td>1</td>\n",
       "      <td>f</td>\n",
       "      <td>пенсионер</td>\n",
       "      <td>0</td>\n",
       "      <td>158616</td>\n",
       "      <td>сыграть свадьбу</td>\n",
       "      <td>сыграть свадьба</td>\n",
       "    </tr>\n",
       "  </tbody>\n",
       "</table>\n",
       "</div>"
      ],
      "text/plain": [
       "   children  days_employed  dob_years education  education_id  \\\n",
       "0         1           8437         42    высшее             0   \n",
       "1         1           4024         36   среднее             1   \n",
       "2         0           5623         33   среднее             1   \n",
       "3         3           4124         32   среднее             1   \n",
       "4         0         340266         53   среднее             1   \n",
       "\n",
       "      family_status  family_status_id gender income_type  debt  total_income  \\\n",
       "0   женат / замужем                 0      f   сотрудник     0        253875   \n",
       "1   женат / замужем                 0      f   сотрудник     0        112080   \n",
       "2   женат / замужем                 0      m   сотрудник     0        145885   \n",
       "3   женат / замужем                 0      m   сотрудник     0        267628   \n",
       "4  гражданский брак                 1      f   пенсионер     0        158616   \n",
       "\n",
       "                      purpose          purpose_lemmatized  \n",
       "0               покупка жилья               покупка жилье  \n",
       "1     приобретение автомобиля     приобретение автомобиль  \n",
       "2               покупка жилья               покупка жилье  \n",
       "3  дополнительное образование  дополнительный образование  \n",
       "4             сыграть свадьбу             сыграть свадьба  "
      ]
     },
     "execution_count": 48,
     "metadata": {},
     "output_type": "execute_result"
    }
   ],
   "source": [
    "data.head(5)"
   ]
  },
  {
   "cell_type": "code",
   "execution_count": 49,
   "metadata": {},
   "outputs": [
    {
     "data": {
      "text/plain": [
       "pandas.core.frame.DataFrame"
      ]
     },
     "execution_count": 49,
     "metadata": {},
     "output_type": "execute_result"
    }
   ],
   "source": [
    "type(data)"
   ]
  },
  {
   "cell_type": "markdown",
   "metadata": {},
   "source": [
    "#### Категоризация целей кредита"
   ]
  },
  {
   "cell_type": "code",
   "execution_count": 50,
   "metadata": {},
   "outputs": [],
   "source": [
    "data['purpose_category'] = data['purpose_lemmatized'] #создаем колонку с категориями целей кредита\n",
    "for row in data['purpose_category']:\n",
    "    if 'автомобиль' in row:\n",
    "        data['purpose_category'] = data['purpose_category'].replace(row, 'покупка автомобиля')\n",
    "    if 'жилье' in row or 'недвижимость' in row:\n",
    "        data['purpose_category'] = data['purpose_category'].replace(row, 'покупка/строительство недвижимости')\n",
    "    if 'свадьба' in row:\n",
    "        data['purpose_category'] = data['purpose_category'].replace(row, 'свадьба')\n",
    "    if 'образование' in row:\n",
    "        data['purpose_category'] = data['purpose_category'].replace(row, 'образование')"
   ]
  },
  {
   "cell_type": "code",
   "execution_count": 51,
   "metadata": {},
   "outputs": [
    {
     "data": {
      "text/plain": [
       "покупка/строительство недвижимости    10810\n",
       "покупка автомобиля                     4306\n",
       "образование                            4013\n",
       "свадьба                                2324\n",
       "Name: purpose_category, dtype: int64"
      ]
     },
     "execution_count": 51,
     "metadata": {},
     "output_type": "execute_result"
    }
   ],
   "source": [
    "data['purpose_category'].value_counts()"
   ]
  },
  {
   "cell_type": "markdown",
   "metadata": {},
   "source": [
    "#### Категоризация по наличию детей"
   ]
  },
  {
   "cell_type": "code",
   "execution_count": 52,
   "metadata": {},
   "outputs": [],
   "source": [
    "data['children_category'] = data['children']"
   ]
  },
  {
   "cell_type": "code",
   "execution_count": 53,
   "metadata": {},
   "outputs": [],
   "source": [
    "data['children_category'] = data['children_category'].replace(data['children_category'][data['children_category'] >0], 1)"
   ]
  },
  {
   "cell_type": "code",
   "execution_count": 54,
   "metadata": {},
   "outputs": [
    {
     "data": {
      "text/html": [
       "<div>\n",
       "<style scoped>\n",
       "    .dataframe tbody tr th:only-of-type {\n",
       "        vertical-align: middle;\n",
       "    }\n",
       "\n",
       "    .dataframe tbody tr th {\n",
       "        vertical-align: top;\n",
       "    }\n",
       "\n",
       "    .dataframe thead th {\n",
       "        text-align: right;\n",
       "    }\n",
       "</style>\n",
       "<table border=\"1\" class=\"dataframe\">\n",
       "  <thead>\n",
       "    <tr style=\"text-align: right;\">\n",
       "      <th></th>\n",
       "      <th>children</th>\n",
       "      <th>days_employed</th>\n",
       "      <th>dob_years</th>\n",
       "      <th>education</th>\n",
       "      <th>education_id</th>\n",
       "      <th>family_status</th>\n",
       "      <th>family_status_id</th>\n",
       "      <th>gender</th>\n",
       "      <th>income_type</th>\n",
       "      <th>debt</th>\n",
       "      <th>total_income</th>\n",
       "      <th>purpose</th>\n",
       "      <th>purpose_lemmatized</th>\n",
       "      <th>purpose_category</th>\n",
       "      <th>children_category</th>\n",
       "    </tr>\n",
       "  </thead>\n",
       "  <tbody>\n",
       "    <tr>\n",
       "      <td>0</td>\n",
       "      <td>1</td>\n",
       "      <td>8437</td>\n",
       "      <td>42</td>\n",
       "      <td>высшее</td>\n",
       "      <td>0</td>\n",
       "      <td>женат / замужем</td>\n",
       "      <td>0</td>\n",
       "      <td>f</td>\n",
       "      <td>сотрудник</td>\n",
       "      <td>0</td>\n",
       "      <td>253875</td>\n",
       "      <td>покупка жилья</td>\n",
       "      <td>покупка жилье</td>\n",
       "      <td>покупка/строительство недвижимости</td>\n",
       "      <td>1</td>\n",
       "    </tr>\n",
       "    <tr>\n",
       "      <td>1</td>\n",
       "      <td>1</td>\n",
       "      <td>4024</td>\n",
       "      <td>36</td>\n",
       "      <td>среднее</td>\n",
       "      <td>1</td>\n",
       "      <td>женат / замужем</td>\n",
       "      <td>0</td>\n",
       "      <td>f</td>\n",
       "      <td>сотрудник</td>\n",
       "      <td>0</td>\n",
       "      <td>112080</td>\n",
       "      <td>приобретение автомобиля</td>\n",
       "      <td>приобретение автомобиль</td>\n",
       "      <td>покупка автомобиля</td>\n",
       "      <td>1</td>\n",
       "    </tr>\n",
       "    <tr>\n",
       "      <td>2</td>\n",
       "      <td>0</td>\n",
       "      <td>5623</td>\n",
       "      <td>33</td>\n",
       "      <td>среднее</td>\n",
       "      <td>1</td>\n",
       "      <td>женат / замужем</td>\n",
       "      <td>0</td>\n",
       "      <td>m</td>\n",
       "      <td>сотрудник</td>\n",
       "      <td>0</td>\n",
       "      <td>145885</td>\n",
       "      <td>покупка жилья</td>\n",
       "      <td>покупка жилье</td>\n",
       "      <td>покупка/строительство недвижимости</td>\n",
       "      <td>0</td>\n",
       "    </tr>\n",
       "    <tr>\n",
       "      <td>3</td>\n",
       "      <td>3</td>\n",
       "      <td>4124</td>\n",
       "      <td>32</td>\n",
       "      <td>среднее</td>\n",
       "      <td>1</td>\n",
       "      <td>женат / замужем</td>\n",
       "      <td>0</td>\n",
       "      <td>m</td>\n",
       "      <td>сотрудник</td>\n",
       "      <td>0</td>\n",
       "      <td>267628</td>\n",
       "      <td>дополнительное образование</td>\n",
       "      <td>дополнительный образование</td>\n",
       "      <td>образование</td>\n",
       "      <td>1</td>\n",
       "    </tr>\n",
       "    <tr>\n",
       "      <td>4</td>\n",
       "      <td>0</td>\n",
       "      <td>340266</td>\n",
       "      <td>53</td>\n",
       "      <td>среднее</td>\n",
       "      <td>1</td>\n",
       "      <td>гражданский брак</td>\n",
       "      <td>1</td>\n",
       "      <td>f</td>\n",
       "      <td>пенсионер</td>\n",
       "      <td>0</td>\n",
       "      <td>158616</td>\n",
       "      <td>сыграть свадьбу</td>\n",
       "      <td>сыграть свадьба</td>\n",
       "      <td>свадьба</td>\n",
       "      <td>0</td>\n",
       "    </tr>\n",
       "  </tbody>\n",
       "</table>\n",
       "</div>"
      ],
      "text/plain": [
       "   children  days_employed  dob_years education  education_id  \\\n",
       "0         1           8437         42    высшее             0   \n",
       "1         1           4024         36   среднее             1   \n",
       "2         0           5623         33   среднее             1   \n",
       "3         3           4124         32   среднее             1   \n",
       "4         0         340266         53   среднее             1   \n",
       "\n",
       "      family_status  family_status_id gender income_type  debt  total_income  \\\n",
       "0   женат / замужем                 0      f   сотрудник     0        253875   \n",
       "1   женат / замужем                 0      f   сотрудник     0        112080   \n",
       "2   женат / замужем                 0      m   сотрудник     0        145885   \n",
       "3   женат / замужем                 0      m   сотрудник     0        267628   \n",
       "4  гражданский брак                 1      f   пенсионер     0        158616   \n",
       "\n",
       "                      purpose          purpose_lemmatized  \\\n",
       "0               покупка жилья               покупка жилье   \n",
       "1     приобретение автомобиля     приобретение автомобиль   \n",
       "2               покупка жилья               покупка жилье   \n",
       "3  дополнительное образование  дополнительный образование   \n",
       "4             сыграть свадьбу             сыграть свадьба   \n",
       "\n",
       "                     purpose_category  children_category  \n",
       "0  покупка/строительство недвижимости                  1  \n",
       "1                  покупка автомобиля                  1  \n",
       "2  покупка/строительство недвижимости                  0  \n",
       "3                         образование                  1  \n",
       "4                             свадьба                  0  "
      ]
     },
     "execution_count": 54,
     "metadata": {},
     "output_type": "execute_result"
    }
   ],
   "source": [
    "data.head()"
   ]
  },
  {
   "cell_type": "markdown",
   "metadata": {},
   "source": [
    "#### Категоризация по возврату кредита в срок"
   ]
  },
  {
   "cell_type": "markdown",
   "metadata": {},
   "source": [
    "Уже проведена."
   ]
  },
  {
   "cell_type": "markdown",
   "metadata": {},
   "source": [
    "#### Категоризация по уровню дохода"
   ]
  },
  {
   "cell_type": "markdown",
   "metadata": {},
   "source": [
    "Поделим клиентов на 4 группы:\n",
    "1) Без заработка\n",
    "2) Средний доход\n",
    "3) Доход ниже среднего\n",
    "4) Доход выше среднего "
   ]
  },
  {
   "cell_type": "markdown",
   "metadata": {},
   "source": [
    "##### Найдем основные характеристики зарплаты"
   ]
  },
  {
   "cell_type": "code",
   "execution_count": 55,
   "metadata": {},
   "outputs": [],
   "source": [
    "data['income_category'] = data['total_income'] # добавляем колонку с категорииями дохода"
   ]
  },
  {
   "cell_type": "markdown",
   "metadata": {},
   "source": [
    "Найдем среднюю зарплату:"
   ]
  },
  {
   "cell_type": "code",
   "execution_count": 56,
   "metadata": {},
   "outputs": [],
   "source": [
    "income_mean = data['total_income'].mean().astype(int)"
   ]
  },
  {
   "cell_type": "markdown",
   "metadata": {},
   "source": [
    "Найдем медианную зарплату: "
   ]
  },
  {
   "cell_type": "code",
   "execution_count": 57,
   "metadata": {},
   "outputs": [],
   "source": [
    "income_median = data['total_income'].median().astype(int)"
   ]
  },
  {
   "cell_type": "markdown",
   "metadata": {},
   "source": [
    "Найдем максимальную зарплату:"
   ]
  },
  {
   "cell_type": "code",
   "execution_count": 58,
   "metadata": {},
   "outputs": [],
   "source": [
    "income_max = data['total_income'].max().astype(int)"
   ]
  },
  {
   "cell_type": "markdown",
   "metadata": {},
   "source": [
    "Найдем минимальную зарплату:"
   ]
  },
  {
   "cell_type": "code",
   "execution_count": 59,
   "metadata": {},
   "outputs": [],
   "source": [
    "income_min = data['total_income'].min().astype(int)"
   ]
  },
  {
   "cell_type": "markdown",
   "metadata": {},
   "source": [
    "Создадим сортированный по возрастанию список доходов:"
   ]
  },
  {
   "cell_type": "code",
   "execution_count": 60,
   "metadata": {},
   "outputs": [],
   "source": [
    "income_sort = data['total_income'].sort_values(ascending = True).reset_index(drop=True)\n",
    "income_sort_count = income_sort.count()"
   ]
  },
  {
   "cell_type": "markdown",
   "metadata": {},
   "source": [
    "Найдем как распределяется доход среди клиентов порядку заработка:"
   ]
  },
  {
   "cell_type": "code",
   "execution_count": 61,
   "metadata": {},
   "outputs": [
    {
     "data": {
      "text/plain": [
       "5    16965\n",
       "4     4463\n",
       "6       25\n",
       "Name: total_income, dtype: int64"
      ]
     },
     "execution_count": 61,
     "metadata": {},
     "output_type": "execute_result"
    }
   ],
   "source": [
    "income_degree = income_sort.apply(math.log10).astype(int).value_counts()\n",
    "income_degree"
   ]
  },
  {
   "cell_type": "code",
   "execution_count": 62,
   "metadata": {},
   "outputs": [
    {
     "name": "stdout",
     "output_type": "stream",
     "text": [
      "4463 клиентов зарабатывает меньше 100 тыс. руб.\n",
      "16965 клиентов зарабатывает от 100 до 999 тыс. руб.\n",
      "25 клиентов зарабатывает больше 1 млн.руб\n"
     ]
    }
   ],
   "source": [
    "print(income_degree[4], 'клиентов зарабатывает меньше 100 тыс. руб.')\n",
    "print(income_degree[5], 'клиентов зарабатывает от 100 до 999 тыс. руб.')\n",
    "print(income_degree[6], 'клиентов зарабатывает больше 1 млн.руб')"
   ]
  },
  {
   "cell_type": "markdown",
   "metadata": {},
   "source": [
    "##### Присвоим соответствующие категории"
   ]
  },
  {
   "cell_type": "markdown",
   "metadata": {},
   "source": [
    "Поделим сортированный список на четыре равные группы:"
   ]
  },
  {
   "cell_type": "code",
   "execution_count": 63,
   "metadata": {},
   "outputs": [],
   "source": [
    "data['income_category'] = pd.qcut(data.total_income, 4, labels=[\"низкий доход\", \"ниже среднего\", \"выше среднего\", \"высокий\"])"
   ]
  },
  {
   "cell_type": "code",
   "execution_count": 64,
   "metadata": {},
   "outputs": [
    {
     "data": {
      "text/plain": [
       "ниже среднего    5479\n",
       "низкий доход     5364\n",
       "высокий          5363\n",
       "выше среднего    5247\n",
       "Name: income_category, dtype: int64"
      ]
     },
     "execution_count": 64,
     "metadata": {},
     "output_type": "execute_result"
    }
   ],
   "source": [
    "#проверка результата\n",
    "data['income_category'].value_counts()"
   ]
  },
  {
   "cell_type": "markdown",
   "metadata": {},
   "source": [
    "**Вывод**"
   ]
  },
  {
   "cell_type": "markdown",
   "metadata": {},
   "source": [
    "Выделены категории данных там где это необходимо для ответов на вопросы. Доход и цели кредита поделены на 4 группы."
   ]
  },
  {
   "cell_type": "markdown",
   "metadata": {},
   "source": [
    "## Ответы на вопросы исследования"
   ]
  },
  {
   "cell_type": "markdown",
   "metadata": {},
   "source": [
    "### Есть ли зависимость между наличием детей и возвратом кредита в срок?"
   ]
  },
  {
   "cell_type": "markdown",
   "metadata": {},
   "source": [
    "Выведем сводную таблицу показывающую количество клиентов в каждой категории:"
   ]
  },
  {
   "cell_type": "code",
   "execution_count": 65,
   "metadata": {},
   "outputs": [],
   "source": [
    "#data.groupby(['children_category', 'debt']).count()\n",
    "child_debt_df = data.pivot_table('children', index='children_category', columns='debt', aggfunc='count')\n",
    "child_debt_df.columns = ['no_debt', 'have_debt'] \n",
    "child_debt_df['percent'] = child_debt_df['have_debt'] / (child_debt_df['no_debt'] + child_debt_df['have_debt'])\n",
    "child_debt_df['percent'] = child_debt_df['percent'].apply(lambda x: f'{x:.1%}')"
   ]
  },
  {
   "cell_type": "code",
   "execution_count": 66,
   "metadata": {},
   "outputs": [
    {
     "data": {
      "text/html": [
       "<div>\n",
       "<style scoped>\n",
       "    .dataframe tbody tr th:only-of-type {\n",
       "        vertical-align: middle;\n",
       "    }\n",
       "\n",
       "    .dataframe tbody tr th {\n",
       "        vertical-align: top;\n",
       "    }\n",
       "\n",
       "    .dataframe thead th {\n",
       "        text-align: right;\n",
       "    }\n",
       "</style>\n",
       "<table border=\"1\" class=\"dataframe\">\n",
       "  <thead>\n",
       "    <tr style=\"text-align: right;\">\n",
       "      <th></th>\n",
       "      <th>no_debt</th>\n",
       "      <th>have_debt</th>\n",
       "      <th>percent</th>\n",
       "    </tr>\n",
       "    <tr>\n",
       "      <th>children_category</th>\n",
       "      <th></th>\n",
       "      <th></th>\n",
       "      <th></th>\n",
       "    </tr>\n",
       "  </thead>\n",
       "  <tbody>\n",
       "    <tr>\n",
       "      <td>0</td>\n",
       "      <td>13027</td>\n",
       "      <td>1063</td>\n",
       "      <td>7.5%</td>\n",
       "    </tr>\n",
       "    <tr>\n",
       "      <td>1</td>\n",
       "      <td>6685</td>\n",
       "      <td>678</td>\n",
       "      <td>9.2%</td>\n",
       "    </tr>\n",
       "  </tbody>\n",
       "</table>\n",
       "</div>"
      ],
      "text/plain": [
       "                   no_debt  have_debt percent\n",
       "children_category                            \n",
       "0                    13027       1063    7.5%\n",
       "1                     6685        678    9.2%"
      ]
     },
     "execution_count": 66,
     "metadata": {},
     "output_type": "execute_result"
    }
   ],
   "source": [
    "child_debt_df.sort_values('percent')"
   ]
  },
  {
   "cell_type": "markdown",
   "metadata": {},
   "source": [
    "**Вывод**"
   ]
  },
  {
   "cell_type": "markdown",
   "metadata": {},
   "source": [
    "1) Среди клиентов без детей вернувших кредит в срок почти в 12 раз больше чем не вернувших.  \n",
    "2) Среди клиентов с детьми вернувших кредит в срок почти в 10 раз больше чем не вернувших.  \n",
    "Наличие детей в семье **незначительно влияет** на факт возврата кредита в срок. Клиенты с детьми реже возвращают кредит в срок."
   ]
  },
  {
   "cell_type": "markdown",
   "metadata": {},
   "source": [
    "### Есть ли зависимость между семейным положением и возвратом кредита в срок?"
   ]
  },
  {
   "cell_type": "code",
   "execution_count": 1,
   "metadata": {},
   "outputs": [
    {
     "ename": "NameError",
     "evalue": "name 'data' is not defined",
     "output_type": "error",
     "traceback": [
      "\u001b[1;31m---------------------------------------------------------------------------\u001b[0m",
      "\u001b[1;31mNameError\u001b[0m                                 Traceback (most recent call last)",
      "\u001b[1;32m<ipython-input-1-df45f2296a0c>\u001b[0m in \u001b[0;36m<module>\u001b[1;34m\u001b[0m\n\u001b[1;32m----> 1\u001b[1;33m \u001b[0mfamili_status_debt\u001b[0m \u001b[1;33m=\u001b[0m \u001b[0mdata\u001b[0m\u001b[1;33m.\u001b[0m\u001b[0mpivot_table\u001b[0m\u001b[1;33m(\u001b[0m\u001b[1;34m'children'\u001b[0m\u001b[1;33m,\u001b[0m \u001b[0mindex\u001b[0m\u001b[1;33m=\u001b[0m\u001b[1;34m'family_status'\u001b[0m\u001b[1;33m,\u001b[0m \u001b[0mcolumns\u001b[0m\u001b[1;33m=\u001b[0m\u001b[1;34m'debt'\u001b[0m\u001b[1;33m,\u001b[0m \u001b[0maggfunc\u001b[0m\u001b[1;33m=\u001b[0m\u001b[1;34m'count'\u001b[0m\u001b[1;33m)\u001b[0m\u001b[1;33m\u001b[0m\u001b[1;33m\u001b[0m\u001b[0m\n\u001b[0m\u001b[0;32m      2\u001b[0m \u001b[0mfamili_status_debt\u001b[0m\u001b[1;33m.\u001b[0m\u001b[0mcolumns\u001b[0m \u001b[1;33m=\u001b[0m \u001b[1;33m[\u001b[0m\u001b[1;34m'no_debt'\u001b[0m\u001b[1;33m,\u001b[0m \u001b[1;34m'have_debt'\u001b[0m\u001b[1;33m]\u001b[0m\u001b[1;33m\u001b[0m\u001b[1;33m\u001b[0m\u001b[0m\n\u001b[0;32m      3\u001b[0m \u001b[0mfamili_status_debt\u001b[0m\u001b[1;33m[\u001b[0m\u001b[1;34m'percent'\u001b[0m\u001b[1;33m]\u001b[0m \u001b[1;33m=\u001b[0m \u001b[0mfamili_status_debt\u001b[0m\u001b[1;33m[\u001b[0m\u001b[1;34m'have_debt'\u001b[0m\u001b[1;33m]\u001b[0m \u001b[1;33m/\u001b[0m \u001b[1;33m(\u001b[0m\u001b[0mfamili_status_debt\u001b[0m\u001b[1;33m[\u001b[0m\u001b[1;34m'no_debt'\u001b[0m\u001b[1;33m]\u001b[0m \u001b[1;33m+\u001b[0m \u001b[0mfamili_status_debt\u001b[0m\u001b[1;33m[\u001b[0m\u001b[1;34m'have_debt'\u001b[0m\u001b[1;33m]\u001b[0m\u001b[1;33m)\u001b[0m\u001b[1;33m\u001b[0m\u001b[1;33m\u001b[0m\u001b[0m\n\u001b[0;32m      4\u001b[0m \u001b[0mfamili_status_debt\u001b[0m\u001b[1;33m[\u001b[0m\u001b[1;34m'percent'\u001b[0m\u001b[1;33m]\u001b[0m \u001b[1;33m=\u001b[0m \u001b[0mfamili_status_debt\u001b[0m\u001b[1;33m[\u001b[0m\u001b[1;34m'percent'\u001b[0m\u001b[1;33m]\u001b[0m\u001b[1;33m.\u001b[0m\u001b[0mapply\u001b[0m\u001b[1;33m(\u001b[0m\u001b[1;32mlambda\u001b[0m \u001b[0mx\u001b[0m\u001b[1;33m:\u001b[0m \u001b[1;34mf'{x:.1%}'\u001b[0m\u001b[1;33m)\u001b[0m\u001b[1;33m\u001b[0m\u001b[1;33m\u001b[0m\u001b[0m\n",
      "\u001b[1;31mNameError\u001b[0m: name 'data' is not defined"
     ]
    }
   ],
   "source": [
    "famili_status_debt = data.pivot_table('children', index='family_status', columns='debt', aggfunc='count')\n",
    "famili_status_debt.columns = ['no_debt', 'have_debt'] \n",
    "famili_status_debt['percent'] = famili_status_debt['have_debt'] / (famili_status_debt['no_debt'] + famili_status_debt['have_debt'])\n",
    "famili_status_debt['percent'] = famili_status_debt['percent'].apply(lambda x: f'{x:.1%}')"
   ]
  },
  {
   "cell_type": "code",
   "execution_count": 68,
   "metadata": {},
   "outputs": [
    {
     "data": {
      "text/html": [
       "<div>\n",
       "<style scoped>\n",
       "    .dataframe tbody tr th:only-of-type {\n",
       "        vertical-align: middle;\n",
       "    }\n",
       "\n",
       "    .dataframe tbody tr th {\n",
       "        vertical-align: top;\n",
       "    }\n",
       "\n",
       "    .dataframe thead th {\n",
       "        text-align: right;\n",
       "    }\n",
       "</style>\n",
       "<table border=\"1\" class=\"dataframe\">\n",
       "  <thead>\n",
       "    <tr style=\"text-align: right;\">\n",
       "      <th></th>\n",
       "      <th>no_debt</th>\n",
       "      <th>have_debt</th>\n",
       "      <th>percent</th>\n",
       "    </tr>\n",
       "    <tr>\n",
       "      <th>family_status</th>\n",
       "      <th></th>\n",
       "      <th></th>\n",
       "      <th></th>\n",
       "    </tr>\n",
       "  </thead>\n",
       "  <tbody>\n",
       "    <tr>\n",
       "      <td>вдовец / вдова</td>\n",
       "      <td>896</td>\n",
       "      <td>63</td>\n",
       "      <td>6.6%</td>\n",
       "    </tr>\n",
       "    <tr>\n",
       "      <td>в разводе</td>\n",
       "      <td>1110</td>\n",
       "      <td>85</td>\n",
       "      <td>7.1%</td>\n",
       "    </tr>\n",
       "    <tr>\n",
       "      <td>женат / замужем</td>\n",
       "      <td>11408</td>\n",
       "      <td>931</td>\n",
       "      <td>7.5%</td>\n",
       "    </tr>\n",
       "    <tr>\n",
       "      <td>гражданский брак</td>\n",
       "      <td>3762</td>\n",
       "      <td>388</td>\n",
       "      <td>9.3%</td>\n",
       "    </tr>\n",
       "    <tr>\n",
       "      <td>не женат / не замужем</td>\n",
       "      <td>2536</td>\n",
       "      <td>274</td>\n",
       "      <td>9.8%</td>\n",
       "    </tr>\n",
       "  </tbody>\n",
       "</table>\n",
       "</div>"
      ],
      "text/plain": [
       "                       no_debt  have_debt percent\n",
       "family_status                                    \n",
       "вдовец / вдова             896         63    6.6%\n",
       "в разводе                 1110         85    7.1%\n",
       "женат / замужем          11408        931    7.5%\n",
       "гражданский брак          3762        388    9.3%\n",
       "не женат / не замужем     2536        274    9.8%"
      ]
     },
     "execution_count": 68,
     "metadata": {},
     "output_type": "execute_result"
    }
   ],
   "source": [
    "famili_status_debt.sort_values('percent')"
   ]
  },
  {
   "cell_type": "markdown",
   "metadata": {},
   "source": [
    "**Вывод**"
   ]
  },
  {
   "cell_type": "markdown",
   "metadata": {},
   "source": [
    "1) Чаще всего задерживают кредиты люди не в браке также как и люди в гражданском браке.  \n",
    "2) Реже задерживают возврат в срок клиенты в браке и разведенные.  \n",
    "3) Меньше всех задержек в возврате среди овдовевших."
   ]
  },
  {
   "cell_type": "markdown",
   "metadata": {},
   "source": [
    "### Есть ли зависимость между уровнем дохода и возвратом кредита в срок?"
   ]
  },
  {
   "cell_type": "code",
   "execution_count": 69,
   "metadata": {},
   "outputs": [],
   "source": [
    "income_debt = data.pivot_table('children', index='income_category', columns='debt', aggfunc='count')\n",
    "income_debt.columns = ['no_debt', 'have_debt'] \n",
    "income_debt['percent'] = income_debt['have_debt'] / (income_debt['no_debt'] + income_debt['have_debt'])\n",
    "income_debt['percent'] = income_debt['percent'].apply(lambda x: f'{x:.1%}')"
   ]
  },
  {
   "cell_type": "code",
   "execution_count": 70,
   "metadata": {},
   "outputs": [
    {
     "data": {
      "text/html": [
       "<div>\n",
       "<style scoped>\n",
       "    .dataframe tbody tr th:only-of-type {\n",
       "        vertical-align: middle;\n",
       "    }\n",
       "\n",
       "    .dataframe tbody tr th {\n",
       "        vertical-align: top;\n",
       "    }\n",
       "\n",
       "    .dataframe thead th {\n",
       "        text-align: right;\n",
       "    }\n",
       "</style>\n",
       "<table border=\"1\" class=\"dataframe\">\n",
       "  <thead>\n",
       "    <tr style=\"text-align: right;\">\n",
       "      <th></th>\n",
       "      <th>no_debt</th>\n",
       "      <th>have_debt</th>\n",
       "      <th>percent</th>\n",
       "    </tr>\n",
       "    <tr>\n",
       "      <th>income_category</th>\n",
       "      <th></th>\n",
       "      <th></th>\n",
       "      <th></th>\n",
       "    </tr>\n",
       "  </thead>\n",
       "  <tbody>\n",
       "    <tr>\n",
       "      <td>высокий</td>\n",
       "      <td>4980</td>\n",
       "      <td>383</td>\n",
       "      <td>7.1%</td>\n",
       "    </tr>\n",
       "    <tr>\n",
       "      <td>низкий доход</td>\n",
       "      <td>4937</td>\n",
       "      <td>427</td>\n",
       "      <td>8.0%</td>\n",
       "    </tr>\n",
       "    <tr>\n",
       "      <td>выше среднего</td>\n",
       "      <td>4799</td>\n",
       "      <td>448</td>\n",
       "      <td>8.5%</td>\n",
       "    </tr>\n",
       "    <tr>\n",
       "      <td>ниже среднего</td>\n",
       "      <td>4996</td>\n",
       "      <td>483</td>\n",
       "      <td>8.8%</td>\n",
       "    </tr>\n",
       "  </tbody>\n",
       "</table>\n",
       "</div>"
      ],
      "text/plain": [
       "                 no_debt  have_debt percent\n",
       "income_category                            \n",
       "высокий             4980        383    7.1%\n",
       "низкий доход        4937        427    8.0%\n",
       "выше среднего       4799        448    8.5%\n",
       "ниже среднего       4996        483    8.8%"
      ]
     },
     "execution_count": 70,
     "metadata": {},
     "output_type": "execute_result"
    }
   ],
   "source": [
    "income_debt.sort_values('percent')"
   ]
  },
  {
   "cell_type": "markdown",
   "metadata": {},
   "source": [
    "**Вывод**"
   ]
  },
  {
   "cell_type": "markdown",
   "metadata": {},
   "source": [
    "1) Клиенты с высоким заработком реже всех задерживают выплату по кредиту.  \n",
    "2) Клиенты с заработком ниже среднего чаще всех задерживают выплату по кредиту.  "
   ]
  },
  {
   "cell_type": "markdown",
   "metadata": {},
   "source": [
    "### Как разные цели кредита влияют на его возврат в срок?"
   ]
  },
  {
   "cell_type": "code",
   "execution_count": 71,
   "metadata": {},
   "outputs": [],
   "source": [
    "purpose_debt = data.pivot_table('children', index='purpose_category', columns='debt', aggfunc='count')\n",
    "purpose_debt.columns = ['no_debt', 'have_debt'] \n",
    "purpose_debt['percent'] = purpose_debt['have_debt'] / (purpose_debt['no_debt'] + purpose_debt['have_debt'])\n",
    "purpose_debt['percent'] = purpose_debt['percent'].apply(lambda x: f'{x:.1%}')"
   ]
  },
  {
   "cell_type": "code",
   "execution_count": 72,
   "metadata": {},
   "outputs": [
    {
     "data": {
      "text/html": [
       "<div>\n",
       "<style scoped>\n",
       "    .dataframe tbody tr th:only-of-type {\n",
       "        vertical-align: middle;\n",
       "    }\n",
       "\n",
       "    .dataframe tbody tr th {\n",
       "        vertical-align: top;\n",
       "    }\n",
       "\n",
       "    .dataframe thead th {\n",
       "        text-align: right;\n",
       "    }\n",
       "</style>\n",
       "<table border=\"1\" class=\"dataframe\">\n",
       "  <thead>\n",
       "    <tr style=\"text-align: right;\">\n",
       "      <th></th>\n",
       "      <th>no_debt</th>\n",
       "      <th>have_debt</th>\n",
       "      <th>percent</th>\n",
       "    </tr>\n",
       "    <tr>\n",
       "      <th>purpose_category</th>\n",
       "      <th></th>\n",
       "      <th></th>\n",
       "      <th></th>\n",
       "    </tr>\n",
       "  </thead>\n",
       "  <tbody>\n",
       "    <tr>\n",
       "      <td>покупка/строительство недвижимости</td>\n",
       "      <td>10028</td>\n",
       "      <td>782</td>\n",
       "      <td>7.2%</td>\n",
       "    </tr>\n",
       "    <tr>\n",
       "      <td>свадьба</td>\n",
       "      <td>2138</td>\n",
       "      <td>186</td>\n",
       "      <td>8.0%</td>\n",
       "    </tr>\n",
       "    <tr>\n",
       "      <td>образование</td>\n",
       "      <td>3643</td>\n",
       "      <td>370</td>\n",
       "      <td>9.2%</td>\n",
       "    </tr>\n",
       "    <tr>\n",
       "      <td>покупка автомобиля</td>\n",
       "      <td>3903</td>\n",
       "      <td>403</td>\n",
       "      <td>9.4%</td>\n",
       "    </tr>\n",
       "  </tbody>\n",
       "</table>\n",
       "</div>"
      ],
      "text/plain": [
       "                                    no_debt  have_debt percent\n",
       "purpose_category                                              \n",
       "покупка/строительство недвижимости    10028        782    7.2%\n",
       "свадьба                                2138        186    8.0%\n",
       "образование                            3643        370    9.2%\n",
       "покупка автомобиля                     3903        403    9.4%"
      ]
     },
     "execution_count": 72,
     "metadata": {},
     "output_type": "execute_result"
    }
   ],
   "source": [
    "purpose_debt.sort_values('percent')"
   ]
  },
  {
   "cell_type": "markdown",
   "metadata": {},
   "source": [
    "**Вывод**"
   ]
  },
  {
   "cell_type": "markdown",
   "metadata": {},
   "source": [
    "1) Чаще всего задерживают кредиты клиенты, которые берут кредит на автомобиль.  \n",
    "2) Чуть лучше ситуация с клиентами, которые кредитуются для получения образования.  \n",
    "3) Лучще всех возвращают кредиты клиенты, которые берут кредит для покупки или строительства недвижимости.  \n",
    "4) На 2-ом месте по возвратам - кредиты на проведение свадьбы."
   ]
  },
  {
   "cell_type": "markdown",
   "metadata": {},
   "source": [
    "## Общий вывод"
   ]
  },
  {
   "cell_type": "markdown",
   "metadata": {},
   "source": [
    "1. Самый **надежный заёмщик** клиент с заработком выше среднего, овдовевший или разведенный, без детей кредитующийся для покупки или строительства недвижимости.  \n",
    "2. **Наименее надежный** - заемщик со средним заработком, не в браке или в гражданском браке, с детьми, кредитующийся на покупку автомобиля или для оплаты образования.  "
   ]
  }
 ],
 "metadata": {
  "ExecuteTimeLog": [
   {
    "duration": 773,
    "start_time": "2021-11-25T13:30:32.447Z"
   },
   {
    "duration": 59,
    "start_time": "2021-11-25T13:30:35.893Z"
   },
   {
    "duration": 41,
    "start_time": "2021-11-25T13:41:40.366Z"
   },
   {
    "duration": 61,
    "start_time": "2021-11-25T13:42:07.927Z"
   },
   {
    "duration": 16,
    "start_time": "2021-11-25T13:42:21.045Z"
   },
   {
    "duration": 35,
    "start_time": "2021-11-25T13:47:23.816Z"
   },
   {
    "duration": 353,
    "start_time": "2021-11-25T13:48:17.464Z"
   },
   {
    "duration": 33,
    "start_time": "2021-11-25T13:48:21.396Z"
   },
   {
    "duration": 14,
    "start_time": "2021-11-25T13:53:55.832Z"
   },
   {
    "duration": 33,
    "start_time": "2021-11-25T13:54:17.163Z"
   },
   {
    "duration": 29,
    "start_time": "2021-11-25T13:58:45.792Z"
   },
   {
    "duration": 27,
    "start_time": "2021-11-25T13:59:03.507Z"
   },
   {
    "duration": 7,
    "start_time": "2021-11-25T13:59:24.312Z"
   },
   {
    "duration": 6,
    "start_time": "2021-11-25T13:59:49.982Z"
   },
   {
    "duration": 7,
    "start_time": "2021-11-25T14:00:43.842Z"
   },
   {
    "duration": 245,
    "start_time": "2021-11-25T14:01:16.842Z"
   },
   {
    "duration": 15,
    "start_time": "2021-11-25T14:01:20.693Z"
   },
   {
    "duration": 90,
    "start_time": "2021-11-25T14:01:31.543Z"
   },
   {
    "duration": 5,
    "start_time": "2021-11-25T14:01:36.732Z"
   },
   {
    "duration": 5,
    "start_time": "2021-11-25T14:01:41.503Z"
   },
   {
    "duration": 10,
    "start_time": "2021-11-25T14:01:51.262Z"
   },
   {
    "duration": 260,
    "start_time": "2021-11-25T14:01:59.242Z"
   },
   {
    "duration": 8,
    "start_time": "2021-11-25T14:02:34.102Z"
   },
   {
    "duration": 6,
    "start_time": "2021-11-25T14:02:45.822Z"
   },
   {
    "duration": 5,
    "start_time": "2021-11-25T14:02:49.822Z"
   },
   {
    "duration": 10,
    "start_time": "2021-11-25T14:02:55.882Z"
   },
   {
    "duration": 6,
    "start_time": "2021-11-25T14:03:02.072Z"
   },
   {
    "duration": 9,
    "start_time": "2021-11-25T14:03:03.346Z"
   },
   {
    "duration": 232,
    "start_time": "2021-11-25T14:03:06.192Z"
   },
   {
    "duration": 262,
    "start_time": "2021-11-25T14:04:34.974Z"
   },
   {
    "duration": 11,
    "start_time": "2021-11-25T14:04:53.733Z"
   },
   {
    "duration": 874,
    "start_time": "2021-11-25T14:05:09.953Z"
   },
   {
    "duration": 11,
    "start_time": "2021-11-25T14:05:16.123Z"
   },
   {
    "duration": 13,
    "start_time": "2021-11-25T14:08:03.372Z"
   },
   {
    "duration": 11,
    "start_time": "2021-11-25T14:08:06.523Z"
   },
   {
    "duration": 12,
    "start_time": "2021-11-25T14:08:14.953Z"
   },
   {
    "duration": 12,
    "start_time": "2021-11-25T14:08:20.663Z"
   },
   {
    "duration": 12,
    "start_time": "2021-11-25T14:08:23.722Z"
   },
   {
    "duration": 35,
    "start_time": "2021-11-25T14:08:30.513Z"
   },
   {
    "duration": 37,
    "start_time": "2021-11-25T14:10:38.573Z"
   },
   {
    "duration": 11,
    "start_time": "2021-11-25T14:10:45.241Z"
   },
   {
    "duration": 75,
    "start_time": "2021-11-25T14:10:50.294Z"
   },
   {
    "duration": 12,
    "start_time": "2021-11-25T14:10:52.883Z"
   },
   {
    "duration": 12,
    "start_time": "2021-11-25T14:12:49.283Z"
   },
   {
    "duration": 12,
    "start_time": "2021-11-25T14:12:52.686Z"
   },
   {
    "duration": 14,
    "start_time": "2021-11-25T14:13:00.943Z"
   },
   {
    "duration": 11,
    "start_time": "2021-11-25T14:13:03.843Z"
   },
   {
    "duration": 12,
    "start_time": "2021-11-25T14:13:18.078Z"
   },
   {
    "duration": 1418,
    "start_time": "2021-11-25T14:13:28.253Z"
   },
   {
    "duration": 13,
    "start_time": "2021-11-25T14:13:33.585Z"
   },
   {
    "duration": 12,
    "start_time": "2021-11-25T14:14:00.682Z"
   },
   {
    "duration": 99,
    "start_time": "2021-11-25T14:14:44.277Z"
   },
   {
    "duration": 12,
    "start_time": "2021-11-25T14:14:47.942Z"
   },
   {
    "duration": 11,
    "start_time": "2021-11-25T14:15:10.852Z"
   },
   {
    "duration": 37,
    "start_time": "2021-11-25T14:16:51.081Z"
   },
   {
    "duration": 34,
    "start_time": "2021-11-25T14:20:16.262Z"
   },
   {
    "duration": 35,
    "start_time": "2021-11-25T14:20:24.962Z"
   },
   {
    "duration": 35,
    "start_time": "2021-11-25T14:20:48.342Z"
   },
   {
    "duration": 36,
    "start_time": "2021-11-25T14:21:05.612Z"
   },
   {
    "duration": 36,
    "start_time": "2021-11-25T14:21:39.022Z"
   },
   {
    "duration": 94,
    "start_time": "2021-11-25T14:22:00.156Z"
   },
   {
    "duration": 35,
    "start_time": "2021-11-25T14:23:34.332Z"
   },
   {
    "duration": 6,
    "start_time": "2021-11-25T14:24:03.993Z"
   },
   {
    "duration": 7,
    "start_time": "2021-11-25T14:24:09.206Z"
   },
   {
    "duration": 32,
    "start_time": "2021-11-25T14:24:13.542Z"
   },
   {
    "duration": 469,
    "start_time": "2021-11-25T14:27:14.855Z"
   },
   {
    "duration": 467,
    "start_time": "2021-11-25T14:27:14.858Z"
   },
   {
    "duration": 464,
    "start_time": "2021-11-25T14:27:14.862Z"
   },
   {
    "duration": 462,
    "start_time": "2021-11-25T14:27:14.865Z"
   },
   {
    "duration": 461,
    "start_time": "2021-11-25T14:27:14.868Z"
   },
   {
    "duration": 459,
    "start_time": "2021-11-25T14:27:14.871Z"
   },
   {
    "duration": 450,
    "start_time": "2021-11-25T14:27:14.881Z"
   },
   {
    "duration": 433,
    "start_time": "2021-11-25T14:27:14.905Z"
   },
   {
    "duration": 4,
    "start_time": "2021-11-25T14:27:17.971Z"
   },
   {
    "duration": 66,
    "start_time": "2021-11-25T14:27:17.977Z"
   },
   {
    "duration": 15,
    "start_time": "2021-11-25T14:27:18.046Z"
   },
   {
    "duration": 37,
    "start_time": "2021-11-25T14:27:18.064Z"
   },
   {
    "duration": 59,
    "start_time": "2021-11-25T14:27:18.104Z"
   },
   {
    "duration": 33,
    "start_time": "2021-11-25T14:27:18.165Z"
   },
   {
    "duration": 6,
    "start_time": "2021-11-25T14:27:18.228Z"
   },
   {
    "duration": 251,
    "start_time": "2021-11-25T14:27:44.491Z"
   },
   {
    "duration": 286,
    "start_time": "2021-11-25T14:27:53.276Z"
   },
   {
    "duration": 266,
    "start_time": "2021-11-25T14:28:09.572Z"
   },
   {
    "duration": 8,
    "start_time": "2021-11-25T14:28:19.172Z"
   },
   {
    "duration": 6,
    "start_time": "2021-11-25T14:28:25.181Z"
   },
   {
    "duration": 9,
    "start_time": "2021-11-25T14:28:31.991Z"
   },
   {
    "duration": 6,
    "start_time": "2021-11-25T14:28:34.662Z"
   },
   {
    "duration": 33,
    "start_time": "2021-11-25T14:28:34.992Z"
   },
   {
    "duration": 76,
    "start_time": "2021-11-25T14:28:39.738Z"
   },
   {
    "duration": 7,
    "start_time": "2021-11-25T14:28:46.011Z"
   },
   {
    "duration": 5,
    "start_time": "2021-11-25T14:28:48.051Z"
   },
   {
    "duration": 35,
    "start_time": "2021-11-25T14:29:40.170Z"
   },
   {
    "duration": 32,
    "start_time": "2021-11-25T14:29:44.705Z"
   },
   {
    "duration": 13,
    "start_time": "2021-11-25T14:41:36.282Z"
   },
   {
    "duration": 218,
    "start_time": "2021-11-25T14:41:49.482Z"
   },
   {
    "duration": 7,
    "start_time": "2021-11-25T14:41:52.142Z"
   },
   {
    "duration": 260,
    "start_time": "2021-11-25T14:42:09.673Z"
   },
   {
    "duration": 244,
    "start_time": "2021-11-25T14:42:14.462Z"
   },
   {
    "duration": 7,
    "start_time": "2021-11-25T14:43:08.650Z"
   },
   {
    "duration": 12,
    "start_time": "2021-11-25T14:43:53.043Z"
   },
   {
    "duration": 232,
    "start_time": "2021-11-25T14:43:55.582Z"
   },
   {
    "duration": 243,
    "start_time": "2021-11-25T14:44:00.740Z"
   },
   {
    "duration": 245,
    "start_time": "2021-11-25T14:44:43.131Z"
   },
   {
    "duration": 884,
    "start_time": "2021-11-25T14:45:00.081Z"
   },
   {
    "duration": 268,
    "start_time": "2021-11-25T14:45:11.002Z"
   },
   {
    "duration": 4,
    "start_time": "2021-11-25T14:45:21.732Z"
   },
   {
    "duration": 9,
    "start_time": "2021-11-25T14:45:25.796Z"
   },
   {
    "duration": 283,
    "start_time": "2021-11-25T14:45:48.870Z"
   },
   {
    "duration": 5,
    "start_time": "2021-11-25T14:46:18.853Z"
   },
   {
    "duration": 5,
    "start_time": "2021-11-25T14:46:20.462Z"
   },
   {
    "duration": 5,
    "start_time": "2021-11-25T14:46:29.172Z"
   },
   {
    "duration": 5,
    "start_time": "2021-11-25T14:46:30.463Z"
   },
   {
    "duration": 4,
    "start_time": "2021-11-25T14:46:35.753Z"
   },
   {
    "duration": 7,
    "start_time": "2021-11-25T14:47:21.072Z"
   },
   {
    "duration": 13,
    "start_time": "2021-11-25T14:47:30.458Z"
   },
   {
    "duration": 7,
    "start_time": "2021-11-25T14:47:57.383Z"
   },
   {
    "duration": 6,
    "start_time": "2021-11-25T14:48:07.753Z"
   },
   {
    "duration": 6,
    "start_time": "2021-11-25T14:48:12.672Z"
   },
   {
    "duration": 6,
    "start_time": "2021-11-25T14:53:28.165Z"
   },
   {
    "duration": 293,
    "start_time": "2021-11-25T14:54:31.735Z"
   },
   {
    "duration": 9,
    "start_time": "2021-11-25T14:54:39.715Z"
   },
   {
    "duration": 11,
    "start_time": "2021-11-25T14:54:45.203Z"
   },
   {
    "duration": 9,
    "start_time": "2021-11-25T14:54:58.152Z"
   },
   {
    "duration": 270,
    "start_time": "2021-11-25T14:55:05.635Z"
   },
   {
    "duration": 11,
    "start_time": "2021-11-25T14:55:13.855Z"
   },
   {
    "duration": 5,
    "start_time": "2021-11-25T14:55:34.175Z"
   },
   {
    "duration": 9,
    "start_time": "2021-11-25T14:56:04.510Z"
   },
   {
    "duration": 692,
    "start_time": "2021-11-25T14:56:15.445Z"
   },
   {
    "duration": 263,
    "start_time": "2021-11-25T14:56:20.516Z"
   },
   {
    "duration": 4,
    "start_time": "2021-11-25T14:56:27.613Z"
   },
   {
    "duration": 4,
    "start_time": "2021-11-25T14:56:27.945Z"
   },
   {
    "duration": 11,
    "start_time": "2021-11-25T14:56:29.643Z"
   },
   {
    "duration": 4,
    "start_time": "2021-11-25T14:56:56.242Z"
   },
   {
    "duration": 224,
    "start_time": "2021-11-25T14:57:26.405Z"
   },
   {
    "duration": 5,
    "start_time": "2021-11-25T14:58:13.626Z"
   },
   {
    "duration": 12,
    "start_time": "2021-11-25T14:58:21.403Z"
   },
   {
    "duration": 229,
    "start_time": "2021-11-25T14:58:27.506Z"
   },
   {
    "duration": 274,
    "start_time": "2021-11-25T14:58:33.396Z"
   },
   {
    "duration": 12,
    "start_time": "2021-11-25T14:58:41.693Z"
   },
   {
    "duration": 33,
    "start_time": "2021-11-25T14:59:01.394Z"
   },
   {
    "duration": 236,
    "start_time": "2021-11-25T14:59:19.965Z"
   },
   {
    "duration": 8,
    "start_time": "2021-11-25T14:59:30.056Z"
   },
   {
    "duration": 9,
    "start_time": "2021-11-25T14:59:58.665Z"
   },
   {
    "duration": 356,
    "start_time": "2021-11-26T06:34:54.968Z"
   },
   {
    "duration": 256,
    "start_time": "2021-11-26T06:35:02.139Z"
   },
   {
    "duration": 712,
    "start_time": "2021-11-26T06:35:08.077Z"
   },
   {
    "duration": 55,
    "start_time": "2021-11-26T06:35:08.791Z"
   },
   {
    "duration": 11,
    "start_time": "2021-11-26T06:35:08.848Z"
   },
   {
    "duration": 25,
    "start_time": "2021-11-26T06:35:08.861Z"
   },
   {
    "duration": 6,
    "start_time": "2021-11-26T06:35:20.288Z"
   },
   {
    "duration": 5,
    "start_time": "2021-11-26T06:35:36.659Z"
   },
   {
    "duration": 5,
    "start_time": "2021-11-26T06:35:49.895Z"
   },
   {
    "duration": 5,
    "start_time": "2021-11-26T06:36:04.869Z"
   },
   {
    "duration": 284,
    "start_time": "2021-11-26T06:40:39.176Z"
   },
   {
    "duration": 288,
    "start_time": "2021-11-26T06:40:44.377Z"
   },
   {
    "duration": 26,
    "start_time": "2021-11-26T06:41:00.009Z"
   },
   {
    "duration": 15,
    "start_time": "2021-11-26T06:41:05.498Z"
   },
   {
    "duration": 23,
    "start_time": "2021-11-26T06:41:08.029Z"
   },
   {
    "duration": 8,
    "start_time": "2021-11-26T06:41:27.696Z"
   },
   {
    "duration": 21,
    "start_time": "2021-11-26T06:41:32.918Z"
   },
   {
    "duration": 23,
    "start_time": "2021-11-26T06:41:36.279Z"
   },
   {
    "duration": 7,
    "start_time": "2021-11-26T06:41:55.837Z"
   },
   {
    "duration": 13,
    "start_time": "2021-11-26T06:50:52.439Z"
   },
   {
    "duration": 19,
    "start_time": "2021-11-26T06:50:57.907Z"
   },
   {
    "duration": 11,
    "start_time": "2021-11-26T06:52:18.896Z"
   },
   {
    "duration": 12,
    "start_time": "2021-11-26T06:52:39.783Z"
   },
   {
    "duration": 20,
    "start_time": "2021-11-26T07:36:05.353Z"
   },
   {
    "duration": 84,
    "start_time": "2021-11-26T09:54:10.929Z"
   },
   {
    "duration": 266,
    "start_time": "2021-11-26T09:55:30.443Z"
   },
   {
    "duration": 5,
    "start_time": "2021-11-26T09:55:47.488Z"
   },
   {
    "duration": 4,
    "start_time": "2021-11-26T09:55:51.212Z"
   },
   {
    "duration": 19,
    "start_time": "2021-11-26T09:55:58.128Z"
   },
   {
    "duration": 4,
    "start_time": "2021-11-26T09:56:22.864Z"
   },
   {
    "duration": 4,
    "start_time": "2021-11-26T09:56:29.031Z"
   },
   {
    "duration": 12,
    "start_time": "2021-11-26T09:56:36.940Z"
   },
   {
    "duration": 391,
    "start_time": "2021-11-26T12:21:56.959Z"
   },
   {
    "duration": 589,
    "start_time": "2021-11-26T12:22:48.649Z"
   },
   {
    "duration": 54,
    "start_time": "2021-11-26T12:22:49.240Z"
   },
   {
    "duration": 11,
    "start_time": "2021-11-26T12:22:49.296Z"
   },
   {
    "duration": 42,
    "start_time": "2021-11-26T12:22:49.309Z"
   },
   {
    "duration": 9,
    "start_time": "2021-11-26T12:22:49.352Z"
   },
   {
    "duration": 15,
    "start_time": "2021-11-26T12:22:49.363Z"
   },
   {
    "duration": 16,
    "start_time": "2021-11-26T12:22:49.379Z"
   },
   {
    "duration": 21,
    "start_time": "2021-11-26T12:22:49.397Z"
   },
   {
    "duration": 48,
    "start_time": "2021-11-26T12:22:49.420Z"
   },
   {
    "duration": 11,
    "start_time": "2021-11-26T12:22:49.471Z"
   },
   {
    "duration": 12,
    "start_time": "2021-11-26T12:22:51.808Z"
   },
   {
    "duration": 4,
    "start_time": "2021-11-26T12:24:42.618Z"
   },
   {
    "duration": 4,
    "start_time": "2021-11-26T12:24:46.888Z"
   },
   {
    "duration": 114,
    "start_time": "2021-11-26T12:24:53.858Z"
   },
   {
    "duration": 11,
    "start_time": "2021-11-26T12:24:56.270Z"
   },
   {
    "duration": 11,
    "start_time": "2021-11-26T12:25:10.938Z"
   },
   {
    "duration": 11,
    "start_time": "2021-11-26T12:25:31.548Z"
   },
   {
    "duration": 352,
    "start_time": "2021-11-26T12:31:32.000Z"
   },
   {
    "duration": 16,
    "start_time": "2021-11-26T12:32:02.201Z"
   },
   {
    "duration": 17,
    "start_time": "2021-11-26T12:32:08.819Z"
   },
   {
    "duration": 19,
    "start_time": "2021-11-26T12:32:20.789Z"
   },
   {
    "duration": 16,
    "start_time": "2021-11-26T12:32:30.059Z"
   },
   {
    "duration": 15,
    "start_time": "2021-11-26T12:32:32.760Z"
   },
   {
    "duration": 16,
    "start_time": "2021-11-26T12:35:07.968Z"
   },
   {
    "duration": 15,
    "start_time": "2021-11-26T12:35:18.256Z"
   },
   {
    "duration": 3,
    "start_time": "2021-11-26T12:35:36.519Z"
   },
   {
    "duration": 16,
    "start_time": "2021-11-26T12:36:14.905Z"
   },
   {
    "duration": 635,
    "start_time": "2021-11-26T12:36:37.858Z"
   },
   {
    "duration": 4,
    "start_time": "2021-11-26T12:38:17.846Z"
   },
   {
    "duration": 379,
    "start_time": "2021-11-26T12:38:28.490Z"
   },
   {
    "duration": 347,
    "start_time": "2021-11-26T12:38:32.859Z"
   },
   {
    "duration": 4,
    "start_time": "2021-11-26T12:38:41.189Z"
   },
   {
    "duration": 5,
    "start_time": "2021-11-26T12:38:45.935Z"
   },
   {
    "duration": 356,
    "start_time": "2021-11-26T12:40:00.745Z"
   },
   {
    "duration": 14,
    "start_time": "2021-11-26T12:42:27.840Z"
   },
   {
    "duration": 378,
    "start_time": "2021-11-26T12:42:49.620Z"
   },
   {
    "duration": 351,
    "start_time": "2021-11-26T12:46:03.626Z"
   },
   {
    "duration": 5,
    "start_time": "2021-11-26T12:46:11.609Z"
   },
   {
    "duration": 37,
    "start_time": "2021-11-26T12:46:50.730Z"
   },
   {
    "duration": 3,
    "start_time": "2021-11-26T12:48:15.780Z"
   },
   {
    "duration": 16,
    "start_time": "2021-11-26T12:48:32.409Z"
   },
   {
    "duration": 107,
    "start_time": "2021-11-26T12:49:55.459Z"
   },
   {
    "duration": 15,
    "start_time": "2021-11-26T12:50:02.124Z"
   },
   {
    "duration": 35,
    "start_time": "2021-11-26T12:50:02.445Z"
   },
   {
    "duration": 32,
    "start_time": "2021-11-26T12:50:23.968Z"
   },
   {
    "duration": 15,
    "start_time": "2021-11-26T12:50:43.200Z"
   },
   {
    "duration": 32,
    "start_time": "2021-11-26T12:51:02.969Z"
   },
   {
    "duration": 35,
    "start_time": "2021-11-26T12:51:26.229Z"
   },
   {
    "duration": 15,
    "start_time": "2021-11-26T12:51:29.639Z"
   },
   {
    "duration": 16,
    "start_time": "2021-11-26T12:51:49.579Z"
   },
   {
    "duration": 16,
    "start_time": "2021-11-26T12:52:00.569Z"
   },
   {
    "duration": 17,
    "start_time": "2021-11-26T12:52:07.420Z"
   },
   {
    "duration": 37,
    "start_time": "2021-11-26T12:52:13.229Z"
   },
   {
    "duration": 15,
    "start_time": "2021-11-26T12:52:13.599Z"
   },
   {
    "duration": 31,
    "start_time": "2021-11-26T12:52:14.668Z"
   },
   {
    "duration": 15,
    "start_time": "2021-11-26T12:52:17.598Z"
   },
   {
    "duration": 56,
    "start_time": "2021-11-26T12:52:52.938Z"
   },
   {
    "duration": 27,
    "start_time": "2021-11-26T12:52:53.739Z"
   },
   {
    "duration": 22,
    "start_time": "2021-11-26T12:53:00.809Z"
   },
   {
    "duration": 19,
    "start_time": "2021-11-26T12:53:01.619Z"
   },
   {
    "duration": 50,
    "start_time": "2021-11-26T12:59:39.998Z"
   },
   {
    "duration": 26,
    "start_time": "2021-11-26T12:59:41.147Z"
   },
   {
    "duration": 51,
    "start_time": "2021-11-26T12:59:51.568Z"
   },
   {
    "duration": 26,
    "start_time": "2021-11-26T12:59:51.828Z"
   },
   {
    "duration": 21,
    "start_time": "2021-11-26T12:59:52.309Z"
   },
   {
    "duration": 18,
    "start_time": "2021-11-26T12:59:52.885Z"
   },
   {
    "duration": 3,
    "start_time": "2021-11-26T13:00:00.559Z"
   },
   {
    "duration": 92,
    "start_time": "2021-11-26T13:00:00.564Z"
   },
   {
    "duration": 12,
    "start_time": "2021-11-26T13:00:00.658Z"
   },
   {
    "duration": 42,
    "start_time": "2021-11-26T13:00:00.672Z"
   },
   {
    "duration": 26,
    "start_time": "2021-11-26T13:00:00.716Z"
   },
   {
    "duration": 25,
    "start_time": "2021-11-26T13:00:00.744Z"
   },
   {
    "duration": 60,
    "start_time": "2021-11-26T13:00:00.771Z"
   },
   {
    "duration": 32,
    "start_time": "2021-11-26T13:00:00.834Z"
   },
   {
    "duration": 35,
    "start_time": "2021-11-26T13:00:00.868Z"
   },
   {
    "duration": 22,
    "start_time": "2021-11-26T13:00:00.904Z"
   },
   {
    "duration": 34,
    "start_time": "2021-11-26T13:00:00.928Z"
   },
   {
    "duration": 34,
    "start_time": "2021-11-26T13:00:02.819Z"
   },
   {
    "duration": 18,
    "start_time": "2021-11-26T13:00:03.946Z"
   },
   {
    "duration": 16,
    "start_time": "2021-11-26T13:00:04.367Z"
   },
   {
    "duration": 8,
    "start_time": "2021-11-26T13:01:05.964Z"
   },
   {
    "duration": 47,
    "start_time": "2021-11-26T13:01:40.256Z"
   },
   {
    "duration": 26,
    "start_time": "2021-11-26T13:01:40.598Z"
   },
   {
    "duration": 27,
    "start_time": "2021-11-26T13:01:42.628Z"
   },
   {
    "duration": 18,
    "start_time": "2021-11-26T13:01:42.976Z"
   },
   {
    "duration": 9,
    "start_time": "2021-11-26T13:01:44.033Z"
   },
   {
    "duration": 9,
    "start_time": "2021-11-26T13:02:27.598Z"
   },
   {
    "duration": 6,
    "start_time": "2021-11-26T13:03:06.934Z"
   },
   {
    "duration": 6,
    "start_time": "2021-11-26T13:03:45.634Z"
   },
   {
    "duration": 6,
    "start_time": "2021-11-26T13:03:52.237Z"
   },
   {
    "duration": 5,
    "start_time": "2021-11-26T13:04:13.568Z"
   },
   {
    "duration": 10,
    "start_time": "2021-11-26T13:04:38.386Z"
   },
   {
    "duration": 7,
    "start_time": "2021-11-26T13:05:12.219Z"
   },
   {
    "duration": 8,
    "start_time": "2021-11-26T13:05:12.759Z"
   },
   {
    "duration": 7,
    "start_time": "2021-11-26T13:05:13.050Z"
   },
   {
    "duration": 8,
    "start_time": "2021-11-26T13:05:25.739Z"
   },
   {
    "duration": 8,
    "start_time": "2021-11-26T13:05:26.229Z"
   },
   {
    "duration": 8,
    "start_time": "2021-11-26T13:05:28.659Z"
   },
   {
    "duration": 9,
    "start_time": "2021-11-26T13:06:40.798Z"
   },
   {
    "duration": 8,
    "start_time": "2021-11-26T13:06:50.549Z"
   },
   {
    "duration": 8,
    "start_time": "2021-11-26T13:06:56.947Z"
   },
   {
    "duration": 9,
    "start_time": "2021-11-26T13:07:50.088Z"
   },
   {
    "duration": 1825,
    "start_time": "2021-11-26T13:14:33.489Z"
   },
   {
    "duration": 653,
    "start_time": "2021-11-26T13:14:41.999Z"
   },
   {
    "duration": 7,
    "start_time": "2021-11-26T13:15:12.798Z"
   },
   {
    "duration": 7,
    "start_time": "2021-11-26T13:15:21.058Z"
   },
   {
    "duration": 8,
    "start_time": "2021-11-26T13:15:39.118Z"
   },
   {
    "duration": 7,
    "start_time": "2021-11-26T13:15:41.918Z"
   },
   {
    "duration": 8,
    "start_time": "2021-11-26T13:15:42.448Z"
   },
   {
    "duration": 6,
    "start_time": "2021-11-26T13:15:52.177Z"
   },
   {
    "duration": 7,
    "start_time": "2021-11-26T13:15:52.779Z"
   },
   {
    "duration": 5,
    "start_time": "2021-11-26T13:16:05.368Z"
   },
   {
    "duration": 8,
    "start_time": "2021-11-26T13:16:05.928Z"
   },
   {
    "duration": 5,
    "start_time": "2021-11-26T13:16:12.938Z"
   },
   {
    "duration": 8,
    "start_time": "2021-11-26T13:16:13.278Z"
   },
   {
    "duration": 5,
    "start_time": "2021-11-26T13:16:17.928Z"
   },
   {
    "duration": 8,
    "start_time": "2021-11-26T13:16:18.278Z"
   },
   {
    "duration": 5,
    "start_time": "2021-11-26T13:16:21.538Z"
   },
   {
    "duration": 9,
    "start_time": "2021-11-26T13:16:21.848Z"
   },
   {
    "duration": 9,
    "start_time": "2021-11-26T13:16:23.981Z"
   },
   {
    "duration": 6,
    "start_time": "2021-11-26T13:16:25.338Z"
   },
   {
    "duration": 8,
    "start_time": "2021-11-26T13:16:25.696Z"
   },
   {
    "duration": 5,
    "start_time": "2021-11-26T13:16:31.479Z"
   },
   {
    "duration": 8,
    "start_time": "2021-11-26T13:16:31.868Z"
   },
   {
    "duration": 2,
    "start_time": "2021-11-26T13:16:36.280Z"
   },
   {
    "duration": 55,
    "start_time": "2021-11-26T13:16:36.284Z"
   },
   {
    "duration": 11,
    "start_time": "2021-11-26T13:16:36.341Z"
   },
   {
    "duration": 22,
    "start_time": "2021-11-26T13:16:36.355Z"
   },
   {
    "duration": 5,
    "start_time": "2021-11-26T13:16:36.379Z"
   },
   {
    "duration": 26,
    "start_time": "2021-11-26T13:16:36.386Z"
   },
   {
    "duration": 14,
    "start_time": "2021-11-26T13:16:36.413Z"
   },
   {
    "duration": 11,
    "start_time": "2021-11-26T13:16:36.429Z"
   },
   {
    "duration": 4,
    "start_time": "2021-11-26T13:16:36.443Z"
   },
   {
    "duration": 6,
    "start_time": "2021-11-26T13:16:36.449Z"
   },
   {
    "duration": 21,
    "start_time": "2021-11-26T13:16:36.457Z"
   },
   {
    "duration": 74,
    "start_time": "2021-11-26T13:16:36.480Z"
   },
   {
    "duration": 27,
    "start_time": "2021-11-26T13:16:36.556Z"
   },
   {
    "duration": 43,
    "start_time": "2021-11-26T13:16:36.584Z"
   },
   {
    "duration": 18,
    "start_time": "2021-11-26T13:16:36.629Z"
   },
   {
    "duration": 9,
    "start_time": "2021-11-26T13:16:36.648Z"
   },
   {
    "duration": 17,
    "start_time": "2021-11-26T13:16:36.658Z"
   },
   {
    "duration": 32,
    "start_time": "2021-11-26T13:16:36.677Z"
   },
   {
    "duration": 20,
    "start_time": "2021-11-26T13:16:36.711Z"
   },
   {
    "duration": 16,
    "start_time": "2021-11-26T13:16:36.733Z"
   },
   {
    "duration": 5,
    "start_time": "2021-11-26T13:16:38.229Z"
   },
   {
    "duration": 8,
    "start_time": "2021-11-26T13:16:38.588Z"
   },
   {
    "duration": 5,
    "start_time": "2021-11-26T13:16:59.999Z"
   },
   {
    "duration": 8,
    "start_time": "2021-11-26T13:17:00.349Z"
   },
   {
    "duration": 8,
    "start_time": "2021-11-26T13:17:41.846Z"
   },
   {
    "duration": 3,
    "start_time": "2021-11-26T13:17:45.100Z"
   },
   {
    "duration": 63,
    "start_time": "2021-11-26T13:17:45.105Z"
   },
   {
    "duration": 11,
    "start_time": "2021-11-26T13:17:45.170Z"
   },
   {
    "duration": 24,
    "start_time": "2021-11-26T13:17:45.183Z"
   },
   {
    "duration": 15,
    "start_time": "2021-11-26T13:17:45.209Z"
   },
   {
    "duration": 17,
    "start_time": "2021-11-26T13:17:45.226Z"
   },
   {
    "duration": 19,
    "start_time": "2021-11-26T13:17:45.244Z"
   },
   {
    "duration": 18,
    "start_time": "2021-11-26T13:17:45.265Z"
   },
   {
    "duration": 6,
    "start_time": "2021-11-26T13:17:45.286Z"
   },
   {
    "duration": 19,
    "start_time": "2021-11-26T13:17:45.294Z"
   },
   {
    "duration": 26,
    "start_time": "2021-11-26T13:17:45.315Z"
   },
   {
    "duration": 42,
    "start_time": "2021-11-26T13:17:45.343Z"
   },
   {
    "duration": 27,
    "start_time": "2021-11-26T13:17:45.387Z"
   },
   {
    "duration": 21,
    "start_time": "2021-11-26T13:17:45.416Z"
   },
   {
    "duration": 31,
    "start_time": "2021-11-26T13:17:45.439Z"
   },
   {
    "duration": 8,
    "start_time": "2021-11-26T13:17:45.472Z"
   },
   {
    "duration": 17,
    "start_time": "2021-11-26T13:17:45.482Z"
   },
   {
    "duration": 17,
    "start_time": "2021-11-26T13:17:45.501Z"
   },
   {
    "duration": 25,
    "start_time": "2021-11-26T13:17:45.520Z"
   },
   {
    "duration": 21,
    "start_time": "2021-11-26T13:17:45.546Z"
   },
   {
    "duration": 18,
    "start_time": "2021-11-26T13:17:45.569Z"
   },
   {
    "duration": 5,
    "start_time": "2021-11-26T13:17:46.508Z"
   },
   {
    "duration": 8,
    "start_time": "2021-11-26T13:17:46.808Z"
   },
   {
    "duration": 3,
    "start_time": "2021-11-26T13:35:40.658Z"
   },
   {
    "duration": 7,
    "start_time": "2021-11-26T13:36:21.109Z"
   },
   {
    "duration": 3,
    "start_time": "2021-11-26T13:36:31.899Z"
   },
   {
    "duration": 3,
    "start_time": "2021-11-26T13:36:36.418Z"
   },
   {
    "duration": 959,
    "start_time": "2021-11-26T13:37:27.906Z"
   },
   {
    "duration": 628,
    "start_time": "2021-11-26T13:37:53.869Z"
   },
   {
    "duration": 5,
    "start_time": "2021-11-26T13:38:02.559Z"
   },
   {
    "duration": 144,
    "start_time": "2021-11-26T13:38:14.098Z"
   },
   {
    "duration": 136,
    "start_time": "2021-11-26T13:40:12.049Z"
   },
   {
    "duration": 111,
    "start_time": "2021-11-26T13:40:19.139Z"
   },
   {
    "duration": 117,
    "start_time": "2021-11-26T13:40:23.813Z"
   },
   {
    "duration": 4,
    "start_time": "2021-11-26T13:40:38.798Z"
   },
   {
    "duration": 4,
    "start_time": "2021-11-26T13:40:42.899Z"
   },
   {
    "duration": 4,
    "start_time": "2021-11-26T13:40:59.019Z"
   },
   {
    "duration": 5,
    "start_time": "2021-11-26T13:41:10.458Z"
   },
   {
    "duration": 809,
    "start_time": "2021-11-30T10:45:43.987Z"
   },
   {
    "duration": 6,
    "start_time": "2021-11-30T10:45:44.798Z"
   },
   {
    "duration": 128,
    "start_time": "2021-11-30T10:45:44.808Z"
   },
   {
    "duration": 23,
    "start_time": "2021-11-30T10:45:44.939Z"
   },
   {
    "duration": 77,
    "start_time": "2021-11-30T10:45:44.965Z"
   },
   {
    "duration": 6,
    "start_time": "2021-11-30T10:45:45.044Z"
   },
   {
    "duration": 36,
    "start_time": "2021-11-30T10:45:45.052Z"
   },
   {
    "duration": 35,
    "start_time": "2021-11-30T10:45:45.090Z"
   },
   {
    "duration": 14,
    "start_time": "2021-11-30T10:45:45.129Z"
   },
   {
    "duration": 5,
    "start_time": "2021-11-30T10:45:45.146Z"
   },
   {
    "duration": 30,
    "start_time": "2021-11-30T10:45:45.153Z"
   },
   {
    "duration": 15,
    "start_time": "2021-11-30T10:45:45.185Z"
   },
   {
    "duration": 90,
    "start_time": "2021-11-30T10:45:45.203Z"
   },
   {
    "duration": 35,
    "start_time": "2021-11-30T10:45:45.295Z"
   },
   {
    "duration": 61,
    "start_time": "2021-11-30T10:45:45.332Z"
   },
   {
    "duration": 24,
    "start_time": "2021-11-30T10:45:45.396Z"
   },
   {
    "duration": 10,
    "start_time": "2021-11-30T10:45:45.423Z"
   },
   {
    "duration": 18,
    "start_time": "2021-11-30T10:45:45.436Z"
   },
   {
    "duration": 12,
    "start_time": "2021-11-30T10:45:45.482Z"
   },
   {
    "duration": 12,
    "start_time": "2021-11-30T10:45:45.496Z"
   },
   {
    "duration": 15,
    "start_time": "2021-11-30T10:45:45.511Z"
   },
   {
    "duration": 6,
    "start_time": "2021-11-30T10:45:45.529Z"
   },
   {
    "duration": 49,
    "start_time": "2021-11-30T10:45:45.537Z"
   },
   {
    "duration": 1010,
    "start_time": "2021-11-30T10:45:45.589Z"
   },
   {
    "duration": 416,
    "start_time": "2021-11-30T10:46:30.556Z"
   },
   {
    "duration": 31,
    "start_time": "2021-11-30T10:46:37.507Z"
   },
   {
    "duration": 31,
    "start_time": "2021-11-30T10:47:12.176Z"
   },
   {
    "duration": 29,
    "start_time": "2021-11-30T10:47:17.756Z"
   },
   {
    "duration": 29,
    "start_time": "2021-11-30T10:47:52.316Z"
   },
   {
    "duration": 6,
    "start_time": "2021-11-30T11:12:59.165Z"
   },
   {
    "duration": 6,
    "start_time": "2021-11-30T11:13:08.195Z"
   },
   {
    "duration": 307,
    "start_time": "2021-11-30T11:13:35.485Z"
   },
   {
    "duration": 7,
    "start_time": "2021-11-30T11:13:41.845Z"
   },
   {
    "duration": 328,
    "start_time": "2021-11-30T11:13:45.663Z"
   },
   {
    "duration": 303,
    "start_time": "2021-11-30T11:14:05.423Z"
   },
   {
    "duration": 322,
    "start_time": "2021-11-30T11:14:11.746Z"
   },
   {
    "duration": 6,
    "start_time": "2021-11-30T11:14:45.936Z"
   },
   {
    "duration": 172,
    "start_time": "2021-11-30T11:15:26.796Z"
   },
   {
    "duration": 353,
    "start_time": "2021-11-30T11:15:32.392Z"
   },
   {
    "duration": 304,
    "start_time": "2021-11-30T11:15:38.544Z"
   },
   {
    "duration": 316,
    "start_time": "2021-11-30T11:15:43.533Z"
   },
   {
    "duration": 4299,
    "start_time": "2021-11-30T11:15:58.584Z"
   },
   {
    "duration": 12931,
    "start_time": "2021-11-30T11:16:37.816Z"
   },
   {
    "duration": 4,
    "start_time": "2021-11-30T11:19:55.745Z"
   },
   {
    "duration": 3,
    "start_time": "2021-11-30T11:20:13.286Z"
   },
   {
    "duration": 31,
    "start_time": "2021-11-30T11:20:13.292Z"
   },
   {
    "duration": 104,
    "start_time": "2021-11-30T11:20:13.326Z"
   },
   {
    "duration": 23,
    "start_time": "2021-11-30T11:20:13.434Z"
   },
   {
    "duration": 51,
    "start_time": "2021-11-30T11:20:13.460Z"
   },
   {
    "duration": 28,
    "start_time": "2021-11-30T11:20:13.513Z"
   },
   {
    "duration": 45,
    "start_time": "2021-11-30T11:20:13.544Z"
   },
   {
    "duration": 29,
    "start_time": "2021-11-30T11:20:13.591Z"
   },
   {
    "duration": 25,
    "start_time": "2021-11-30T11:20:13.623Z"
   },
   {
    "duration": 9,
    "start_time": "2021-11-30T11:20:13.651Z"
   },
   {
    "duration": 18,
    "start_time": "2021-11-30T11:20:13.662Z"
   },
   {
    "duration": 30,
    "start_time": "2021-11-30T11:20:13.682Z"
   },
   {
    "duration": 113,
    "start_time": "2021-11-30T11:20:13.715Z"
   },
   {
    "duration": 54,
    "start_time": "2021-11-30T11:20:13.831Z"
   },
   {
    "duration": 39,
    "start_time": "2021-11-30T11:20:13.888Z"
   },
   {
    "duration": 34,
    "start_time": "2021-11-30T11:20:13.930Z"
   },
   {
    "duration": 25,
    "start_time": "2021-11-30T11:20:13.966Z"
   },
   {
    "duration": 41,
    "start_time": "2021-11-30T11:20:13.994Z"
   },
   {
    "duration": 26,
    "start_time": "2021-11-30T11:20:14.038Z"
   },
   {
    "duration": 22,
    "start_time": "2021-11-30T11:20:14.067Z"
   },
   {
    "duration": 23,
    "start_time": "2021-11-30T11:20:14.093Z"
   },
   {
    "duration": 11,
    "start_time": "2021-11-30T11:20:14.118Z"
   },
   {
    "duration": 21,
    "start_time": "2021-11-30T11:20:14.131Z"
   },
   {
    "duration": 4686,
    "start_time": "2021-11-30T11:21:09.413Z"
   },
   {
    "duration": 5,
    "start_time": "2021-11-30T11:21:23.755Z"
   },
   {
    "duration": 7,
    "start_time": "2021-11-30T11:21:45.463Z"
   },
   {
    "duration": 3777,
    "start_time": "2021-11-30T11:21:51.675Z"
   },
   {
    "duration": 7,
    "start_time": "2021-11-30T11:21:55.482Z"
   },
   {
    "duration": 12682,
    "start_time": "2021-11-30T11:22:06.760Z"
   },
   {
    "duration": 816,
    "start_time": "2021-12-01T06:37:27.319Z"
   },
   {
    "duration": 5,
    "start_time": "2021-12-01T06:37:28.138Z"
   },
   {
    "duration": 65,
    "start_time": "2021-12-01T06:37:28.147Z"
   },
   {
    "duration": 25,
    "start_time": "2021-12-01T06:37:28.215Z"
   },
   {
    "duration": 41,
    "start_time": "2021-12-01T06:37:28.242Z"
   },
   {
    "duration": 13,
    "start_time": "2021-12-01T06:37:28.285Z"
   },
   {
    "duration": 35,
    "start_time": "2021-12-01T06:37:28.300Z"
   },
   {
    "duration": 21,
    "start_time": "2021-12-01T06:37:28.338Z"
   },
   {
    "duration": 14,
    "start_time": "2021-12-01T06:37:28.362Z"
   },
   {
    "duration": 6,
    "start_time": "2021-12-01T06:37:28.379Z"
   },
   {
    "duration": 7,
    "start_time": "2021-12-01T06:37:28.388Z"
   },
   {
    "duration": 49,
    "start_time": "2021-12-01T06:37:28.397Z"
   },
   {
    "duration": 91,
    "start_time": "2021-12-01T06:37:28.448Z"
   },
   {
    "duration": 36,
    "start_time": "2021-12-01T06:37:28.541Z"
   },
   {
    "duration": 50,
    "start_time": "2021-12-01T06:37:28.579Z"
   },
   {
    "duration": 25,
    "start_time": "2021-12-01T06:37:28.631Z"
   },
   {
    "duration": 11,
    "start_time": "2021-12-01T06:37:28.659Z"
   },
   {
    "duration": 16,
    "start_time": "2021-12-01T06:37:28.673Z"
   },
   {
    "duration": 45,
    "start_time": "2021-12-01T06:37:28.692Z"
   },
   {
    "duration": 16,
    "start_time": "2021-12-01T06:37:28.739Z"
   },
   {
    "duration": 15,
    "start_time": "2021-12-01T06:37:28.758Z"
   },
   {
    "duration": 8,
    "start_time": "2021-12-01T06:37:28.775Z"
   },
   {
    "duration": 44,
    "start_time": "2021-12-01T06:37:28.785Z"
   },
   {
    "duration": 1012,
    "start_time": "2021-12-01T06:38:32.302Z"
   },
   {
    "duration": 1010,
    "start_time": "2021-12-01T06:38:32.306Z"
   },
   {
    "duration": 4,
    "start_time": "2021-12-01T06:38:34.616Z"
   },
   {
    "duration": 5,
    "start_time": "2021-12-01T06:38:34.623Z"
   },
   {
    "duration": 69,
    "start_time": "2021-12-01T06:38:34.631Z"
   },
   {
    "duration": 31,
    "start_time": "2021-12-01T06:38:34.703Z"
   },
   {
    "duration": 31,
    "start_time": "2021-12-01T06:38:34.736Z"
   },
   {
    "duration": 8,
    "start_time": "2021-12-01T06:38:34.770Z"
   },
   {
    "duration": 13,
    "start_time": "2021-12-01T06:38:34.781Z"
   },
   {
    "duration": 39,
    "start_time": "2021-12-01T06:38:34.796Z"
   },
   {
    "duration": 14,
    "start_time": "2021-12-01T06:38:34.838Z"
   },
   {
    "duration": 5,
    "start_time": "2021-12-01T06:38:34.854Z"
   },
   {
    "duration": 8,
    "start_time": "2021-12-01T06:38:34.861Z"
   },
   {
    "duration": 20,
    "start_time": "2021-12-01T06:38:34.871Z"
   },
   {
    "duration": 64,
    "start_time": "2021-12-01T06:38:34.930Z"
   },
   {
    "duration": 51,
    "start_time": "2021-12-01T06:38:35.000Z"
   },
   {
    "duration": 31,
    "start_time": "2021-12-01T06:38:35.054Z"
   },
   {
    "duration": 51,
    "start_time": "2021-12-01T06:38:35.088Z"
   },
   {
    "duration": 14,
    "start_time": "2021-12-01T06:38:35.142Z"
   },
   {
    "duration": 17,
    "start_time": "2021-12-01T06:38:35.159Z"
   },
   {
    "duration": 21,
    "start_time": "2021-12-01T06:38:35.179Z"
   },
   {
    "duration": 36,
    "start_time": "2021-12-01T06:38:35.203Z"
   },
   {
    "duration": 17,
    "start_time": "2021-12-01T06:38:35.242Z"
   },
   {
    "duration": 10,
    "start_time": "2021-12-01T06:38:35.262Z"
   },
   {
    "duration": 20,
    "start_time": "2021-12-01T06:38:35.274Z"
   },
   {
    "duration": 4,
    "start_time": "2021-12-01T06:39:09.604Z"
   },
   {
    "duration": 30,
    "start_time": "2021-12-01T06:39:09.611Z"
   },
   {
    "duration": 61,
    "start_time": "2021-12-01T06:39:09.644Z"
   },
   {
    "duration": 14,
    "start_time": "2021-12-01T06:39:09.708Z"
   },
   {
    "duration": 34,
    "start_time": "2021-12-01T06:39:09.728Z"
   },
   {
    "duration": 8,
    "start_time": "2021-12-01T06:39:09.764Z"
   },
   {
    "duration": 12,
    "start_time": "2021-12-01T06:39:09.775Z"
   },
   {
    "duration": 49,
    "start_time": "2021-12-01T06:39:09.789Z"
   },
   {
    "duration": 15,
    "start_time": "2021-12-01T06:39:09.841Z"
   },
   {
    "duration": 9,
    "start_time": "2021-12-01T06:39:09.859Z"
   },
   {
    "duration": 9,
    "start_time": "2021-12-01T06:39:09.871Z"
   },
   {
    "duration": 47,
    "start_time": "2021-12-01T06:39:09.882Z"
   },
   {
    "duration": 71,
    "start_time": "2021-12-01T06:39:09.931Z"
   },
   {
    "duration": 52,
    "start_time": "2021-12-01T06:39:10.004Z"
   },
   {
    "duration": 30,
    "start_time": "2021-12-01T06:39:10.059Z"
   },
   {
    "duration": 51,
    "start_time": "2021-12-01T06:39:10.091Z"
   },
   {
    "duration": 11,
    "start_time": "2021-12-01T06:39:10.145Z"
   },
   {
    "duration": 16,
    "start_time": "2021-12-01T06:39:10.158Z"
   },
   {
    "duration": 14,
    "start_time": "2021-12-01T06:39:10.177Z"
   },
   {
    "duration": 39,
    "start_time": "2021-12-01T06:39:10.194Z"
   },
   {
    "duration": 15,
    "start_time": "2021-12-01T06:39:10.235Z"
   },
   {
    "duration": 13,
    "start_time": "2021-12-01T06:39:10.252Z"
   },
   {
    "duration": 14,
    "start_time": "2021-12-01T06:39:10.267Z"
   },
   {
    "duration": 15912,
    "start_time": "2021-12-01T06:39:10.284Z"
   },
   {
    "duration": 8,
    "start_time": "2021-12-01T06:39:26.199Z"
   },
   {
    "duration": 8,
    "start_time": "2021-12-01T06:39:41.230Z"
   },
   {
    "duration": 8,
    "start_time": "2021-12-01T06:39:50.220Z"
   },
   {
    "duration": 289,
    "start_time": "2021-12-01T06:41:20.773Z"
   },
   {
    "duration": 314,
    "start_time": "2021-12-01T06:42:00.826Z"
   },
   {
    "duration": 3501,
    "start_time": "2021-12-01T06:42:18.255Z"
   },
   {
    "duration": 3,
    "start_time": "2021-12-01T06:42:21.759Z"
   },
   {
    "duration": 8,
    "start_time": "2021-12-01T06:42:23.543Z"
   },
   {
    "duration": 3496,
    "start_time": "2021-12-01T06:42:25.675Z"
   },
   {
    "duration": 3,
    "start_time": "2021-12-01T06:42:29.616Z"
   },
   {
    "duration": 10,
    "start_time": "2021-12-01T06:42:29.622Z"
   },
   {
    "duration": 69,
    "start_time": "2021-12-01T06:42:29.635Z"
   },
   {
    "duration": 31,
    "start_time": "2021-12-01T06:42:29.708Z"
   },
   {
    "duration": 35,
    "start_time": "2021-12-01T06:42:29.742Z"
   },
   {
    "duration": 15,
    "start_time": "2021-12-01T06:42:29.779Z"
   },
   {
    "duration": 36,
    "start_time": "2021-12-01T06:42:29.797Z"
   },
   {
    "duration": 26,
    "start_time": "2021-12-01T06:42:29.836Z"
   },
   {
    "duration": 15,
    "start_time": "2021-12-01T06:42:29.866Z"
   },
   {
    "duration": 10,
    "start_time": "2021-12-01T06:42:29.883Z"
   },
   {
    "duration": 33,
    "start_time": "2021-12-01T06:42:29.896Z"
   },
   {
    "duration": 16,
    "start_time": "2021-12-01T06:42:29.932Z"
   },
   {
    "duration": 87,
    "start_time": "2021-12-01T06:42:29.950Z"
   },
   {
    "duration": 36,
    "start_time": "2021-12-01T06:42:30.039Z"
   },
   {
    "duration": 28,
    "start_time": "2021-12-01T06:42:30.077Z"
   },
   {
    "duration": 25,
    "start_time": "2021-12-01T06:42:30.130Z"
   },
   {
    "duration": 11,
    "start_time": "2021-12-01T06:42:30.157Z"
   },
   {
    "duration": 17,
    "start_time": "2021-12-01T06:42:30.171Z"
   },
   {
    "duration": 41,
    "start_time": "2021-12-01T06:42:30.190Z"
   },
   {
    "duration": 28,
    "start_time": "2021-12-01T06:42:30.233Z"
   },
   {
    "duration": 38,
    "start_time": "2021-12-01T06:42:30.263Z"
   },
   {
    "duration": 29,
    "start_time": "2021-12-01T06:42:30.303Z"
   },
   {
    "duration": 24,
    "start_time": "2021-12-01T06:42:30.334Z"
   },
   {
    "duration": 4445,
    "start_time": "2021-12-01T06:42:31.606Z"
   },
   {
    "duration": 7405,
    "start_time": "2021-12-01T06:42:36.055Z"
   },
   {
    "duration": 7,
    "start_time": "2021-12-01T06:43:08.766Z"
   },
   {
    "duration": 7653,
    "start_time": "2021-12-01T06:44:55.636Z"
   },
   {
    "duration": 271,
    "start_time": "2021-12-01T06:47:17.514Z"
   },
   {
    "duration": 6,
    "start_time": "2021-12-01T06:52:11.033Z"
   },
   {
    "duration": 273,
    "start_time": "2021-12-01T06:53:09.204Z"
   },
   {
    "duration": 286,
    "start_time": "2021-12-01T06:53:42.073Z"
   },
   {
    "duration": 272,
    "start_time": "2021-12-01T06:53:53.697Z"
   },
   {
    "duration": 331,
    "start_time": "2021-12-01T06:54:38.014Z"
   },
   {
    "duration": 441,
    "start_time": "2021-12-01T06:55:13.260Z"
   },
   {
    "duration": 4693,
    "start_time": "2021-12-01T06:58:58.406Z"
   },
   {
    "duration": 45300,
    "start_time": "2021-12-01T06:59:21.386Z"
   },
   {
    "duration": 945,
    "start_time": "2021-12-01T07:01:39.583Z"
   },
   {
    "duration": 942,
    "start_time": "2021-12-01T07:01:39.587Z"
   },
   {
    "duration": 941,
    "start_time": "2021-12-01T07:01:39.590Z"
   },
   {
    "duration": 939,
    "start_time": "2021-12-01T07:01:39.594Z"
   },
   {
    "duration": 936,
    "start_time": "2021-12-01T07:01:39.598Z"
   },
   {
    "duration": 935,
    "start_time": "2021-12-01T07:01:39.601Z"
   },
   {
    "duration": 933,
    "start_time": "2021-12-01T07:01:39.604Z"
   },
   {
    "duration": 931,
    "start_time": "2021-12-01T07:01:39.608Z"
   },
   {
    "duration": 928,
    "start_time": "2021-12-01T07:01:39.612Z"
   },
   {
    "duration": 926,
    "start_time": "2021-12-01T07:01:39.615Z"
   },
   {
    "duration": 924,
    "start_time": "2021-12-01T07:01:39.618Z"
   },
   {
    "duration": 921,
    "start_time": "2021-12-01T07:01:39.623Z"
   },
   {
    "duration": 919,
    "start_time": "2021-12-01T07:01:39.626Z"
   },
   {
    "duration": 903,
    "start_time": "2021-12-01T07:01:39.643Z"
   },
   {
    "duration": 896,
    "start_time": "2021-12-01T07:01:39.652Z"
   },
   {
    "duration": 894,
    "start_time": "2021-12-01T07:01:39.655Z"
   },
   {
    "duration": 891,
    "start_time": "2021-12-01T07:01:39.660Z"
   },
   {
    "duration": 889,
    "start_time": "2021-12-01T07:01:39.664Z"
   },
   {
    "duration": 887,
    "start_time": "2021-12-01T07:01:39.667Z"
   },
   {
    "duration": 883,
    "start_time": "2021-12-01T07:01:39.672Z"
   },
   {
    "duration": 879,
    "start_time": "2021-12-01T07:01:39.678Z"
   },
   {
    "duration": 876,
    "start_time": "2021-12-01T07:01:39.682Z"
   },
   {
    "duration": 874,
    "start_time": "2021-12-01T07:01:39.686Z"
   },
   {
    "duration": 870,
    "start_time": "2021-12-01T07:01:39.691Z"
   },
   {
    "duration": 869,
    "start_time": "2021-12-01T07:01:39.695Z"
   },
   {
    "duration": 4,
    "start_time": "2021-12-01T07:01:42.766Z"
   },
   {
    "duration": 8,
    "start_time": "2021-12-01T07:01:42.772Z"
   },
   {
    "duration": 67,
    "start_time": "2021-12-01T07:01:42.783Z"
   },
   {
    "duration": 15,
    "start_time": "2021-12-01T07:01:42.853Z"
   },
   {
    "duration": 34,
    "start_time": "2021-12-01T07:01:42.870Z"
   },
   {
    "duration": 7,
    "start_time": "2021-12-01T07:01:42.930Z"
   },
   {
    "duration": 9,
    "start_time": "2021-12-01T07:01:42.940Z"
   },
   {
    "duration": 17,
    "start_time": "2021-12-01T07:01:42.952Z"
   },
   {
    "duration": 15,
    "start_time": "2021-12-01T07:01:42.973Z"
   },
   {
    "duration": 4,
    "start_time": "2021-12-01T07:01:43.031Z"
   },
   {
    "duration": 8,
    "start_time": "2021-12-01T07:01:43.037Z"
   },
   {
    "duration": 19,
    "start_time": "2021-12-01T07:01:43.047Z"
   },
   {
    "duration": 102,
    "start_time": "2021-12-01T07:01:43.068Z"
   },
   {
    "duration": 35,
    "start_time": "2021-12-01T07:01:43.173Z"
   },
   {
    "duration": 48,
    "start_time": "2021-12-01T07:01:43.210Z"
   },
   {
    "duration": 26,
    "start_time": "2021-12-01T07:01:43.261Z"
   },
   {
    "duration": 39,
    "start_time": "2021-12-01T07:01:43.289Z"
   },
   {
    "duration": 13,
    "start_time": "2021-12-01T07:01:43.331Z"
   },
   {
    "duration": 15,
    "start_time": "2021-12-01T07:01:43.346Z"
   },
   {
    "duration": 16,
    "start_time": "2021-12-01T07:01:43.364Z"
   },
   {
    "duration": 15,
    "start_time": "2021-12-01T07:01:43.382Z"
   },
   {
    "duration": 6,
    "start_time": "2021-12-01T07:01:43.428Z"
   },
   {
    "duration": 15,
    "start_time": "2021-12-01T07:01:43.436Z"
   },
   {
    "duration": 13576,
    "start_time": "2021-12-01T07:01:45.213Z"
   },
   {
    "duration": 11623,
    "start_time": "2021-12-01T07:02:35.364Z"
   },
   {
    "duration": 11997,
    "start_time": "2021-12-01T07:02:48.494Z"
   },
   {
    "duration": 420,
    "start_time": "2021-12-01T07:07:36.111Z"
   },
   {
    "duration": 412,
    "start_time": "2021-12-01T07:07:36.121Z"
   },
   {
    "duration": 409,
    "start_time": "2021-12-01T07:07:36.125Z"
   },
   {
    "duration": 408,
    "start_time": "2021-12-01T07:07:36.127Z"
   },
   {
    "duration": 406,
    "start_time": "2021-12-01T07:07:36.130Z"
   },
   {
    "duration": 404,
    "start_time": "2021-12-01T07:07:36.134Z"
   },
   {
    "duration": 402,
    "start_time": "2021-12-01T07:07:36.138Z"
   },
   {
    "duration": 394,
    "start_time": "2021-12-01T07:07:36.147Z"
   },
   {
    "duration": 392,
    "start_time": "2021-12-01T07:07:36.151Z"
   },
   {
    "duration": 373,
    "start_time": "2021-12-01T07:07:36.171Z"
   },
   {
    "duration": 371,
    "start_time": "2021-12-01T07:07:36.174Z"
   },
   {
    "duration": 366,
    "start_time": "2021-12-01T07:07:36.181Z"
   },
   {
    "duration": 364,
    "start_time": "2021-12-01T07:07:36.184Z"
   },
   {
    "duration": 362,
    "start_time": "2021-12-01T07:07:36.187Z"
   },
   {
    "duration": 360,
    "start_time": "2021-12-01T07:07:36.190Z"
   },
   {
    "duration": 360,
    "start_time": "2021-12-01T07:07:36.192Z"
   },
   {
    "duration": 358,
    "start_time": "2021-12-01T07:07:36.195Z"
   },
   {
    "duration": 356,
    "start_time": "2021-12-01T07:07:36.198Z"
   },
   {
    "duration": 354,
    "start_time": "2021-12-01T07:07:36.201Z"
   },
   {
    "duration": 353,
    "start_time": "2021-12-01T07:07:36.204Z"
   },
   {
    "duration": 351,
    "start_time": "2021-12-01T07:07:36.207Z"
   },
   {
    "duration": 349,
    "start_time": "2021-12-01T07:07:36.210Z"
   },
   {
    "duration": 348,
    "start_time": "2021-12-01T07:07:36.213Z"
   },
   {
    "duration": 244,
    "start_time": "2021-12-01T07:07:36.318Z"
   },
   {
    "duration": 378,
    "start_time": "2021-12-01T07:07:40.062Z"
   },
   {
    "duration": 282,
    "start_time": "2021-12-01T07:07:50.553Z"
   },
   {
    "duration": 738,
    "start_time": "2021-12-01T07:07:57.579Z"
   },
   {
    "duration": 9,
    "start_time": "2021-12-01T07:07:58.320Z"
   },
   {
    "duration": 64,
    "start_time": "2021-12-01T07:07:58.332Z"
   },
   {
    "duration": 30,
    "start_time": "2021-12-01T07:07:58.399Z"
   },
   {
    "duration": 42,
    "start_time": "2021-12-01T07:07:58.432Z"
   },
   {
    "duration": 6,
    "start_time": "2021-12-01T07:07:58.476Z"
   },
   {
    "duration": 18,
    "start_time": "2021-12-01T07:07:58.484Z"
   },
   {
    "duration": 17,
    "start_time": "2021-12-01T07:07:58.528Z"
   },
   {
    "duration": 15,
    "start_time": "2021-12-01T07:07:58.548Z"
   },
   {
    "duration": 5,
    "start_time": "2021-12-01T07:07:58.565Z"
   },
   {
    "duration": 9,
    "start_time": "2021-12-01T07:07:58.572Z"
   },
   {
    "duration": 57,
    "start_time": "2021-12-01T07:07:58.584Z"
   },
   {
    "duration": 67,
    "start_time": "2021-12-01T07:07:58.644Z"
   },
   {
    "duration": 48,
    "start_time": "2021-12-01T07:07:58.713Z"
   },
   {
    "duration": 29,
    "start_time": "2021-12-01T07:07:58.763Z"
   },
   {
    "duration": 53,
    "start_time": "2021-12-01T07:07:58.795Z"
   },
   {
    "duration": 11,
    "start_time": "2021-12-01T07:07:58.851Z"
   },
   {
    "duration": 18,
    "start_time": "2021-12-01T07:07:58.864Z"
   },
   {
    "duration": 15,
    "start_time": "2021-12-01T07:07:58.884Z"
   },
   {
    "duration": 35,
    "start_time": "2021-12-01T07:07:58.901Z"
   },
   {
    "duration": 14,
    "start_time": "2021-12-01T07:07:58.939Z"
   },
   {
    "duration": 9,
    "start_time": "2021-12-01T07:07:58.956Z"
   },
   {
    "duration": 12,
    "start_time": "2021-12-01T07:07:58.969Z"
   },
   {
    "duration": 1232,
    "start_time": "2021-12-01T07:08:41.159Z"
   },
   {
    "duration": 973,
    "start_time": "2021-12-01T07:08:41.421Z"
   },
   {
    "duration": 7902,
    "start_time": "2021-12-01T07:08:56.094Z"
   },
   {
    "duration": 895,
    "start_time": "2021-12-01T07:09:03.104Z"
   },
   {
    "duration": 12133,
    "start_time": "2021-12-01T07:13:46.366Z"
   },
   {
    "duration": 11490,
    "start_time": "2021-12-01T07:14:23.266Z"
   },
   {
    "duration": 93,
    "start_time": "2021-12-01T07:14:36.636Z"
   },
   {
    "duration": 3763,
    "start_time": "2021-12-01T07:14:40.051Z"
   },
   {
    "duration": 278,
    "start_time": "2021-12-01T07:16:19.539Z"
   },
   {
    "duration": 12798,
    "start_time": "2021-12-01T07:16:56.143Z"
   },
   {
    "duration": 228,
    "start_time": "2021-12-01T07:17:16.151Z"
   },
   {
    "duration": 12124,
    "start_time": "2021-12-01T07:17:35.353Z"
   },
   {
    "duration": 302,
    "start_time": "2021-12-01T07:17:57.680Z"
   },
   {
    "duration": 3696,
    "start_time": "2021-12-01T07:18:13.576Z"
   },
   {
    "duration": 3565,
    "start_time": "2021-12-01T07:18:22.480Z"
   },
   {
    "duration": 11860,
    "start_time": "2021-12-01T07:18:29.026Z"
   },
   {
    "duration": 11788,
    "start_time": "2021-12-01T07:18:50.063Z"
   },
   {
    "duration": 315,
    "start_time": "2021-12-01T07:19:02.366Z"
   },
   {
    "duration": 321,
    "start_time": "2021-12-01T07:19:28.506Z"
   },
   {
    "duration": 281,
    "start_time": "2021-12-01T07:19:30.844Z"
   },
   {
    "duration": 297,
    "start_time": "2021-12-01T07:19:42.205Z"
   },
   {
    "duration": 675,
    "start_time": "2021-12-01T07:22:56.114Z"
   },
   {
    "duration": 7726,
    "start_time": "2021-12-01T07:23:09.545Z"
   },
   {
    "duration": 7051,
    "start_time": "2021-12-01T07:24:29.325Z"
   },
   {
    "duration": 7189,
    "start_time": "2021-12-01T07:24:36.505Z"
   },
   {
    "duration": 5,
    "start_time": "2021-12-01T07:24:50.687Z"
   },
   {
    "duration": 9,
    "start_time": "2021-12-01T07:24:51.945Z"
   },
   {
    "duration": 4549,
    "start_time": "2021-12-01T07:25:07.957Z"
   },
   {
    "duration": 907,
    "start_time": "2021-12-01T07:25:27.706Z"
   },
   {
    "duration": 3543,
    "start_time": "2021-12-01T07:25:42.407Z"
   },
   {
    "duration": 13743,
    "start_time": "2021-12-01T07:26:37.735Z"
   },
   {
    "duration": 14987,
    "start_time": "2021-12-01T07:27:29.586Z"
   },
   {
    "duration": 3570,
    "start_time": "2021-12-01T07:30:37.501Z"
   },
   {
    "duration": 5,
    "start_time": "2021-12-01T07:30:48.436Z"
   },
   {
    "duration": 3540,
    "start_time": "2021-12-01T07:30:57.765Z"
   },
   {
    "duration": 36,
    "start_time": "2021-12-01T07:31:01.307Z"
   },
   {
    "duration": 274,
    "start_time": "2021-12-01T07:32:12.315Z"
   },
   {
    "duration": 5,
    "start_time": "2021-12-01T07:32:36.913Z"
   },
   {
    "duration": 265,
    "start_time": "2021-12-01T07:32:50.277Z"
   },
   {
    "duration": 3536,
    "start_time": "2021-12-01T07:32:55.316Z"
   },
   {
    "duration": 5,
    "start_time": "2021-12-01T07:32:58.854Z"
   },
   {
    "duration": 275,
    "start_time": "2021-12-01T07:33:04.436Z"
   },
   {
    "duration": 5,
    "start_time": "2021-12-01T07:33:04.811Z"
   },
   {
    "duration": 3583,
    "start_time": "2021-12-01T07:33:08.285Z"
   },
   {
    "duration": 5,
    "start_time": "2021-12-01T07:33:11.871Z"
   },
   {
    "duration": 3633,
    "start_time": "2021-12-01T07:33:34.925Z"
   },
   {
    "duration": 5,
    "start_time": "2021-12-01T07:33:38.560Z"
   },
   {
    "duration": 23,
    "start_time": "2021-12-01T07:33:42.621Z"
   },
   {
    "duration": 3983,
    "start_time": "2021-12-01T07:33:56.986Z"
   },
   {
    "duration": 23,
    "start_time": "2021-12-01T07:34:00.972Z"
   },
   {
    "duration": 3985,
    "start_time": "2021-12-01T07:34:08.261Z"
   },
   {
    "duration": 3814,
    "start_time": "2021-12-01T07:34:14.029Z"
   },
   {
    "duration": 24,
    "start_time": "2021-12-01T07:34:17.845Z"
   },
   {
    "duration": 3587,
    "start_time": "2021-12-01T07:34:50.576Z"
   },
   {
    "duration": 18338,
    "start_time": "2021-12-01T07:34:54.166Z"
   },
   {
    "duration": 787,
    "start_time": "2021-12-01T07:35:22.917Z"
   },
   {
    "duration": 5,
    "start_time": "2021-12-01T07:35:23.706Z"
   },
   {
    "duration": 68,
    "start_time": "2021-12-01T07:35:23.715Z"
   },
   {
    "duration": 14,
    "start_time": "2021-12-01T07:35:23.786Z"
   },
   {
    "duration": 56,
    "start_time": "2021-12-01T07:35:23.802Z"
   },
   {
    "duration": 6,
    "start_time": "2021-12-01T07:35:23.860Z"
   },
   {
    "duration": 9,
    "start_time": "2021-12-01T07:35:23.868Z"
   },
   {
    "duration": 48,
    "start_time": "2021-12-01T07:35:23.881Z"
   },
   {
    "duration": 14,
    "start_time": "2021-12-01T07:35:23.932Z"
   },
   {
    "duration": 8,
    "start_time": "2021-12-01T07:35:23.948Z"
   },
   {
    "duration": 14,
    "start_time": "2021-12-01T07:35:23.958Z"
   },
   {
    "duration": 22,
    "start_time": "2021-12-01T07:35:23.974Z"
   },
   {
    "duration": 84,
    "start_time": "2021-12-01T07:35:23.998Z"
   },
   {
    "duration": 50,
    "start_time": "2021-12-01T07:35:24.085Z"
   },
   {
    "duration": 29,
    "start_time": "2021-12-01T07:35:24.137Z"
   },
   {
    "duration": 24,
    "start_time": "2021-12-01T07:35:24.169Z"
   },
   {
    "duration": 34,
    "start_time": "2021-12-01T07:35:24.196Z"
   },
   {
    "duration": 20,
    "start_time": "2021-12-01T07:35:24.233Z"
   },
   {
    "duration": 26,
    "start_time": "2021-12-01T07:35:24.255Z"
   },
   {
    "duration": 16,
    "start_time": "2021-12-01T07:35:24.283Z"
   },
   {
    "duration": 29,
    "start_time": "2021-12-01T07:35:24.301Z"
   },
   {
    "duration": 13,
    "start_time": "2021-12-01T07:35:24.332Z"
   },
   {
    "duration": 17,
    "start_time": "2021-12-01T07:35:24.349Z"
   },
   {
    "duration": 4594,
    "start_time": "2021-12-01T07:35:24.369Z"
   },
   {
    "duration": 36,
    "start_time": "2021-12-01T07:35:28.966Z"
   },
   {
    "duration": 306,
    "start_time": "2021-12-01T07:36:39.379Z"
   },
   {
    "duration": 5,
    "start_time": "2021-12-01T07:36:39.780Z"
   },
   {
    "duration": 5,
    "start_time": "2021-12-01T07:36:55.828Z"
   },
   {
    "duration": 4,
    "start_time": "2021-12-01T07:37:00.302Z"
   },
   {
    "duration": 41,
    "start_time": "2021-12-01T07:37:00.309Z"
   },
   {
    "duration": 71,
    "start_time": "2021-12-01T07:37:00.353Z"
   },
   {
    "duration": 15,
    "start_time": "2021-12-01T07:37:00.429Z"
   },
   {
    "duration": 44,
    "start_time": "2021-12-01T07:37:00.447Z"
   },
   {
    "duration": 8,
    "start_time": "2021-12-01T07:37:00.494Z"
   },
   {
    "duration": 42,
    "start_time": "2021-12-01T07:37:00.504Z"
   },
   {
    "duration": 36,
    "start_time": "2021-12-01T07:37:00.548Z"
   },
   {
    "duration": 16,
    "start_time": "2021-12-01T07:37:00.588Z"
   },
   {
    "duration": 7,
    "start_time": "2021-12-01T07:37:00.607Z"
   },
   {
    "duration": 24,
    "start_time": "2021-12-01T07:37:00.617Z"
   },
   {
    "duration": 37,
    "start_time": "2021-12-01T07:37:00.643Z"
   },
   {
    "duration": 74,
    "start_time": "2021-12-01T07:37:00.683Z"
   },
   {
    "duration": 37,
    "start_time": "2021-12-01T07:37:00.760Z"
   },
   {
    "duration": 47,
    "start_time": "2021-12-01T07:37:00.801Z"
   },
   {
    "duration": 29,
    "start_time": "2021-12-01T07:37:00.851Z"
   },
   {
    "duration": 17,
    "start_time": "2021-12-01T07:37:00.883Z"
   },
   {
    "duration": 37,
    "start_time": "2021-12-01T07:37:00.902Z"
   },
   {
    "duration": 41,
    "start_time": "2021-12-01T07:37:00.941Z"
   },
   {
    "duration": 43,
    "start_time": "2021-12-01T07:37:00.985Z"
   },
   {
    "duration": 32,
    "start_time": "2021-12-01T07:37:01.031Z"
   },
   {
    "duration": 29,
    "start_time": "2021-12-01T07:37:01.066Z"
   },
   {
    "duration": 38,
    "start_time": "2021-12-01T07:37:01.098Z"
   },
   {
    "duration": 289,
    "start_time": "2021-12-01T07:37:03.319Z"
   },
   {
    "duration": 4532,
    "start_time": "2021-12-01T07:37:21.812Z"
   },
   {
    "duration": 24,
    "start_time": "2021-12-01T07:37:26.347Z"
   },
   {
    "duration": 3571,
    "start_time": "2021-12-01T07:37:40.962Z"
   },
   {
    "duration": 23,
    "start_time": "2021-12-01T07:37:44.536Z"
   },
   {
    "duration": 3586,
    "start_time": "2021-12-01T07:38:06.290Z"
   },
   {
    "duration": 23,
    "start_time": "2021-12-01T07:38:09.880Z"
   },
   {
    "duration": 3689,
    "start_time": "2021-12-01T07:38:33.241Z"
   },
   {
    "duration": 478,
    "start_time": "2021-12-01T07:38:36.933Z"
   },
   {
    "duration": 4536,
    "start_time": "2021-12-01T07:38:56.731Z"
   },
   {
    "duration": 481,
    "start_time": "2021-12-01T07:39:01.270Z"
   },
   {
    "duration": 4617,
    "start_time": "2021-12-01T07:39:08.190Z"
   },
   {
    "duration": 39,
    "start_time": "2021-12-01T07:39:12.810Z"
   },
   {
    "duration": 4657,
    "start_time": "2021-12-01T07:40:01.086Z"
   },
   {
    "duration": 25,
    "start_time": "2021-12-01T07:40:12.670Z"
   },
   {
    "duration": 8,
    "start_time": "2021-12-01T07:40:34.105Z"
   },
   {
    "duration": 990,
    "start_time": "2021-12-01T07:41:06.479Z"
   },
   {
    "duration": 8157,
    "start_time": "2021-12-01T07:41:10.795Z"
   },
   {
    "duration": 7,
    "start_time": "2021-12-01T07:41:31.628Z"
   },
   {
    "duration": 7,
    "start_time": "2021-12-01T07:41:42.851Z"
   },
   {
    "duration": 7,
    "start_time": "2021-12-01T07:41:44.770Z"
   },
   {
    "duration": 19,
    "start_time": "2021-12-01T07:41:53.549Z"
   },
   {
    "duration": 3760,
    "start_time": "2021-12-01T07:42:21.111Z"
   },
   {
    "duration": 20,
    "start_time": "2021-12-01T07:42:24.873Z"
   },
   {
    "duration": 6,
    "start_time": "2021-12-01T07:43:02.660Z"
   },
   {
    "duration": 414,
    "start_time": "2021-12-01T07:43:13.249Z"
   },
   {
    "duration": 285,
    "start_time": "2021-12-01T07:43:20.359Z"
   },
   {
    "duration": 8781,
    "start_time": "2021-12-01T07:43:25.811Z"
   },
   {
    "duration": 7625,
    "start_time": "2021-12-01T07:43:38.450Z"
   },
   {
    "duration": 18,
    "start_time": "2021-12-01T07:43:51.393Z"
   },
   {
    "duration": 1816,
    "start_time": "2021-12-01T07:44:57.518Z"
   },
   {
    "duration": 17,
    "start_time": "2021-12-01T07:45:32.851Z"
   },
   {
    "duration": 13,
    "start_time": "2021-12-01T07:45:44.213Z"
   },
   {
    "duration": 7,
    "start_time": "2021-12-01T07:46:20.250Z"
   },
   {
    "duration": 4014,
    "start_time": "2021-12-01T07:48:38.370Z"
   },
   {
    "duration": 12,
    "start_time": "2021-12-01T07:48:42.386Z"
   },
   {
    "duration": 13,
    "start_time": "2021-12-01T07:53:06.575Z"
   },
   {
    "duration": 17,
    "start_time": "2021-12-01T08:02:55.006Z"
   },
   {
    "duration": 20,
    "start_time": "2021-12-01T08:03:10.415Z"
   },
   {
    "duration": 1010,
    "start_time": "2021-12-01T08:04:04.810Z"
   },
   {
    "duration": 1006,
    "start_time": "2021-12-01T08:04:25.383Z"
   },
   {
    "duration": 3877,
    "start_time": "2021-12-01T08:04:30.591Z"
   },
   {
    "duration": 3,
    "start_time": "2021-12-01T08:04:37.539Z"
   },
   {
    "duration": 9,
    "start_time": "2021-12-01T08:04:37.545Z"
   },
   {
    "duration": 70,
    "start_time": "2021-12-01T08:04:37.557Z"
   },
   {
    "duration": 14,
    "start_time": "2021-12-01T08:04:37.629Z"
   },
   {
    "duration": 31,
    "start_time": "2021-12-01T08:04:37.646Z"
   },
   {
    "duration": 6,
    "start_time": "2021-12-01T08:04:37.680Z"
   },
   {
    "duration": 47,
    "start_time": "2021-12-01T08:04:37.688Z"
   },
   {
    "duration": 15,
    "start_time": "2021-12-01T08:04:37.737Z"
   },
   {
    "duration": 14,
    "start_time": "2021-12-01T08:04:37.756Z"
   },
   {
    "duration": 5,
    "start_time": "2021-12-01T08:04:37.773Z"
   },
   {
    "duration": 8,
    "start_time": "2021-12-01T08:04:37.780Z"
   },
   {
    "duration": 49,
    "start_time": "2021-12-01T08:04:37.790Z"
   },
   {
    "duration": 7010,
    "start_time": "2021-12-01T08:04:51.187Z"
   },
   {
    "duration": 19,
    "start_time": "2021-12-01T08:05:02.496Z"
   },
   {
    "duration": 6,
    "start_time": "2021-12-01T08:05:19.706Z"
   },
   {
    "duration": 18,
    "start_time": "2021-12-01T08:05:29.257Z"
   },
   {
    "duration": 7,
    "start_time": "2021-12-01T08:05:40.090Z"
   },
   {
    "duration": 7,
    "start_time": "2021-12-01T08:05:55.148Z"
   },
   {
    "duration": 102,
    "start_time": "2021-12-01T08:14:09.870Z"
   },
   {
    "duration": 7,
    "start_time": "2021-12-01T08:15:45.482Z"
   },
   {
    "duration": 11,
    "start_time": "2021-12-01T08:21:11.588Z"
   },
   {
    "duration": 277,
    "start_time": "2021-12-01T08:22:04.201Z"
   },
   {
    "duration": 10,
    "start_time": "2021-12-01T08:22:13.735Z"
   },
   {
    "duration": 9,
    "start_time": "2021-12-01T08:22:18.749Z"
   },
   {
    "duration": 12,
    "start_time": "2021-12-01T08:22:21.847Z"
   },
   {
    "duration": 12,
    "start_time": "2021-12-01T08:23:39.295Z"
   },
   {
    "duration": 291,
    "start_time": "2021-12-01T08:24:30.683Z"
   },
   {
    "duration": 258,
    "start_time": "2021-12-01T08:24:41.365Z"
   },
   {
    "duration": 278,
    "start_time": "2021-12-01T08:24:50.749Z"
   },
   {
    "duration": 11,
    "start_time": "2021-12-01T08:25:00.054Z"
   },
   {
    "duration": 90,
    "start_time": "2021-12-01T08:25:36.864Z"
   },
   {
    "duration": 83,
    "start_time": "2021-12-01T08:25:40.134Z"
   },
   {
    "duration": 280,
    "start_time": "2021-12-01T08:25:50.004Z"
   },
   {
    "duration": 359,
    "start_time": "2021-12-01T08:25:55.002Z"
   },
   {
    "duration": 14,
    "start_time": "2021-12-01T08:26:00.944Z"
   },
   {
    "duration": 99,
    "start_time": "2021-12-01T08:26:44.786Z"
   },
   {
    "duration": 99,
    "start_time": "2021-12-01T08:27:01.536Z"
   },
   {
    "duration": 297,
    "start_time": "2021-12-01T08:27:15.576Z"
   },
   {
    "duration": 11,
    "start_time": "2021-12-01T08:27:36.197Z"
   },
   {
    "duration": 91,
    "start_time": "2021-12-01T08:27:46.356Z"
   },
   {
    "duration": 31,
    "start_time": "2021-12-01T08:27:49.324Z"
   },
   {
    "duration": 13,
    "start_time": "2021-12-01T08:28:11.631Z"
   },
   {
    "duration": 13,
    "start_time": "2021-12-01T08:28:23.656Z"
   },
   {
    "duration": 13,
    "start_time": "2021-12-01T08:28:41.448Z"
   },
   {
    "duration": 12,
    "start_time": "2021-12-01T08:29:30.297Z"
   },
   {
    "duration": 14,
    "start_time": "2021-12-01T08:32:41.494Z"
   },
   {
    "duration": 15,
    "start_time": "2021-12-01T08:32:56.117Z"
   },
   {
    "duration": 14,
    "start_time": "2021-12-01T08:33:29.604Z"
   },
   {
    "duration": 9343,
    "start_time": "2021-12-01T08:37:05.920Z"
   },
   {
    "duration": 10,
    "start_time": "2021-12-01T08:37:16.923Z"
   },
   {
    "duration": 11,
    "start_time": "2021-12-01T08:37:46.373Z"
   },
   {
    "duration": 23,
    "start_time": "2021-12-01T08:38:26.979Z"
   },
   {
    "duration": 18,
    "start_time": "2021-12-01T08:38:33.236Z"
   },
   {
    "duration": 20,
    "start_time": "2021-12-01T08:38:38.716Z"
   },
   {
    "duration": 22,
    "start_time": "2021-12-01T08:39:08.106Z"
   },
   {
    "duration": 22,
    "start_time": "2021-12-01T08:39:37.877Z"
   },
   {
    "duration": 12,
    "start_time": "2021-12-01T08:40:31.580Z"
   },
   {
    "duration": 10,
    "start_time": "2021-12-01T08:40:38.922Z"
   },
   {
    "duration": 40,
    "start_time": "2021-12-01T08:48:08.558Z"
   },
   {
    "duration": 36,
    "start_time": "2021-12-01T08:48:12.100Z"
   },
   {
    "duration": 22,
    "start_time": "2021-12-01T08:48:21.701Z"
   },
   {
    "duration": 24,
    "start_time": "2021-12-01T08:48:33.932Z"
   },
   {
    "duration": 24,
    "start_time": "2021-12-01T09:05:22.321Z"
   },
   {
    "duration": 8,
    "start_time": "2021-12-01T09:05:31.525Z"
   },
   {
    "duration": 8,
    "start_time": "2021-12-01T09:05:37.084Z"
   },
   {
    "duration": 7,
    "start_time": "2021-12-01T09:05:46.384Z"
   },
   {
    "duration": 3,
    "start_time": "2021-12-01T09:05:47.118Z"
   },
   {
    "duration": 7,
    "start_time": "2021-12-01T09:05:58.193Z"
   },
   {
    "duration": 7,
    "start_time": "2021-12-01T09:06:22.289Z"
   },
   {
    "duration": 12,
    "start_time": "2021-12-01T09:07:05.339Z"
   },
   {
    "duration": 15,
    "start_time": "2021-12-01T09:07:05.844Z"
   },
   {
    "duration": 11,
    "start_time": "2021-12-01T09:07:06.778Z"
   },
   {
    "duration": 8,
    "start_time": "2021-12-01T09:07:12.513Z"
   },
   {
    "duration": 7,
    "start_time": "2021-12-01T09:07:13.075Z"
   },
   {
    "duration": 361,
    "start_time": "2021-12-01T09:07:51.640Z"
   },
   {
    "duration": 12,
    "start_time": "2021-12-01T09:07:54.850Z"
   },
   {
    "duration": 10,
    "start_time": "2021-12-01T09:08:04.041Z"
   },
   {
    "duration": 14,
    "start_time": "2021-12-01T09:08:12.729Z"
   },
   {
    "duration": 12,
    "start_time": "2021-12-01T09:08:30.240Z"
   },
   {
    "duration": 7,
    "start_time": "2021-12-01T09:08:40.875Z"
   },
   {
    "duration": 3,
    "start_time": "2021-12-01T09:08:48.244Z"
   },
   {
    "duration": 11,
    "start_time": "2021-12-01T09:08:48.250Z"
   },
   {
    "duration": 68,
    "start_time": "2021-12-01T09:08:48.264Z"
   },
   {
    "duration": 15,
    "start_time": "2021-12-01T09:08:48.335Z"
   },
   {
    "duration": 33,
    "start_time": "2021-12-01T09:08:48.352Z"
   },
   {
    "duration": 11,
    "start_time": "2021-12-01T09:08:48.388Z"
   },
   {
    "duration": 34,
    "start_time": "2021-12-01T09:08:48.402Z"
   },
   {
    "duration": 14,
    "start_time": "2021-12-01T09:08:48.439Z"
   },
   {
    "duration": 14,
    "start_time": "2021-12-01T09:08:48.455Z"
   },
   {
    "duration": 5,
    "start_time": "2021-12-01T09:08:48.471Z"
   },
   {
    "duration": 10,
    "start_time": "2021-12-01T09:08:48.478Z"
   },
   {
    "duration": 50,
    "start_time": "2021-12-01T09:08:48.491Z"
   },
   {
    "duration": 9,
    "start_time": "2021-12-01T09:08:53.525Z"
   },
   {
    "duration": 12,
    "start_time": "2021-12-01T09:08:55.820Z"
   },
   {
    "duration": 13,
    "start_time": "2021-12-01T09:08:56.151Z"
   },
   {
    "duration": 33,
    "start_time": "2021-12-01T09:08:57.211Z"
   },
   {
    "duration": 269,
    "start_time": "2021-12-01T09:09:19.689Z"
   },
   {
    "duration": 15,
    "start_time": "2021-12-01T09:09:22.586Z"
   },
   {
    "duration": 310,
    "start_time": "2021-12-01T09:09:37.354Z"
   },
   {
    "duration": 9,
    "start_time": "2021-12-01T09:09:46.430Z"
   },
   {
    "duration": 8,
    "start_time": "2021-12-01T09:09:52.000Z"
   },
   {
    "duration": 6,
    "start_time": "2021-12-01T09:09:55.362Z"
   },
   {
    "duration": 11,
    "start_time": "2021-12-01T09:10:20.615Z"
   },
   {
    "duration": 7,
    "start_time": "2021-12-01T09:10:21.108Z"
   },
   {
    "duration": 7,
    "start_time": "2021-12-01T09:10:31.873Z"
   },
   {
    "duration": 72,
    "start_time": "2021-12-01T09:10:53.536Z"
   },
   {
    "duration": 48,
    "start_time": "2021-12-01T09:10:53.610Z"
   },
   {
    "duration": 29,
    "start_time": "2021-12-01T09:10:53.660Z"
   },
   {
    "duration": 50,
    "start_time": "2021-12-01T09:10:53.691Z"
   },
   {
    "duration": 12,
    "start_time": "2021-12-01T09:10:53.743Z"
   },
   {
    "duration": 19,
    "start_time": "2021-12-01T09:10:53.757Z"
   },
   {
    "duration": 14,
    "start_time": "2021-12-01T09:10:53.778Z"
   },
   {
    "duration": 41,
    "start_time": "2021-12-01T09:10:53.795Z"
   },
   {
    "duration": 15,
    "start_time": "2021-12-01T09:10:53.842Z"
   },
   {
    "duration": 7,
    "start_time": "2021-12-01T09:10:53.860Z"
   },
   {
    "duration": 15,
    "start_time": "2021-12-01T09:10:53.870Z"
   },
   {
    "duration": 4677,
    "start_time": "2021-12-01T09:10:53.930Z"
   },
   {
    "duration": 31,
    "start_time": "2021-12-01T09:10:58.610Z"
   },
   {
    "duration": 14,
    "start_time": "2021-12-01T09:10:58.644Z"
   },
   {
    "duration": 5,
    "start_time": "2021-12-01T09:10:58.660Z"
   },
   {
    "duration": 88,
    "start_time": "2021-12-01T09:10:59.001Z"
   },
   {
    "duration": 43,
    "start_time": "2021-12-01T09:11:02.733Z"
   },
   {
    "duration": 55,
    "start_time": "2021-12-01T09:11:02.779Z"
   },
   {
    "duration": 39,
    "start_time": "2021-12-01T09:11:02.837Z"
   },
   {
    "duration": 11,
    "start_time": "2021-12-01T09:11:02.878Z"
   },
   {
    "duration": 39,
    "start_time": "2021-12-01T09:11:02.892Z"
   },
   {
    "duration": 11,
    "start_time": "2021-12-01T09:11:02.933Z"
   },
   {
    "duration": 18,
    "start_time": "2021-12-01T09:11:02.947Z"
   },
   {
    "duration": 26,
    "start_time": "2021-12-01T09:11:02.967Z"
   },
   {
    "duration": 12,
    "start_time": "2021-12-01T09:11:02.997Z"
   },
   {
    "duration": 26,
    "start_time": "2021-12-01T09:11:03.011Z"
   },
   {
    "duration": 3596,
    "start_time": "2021-12-01T09:11:03.040Z"
   },
   {
    "duration": 12,
    "start_time": "2021-12-01T09:11:06.639Z"
   },
   {
    "duration": 19,
    "start_time": "2021-12-01T09:11:06.653Z"
   },
   {
    "duration": 12,
    "start_time": "2021-12-01T09:11:06.674Z"
   },
   {
    "duration": 13,
    "start_time": "2021-12-01T09:13:34.154Z"
   },
   {
    "duration": 11,
    "start_time": "2021-12-01T09:13:51.744Z"
   },
   {
    "duration": 3717,
    "start_time": "2021-12-01T09:14:04.746Z"
   },
   {
    "duration": 11,
    "start_time": "2021-12-01T09:14:39.034Z"
   },
   {
    "duration": 12,
    "start_time": "2021-12-01T09:15:06.660Z"
   },
   {
    "duration": 10,
    "start_time": "2021-12-01T09:15:31.174Z"
   },
   {
    "duration": 12,
    "start_time": "2021-12-01T09:18:32.919Z"
   },
   {
    "duration": 32,
    "start_time": "2021-12-01T09:18:48.379Z"
   },
   {
    "duration": 28,
    "start_time": "2021-12-01T09:18:52.460Z"
   },
   {
    "duration": 27,
    "start_time": "2021-12-01T09:18:57.169Z"
   },
   {
    "duration": 27,
    "start_time": "2021-12-01T09:19:02.766Z"
   },
   {
    "duration": 26,
    "start_time": "2021-12-01T09:19:25.418Z"
   },
   {
    "duration": 11,
    "start_time": "2021-12-01T09:24:39.069Z"
   },
   {
    "duration": 25,
    "start_time": "2021-12-01T09:26:40.517Z"
   },
   {
    "duration": 11,
    "start_time": "2021-12-01T09:26:49.113Z"
   },
   {
    "duration": 427,
    "start_time": "2021-12-01T09:28:47.288Z"
   },
   {
    "duration": 13,
    "start_time": "2021-12-01T09:28:48.005Z"
   },
   {
    "duration": 286,
    "start_time": "2021-12-01T09:28:54.326Z"
   },
   {
    "duration": 46,
    "start_time": "2021-12-01T09:28:57.065Z"
   },
   {
    "duration": 11,
    "start_time": "2021-12-01T09:28:57.706Z"
   },
   {
    "duration": 3818,
    "start_time": "2021-12-01T09:29:39.796Z"
   },
   {
    "duration": 14,
    "start_time": "2021-12-01T09:29:43.616Z"
   },
   {
    "duration": 21371,
    "start_time": "2021-12-01T09:30:02.133Z"
   },
   {
    "duration": 23,
    "start_time": "2021-12-01T09:30:23.508Z"
   },
   {
    "duration": 10739,
    "start_time": "2021-12-01T09:30:37.955Z"
   },
   {
    "duration": 11,
    "start_time": "2021-12-01T09:30:48.696Z"
   },
   {
    "duration": 10876,
    "start_time": "2021-12-01T09:31:13.564Z"
   },
   {
    "duration": 10,
    "start_time": "2021-12-01T09:31:24.443Z"
   },
   {
    "duration": 11049,
    "start_time": "2021-12-01T09:31:56.760Z"
   },
   {
    "duration": 17,
    "start_time": "2021-12-01T09:32:07.812Z"
   },
   {
    "duration": 5,
    "start_time": "2021-12-01T09:32:07.833Z"
   },
   {
    "duration": 27,
    "start_time": "2021-12-01T09:32:07.841Z"
   },
   {
    "duration": 90,
    "start_time": "2021-12-01T09:32:07.870Z"
   },
   {
    "duration": 17,
    "start_time": "2021-12-01T09:32:07.963Z"
   },
   {
    "duration": 59,
    "start_time": "2021-12-01T09:32:07.983Z"
   },
   {
    "duration": 8,
    "start_time": "2021-12-01T09:32:08.048Z"
   },
   {
    "duration": 11,
    "start_time": "2021-12-01T09:32:08.060Z"
   },
   {
    "duration": 57,
    "start_time": "2021-12-01T09:32:08.074Z"
   },
   {
    "duration": 17,
    "start_time": "2021-12-01T09:32:08.134Z"
   },
   {
    "duration": 12,
    "start_time": "2021-12-01T09:32:08.154Z"
   },
   {
    "duration": 20,
    "start_time": "2021-12-01T09:32:08.169Z"
   },
   {
    "duration": 49,
    "start_time": "2021-12-01T09:32:08.192Z"
   },
   {
    "duration": 12,
    "start_time": "2021-12-01T09:32:08.243Z"
   },
   {
    "duration": 11,
    "start_time": "2021-12-01T09:32:08.257Z"
   },
   {
    "duration": 311,
    "start_time": "2021-12-01T09:32:08.271Z"
   },
   {
    "duration": 1057,
    "start_time": "2021-12-01T09:32:07.529Z"
   },
   {
    "duration": 1053,
    "start_time": "2021-12-01T09:32:07.534Z"
   },
   {
    "duration": 1040,
    "start_time": "2021-12-01T09:32:07.549Z"
   },
   {
    "duration": 1035,
    "start_time": "2021-12-01T09:32:07.557Z"
   },
   {
    "duration": 1029,
    "start_time": "2021-12-01T09:32:07.564Z"
   },
   {
    "duration": 1025,
    "start_time": "2021-12-01T09:32:07.570Z"
   },
   {
    "duration": 1018,
    "start_time": "2021-12-01T09:32:07.578Z"
   },
   {
    "duration": 1014,
    "start_time": "2021-12-01T09:32:07.584Z"
   },
   {
    "duration": 1011,
    "start_time": "2021-12-01T09:32:07.588Z"
   },
   {
    "duration": 1005,
    "start_time": "2021-12-01T09:32:07.596Z"
   },
   {
    "duration": 990,
    "start_time": "2021-12-01T09:32:07.612Z"
   },
   {
    "duration": 986,
    "start_time": "2021-12-01T09:32:07.618Z"
   },
   {
    "duration": 982,
    "start_time": "2021-12-01T09:32:07.623Z"
   },
   {
    "duration": 979,
    "start_time": "2021-12-01T09:32:07.628Z"
   },
   {
    "duration": 973,
    "start_time": "2021-12-01T09:32:07.635Z"
   },
   {
    "duration": 968,
    "start_time": "2021-12-01T09:32:07.642Z"
   },
   {
    "duration": 962,
    "start_time": "2021-12-01T09:32:07.649Z"
   },
   {
    "duration": 957,
    "start_time": "2021-12-01T09:32:07.655Z"
   },
   {
    "duration": 952,
    "start_time": "2021-12-01T09:32:07.662Z"
   },
   {
    "duration": 947,
    "start_time": "2021-12-01T09:32:07.669Z"
   },
   {
    "duration": 954,
    "start_time": "2021-12-01T09:32:07.675Z"
   },
   {
    "duration": 948,
    "start_time": "2021-12-01T09:32:07.682Z"
   },
   {
    "duration": 944,
    "start_time": "2021-12-01T09:32:07.688Z"
   },
   {
    "duration": 6762,
    "start_time": "2021-12-01T09:32:09.864Z"
   },
   {
    "duration": 1031,
    "start_time": "2021-12-01T09:32:15.597Z"
   },
   {
    "duration": 7843,
    "start_time": "2021-12-01T09:32:33.539Z"
   },
   {
    "duration": 7031,
    "start_time": "2021-12-01T09:32:48.430Z"
   },
   {
    "duration": 4,
    "start_time": "2021-12-01T09:33:07.904Z"
   },
   {
    "duration": 13,
    "start_time": "2021-12-01T09:33:07.910Z"
   },
   {
    "duration": 70,
    "start_time": "2021-12-01T09:33:07.926Z"
   },
   {
    "duration": 31,
    "start_time": "2021-12-01T09:33:07.999Z"
   },
   {
    "duration": 31,
    "start_time": "2021-12-01T09:33:08.033Z"
   },
   {
    "duration": 17,
    "start_time": "2021-12-01T09:33:08.067Z"
   },
   {
    "duration": 11,
    "start_time": "2021-12-01T09:33:08.086Z"
   },
   {
    "duration": 41,
    "start_time": "2021-12-01T09:33:08.099Z"
   },
   {
    "duration": 15,
    "start_time": "2021-12-01T09:33:08.143Z"
   },
   {
    "duration": 11,
    "start_time": "2021-12-01T09:33:08.161Z"
   },
   {
    "duration": 17,
    "start_time": "2021-12-01T09:33:08.174Z"
   },
   {
    "duration": 47,
    "start_time": "2021-12-01T09:33:08.193Z"
   },
   {
    "duration": 10,
    "start_time": "2021-12-01T09:33:08.243Z"
   },
   {
    "duration": 6,
    "start_time": "2021-12-01T09:33:08.255Z"
   },
   {
    "duration": 295,
    "start_time": "2021-12-01T09:33:08.264Z"
   },
   {
    "duration": 1065,
    "start_time": "2021-12-01T09:33:07.497Z"
   },
   {
    "duration": 1063,
    "start_time": "2021-12-01T09:33:07.501Z"
   },
   {
    "duration": 1059,
    "start_time": "2021-12-01T09:33:07.506Z"
   },
   {
    "duration": 1056,
    "start_time": "2021-12-01T09:33:07.510Z"
   },
   {
    "duration": 1053,
    "start_time": "2021-12-01T09:33:07.514Z"
   },
   {
    "duration": 1051,
    "start_time": "2021-12-01T09:33:07.517Z"
   },
   {
    "duration": 1048,
    "start_time": "2021-12-01T09:33:07.522Z"
   },
   {
    "duration": 1028,
    "start_time": "2021-12-01T09:33:07.543Z"
   },
   {
    "duration": 1020,
    "start_time": "2021-12-01T09:33:07.553Z"
   },
   {
    "duration": 1017,
    "start_time": "2021-12-01T09:33:07.557Z"
   },
   {
    "duration": 1014,
    "start_time": "2021-12-01T09:33:07.561Z"
   },
   {
    "duration": 1011,
    "start_time": "2021-12-01T09:33:07.565Z"
   },
   {
    "duration": 1007,
    "start_time": "2021-12-01T09:33:07.570Z"
   },
   {
    "duration": 1004,
    "start_time": "2021-12-01T09:33:07.575Z"
   },
   {
    "duration": 1001,
    "start_time": "2021-12-01T09:33:07.579Z"
   },
   {
    "duration": 998,
    "start_time": "2021-12-01T09:33:07.584Z"
   },
   {
    "duration": 995,
    "start_time": "2021-12-01T09:33:07.588Z"
   },
   {
    "duration": 992,
    "start_time": "2021-12-01T09:33:07.592Z"
   },
   {
    "duration": 989,
    "start_time": "2021-12-01T09:33:07.596Z"
   },
   {
    "duration": 986,
    "start_time": "2021-12-01T09:33:07.600Z"
   },
   {
    "duration": 983,
    "start_time": "2021-12-01T09:33:07.604Z"
   },
   {
    "duration": 981,
    "start_time": "2021-12-01T09:33:07.607Z"
   },
   {
    "duration": 26,
    "start_time": "2021-12-01T09:33:16.990Z"
   },
   {
    "duration": 6938,
    "start_time": "2021-12-01T09:33:21.766Z"
   },
   {
    "duration": 4,
    "start_time": "2021-12-01T09:33:52.491Z"
   },
   {
    "duration": 11,
    "start_time": "2021-12-01T09:33:52.498Z"
   },
   {
    "duration": 67,
    "start_time": "2021-12-01T09:33:52.512Z"
   },
   {
    "duration": 15,
    "start_time": "2021-12-01T09:33:52.581Z"
   },
   {
    "duration": 59,
    "start_time": "2021-12-01T09:33:52.599Z"
   },
   {
    "duration": 6,
    "start_time": "2021-12-01T09:33:52.661Z"
   },
   {
    "duration": 11,
    "start_time": "2021-12-01T09:33:52.670Z"
   },
   {
    "duration": 47,
    "start_time": "2021-12-01T09:33:52.683Z"
   },
   {
    "duration": 15,
    "start_time": "2021-12-01T09:33:52.735Z"
   },
   {
    "duration": 11,
    "start_time": "2021-12-01T09:33:52.754Z"
   },
   {
    "duration": 14,
    "start_time": "2021-12-01T09:33:52.768Z"
   },
   {
    "duration": 54,
    "start_time": "2021-12-01T09:33:52.785Z"
   },
   {
    "duration": 10,
    "start_time": "2021-12-01T09:33:52.841Z"
   },
   {
    "duration": 8,
    "start_time": "2021-12-01T09:33:52.853Z"
   },
   {
    "duration": 295,
    "start_time": "2021-12-01T09:33:52.864Z"
   },
   {
    "duration": 1065,
    "start_time": "2021-12-01T09:33:52.097Z"
   },
   {
    "duration": 1063,
    "start_time": "2021-12-01T09:33:52.101Z"
   },
   {
    "duration": 1060,
    "start_time": "2021-12-01T09:33:52.105Z"
   },
   {
    "duration": 1057,
    "start_time": "2021-12-01T09:33:52.109Z"
   },
   {
    "duration": 1053,
    "start_time": "2021-12-01T09:33:52.114Z"
   },
   {
    "duration": 1051,
    "start_time": "2021-12-01T09:33:52.118Z"
   },
   {
    "duration": 1039,
    "start_time": "2021-12-01T09:33:52.131Z"
   },
   {
    "duration": 1036,
    "start_time": "2021-12-01T09:33:52.135Z"
   },
   {
    "duration": 1033,
    "start_time": "2021-12-01T09:33:52.140Z"
   },
   {
    "duration": 1031,
    "start_time": "2021-12-01T09:33:52.144Z"
   },
   {
    "duration": 1028,
    "start_time": "2021-12-01T09:33:52.148Z"
   },
   {
    "duration": 1024,
    "start_time": "2021-12-01T09:33:52.153Z"
   },
   {
    "duration": 1023,
    "start_time": "2021-12-01T09:33:52.156Z"
   },
   {
    "duration": 1019,
    "start_time": "2021-12-01T09:33:52.161Z"
   },
   {
    "duration": 1017,
    "start_time": "2021-12-01T09:33:52.164Z"
   },
   {
    "duration": 1007,
    "start_time": "2021-12-01T09:33:52.176Z"
   },
   {
    "duration": 1004,
    "start_time": "2021-12-01T09:33:52.180Z"
   },
   {
    "duration": 999,
    "start_time": "2021-12-01T09:33:52.186Z"
   },
   {
    "duration": 997,
    "start_time": "2021-12-01T09:33:52.190Z"
   },
   {
    "duration": 994,
    "start_time": "2021-12-01T09:33:52.194Z"
   },
   {
    "duration": 992,
    "start_time": "2021-12-01T09:33:52.197Z"
   },
   {
    "duration": 989,
    "start_time": "2021-12-01T09:33:52.202Z"
   },
   {
    "duration": 986,
    "start_time": "2021-12-01T09:33:52.206Z"
   },
   {
    "duration": 983,
    "start_time": "2021-12-01T09:33:52.210Z"
   },
   {
    "duration": 1014,
    "start_time": "2021-12-01T09:33:52.214Z"
   },
   {
    "duration": 1011,
    "start_time": "2021-12-01T09:33:52.218Z"
   },
   {
    "duration": 1008,
    "start_time": "2021-12-01T09:33:52.223Z"
   },
   {
    "duration": 326,
    "start_time": "2021-12-01T09:34:06.050Z"
   },
   {
    "duration": 3,
    "start_time": "2021-12-01T09:34:19.700Z"
   },
   {
    "duration": 4,
    "start_time": "2021-12-01T09:34:20.110Z"
   },
   {
    "duration": 64,
    "start_time": "2021-12-01T09:34:20.685Z"
   },
   {
    "duration": 16,
    "start_time": "2021-12-01T09:34:21.330Z"
   },
   {
    "duration": 33,
    "start_time": "2021-12-01T09:34:23.190Z"
   },
   {
    "duration": 3,
    "start_time": "2021-12-01T09:34:35.214Z"
   },
   {
    "duration": 9,
    "start_time": "2021-12-01T09:34:35.221Z"
   },
   {
    "duration": 69,
    "start_time": "2021-12-01T09:34:35.234Z"
   },
   {
    "duration": 40,
    "start_time": "2021-12-01T09:34:35.306Z"
   },
   {
    "duration": 35,
    "start_time": "2021-12-01T09:34:35.349Z"
   },
   {
    "duration": 8,
    "start_time": "2021-12-01T09:34:35.428Z"
   },
   {
    "duration": 13,
    "start_time": "2021-12-01T09:34:35.439Z"
   },
   {
    "duration": 15,
    "start_time": "2021-12-01T09:34:35.457Z"
   },
   {
    "duration": 15,
    "start_time": "2021-12-01T09:34:35.475Z"
   },
   {
    "duration": 12,
    "start_time": "2021-12-01T09:34:35.528Z"
   },
   {
    "duration": 19,
    "start_time": "2021-12-01T09:34:35.542Z"
   },
   {
    "duration": 17,
    "start_time": "2021-12-01T09:34:35.563Z"
   },
   {
    "duration": 9,
    "start_time": "2021-12-01T09:34:35.582Z"
   },
   {
    "duration": 37,
    "start_time": "2021-12-01T09:34:35.594Z"
   },
   {
    "duration": 335,
    "start_time": "2021-12-01T09:34:35.633Z"
   },
   {
    "duration": 1049,
    "start_time": "2021-12-01T09:34:34.923Z"
   },
   {
    "duration": 1047,
    "start_time": "2021-12-01T09:34:34.927Z"
   },
   {
    "duration": 1045,
    "start_time": "2021-12-01T09:34:34.930Z"
   },
   {
    "duration": 1042,
    "start_time": "2021-12-01T09:34:34.934Z"
   },
   {
    "duration": 1039,
    "start_time": "2021-12-01T09:34:34.939Z"
   },
   {
    "duration": 1028,
    "start_time": "2021-12-01T09:34:34.951Z"
   },
   {
    "duration": 1025,
    "start_time": "2021-12-01T09:34:34.955Z"
   },
   {
    "duration": 1023,
    "start_time": "2021-12-01T09:34:34.959Z"
   },
   {
    "duration": 1020,
    "start_time": "2021-12-01T09:34:34.963Z"
   },
   {
    "duration": 1010,
    "start_time": "2021-12-01T09:34:34.974Z"
   },
   {
    "duration": 1008,
    "start_time": "2021-12-01T09:34:34.978Z"
   },
   {
    "duration": 1005,
    "start_time": "2021-12-01T09:34:34.982Z"
   },
   {
    "duration": 1002,
    "start_time": "2021-12-01T09:34:34.986Z"
   },
   {
    "duration": 1000,
    "start_time": "2021-12-01T09:34:34.990Z"
   },
   {
    "duration": 997,
    "start_time": "2021-12-01T09:34:34.994Z"
   },
   {
    "duration": 993,
    "start_time": "2021-12-01T09:34:34.999Z"
   },
   {
    "duration": 991,
    "start_time": "2021-12-01T09:34:35.003Z"
   },
   {
    "duration": 989,
    "start_time": "2021-12-01T09:34:35.006Z"
   },
   {
    "duration": 986,
    "start_time": "2021-12-01T09:34:35.010Z"
   },
   {
    "duration": 984,
    "start_time": "2021-12-01T09:34:35.014Z"
   },
   {
    "duration": 981,
    "start_time": "2021-12-01T09:34:35.018Z"
   },
   {
    "duration": 979,
    "start_time": "2021-12-01T09:34:35.022Z"
   },
   {
    "duration": 977,
    "start_time": "2021-12-01T09:34:35.025Z"
   },
   {
    "duration": 974,
    "start_time": "2021-12-01T09:34:35.030Z"
   },
   {
    "duration": 971,
    "start_time": "2021-12-01T09:34:35.034Z"
   },
   {
    "duration": 969,
    "start_time": "2021-12-01T09:34:35.038Z"
   },
   {
    "duration": 989,
    "start_time": "2021-12-01T09:34:35.042Z"
   },
   {
    "duration": 672,
    "start_time": "2021-12-01T09:35:29.922Z"
   },
   {
    "duration": 4,
    "start_time": "2021-12-01T09:35:30.596Z"
   },
   {
    "duration": 73,
    "start_time": "2021-12-01T09:35:30.609Z"
   },
   {
    "duration": 11,
    "start_time": "2021-12-01T09:35:30.684Z"
   },
   {
    "duration": 38,
    "start_time": "2021-12-01T09:35:30.697Z"
   },
   {
    "duration": 5,
    "start_time": "2021-12-01T09:35:30.736Z"
   },
   {
    "duration": 14,
    "start_time": "2021-12-01T09:35:30.743Z"
   },
   {
    "duration": 21,
    "start_time": "2021-12-01T09:35:30.759Z"
   },
   {
    "duration": 10,
    "start_time": "2021-12-01T09:35:30.783Z"
   },
   {
    "duration": 14,
    "start_time": "2021-12-01T09:35:30.808Z"
   },
   {
    "duration": 14,
    "start_time": "2021-12-01T09:35:30.824Z"
   },
   {
    "duration": 15,
    "start_time": "2021-12-01T09:35:30.840Z"
   },
   {
    "duration": 22,
    "start_time": "2021-12-01T09:35:30.857Z"
   },
   {
    "duration": 33,
    "start_time": "2021-12-01T09:35:30.881Z"
   },
   {
    "duration": 467,
    "start_time": "2021-12-01T09:35:30.917Z"
   },
   {
    "duration": 1023,
    "start_time": "2021-12-01T09:35:30.363Z"
   },
   {
    "duration": 1018,
    "start_time": "2021-12-01T09:35:30.369Z"
   },
   {
    "duration": 1015,
    "start_time": "2021-12-01T09:35:30.373Z"
   },
   {
    "duration": 1011,
    "start_time": "2021-12-01T09:35:30.378Z"
   },
   {
    "duration": 1008,
    "start_time": "2021-12-01T09:35:30.382Z"
   },
   {
    "duration": 997,
    "start_time": "2021-12-01T09:35:30.394Z"
   },
   {
    "duration": 993,
    "start_time": "2021-12-01T09:35:30.399Z"
   },
   {
    "duration": 987,
    "start_time": "2021-12-01T09:35:30.405Z"
   },
   {
    "duration": 984,
    "start_time": "2021-12-01T09:35:30.409Z"
   },
   {
    "duration": 982,
    "start_time": "2021-12-01T09:35:30.413Z"
   },
   {
    "duration": 978,
    "start_time": "2021-12-01T09:35:30.418Z"
   },
   {
    "duration": 975,
    "start_time": "2021-12-01T09:35:30.421Z"
   },
   {
    "duration": 971,
    "start_time": "2021-12-01T09:35:30.426Z"
   },
   {
    "duration": 968,
    "start_time": "2021-12-01T09:35:30.430Z"
   },
   {
    "duration": 964,
    "start_time": "2021-12-01T09:35:30.435Z"
   },
   {
    "duration": 954,
    "start_time": "2021-12-01T09:35:30.446Z"
   },
   {
    "duration": 949,
    "start_time": "2021-12-01T09:35:30.452Z"
   },
   {
    "duration": 945,
    "start_time": "2021-12-01T09:35:30.457Z"
   },
   {
    "duration": 941,
    "start_time": "2021-12-01T09:35:30.462Z"
   },
   {
    "duration": 937,
    "start_time": "2021-12-01T09:35:30.467Z"
   },
   {
    "duration": 934,
    "start_time": "2021-12-01T09:35:30.471Z"
   },
   {
    "duration": 930,
    "start_time": "2021-12-01T09:35:30.476Z"
   },
   {
    "duration": 928,
    "start_time": "2021-12-01T09:35:30.481Z"
   },
   {
    "duration": 925,
    "start_time": "2021-12-01T09:35:30.485Z"
   },
   {
    "duration": 923,
    "start_time": "2021-12-01T09:35:30.489Z"
   },
   {
    "duration": 921,
    "start_time": "2021-12-01T09:35:30.493Z"
   },
   {
    "duration": 918,
    "start_time": "2021-12-01T09:35:30.497Z"
   },
   {
    "duration": 409,
    "start_time": "2021-12-01T09:36:31.844Z"
   },
   {
    "duration": 896,
    "start_time": "2021-12-01T09:36:57.736Z"
   },
   {
    "duration": 8,
    "start_time": "2021-12-01T09:37:17.391Z"
   },
   {
    "duration": 5,
    "start_time": "2021-12-01T09:37:34.842Z"
   },
   {
    "duration": 8,
    "start_time": "2021-12-01T09:37:40.040Z"
   },
   {
    "duration": 17,
    "start_time": "2021-12-01T09:37:42.312Z"
   },
   {
    "duration": 8,
    "start_time": "2021-12-01T09:37:56.643Z"
   },
   {
    "duration": 837,
    "start_time": "2021-12-01T09:37:56.945Z"
   },
   {
    "duration": 1088,
    "start_time": "2021-12-01T09:37:56.696Z"
   },
   {
    "duration": 478,
    "start_time": "2021-12-01T09:37:58.059Z"
   },
   {
    "duration": 722,
    "start_time": "2021-12-01T09:38:03.753Z"
   },
   {
    "duration": 5,
    "start_time": "2021-12-01T09:38:04.477Z"
   },
   {
    "duration": 61,
    "start_time": "2021-12-01T09:38:04.779Z"
   },
   {
    "duration": 12,
    "start_time": "2021-12-01T09:38:06.942Z"
   },
   {
    "duration": 29,
    "start_time": "2021-12-01T09:38:07.937Z"
   },
   {
    "duration": 5,
    "start_time": "2021-12-01T09:38:12.282Z"
   },
   {
    "duration": 7,
    "start_time": "2021-12-01T09:38:13.654Z"
   },
   {
    "duration": 11,
    "start_time": "2021-12-01T09:38:14.386Z"
   },
   {
    "duration": 12,
    "start_time": "2021-12-01T09:38:15.113Z"
   },
   {
    "duration": 8,
    "start_time": "2021-12-01T09:38:15.843Z"
   },
   {
    "duration": 5,
    "start_time": "2021-12-01T09:38:20.313Z"
   },
   {
    "duration": 7,
    "start_time": "2021-12-01T09:38:27.021Z"
   },
   {
    "duration": 19,
    "start_time": "2021-12-01T09:38:27.030Z"
   },
   {
    "duration": 5,
    "start_time": "2021-12-01T09:38:27.050Z"
   },
   {
    "duration": 6,
    "start_time": "2021-12-01T09:38:27.057Z"
   },
   {
    "duration": 9,
    "start_time": "2021-12-01T09:38:27.065Z"
   },
   {
    "duration": 12,
    "start_time": "2021-12-01T09:38:27.076Z"
   },
   {
    "duration": 27,
    "start_time": "2021-12-01T09:38:27.090Z"
   },
   {
    "duration": 5,
    "start_time": "2021-12-01T09:38:27.119Z"
   },
   {
    "duration": 52,
    "start_time": "2021-12-01T09:38:27.127Z"
   },
   {
    "duration": 41,
    "start_time": "2021-12-01T09:38:27.181Z"
   },
   {
    "duration": 24,
    "start_time": "2021-12-01T09:38:27.224Z"
   },
   {
    "duration": 17,
    "start_time": "2021-12-01T09:38:27.250Z"
   },
   {
    "duration": 8,
    "start_time": "2021-12-01T09:38:27.269Z"
   },
   {
    "duration": 42,
    "start_time": "2021-12-01T09:38:27.278Z"
   },
   {
    "duration": 8,
    "start_time": "2021-12-01T09:38:27.322Z"
   },
   {
    "duration": 11,
    "start_time": "2021-12-01T09:38:27.332Z"
   },
   {
    "duration": 11,
    "start_time": "2021-12-01T09:38:27.345Z"
   },
   {
    "duration": 7,
    "start_time": "2021-12-01T09:38:27.357Z"
   },
   {
    "duration": 15,
    "start_time": "2021-12-01T09:38:27.365Z"
   },
   {
    "duration": 33,
    "start_time": "2021-12-01T09:38:27.382Z"
   },
   {
    "duration": 3845,
    "start_time": "2021-12-01T09:38:27.416Z"
   },
   {
    "duration": 16,
    "start_time": "2021-12-01T09:38:31.263Z"
   },
   {
    "duration": 45,
    "start_time": "2021-12-01T09:38:31.281Z"
   },
   {
    "duration": 9,
    "start_time": "2021-12-01T09:38:31.328Z"
   },
   {
    "duration": 6549,
    "start_time": "2021-12-01T09:38:31.339Z"
   },
   {
    "duration": 103,
    "start_time": "2021-12-01T09:38:37.908Z"
   },
   {
    "duration": 20,
    "start_time": "2021-12-01T09:38:38.013Z"
   },
   {
    "duration": 24,
    "start_time": "2021-12-01T09:38:49.288Z"
   },
   {
    "duration": 20,
    "start_time": "2021-12-01T09:39:03.463Z"
   },
   {
    "duration": 1014,
    "start_time": "2021-12-01T09:55:43.077Z"
   },
   {
    "duration": 1003,
    "start_time": "2021-12-01T09:55:43.089Z"
   },
   {
    "duration": 7450,
    "start_time": "2021-12-01T09:55:55.851Z"
   },
   {
    "duration": 12,
    "start_time": "2021-12-01T09:56:03.306Z"
   },
   {
    "duration": 348,
    "start_time": "2021-12-01T09:56:56.416Z"
   },
   {
    "duration": 12,
    "start_time": "2021-12-01T09:57:26.981Z"
   },
   {
    "duration": 6559,
    "start_time": "2021-12-01T09:58:41.018Z"
   },
   {
    "duration": 6,
    "start_time": "2021-12-01T09:58:47.579Z"
   },
   {
    "duration": 20,
    "start_time": "2021-12-01T09:58:47.587Z"
   },
   {
    "duration": 3,
    "start_time": "2021-12-01T09:59:10.127Z"
   },
   {
    "duration": 26,
    "start_time": "2021-12-01T09:59:10.132Z"
   },
   {
    "duration": 56,
    "start_time": "2021-12-01T09:59:10.160Z"
   },
   {
    "duration": 13,
    "start_time": "2021-12-01T09:59:10.220Z"
   },
   {
    "duration": 34,
    "start_time": "2021-12-01T09:59:10.234Z"
   },
   {
    "duration": 8,
    "start_time": "2021-12-01T09:59:10.269Z"
   },
   {
    "duration": 17,
    "start_time": "2021-12-01T09:59:10.278Z"
   },
   {
    "duration": 27,
    "start_time": "2021-12-01T09:59:10.298Z"
   },
   {
    "duration": 10,
    "start_time": "2021-12-01T09:59:10.328Z"
   },
   {
    "duration": 11,
    "start_time": "2021-12-01T09:59:10.339Z"
   },
   {
    "duration": 5,
    "start_time": "2021-12-01T09:59:10.352Z"
   },
   {
    "duration": 11,
    "start_time": "2021-12-01T09:59:10.359Z"
   },
   {
    "duration": 30,
    "start_time": "2021-12-01T09:59:10.372Z"
   },
   {
    "duration": 11,
    "start_time": "2021-12-01T09:59:10.404Z"
   },
   {
    "duration": 24,
    "start_time": "2021-12-01T09:59:10.419Z"
   },
   {
    "duration": 15,
    "start_time": "2021-12-01T09:59:10.445Z"
   },
   {
    "duration": 11,
    "start_time": "2021-12-01T09:59:10.462Z"
   },
   {
    "duration": 7,
    "start_time": "2021-12-01T09:59:10.474Z"
   },
   {
    "duration": 8,
    "start_time": "2021-12-01T09:59:10.483Z"
   },
   {
    "duration": 65,
    "start_time": "2021-12-01T09:59:10.492Z"
   },
   {
    "duration": 25,
    "start_time": "2021-12-01T09:59:10.559Z"
   },
   {
    "duration": 46,
    "start_time": "2021-12-01T09:59:10.586Z"
   },
   {
    "duration": 17,
    "start_time": "2021-12-01T09:59:10.636Z"
   },
   {
    "duration": 8,
    "start_time": "2021-12-01T09:59:10.655Z"
   },
   {
    "duration": 11,
    "start_time": "2021-12-01T09:59:10.664Z"
   },
   {
    "duration": 34,
    "start_time": "2021-12-01T09:59:10.677Z"
   },
   {
    "duration": 12,
    "start_time": "2021-12-01T09:59:10.714Z"
   },
   {
    "duration": 12,
    "start_time": "2021-12-01T09:59:10.728Z"
   },
   {
    "duration": 11,
    "start_time": "2021-12-01T09:59:10.742Z"
   },
   {
    "duration": 11,
    "start_time": "2021-12-01T09:59:10.754Z"
   },
   {
    "duration": 9,
    "start_time": "2021-12-01T09:59:10.766Z"
   },
   {
    "duration": 4050,
    "start_time": "2021-12-01T09:59:10.776Z"
   },
   {
    "duration": 18,
    "start_time": "2021-12-01T09:59:14.829Z"
   },
   {
    "duration": 21,
    "start_time": "2021-12-01T09:59:14.849Z"
   },
   {
    "duration": 29735,
    "start_time": "2021-12-01T09:59:14.873Z"
   },
   {
    "duration": 13,
    "start_time": "2021-12-01T09:59:44.620Z"
   },
   {
    "duration": 34,
    "start_time": "2021-12-01T09:59:44.634Z"
   },
   {
    "duration": 631,
    "start_time": "2021-12-01T10:00:36.758Z"
   },
   {
    "duration": 4,
    "start_time": "2021-12-01T10:00:37.391Z"
   },
   {
    "duration": 72,
    "start_time": "2021-12-01T10:00:37.398Z"
   },
   {
    "duration": 11,
    "start_time": "2021-12-01T10:00:37.472Z"
   },
   {
    "duration": 47,
    "start_time": "2021-12-01T10:00:37.485Z"
   },
   {
    "duration": 5,
    "start_time": "2021-12-01T10:00:37.534Z"
   },
   {
    "duration": 22,
    "start_time": "2021-12-01T10:00:37.541Z"
   },
   {
    "duration": 34,
    "start_time": "2021-12-01T10:00:37.566Z"
   },
   {
    "duration": 27,
    "start_time": "2021-12-01T10:00:37.602Z"
   },
   {
    "duration": 34,
    "start_time": "2021-12-01T10:00:37.631Z"
   },
   {
    "duration": 15,
    "start_time": "2021-12-01T10:00:37.666Z"
   },
   {
    "duration": 31,
    "start_time": "2021-12-01T10:00:37.683Z"
   },
   {
    "duration": 37,
    "start_time": "2021-12-01T10:00:37.717Z"
   },
   {
    "duration": 11,
    "start_time": "2021-12-01T10:00:37.757Z"
   },
   {
    "duration": 30,
    "start_time": "2021-12-01T10:00:37.770Z"
   },
   {
    "duration": 21,
    "start_time": "2021-12-01T10:00:37.802Z"
   },
   {
    "duration": 26,
    "start_time": "2021-12-01T10:00:37.825Z"
   },
   {
    "duration": 15,
    "start_time": "2021-12-01T10:00:37.852Z"
   },
   {
    "duration": 20,
    "start_time": "2021-12-01T10:00:37.869Z"
   },
   {
    "duration": 77,
    "start_time": "2021-12-01T10:00:37.890Z"
   },
   {
    "duration": 25,
    "start_time": "2021-12-01T10:00:37.969Z"
   },
   {
    "duration": 33,
    "start_time": "2021-12-01T10:00:37.995Z"
   },
   {
    "duration": 18,
    "start_time": "2021-12-01T10:00:38.031Z"
   },
   {
    "duration": 16,
    "start_time": "2021-12-01T10:00:38.051Z"
   },
   {
    "duration": 14,
    "start_time": "2021-12-01T10:00:38.069Z"
   },
   {
    "duration": 36,
    "start_time": "2021-12-01T10:00:38.085Z"
   },
   {
    "duration": 15,
    "start_time": "2021-12-01T10:00:38.123Z"
   },
   {
    "duration": 14,
    "start_time": "2021-12-01T10:00:38.140Z"
   },
   {
    "duration": 22,
    "start_time": "2021-12-01T10:00:38.156Z"
   },
   {
    "duration": 20,
    "start_time": "2021-12-01T10:00:38.180Z"
   },
   {
    "duration": 26,
    "start_time": "2021-12-01T10:00:38.201Z"
   },
   {
    "duration": 3862,
    "start_time": "2021-12-01T10:00:38.228Z"
   },
   {
    "duration": 27,
    "start_time": "2021-12-01T10:00:42.092Z"
   },
   {
    "duration": 10,
    "start_time": "2021-12-01T10:00:42.120Z"
   },
   {
    "duration": 32560,
    "start_time": "2021-12-01T10:00:42.132Z"
   },
   {
    "duration": 14,
    "start_time": "2021-12-01T10:01:14.695Z"
   },
   {
    "duration": 6699,
    "start_time": "2021-12-01T10:02:11.563Z"
   },
   {
    "duration": 8,
    "start_time": "2021-12-01T10:02:18.264Z"
   },
   {
    "duration": 19,
    "start_time": "2021-12-01T10:02:43.700Z"
   },
   {
    "duration": 3491,
    "start_time": "2021-12-01T10:03:14.701Z"
   },
   {
    "duration": 3388,
    "start_time": "2021-12-01T10:04:37.335Z"
   },
   {
    "duration": 861,
    "start_time": "2021-12-01T10:04:57.584Z"
   },
   {
    "duration": 3270,
    "start_time": "2021-12-01T10:05:02.120Z"
   },
   {
    "duration": 17,
    "start_time": "2021-12-01T10:05:06.630Z"
   },
   {
    "duration": 3437,
    "start_time": "2021-12-01T10:05:22.531Z"
   },
   {
    "duration": 16,
    "start_time": "2021-12-01T10:05:25.970Z"
   },
   {
    "duration": 6,
    "start_time": "2021-12-01T10:05:31.723Z"
   },
   {
    "duration": 126,
    "start_time": "2021-12-01T10:05:58.559Z"
   },
   {
    "duration": 12668,
    "start_time": "2021-12-01T10:06:00.428Z"
   },
   {
    "duration": 2623,
    "start_time": "2021-12-01T10:06:24.987Z"
   },
   {
    "duration": 6338,
    "start_time": "2021-12-01T10:06:48.671Z"
   },
   {
    "duration": 4137,
    "start_time": "2021-12-01T10:07:02.492Z"
   },
   {
    "duration": 14,
    "start_time": "2021-12-01T10:07:19.078Z"
   },
   {
    "duration": 7088,
    "start_time": "2021-12-01T10:08:10.618Z"
   },
   {
    "duration": 7083,
    "start_time": "2021-12-01T10:08:28.638Z"
   },
   {
    "duration": 10,
    "start_time": "2021-12-01T10:08:35.723Z"
   },
   {
    "duration": 16,
    "start_time": "2021-12-01T10:09:12.529Z"
   },
   {
    "duration": 3,
    "start_time": "2021-12-01T10:09:30.632Z"
   },
   {
    "duration": 3,
    "start_time": "2021-12-01T10:12:36.571Z"
   },
   {
    "duration": 436,
    "start_time": "2021-12-01T10:13:45.692Z"
   },
   {
    "duration": 345,
    "start_time": "2021-12-01T10:14:01.712Z"
   },
   {
    "duration": 3,
    "start_time": "2021-12-01T10:14:15.789Z"
   },
   {
    "duration": 4,
    "start_time": "2021-12-01T10:14:20.972Z"
   },
   {
    "duration": 3,
    "start_time": "2021-12-01T10:14:32.431Z"
   },
   {
    "duration": 4,
    "start_time": "2021-12-01T10:14:36.759Z"
   },
   {
    "duration": 4,
    "start_time": "2021-12-01T10:14:50.051Z"
   },
   {
    "duration": 6362,
    "start_time": "2021-12-01T10:17:22.501Z"
   },
   {
    "duration": 8,
    "start_time": "2021-12-01T10:17:30.368Z"
   },
   {
    "duration": 10,
    "start_time": "2021-12-01T10:17:57.763Z"
   },
   {
    "duration": 4,
    "start_time": "2021-12-01T10:18:21.006Z"
   },
   {
    "duration": 337,
    "start_time": "2021-12-01T10:18:46.222Z"
   },
   {
    "duration": 4,
    "start_time": "2021-12-01T10:18:53.962Z"
   },
   {
    "duration": 4,
    "start_time": "2021-12-01T10:19:06.558Z"
   },
   {
    "duration": 8,
    "start_time": "2021-12-01T10:19:13.571Z"
   },
   {
    "duration": 8,
    "start_time": "2021-12-01T10:19:17.231Z"
   },
   {
    "duration": 1889,
    "start_time": "2021-12-01T10:21:03.853Z"
   },
   {
    "duration": 1955,
    "start_time": "2021-12-01T10:21:42.799Z"
   },
   {
    "duration": 1871,
    "start_time": "2021-12-01T10:21:54.982Z"
   },
   {
    "duration": 17974,
    "start_time": "2021-12-01T10:22:56.494Z"
   },
   {
    "duration": 3036,
    "start_time": "2021-12-01T10:23:24.072Z"
   },
   {
    "duration": 4,
    "start_time": "2021-12-01T10:23:52.327Z"
   },
   {
    "duration": 5,
    "start_time": "2021-12-01T10:24:09.103Z"
   },
   {
    "duration": 4,
    "start_time": "2021-12-01T10:24:42.490Z"
   },
   {
    "duration": 2828,
    "start_time": "2021-12-01T10:24:50.113Z"
   },
   {
    "duration": 5,
    "start_time": "2021-12-01T10:24:57.362Z"
   },
   {
    "duration": 5,
    "start_time": "2021-12-01T10:25:17.344Z"
   },
   {
    "duration": 5,
    "start_time": "2021-12-01T10:25:30.193Z"
   },
   {
    "duration": 8,
    "start_time": "2021-12-01T10:25:36.918Z"
   },
   {
    "duration": 6,
    "start_time": "2021-12-01T10:25:42.570Z"
   },
   {
    "duration": 4,
    "start_time": "2021-12-01T10:26:09.396Z"
   },
   {
    "duration": 6,
    "start_time": "2021-12-01T10:26:32.682Z"
   },
   {
    "duration": 126,
    "start_time": "2021-12-01T10:26:44.554Z"
   },
   {
    "duration": 4,
    "start_time": "2021-12-01T10:26:47.719Z"
   },
   {
    "duration": 10,
    "start_time": "2021-12-01T10:26:50.043Z"
   },
   {
    "duration": 4,
    "start_time": "2021-12-01T10:26:58.592Z"
   },
   {
    "duration": 10,
    "start_time": "2021-12-01T10:26:58.994Z"
   },
   {
    "duration": 612,
    "start_time": "2021-12-01T10:27:16.945Z"
   },
   {
    "duration": 4,
    "start_time": "2021-12-01T10:27:17.559Z"
   },
   {
    "duration": 52,
    "start_time": "2021-12-01T10:27:17.566Z"
   },
   {
    "duration": 11,
    "start_time": "2021-12-01T10:27:17.621Z"
   },
   {
    "duration": 26,
    "start_time": "2021-12-01T10:27:17.634Z"
   },
   {
    "duration": 4,
    "start_time": "2021-12-01T10:27:17.662Z"
   },
   {
    "duration": 11,
    "start_time": "2021-12-01T10:27:17.668Z"
   },
   {
    "duration": 30,
    "start_time": "2021-12-01T10:27:17.681Z"
   },
   {
    "duration": 11,
    "start_time": "2021-12-01T10:27:17.714Z"
   },
   {
    "duration": 8,
    "start_time": "2021-12-01T10:27:17.727Z"
   },
   {
    "duration": 3,
    "start_time": "2021-12-01T10:27:17.737Z"
   },
   {
    "duration": 6,
    "start_time": "2021-12-01T10:27:17.742Z"
   },
   {
    "duration": 13,
    "start_time": "2021-12-01T10:27:17.750Z"
   },
   {
    "duration": 5,
    "start_time": "2021-12-01T10:27:17.764Z"
   },
   {
    "duration": 41,
    "start_time": "2021-12-01T10:27:17.770Z"
   },
   {
    "duration": 14,
    "start_time": "2021-12-01T10:27:17.813Z"
   },
   {
    "duration": 12,
    "start_time": "2021-12-01T10:27:17.829Z"
   },
   {
    "duration": 8,
    "start_time": "2021-12-01T10:27:17.843Z"
   },
   {
    "duration": 6,
    "start_time": "2021-12-01T10:27:17.852Z"
   },
   {
    "duration": 79,
    "start_time": "2021-12-01T10:27:17.859Z"
   },
   {
    "duration": 26,
    "start_time": "2021-12-01T10:27:17.940Z"
   },
   {
    "duration": 23,
    "start_time": "2021-12-01T10:27:17.968Z"
   },
   {
    "duration": 32,
    "start_time": "2021-12-01T10:27:17.992Z"
   },
   {
    "duration": 7,
    "start_time": "2021-12-01T10:27:18.026Z"
   },
   {
    "duration": 12,
    "start_time": "2021-12-01T10:27:18.035Z"
   },
   {
    "duration": 10,
    "start_time": "2021-12-01T10:27:18.049Z"
   },
   {
    "duration": 9,
    "start_time": "2021-12-01T10:27:18.062Z"
   },
   {
    "duration": 36,
    "start_time": "2021-12-01T10:27:18.073Z"
   },
   {
    "duration": 5,
    "start_time": "2021-12-01T10:27:18.111Z"
   },
   {
    "duration": 11,
    "start_time": "2021-12-01T10:27:18.117Z"
   },
   {
    "duration": 12,
    "start_time": "2021-12-01T10:27:18.130Z"
   },
   {
    "duration": 3789,
    "start_time": "2021-12-01T10:27:18.144Z"
   },
   {
    "duration": 14,
    "start_time": "2021-12-01T10:27:21.935Z"
   },
   {
    "duration": 8,
    "start_time": "2021-12-01T10:27:21.951Z"
   },
   {
    "duration": 20,
    "start_time": "2021-12-01T10:27:21.961Z"
   },
   {
    "duration": 9,
    "start_time": "2021-12-01T10:27:21.982Z"
   },
   {
    "duration": 6281,
    "start_time": "2021-12-01T10:27:22.007Z"
   },
   {
    "duration": 18,
    "start_time": "2021-12-01T10:27:28.290Z"
   },
   {
    "duration": 417,
    "start_time": "2021-12-01T10:27:32.180Z"
   },
   {
    "duration": 689,
    "start_time": "2021-12-01T10:27:39.485Z"
   },
   {
    "duration": 363,
    "start_time": "2021-12-01T10:27:47.404Z"
   },
   {
    "duration": 3,
    "start_time": "2021-12-01T10:28:00.065Z"
   },
   {
    "duration": 404,
    "start_time": "2021-12-01T10:28:00.546Z"
   },
   {
    "duration": 3,
    "start_time": "2021-12-01T10:30:24.938Z"
   },
   {
    "duration": 5,
    "start_time": "2021-12-01T10:30:27.284Z"
   },
   {
    "duration": 5,
    "start_time": "2021-12-01T10:30:44.218Z"
   },
   {
    "duration": 18,
    "start_time": "2021-12-01T10:31:07.571Z"
   },
   {
    "duration": 3,
    "start_time": "2021-12-01T10:31:12.947Z"
   },
   {
    "duration": 5,
    "start_time": "2021-12-01T10:31:13.980Z"
   },
   {
    "duration": 2706,
    "start_time": "2021-12-01T10:31:40.289Z"
   },
   {
    "duration": 1041,
    "start_time": "2021-12-01T10:31:41.955Z"
   },
   {
    "duration": 2650,
    "start_time": "2021-12-01T10:31:49.912Z"
   },
   {
    "duration": 3,
    "start_time": "2021-12-01T10:35:49.790Z"
   },
   {
    "duration": 4,
    "start_time": "2021-12-01T10:36:35.912Z"
   },
   {
    "duration": 12,
    "start_time": "2021-12-01T10:36:42.018Z"
   },
   {
    "duration": 7,
    "start_time": "2021-12-01T10:39:00.622Z"
   },
   {
    "duration": 18,
    "start_time": "2021-12-01T10:39:01.606Z"
   },
   {
    "duration": 7,
    "start_time": "2021-12-01T10:39:48.827Z"
   },
   {
    "duration": 10,
    "start_time": "2021-12-01T10:39:49.586Z"
   },
   {
    "duration": 16,
    "start_time": "2021-12-01T10:40:13.411Z"
   },
   {
    "duration": 8,
    "start_time": "2021-12-01T10:40:16.559Z"
   },
   {
    "duration": 2,
    "start_time": "2021-12-01T10:40:17.487Z"
   },
   {
    "duration": 11,
    "start_time": "2021-12-01T10:40:17.872Z"
   },
   {
    "duration": 671,
    "start_time": "2021-12-01T10:40:31.394Z"
   },
   {
    "duration": 5,
    "start_time": "2021-12-01T10:40:32.066Z"
   },
   {
    "duration": 61,
    "start_time": "2021-12-01T10:40:32.074Z"
   },
   {
    "duration": 13,
    "start_time": "2021-12-01T10:40:32.137Z"
   },
   {
    "duration": 27,
    "start_time": "2021-12-01T10:40:32.152Z"
   },
   {
    "duration": 5,
    "start_time": "2021-12-01T10:40:32.181Z"
   },
   {
    "duration": 14,
    "start_time": "2021-12-01T10:40:32.208Z"
   },
   {
    "duration": 12,
    "start_time": "2021-12-01T10:40:32.224Z"
   },
   {
    "duration": 10,
    "start_time": "2021-12-01T10:40:32.239Z"
   },
   {
    "duration": 7,
    "start_time": "2021-12-01T10:40:32.251Z"
   },
   {
    "duration": 13,
    "start_time": "2021-12-01T10:40:32.260Z"
   },
   {
    "duration": 12,
    "start_time": "2021-12-01T10:40:32.275Z"
   },
   {
    "duration": 19,
    "start_time": "2021-12-01T10:40:32.306Z"
   },
   {
    "duration": 7,
    "start_time": "2021-12-01T10:40:32.327Z"
   },
   {
    "duration": 10,
    "start_time": "2021-12-01T10:40:32.336Z"
   },
   {
    "duration": 13,
    "start_time": "2021-12-01T10:40:32.348Z"
   },
   {
    "duration": 14,
    "start_time": "2021-12-01T10:40:32.363Z"
   },
   {
    "duration": 44,
    "start_time": "2021-12-01T10:40:32.379Z"
   },
   {
    "duration": 5,
    "start_time": "2021-12-01T10:40:32.426Z"
   },
   {
    "duration": 51,
    "start_time": "2021-12-01T10:40:32.433Z"
   },
   {
    "duration": 51,
    "start_time": "2021-12-01T10:40:32.486Z"
   },
   {
    "duration": 23,
    "start_time": "2021-12-01T10:40:32.538Z"
   },
   {
    "duration": 19,
    "start_time": "2021-12-01T10:40:32.564Z"
   },
   {
    "duration": 27,
    "start_time": "2021-12-01T10:40:32.585Z"
   },
   {
    "duration": 14,
    "start_time": "2021-12-01T10:40:32.615Z"
   },
   {
    "duration": 14,
    "start_time": "2021-12-01T10:40:32.631Z"
   },
   {
    "duration": 16,
    "start_time": "2021-12-01T10:40:32.647Z"
   },
   {
    "duration": 12,
    "start_time": "2021-12-01T10:40:32.665Z"
   },
   {
    "duration": 28,
    "start_time": "2021-12-01T10:40:32.679Z"
   },
   {
    "duration": 19,
    "start_time": "2021-12-01T10:40:32.710Z"
   },
   {
    "duration": 22,
    "start_time": "2021-12-01T10:40:32.730Z"
   },
   {
    "duration": 4115,
    "start_time": "2021-12-01T10:40:32.753Z"
   },
   {
    "duration": 14,
    "start_time": "2021-12-01T10:40:36.870Z"
   },
   {
    "duration": 31,
    "start_time": "2021-12-01T10:40:36.885Z"
   },
   {
    "duration": 18,
    "start_time": "2021-12-01T10:40:36.919Z"
   },
   {
    "duration": 4,
    "start_time": "2021-12-01T10:40:36.939Z"
   },
   {
    "duration": 6911,
    "start_time": "2021-12-01T10:40:36.945Z"
   },
   {
    "duration": 8,
    "start_time": "2021-12-01T10:40:43.858Z"
   },
   {
    "duration": 5,
    "start_time": "2021-12-01T10:40:43.868Z"
   },
   {
    "duration": 533,
    "start_time": "2021-12-01T10:40:48.639Z"
   },
   {
    "duration": 15,
    "start_time": "2021-12-01T10:40:58.655Z"
   },
   {
    "duration": 10,
    "start_time": "2021-12-01T10:40:59.481Z"
   },
   {
    "duration": 9586,
    "start_time": "2021-12-01T10:41:22.817Z"
   },
   {
    "duration": 10022,
    "start_time": "2021-12-01T10:41:44.343Z"
   },
   {
    "duration": 1745,
    "start_time": "2021-12-01T10:42:09.429Z"
   },
   {
    "duration": 945,
    "start_time": "2021-12-01T10:43:32.421Z"
   },
   {
    "duration": 981,
    "start_time": "2021-12-01T10:43:54.003Z"
   },
   {
    "duration": 1671,
    "start_time": "2021-12-01T10:44:24.317Z"
   },
   {
    "duration": 5,
    "start_time": "2021-12-01T10:44:31.275Z"
   },
   {
    "duration": 6,
    "start_time": "2021-12-01T10:44:43.457Z"
   },
   {
    "duration": 129,
    "start_time": "2021-12-01T10:45:04.631Z"
   },
   {
    "duration": 6,
    "start_time": "2021-12-01T10:45:05.529Z"
   },
   {
    "duration": 1787,
    "start_time": "2021-12-01T10:45:09.561Z"
   },
   {
    "duration": 5,
    "start_time": "2021-12-01T10:45:11.350Z"
   },
   {
    "duration": 1799,
    "start_time": "2021-12-01T10:45:23.189Z"
   },
   {
    "duration": 5,
    "start_time": "2021-12-01T10:45:31.947Z"
   },
   {
    "duration": 5,
    "start_time": "2021-12-01T10:45:36.676Z"
   },
   {
    "duration": 8,
    "start_time": "2021-12-01T10:45:52.382Z"
   },
   {
    "duration": 6,
    "start_time": "2021-12-01T10:45:57.845Z"
   },
   {
    "duration": 972,
    "start_time": "2021-12-01T10:46:17.344Z"
   },
   {
    "duration": 1136,
    "start_time": "2021-12-01T10:46:17.182Z"
   },
   {
    "duration": 980,
    "start_time": "2021-12-01T10:46:24.555Z"
   },
   {
    "duration": 6,
    "start_time": "2021-12-01T10:47:01.450Z"
   },
   {
    "duration": 6,
    "start_time": "2021-12-01T10:47:02.257Z"
   },
   {
    "duration": 6,
    "start_time": "2021-12-01T10:47:05.847Z"
   },
   {
    "duration": 8,
    "start_time": "2021-12-01T10:47:06.202Z"
   },
   {
    "duration": 1374,
    "start_time": "2021-12-01T10:47:37.872Z"
   },
   {
    "duration": 8396,
    "start_time": "2021-12-01T10:48:49.255Z"
   },
   {
    "duration": 6,
    "start_time": "2021-12-01T10:48:57.654Z"
   },
   {
    "duration": 8594,
    "start_time": "2021-12-01T10:49:20.486Z"
   },
   {
    "duration": 5,
    "start_time": "2021-12-01T10:49:29.083Z"
   },
   {
    "duration": 8874,
    "start_time": "2021-12-01T10:49:35.849Z"
   },
   {
    "duration": 1003,
    "start_time": "2021-12-01T10:49:47.557Z"
   },
   {
    "duration": 2919,
    "start_time": "2021-12-01T10:49:51.201Z"
   },
   {
    "duration": 669,
    "start_time": "2021-12-01T10:50:11.789Z"
   },
   {
    "duration": 4,
    "start_time": "2021-12-01T10:50:12.460Z"
   },
   {
    "duration": 80,
    "start_time": "2021-12-01T10:50:12.467Z"
   },
   {
    "duration": 26,
    "start_time": "2021-12-01T10:50:12.549Z"
   },
   {
    "duration": 45,
    "start_time": "2021-12-01T10:50:12.577Z"
   },
   {
    "duration": 7,
    "start_time": "2021-12-01T10:50:12.624Z"
   },
   {
    "duration": 17,
    "start_time": "2021-12-01T10:50:12.632Z"
   },
   {
    "duration": 20,
    "start_time": "2021-12-01T10:50:12.651Z"
   },
   {
    "duration": 11,
    "start_time": "2021-12-01T10:50:12.675Z"
   },
   {
    "duration": 12,
    "start_time": "2021-12-01T10:50:12.707Z"
   },
   {
    "duration": 17,
    "start_time": "2021-12-01T10:50:12.721Z"
   },
   {
    "duration": 16,
    "start_time": "2021-12-01T10:50:12.741Z"
   },
   {
    "duration": 29,
    "start_time": "2021-12-01T10:50:12.759Z"
   },
   {
    "duration": 7,
    "start_time": "2021-12-01T10:50:12.790Z"
   },
   {
    "duration": 14,
    "start_time": "2021-12-01T10:50:12.799Z"
   },
   {
    "duration": 18,
    "start_time": "2021-12-01T10:50:12.815Z"
   },
   {
    "duration": 19,
    "start_time": "2021-12-01T10:50:12.835Z"
   },
   {
    "duration": 16,
    "start_time": "2021-12-01T10:50:12.856Z"
   },
   {
    "duration": 7,
    "start_time": "2021-12-01T10:50:12.874Z"
   },
   {
    "duration": 81,
    "start_time": "2021-12-01T10:50:12.883Z"
   },
   {
    "duration": 28,
    "start_time": "2021-12-01T10:50:12.966Z"
   },
   {
    "duration": 38,
    "start_time": "2021-12-01T10:50:12.996Z"
   },
   {
    "duration": 20,
    "start_time": "2021-12-01T10:50:13.037Z"
   },
   {
    "duration": 10,
    "start_time": "2021-12-01T10:50:13.059Z"
   },
   {
    "duration": 43,
    "start_time": "2021-12-01T10:50:13.071Z"
   },
   {
    "duration": 13,
    "start_time": "2021-12-01T10:50:13.120Z"
   },
   {
    "duration": 15,
    "start_time": "2021-12-01T10:50:13.136Z"
   },
   {
    "duration": 20,
    "start_time": "2021-12-01T10:50:13.153Z"
   },
   {
    "duration": 12,
    "start_time": "2021-12-01T10:50:13.175Z"
   },
   {
    "duration": 9,
    "start_time": "2021-12-01T10:50:13.189Z"
   },
   {
    "duration": 14,
    "start_time": "2021-12-01T10:50:13.200Z"
   },
   {
    "duration": 4562,
    "start_time": "2021-12-01T10:50:13.216Z"
   },
   {
    "duration": 29,
    "start_time": "2021-12-01T10:50:17.780Z"
   },
   {
    "duration": 12,
    "start_time": "2021-12-01T10:50:17.811Z"
   },
   {
    "duration": 16,
    "start_time": "2021-12-01T10:50:17.826Z"
   },
   {
    "duration": 5,
    "start_time": "2021-12-01T10:50:17.845Z"
   },
   {
    "duration": 7185,
    "start_time": "2021-12-01T10:50:17.852Z"
   },
   {
    "duration": 8,
    "start_time": "2021-12-01T10:50:25.039Z"
   },
   {
    "duration": 18,
    "start_time": "2021-12-01T10:50:25.049Z"
   },
   {
    "duration": 10,
    "start_time": "2021-12-01T10:50:25.069Z"
   },
   {
    "duration": 2534,
    "start_time": "2021-12-01T10:50:25.081Z"
   },
   {
    "duration": 3629,
    "start_time": "2021-12-01T10:50:31.341Z"
   },
   {
    "duration": 6,
    "start_time": "2021-12-01T10:50:37.045Z"
   },
   {
    "duration": 7,
    "start_time": "2021-12-01T10:52:01.232Z"
   },
   {
    "duration": 7,
    "start_time": "2021-12-01T10:52:55.547Z"
   },
   {
    "duration": 8,
    "start_time": "2021-12-01T10:54:53.847Z"
   },
   {
    "duration": 4,
    "start_time": "2021-12-01T10:55:07.036Z"
   },
   {
    "duration": 33,
    "start_time": "2021-12-01T10:55:07.042Z"
   },
   {
    "duration": 76,
    "start_time": "2021-12-01T10:55:07.077Z"
   },
   {
    "duration": 12,
    "start_time": "2021-12-01T10:55:07.156Z"
   },
   {
    "duration": 37,
    "start_time": "2021-12-01T10:55:07.169Z"
   },
   {
    "duration": 17,
    "start_time": "2021-12-01T10:55:07.209Z"
   },
   {
    "duration": 19,
    "start_time": "2021-12-01T10:55:07.228Z"
   },
   {
    "duration": 21,
    "start_time": "2021-12-01T10:55:07.249Z"
   },
   {
    "duration": 12,
    "start_time": "2021-12-01T10:55:07.273Z"
   },
   {
    "duration": 9,
    "start_time": "2021-12-01T10:55:07.287Z"
   },
   {
    "duration": 5,
    "start_time": "2021-12-01T10:55:07.309Z"
   },
   {
    "duration": 21,
    "start_time": "2021-12-01T10:55:07.316Z"
   },
   {
    "duration": 17,
    "start_time": "2021-12-01T10:55:07.339Z"
   },
   {
    "duration": 5,
    "start_time": "2021-12-01T10:55:07.358Z"
   },
   {
    "duration": 12,
    "start_time": "2021-12-01T10:55:07.365Z"
   },
   {
    "duration": 9,
    "start_time": "2021-12-01T10:55:07.379Z"
   },
   {
    "duration": 15,
    "start_time": "2021-12-01T10:55:07.407Z"
   },
   {
    "duration": 34,
    "start_time": "2021-12-01T10:55:07.424Z"
   },
   {
    "duration": 6,
    "start_time": "2021-12-01T10:55:07.460Z"
   },
   {
    "duration": 20,
    "start_time": "2021-12-01T10:55:07.468Z"
   },
   {
    "duration": 8,
    "start_time": "2021-12-01T10:55:07.491Z"
   },
   {
    "duration": 61,
    "start_time": "2021-12-01T10:55:07.506Z"
   },
   {
    "duration": 29,
    "start_time": "2021-12-01T10:55:07.569Z"
   },
   {
    "duration": 37,
    "start_time": "2021-12-01T10:55:07.600Z"
   },
   {
    "duration": 24,
    "start_time": "2021-12-01T10:55:07.639Z"
   },
   {
    "duration": 9,
    "start_time": "2021-12-01T10:55:07.665Z"
   },
   {
    "duration": 37,
    "start_time": "2021-12-01T10:55:07.679Z"
   },
   {
    "duration": 26,
    "start_time": "2021-12-01T10:55:07.719Z"
   },
   {
    "duration": 14,
    "start_time": "2021-12-01T10:55:07.749Z"
   },
   {
    "duration": 11,
    "start_time": "2021-12-01T10:55:07.765Z"
   },
   {
    "duration": 39,
    "start_time": "2021-12-01T10:55:07.778Z"
   },
   {
    "duration": 24,
    "start_time": "2021-12-01T10:55:07.824Z"
   },
   {
    "duration": 10,
    "start_time": "2021-12-01T10:55:07.850Z"
   },
   {
    "duration": 4720,
    "start_time": "2021-12-01T10:55:07.862Z"
   },
   {
    "duration": 27,
    "start_time": "2021-12-01T10:55:12.585Z"
   },
   {
    "duration": 14,
    "start_time": "2021-12-01T10:55:12.615Z"
   },
   {
    "duration": 23,
    "start_time": "2021-12-01T10:55:12.633Z"
   },
   {
    "duration": 6,
    "start_time": "2021-12-01T10:55:12.658Z"
   },
   {
    "duration": 7522,
    "start_time": "2021-12-01T10:55:12.666Z"
   },
   {
    "duration": 18,
    "start_time": "2021-12-01T10:55:20.190Z"
   },
   {
    "duration": 30,
    "start_time": "2021-12-01T10:55:20.211Z"
   },
   {
    "duration": 14,
    "start_time": "2021-12-01T10:55:20.245Z"
   },
   {
    "duration": 3073,
    "start_time": "2021-12-01T10:55:20.261Z"
   },
   {
    "duration": 26,
    "start_time": "2021-12-01T10:55:23.337Z"
   },
   {
    "duration": 6,
    "start_time": "2021-12-01T10:56:00.967Z"
   },
   {
    "duration": 6,
    "start_time": "2021-12-01T10:56:04.093Z"
   },
   {
    "duration": 7,
    "start_time": "2021-12-01T10:56:13.072Z"
   },
   {
    "duration": 726,
    "start_time": "2021-12-01T10:56:39.004Z"
   },
   {
    "duration": 7,
    "start_time": "2021-12-01T10:56:39.733Z"
   },
   {
    "duration": 59,
    "start_time": "2021-12-01T10:56:39.743Z"
   },
   {
    "duration": 18,
    "start_time": "2021-12-01T10:56:39.804Z"
   },
   {
    "duration": 40,
    "start_time": "2021-12-01T10:56:39.825Z"
   },
   {
    "duration": 8,
    "start_time": "2021-12-01T10:56:39.867Z"
   },
   {
    "duration": 14,
    "start_time": "2021-12-01T10:56:39.876Z"
   },
   {
    "duration": 39,
    "start_time": "2021-12-01T10:56:39.892Z"
   },
   {
    "duration": 12,
    "start_time": "2021-12-01T10:56:39.934Z"
   },
   {
    "duration": 15,
    "start_time": "2021-12-01T10:56:39.948Z"
   },
   {
    "duration": 10,
    "start_time": "2021-12-01T10:56:39.965Z"
   },
   {
    "duration": 18,
    "start_time": "2021-12-01T10:56:39.976Z"
   },
   {
    "duration": 35,
    "start_time": "2021-12-01T10:56:39.996Z"
   },
   {
    "duration": 6,
    "start_time": "2021-12-01T10:56:40.033Z"
   },
   {
    "duration": 21,
    "start_time": "2021-12-01T10:56:40.041Z"
   },
   {
    "duration": 31,
    "start_time": "2021-12-01T10:56:40.063Z"
   },
   {
    "duration": 22,
    "start_time": "2021-12-01T10:56:40.096Z"
   },
   {
    "duration": 28,
    "start_time": "2021-12-01T10:56:40.121Z"
   },
   {
    "duration": 21,
    "start_time": "2021-12-01T10:56:40.150Z"
   },
   {
    "duration": 22,
    "start_time": "2021-12-01T10:56:40.172Z"
   },
   {
    "duration": 13,
    "start_time": "2021-12-01T10:56:43.065Z"
   },
   {
    "duration": 14,
    "start_time": "2021-12-01T10:56:43.573Z"
   },
   {
    "duration": 24,
    "start_time": "2021-12-01T10:58:08.315Z"
   },
   {
    "duration": 5,
    "start_time": "2021-12-01T10:58:10.472Z"
   },
   {
    "duration": 127,
    "start_time": "2021-12-01T10:58:19.472Z"
   },
   {
    "duration": 6,
    "start_time": "2021-12-01T10:58:19.814Z"
   },
   {
    "duration": 115,
    "start_time": "2021-12-01T10:58:26.540Z"
   },
   {
    "duration": 127,
    "start_time": "2021-12-01T10:58:30.744Z"
   },
   {
    "duration": 8,
    "start_time": "2021-12-01T10:58:43.140Z"
   },
   {
    "duration": 5,
    "start_time": "2021-12-01T10:58:44.495Z"
   },
   {
    "duration": 3,
    "start_time": "2021-12-01T10:58:49.500Z"
   },
   {
    "duration": 9,
    "start_time": "2021-12-01T10:58:49.505Z"
   },
   {
    "duration": 68,
    "start_time": "2021-12-01T10:58:49.520Z"
   },
   {
    "duration": 28,
    "start_time": "2021-12-01T10:58:49.590Z"
   },
   {
    "duration": 35,
    "start_time": "2021-12-01T10:58:49.620Z"
   },
   {
    "duration": 6,
    "start_time": "2021-12-01T10:58:49.657Z"
   },
   {
    "duration": 19,
    "start_time": "2021-12-01T10:58:49.665Z"
   },
   {
    "duration": 18,
    "start_time": "2021-12-01T10:58:49.707Z"
   },
   {
    "duration": 18,
    "start_time": "2021-12-01T10:58:49.728Z"
   },
   {
    "duration": 13,
    "start_time": "2021-12-01T10:58:49.748Z"
   },
   {
    "duration": 4,
    "start_time": "2021-12-01T10:58:49.763Z"
   },
   {
    "duration": 40,
    "start_time": "2021-12-01T10:58:49.769Z"
   },
   {
    "duration": 19,
    "start_time": "2021-12-01T10:58:49.812Z"
   },
   {
    "duration": 7,
    "start_time": "2021-12-01T10:58:49.833Z"
   },
   {
    "duration": 7,
    "start_time": "2021-12-01T10:58:49.842Z"
   },
   {
    "duration": 8,
    "start_time": "2021-12-01T10:58:49.850Z"
   },
   {
    "duration": 10,
    "start_time": "2021-12-01T10:58:49.860Z"
   },
   {
    "duration": 17,
    "start_time": "2021-12-01T10:58:49.908Z"
   },
   {
    "duration": 5,
    "start_time": "2021-12-01T10:58:53.559Z"
   },
   {
    "duration": 7,
    "start_time": "2021-12-01T10:58:53.913Z"
   },
   {
    "duration": 733,
    "start_time": "2021-12-01T10:59:06.412Z"
   },
   {
    "duration": 4,
    "start_time": "2021-12-01T10:59:07.147Z"
   },
   {
    "duration": 56,
    "start_time": "2021-12-01T10:59:07.155Z"
   },
   {
    "duration": 18,
    "start_time": "2021-12-01T10:59:07.214Z"
   },
   {
    "duration": 36,
    "start_time": "2021-12-01T10:59:07.235Z"
   },
   {
    "duration": 5,
    "start_time": "2021-12-01T10:59:07.273Z"
   },
   {
    "duration": 34,
    "start_time": "2021-12-01T10:59:07.280Z"
   },
   {
    "duration": 15,
    "start_time": "2021-12-01T10:59:07.316Z"
   },
   {
    "duration": 17,
    "start_time": "2021-12-01T10:59:07.334Z"
   },
   {
    "duration": 9,
    "start_time": "2021-12-01T10:59:07.353Z"
   },
   {
    "duration": 59,
    "start_time": "2021-12-01T10:59:07.364Z"
   },
   {
    "duration": 8,
    "start_time": "2021-12-01T10:59:07.433Z"
   },
   {
    "duration": 12,
    "start_time": "2021-12-01T10:59:07.444Z"
   },
   {
    "duration": 5,
    "start_time": "2021-12-01T10:59:07.458Z"
   },
   {
    "duration": 15,
    "start_time": "2021-12-01T10:59:07.465Z"
   },
   {
    "duration": 11,
    "start_time": "2021-12-01T10:59:07.482Z"
   },
   {
    "duration": 34,
    "start_time": "2021-12-01T10:59:07.495Z"
   },
   {
    "duration": 21,
    "start_time": "2021-12-01T10:59:07.531Z"
   },
   {
    "duration": 6,
    "start_time": "2021-12-01T10:59:09.601Z"
   },
   {
    "duration": 6,
    "start_time": "2021-12-01T10:59:09.983Z"
   },
   {
    "duration": 6,
    "start_time": "2021-12-01T11:00:01.663Z"
   },
   {
    "duration": 7,
    "start_time": "2021-12-01T11:00:02.641Z"
   },
   {
    "duration": 155,
    "start_time": "2021-12-01T11:00:35.417Z"
   },
   {
    "duration": 7,
    "start_time": "2021-12-01T11:00:35.924Z"
   },
   {
    "duration": 7,
    "start_time": "2021-12-01T11:00:41.282Z"
   },
   {
    "duration": 7,
    "start_time": "2021-12-01T11:00:42.291Z"
   },
   {
    "duration": 11,
    "start_time": "2021-12-01T11:00:45.503Z"
   },
   {
    "duration": 6,
    "start_time": "2021-12-01T11:00:45.922Z"
   },
   {
    "duration": 9,
    "start_time": "2021-12-01T11:00:48.794Z"
   },
   {
    "duration": 6,
    "start_time": "2021-12-01T11:00:49.146Z"
   },
   {
    "duration": 8,
    "start_time": "2021-12-01T11:01:00.044Z"
   },
   {
    "duration": 668,
    "start_time": "2021-12-01T11:01:17.938Z"
   },
   {
    "duration": 6,
    "start_time": "2021-12-01T11:01:18.609Z"
   },
   {
    "duration": 89,
    "start_time": "2021-12-01T11:01:18.619Z"
   },
   {
    "duration": 18,
    "start_time": "2021-12-01T11:01:18.711Z"
   },
   {
    "duration": 44,
    "start_time": "2021-12-01T11:01:18.731Z"
   },
   {
    "duration": 4,
    "start_time": "2021-12-01T11:01:18.777Z"
   },
   {
    "duration": 27,
    "start_time": "2021-12-01T11:01:18.783Z"
   },
   {
    "duration": 17,
    "start_time": "2021-12-01T11:01:18.812Z"
   },
   {
    "duration": 15,
    "start_time": "2021-12-01T11:01:18.833Z"
   },
   {
    "duration": 15,
    "start_time": "2021-12-01T11:01:18.851Z"
   },
   {
    "duration": 8,
    "start_time": "2021-12-01T11:01:18.868Z"
   },
   {
    "duration": 33,
    "start_time": "2021-12-01T11:01:18.878Z"
   },
   {
    "duration": 21,
    "start_time": "2021-12-01T11:01:18.914Z"
   },
   {
    "duration": 7,
    "start_time": "2021-12-01T11:01:22.193Z"
   },
   {
    "duration": 7,
    "start_time": "2021-12-01T11:01:24.830Z"
   },
   {
    "duration": 11,
    "start_time": "2021-12-01T11:01:25.705Z"
   },
   {
    "duration": 14,
    "start_time": "2021-12-01T11:01:27.705Z"
   },
   {
    "duration": 10,
    "start_time": "2021-12-01T11:01:30.503Z"
   },
   {
    "duration": 7,
    "start_time": "2021-12-01T11:01:31.199Z"
   },
   {
    "duration": 10,
    "start_time": "2021-12-01T11:01:35.371Z"
   },
   {
    "duration": 6,
    "start_time": "2021-12-01T11:01:35.736Z"
   },
   {
    "duration": 10,
    "start_time": "2021-12-01T11:01:37.995Z"
   },
   {
    "duration": 9,
    "start_time": "2021-12-01T11:01:38.383Z"
   },
   {
    "duration": 5,
    "start_time": "2021-12-01T11:01:54.236Z"
   },
   {
    "duration": 5,
    "start_time": "2021-12-01T11:01:54.574Z"
   },
   {
    "duration": 9,
    "start_time": "2021-12-01T11:01:57.438Z"
   },
   {
    "duration": 4,
    "start_time": "2021-12-01T11:01:57.828Z"
   },
   {
    "duration": 6,
    "start_time": "2021-12-01T11:02:01.225Z"
   },
   {
    "duration": 5,
    "start_time": "2021-12-01T11:02:01.575Z"
   },
   {
    "duration": 7,
    "start_time": "2021-12-01T11:02:05.238Z"
   },
   {
    "duration": 5,
    "start_time": "2021-12-01T11:02:05.540Z"
   },
   {
    "duration": 9,
    "start_time": "2021-12-01T11:04:18.468Z"
   },
   {
    "duration": 6,
    "start_time": "2021-12-01T11:04:18.666Z"
   },
   {
    "duration": 4,
    "start_time": "2021-12-01T11:04:22.779Z"
   },
   {
    "duration": 5,
    "start_time": "2021-12-01T11:04:23.195Z"
   },
   {
    "duration": 647,
    "start_time": "2021-12-01T11:04:36.307Z"
   },
   {
    "duration": 5,
    "start_time": "2021-12-01T11:04:36.955Z"
   },
   {
    "duration": 69,
    "start_time": "2021-12-01T11:04:36.964Z"
   },
   {
    "duration": 12,
    "start_time": "2021-12-01T11:04:37.034Z"
   },
   {
    "duration": 50,
    "start_time": "2021-12-01T11:04:37.047Z"
   },
   {
    "duration": 17,
    "start_time": "2021-12-01T11:04:37.098Z"
   },
   {
    "duration": 13,
    "start_time": "2021-12-01T11:04:37.118Z"
   },
   {
    "duration": 20,
    "start_time": "2021-12-01T11:04:37.133Z"
   },
   {
    "duration": 12,
    "start_time": "2021-12-01T11:04:37.155Z"
   },
   {
    "duration": 21,
    "start_time": "2021-12-01T11:04:37.169Z"
   },
   {
    "duration": 11,
    "start_time": "2021-12-01T11:04:37.192Z"
   },
   {
    "duration": 20,
    "start_time": "2021-12-01T11:04:37.207Z"
   },
   {
    "duration": 40,
    "start_time": "2021-12-01T11:04:37.229Z"
   },
   {
    "duration": 5,
    "start_time": "2021-12-01T11:04:37.270Z"
   },
   {
    "duration": 20,
    "start_time": "2021-12-01T11:04:37.276Z"
   },
   {
    "duration": 27,
    "start_time": "2021-12-01T11:04:37.298Z"
   },
   {
    "duration": 27,
    "start_time": "2021-12-01T11:04:37.328Z"
   },
   {
    "duration": 9,
    "start_time": "2021-12-01T11:04:39.578Z"
   },
   {
    "duration": 6,
    "start_time": "2021-12-01T11:04:40.307Z"
   },
   {
    "duration": 443,
    "start_time": "2021-12-01T11:05:40.242Z"
   },
   {
    "duration": 6,
    "start_time": "2021-12-01T11:05:47.666Z"
   },
   {
    "duration": 7,
    "start_time": "2021-12-01T11:05:49.919Z"
   },
   {
    "duration": 658,
    "start_time": "2021-12-01T11:05:59.923Z"
   },
   {
    "duration": 5,
    "start_time": "2021-12-01T11:06:00.583Z"
   },
   {
    "duration": 80,
    "start_time": "2021-12-01T11:06:00.591Z"
   },
   {
    "duration": 12,
    "start_time": "2021-12-01T11:06:00.672Z"
   },
   {
    "duration": 31,
    "start_time": "2021-12-01T11:06:00.685Z"
   },
   {
    "duration": 5,
    "start_time": "2021-12-01T11:06:00.719Z"
   },
   {
    "duration": 10,
    "start_time": "2021-12-01T11:06:00.726Z"
   },
   {
    "duration": 24,
    "start_time": "2021-12-01T11:06:00.737Z"
   },
   {
    "duration": 11,
    "start_time": "2021-12-01T11:06:00.764Z"
   },
   {
    "duration": 34,
    "start_time": "2021-12-01T11:06:00.777Z"
   },
   {
    "duration": 6,
    "start_time": "2021-12-01T11:06:00.814Z"
   },
   {
    "duration": 14,
    "start_time": "2021-12-01T11:06:00.823Z"
   },
   {
    "duration": 30,
    "start_time": "2021-12-01T11:06:00.838Z"
   },
   {
    "duration": 4,
    "start_time": "2021-12-01T11:06:00.870Z"
   },
   {
    "duration": 13,
    "start_time": "2021-12-01T11:06:00.876Z"
   },
   {
    "duration": 12,
    "start_time": "2021-12-01T11:06:00.891Z"
   },
   {
    "duration": 21,
    "start_time": "2021-12-01T11:06:00.904Z"
   },
   {
    "duration": 12,
    "start_time": "2021-12-01T11:06:06.324Z"
   },
   {
    "duration": 5,
    "start_time": "2021-12-01T11:06:06.654Z"
   },
   {
    "duration": 5,
    "start_time": "2021-12-01T11:06:45.798Z"
   },
   {
    "duration": 4,
    "start_time": "2021-12-01T11:07:20.783Z"
   },
   {
    "duration": 4,
    "start_time": "2021-12-01T11:07:38.789Z"
   },
   {
    "duration": 4,
    "start_time": "2021-12-01T11:07:39.082Z"
   },
   {
    "duration": 5,
    "start_time": "2021-12-01T11:07:39.644Z"
   },
   {
    "duration": 6,
    "start_time": "2021-12-01T11:07:44.408Z"
   },
   {
    "duration": 10,
    "start_time": "2021-12-01T11:07:49.513Z"
   },
   {
    "duration": 698,
    "start_time": "2021-12-01T11:08:00.511Z"
   },
   {
    "duration": 7,
    "start_time": "2021-12-01T11:08:01.215Z"
   },
   {
    "duration": 69,
    "start_time": "2021-12-01T11:08:01.226Z"
   },
   {
    "duration": 14,
    "start_time": "2021-12-01T11:08:01.297Z"
   },
   {
    "duration": 46,
    "start_time": "2021-12-01T11:08:01.313Z"
   },
   {
    "duration": 11,
    "start_time": "2021-12-01T11:08:01.360Z"
   },
   {
    "duration": 17,
    "start_time": "2021-12-01T11:08:01.372Z"
   },
   {
    "duration": 47,
    "start_time": "2021-12-01T11:08:01.390Z"
   },
   {
    "duration": 11,
    "start_time": "2021-12-01T11:08:01.440Z"
   },
   {
    "duration": 23,
    "start_time": "2021-12-01T11:08:01.453Z"
   },
   {
    "duration": 50,
    "start_time": "2021-12-01T11:08:01.477Z"
   },
   {
    "duration": 20,
    "start_time": "2021-12-01T11:08:01.528Z"
   },
   {
    "duration": 19,
    "start_time": "2021-12-01T11:08:01.550Z"
   },
   {
    "duration": 21,
    "start_time": "2021-12-01T11:08:01.571Z"
   },
   {
    "duration": 56,
    "start_time": "2021-12-01T11:08:01.594Z"
   },
   {
    "duration": 46,
    "start_time": "2021-12-01T11:08:01.651Z"
   },
   {
    "duration": 32,
    "start_time": "2021-12-01T11:08:01.699Z"
   },
   {
    "duration": 4,
    "start_time": "2021-12-01T11:08:01.733Z"
   },
   {
    "duration": 8,
    "start_time": "2021-12-01T11:08:04.708Z"
   },
   {
    "duration": 19,
    "start_time": "2021-12-01T11:08:05.656Z"
   },
   {
    "duration": 13,
    "start_time": "2021-12-01T11:08:21.232Z"
   },
   {
    "duration": 5,
    "start_time": "2021-12-01T11:08:22.159Z"
   },
   {
    "duration": 4,
    "start_time": "2021-12-01T11:10:30.772Z"
   },
   {
    "duration": 4,
    "start_time": "2021-12-01T11:10:41.036Z"
   },
   {
    "duration": 4,
    "start_time": "2021-12-01T11:10:48.655Z"
   },
   {
    "duration": 718,
    "start_time": "2021-12-01T11:10:58.817Z"
   },
   {
    "duration": 5,
    "start_time": "2021-12-01T11:10:59.538Z"
   },
   {
    "duration": 69,
    "start_time": "2021-12-01T11:10:59.548Z"
   },
   {
    "duration": 15,
    "start_time": "2021-12-01T11:10:59.620Z"
   },
   {
    "duration": 28,
    "start_time": "2021-12-01T11:10:59.637Z"
   },
   {
    "duration": 6,
    "start_time": "2021-12-01T11:10:59.667Z"
   },
   {
    "duration": 34,
    "start_time": "2021-12-01T11:10:59.674Z"
   },
   {
    "duration": 22,
    "start_time": "2021-12-01T11:10:59.710Z"
   },
   {
    "duration": 17,
    "start_time": "2021-12-01T11:10:59.736Z"
   },
   {
    "duration": 10,
    "start_time": "2021-12-01T11:10:59.755Z"
   },
   {
    "duration": 19,
    "start_time": "2021-12-01T11:10:59.767Z"
   },
   {
    "duration": 22,
    "start_time": "2021-12-01T11:10:59.789Z"
   },
   {
    "duration": 29,
    "start_time": "2021-12-01T11:10:59.814Z"
   },
   {
    "duration": 11,
    "start_time": "2021-12-01T11:10:59.845Z"
   },
   {
    "duration": 17,
    "start_time": "2021-12-01T11:10:59.858Z"
   },
   {
    "duration": 23,
    "start_time": "2021-12-01T11:10:59.877Z"
   },
   {
    "duration": 21,
    "start_time": "2021-12-01T11:10:59.902Z"
   },
   {
    "duration": 6,
    "start_time": "2021-12-01T11:11:02.156Z"
   },
   {
    "duration": 7,
    "start_time": "2021-12-01T11:11:07.157Z"
   },
   {
    "duration": 30,
    "start_time": "2021-12-01T11:11:07.837Z"
   },
   {
    "duration": 7,
    "start_time": "2021-12-01T11:13:05.729Z"
   },
   {
    "duration": 5,
    "start_time": "2021-12-01T11:13:17.872Z"
   },
   {
    "duration": 6,
    "start_time": "2021-12-01T11:13:20.241Z"
   },
   {
    "duration": 5,
    "start_time": "2021-12-01T11:13:20.624Z"
   },
   {
    "duration": 735,
    "start_time": "2021-12-01T11:13:36.018Z"
   },
   {
    "duration": 5,
    "start_time": "2021-12-01T11:13:36.756Z"
   },
   {
    "duration": 73,
    "start_time": "2021-12-01T11:13:36.765Z"
   },
   {
    "duration": 11,
    "start_time": "2021-12-01T11:13:36.840Z"
   },
   {
    "duration": 36,
    "start_time": "2021-12-01T11:13:36.853Z"
   },
   {
    "duration": 7,
    "start_time": "2021-12-01T11:13:36.891Z"
   },
   {
    "duration": 30,
    "start_time": "2021-12-01T11:13:36.900Z"
   },
   {
    "duration": 28,
    "start_time": "2021-12-01T11:13:36.932Z"
   },
   {
    "duration": 15,
    "start_time": "2021-12-01T11:13:36.963Z"
   },
   {
    "duration": 18,
    "start_time": "2021-12-01T11:13:36.980Z"
   },
   {
    "duration": 18,
    "start_time": "2021-12-01T11:13:37.000Z"
   },
   {
    "duration": 14,
    "start_time": "2021-12-01T11:13:37.020Z"
   },
   {
    "duration": 25,
    "start_time": "2021-12-01T11:13:37.036Z"
   },
   {
    "duration": 12,
    "start_time": "2021-12-01T11:13:37.062Z"
   },
   {
    "duration": 25,
    "start_time": "2021-12-01T11:13:37.076Z"
   },
   {
    "duration": 18,
    "start_time": "2021-12-01T11:13:37.103Z"
   },
   {
    "duration": 22,
    "start_time": "2021-12-01T11:13:37.123Z"
   },
   {
    "duration": 6,
    "start_time": "2021-12-01T11:13:38.698Z"
   },
   {
    "duration": 5,
    "start_time": "2021-12-01T11:13:40.198Z"
   },
   {
    "duration": 11250,
    "start_time": "2021-12-01T11:14:22.846Z"
   },
   {
    "duration": 1042,
    "start_time": "2021-12-01T11:14:33.056Z"
   },
   {
    "duration": 414,
    "start_time": "2021-12-01T11:17:01.236Z"
   },
   {
    "duration": 37,
    "start_time": "2021-12-01T11:17:25.418Z"
   },
   {
    "duration": 6,
    "start_time": "2021-12-01T11:17:27.035Z"
   },
   {
    "duration": 4988,
    "start_time": "2021-12-01T11:18:01.133Z"
   },
   {
    "duration": 1091,
    "start_time": "2021-12-01T11:18:05.033Z"
   },
   {
    "duration": 1602,
    "start_time": "2021-12-01T11:19:19.658Z"
   },
   {
    "duration": 170,
    "start_time": "2021-12-01T11:20:26.185Z"
   },
   {
    "duration": 7,
    "start_time": "2021-12-01T11:20:27.495Z"
   },
   {
    "duration": 189,
    "start_time": "2021-12-01T11:21:12.926Z"
   },
   {
    "duration": 6,
    "start_time": "2021-12-01T11:21:13.227Z"
   },
   {
    "duration": 2,
    "start_time": "2021-12-01T11:21:21.875Z"
   },
   {
    "duration": 10,
    "start_time": "2021-12-01T11:21:21.879Z"
   },
   {
    "duration": 70,
    "start_time": "2021-12-01T11:21:21.892Z"
   },
   {
    "duration": 11,
    "start_time": "2021-12-01T11:21:21.964Z"
   },
   {
    "duration": 35,
    "start_time": "2021-12-01T11:21:21.976Z"
   },
   {
    "duration": 21,
    "start_time": "2021-12-01T11:21:22.013Z"
   },
   {
    "duration": 22,
    "start_time": "2021-12-01T11:21:22.036Z"
   },
   {
    "duration": 18,
    "start_time": "2021-12-01T11:21:22.060Z"
   },
   {
    "duration": 12,
    "start_time": "2021-12-01T11:21:22.082Z"
   },
   {
    "duration": 10,
    "start_time": "2021-12-01T11:21:22.097Z"
   },
   {
    "duration": 4,
    "start_time": "2021-12-01T11:21:22.110Z"
   },
   {
    "duration": 14,
    "start_time": "2021-12-01T11:21:22.116Z"
   },
   {
    "duration": 16,
    "start_time": "2021-12-01T11:21:22.132Z"
   },
   {
    "duration": 5,
    "start_time": "2021-12-01T11:21:22.150Z"
   },
   {
    "duration": 11,
    "start_time": "2021-12-01T11:21:22.157Z"
   },
   {
    "duration": 16,
    "start_time": "2021-12-01T11:21:22.170Z"
   },
   {
    "duration": 29,
    "start_time": "2021-12-01T11:21:22.188Z"
   },
   {
    "duration": 7007,
    "start_time": "2021-12-01T11:21:22.219Z"
   },
   {
    "duration": 5,
    "start_time": "2021-12-01T11:21:29.228Z"
   },
   {
    "duration": 19,
    "start_time": "2021-12-01T11:21:29.235Z"
   },
   {
    "duration": 200,
    "start_time": "2021-12-01T11:21:29.256Z"
   },
   {
    "duration": 5,
    "start_time": "2021-12-01T11:21:29.458Z"
   },
   {
    "duration": 73,
    "start_time": "2021-12-01T11:21:29.465Z"
   },
   {
    "duration": 25,
    "start_time": "2021-12-01T11:21:29.540Z"
   },
   {
    "duration": 21,
    "start_time": "2021-12-01T11:21:29.567Z"
   },
   {
    "duration": 24,
    "start_time": "2021-12-01T11:21:29.608Z"
   },
   {
    "duration": 10,
    "start_time": "2021-12-01T11:21:29.636Z"
   },
   {
    "duration": 30,
    "start_time": "2021-12-01T11:21:29.648Z"
   },
   {
    "duration": 31,
    "start_time": "2021-12-01T11:21:29.679Z"
   },
   {
    "duration": 25,
    "start_time": "2021-12-01T11:21:29.712Z"
   },
   {
    "duration": 32,
    "start_time": "2021-12-01T11:21:29.739Z"
   },
   {
    "duration": 31,
    "start_time": "2021-12-01T11:21:29.773Z"
   },
   {
    "duration": 21,
    "start_time": "2021-12-01T11:21:29.807Z"
   },
   {
    "duration": 24,
    "start_time": "2021-12-01T11:21:29.829Z"
   },
   {
    "duration": 4409,
    "start_time": "2021-12-01T11:21:29.854Z"
   },
   {
    "duration": 20,
    "start_time": "2021-12-01T11:21:34.265Z"
   },
   {
    "duration": 20,
    "start_time": "2021-12-01T11:21:34.288Z"
   },
   {
    "duration": 17,
    "start_time": "2021-12-01T11:21:34.310Z"
   },
   {
    "duration": 7,
    "start_time": "2021-12-01T11:21:34.329Z"
   },
   {
    "duration": 6801,
    "start_time": "2021-12-01T11:21:34.338Z"
   },
   {
    "duration": 8,
    "start_time": "2021-12-01T11:21:41.140Z"
   },
   {
    "duration": 29,
    "start_time": "2021-12-01T11:21:41.151Z"
   },
   {
    "duration": 30,
    "start_time": "2021-12-01T11:21:41.182Z"
   },
   {
    "duration": 2569,
    "start_time": "2021-12-01T11:21:45.387Z"
   },
   {
    "duration": 2346,
    "start_time": "2021-12-01T11:21:53.796Z"
   },
   {
    "duration": 3879,
    "start_time": "2021-12-01T11:21:58.594Z"
   },
   {
    "duration": 7,
    "start_time": "2021-12-01T11:22:02.475Z"
   },
   {
    "duration": 4,
    "start_time": "2021-12-01T11:22:42.334Z"
   },
   {
    "duration": 5,
    "start_time": "2021-12-01T11:22:44.405Z"
   },
   {
    "duration": 995,
    "start_time": "2021-12-01T11:23:38.567Z"
   },
   {
    "duration": 122,
    "start_time": "2021-12-01T11:23:41.674Z"
   },
   {
    "duration": 2,
    "start_time": "2021-12-01T11:24:06.863Z"
   },
   {
    "duration": 2,
    "start_time": "2021-12-01T11:24:09.560Z"
   },
   {
    "duration": 23,
    "start_time": "2021-12-01T11:24:45.906Z"
   },
   {
    "duration": 19,
    "start_time": "2021-12-01T11:24:58.227Z"
   },
   {
    "duration": 13,
    "start_time": "2021-12-01T11:25:00.727Z"
   },
   {
    "duration": 13,
    "start_time": "2021-12-01T11:25:06.137Z"
   },
   {
    "duration": 6,
    "start_time": "2021-12-01T11:25:11.072Z"
   },
   {
    "duration": 6,
    "start_time": "2021-12-01T11:25:17.575Z"
   },
   {
    "duration": 5,
    "start_time": "2021-12-01T11:25:25.853Z"
   },
   {
    "duration": 6,
    "start_time": "2021-12-01T11:25:34.217Z"
   },
   {
    "duration": 9,
    "start_time": "2021-12-01T11:25:50.017Z"
   },
   {
    "duration": 12,
    "start_time": "2021-12-01T11:26:23.274Z"
   },
   {
    "duration": 12,
    "start_time": "2021-12-01T11:26:42.911Z"
   },
   {
    "duration": 9,
    "start_time": "2021-12-01T11:27:05.317Z"
   },
   {
    "duration": 7,
    "start_time": "2021-12-01T11:27:29.020Z"
   },
   {
    "duration": 7,
    "start_time": "2021-12-01T11:27:59.403Z"
   },
   {
    "duration": 4,
    "start_time": "2021-12-01T11:28:07.109Z"
   },
   {
    "duration": 5,
    "start_time": "2021-12-01T11:28:09.181Z"
   },
   {
    "duration": 6,
    "start_time": "2021-12-01T11:28:12.000Z"
   },
   {
    "duration": 6,
    "start_time": "2021-12-01T11:28:14.618Z"
   },
   {
    "duration": 6,
    "start_time": "2021-12-01T11:28:44.285Z"
   },
   {
    "duration": 7,
    "start_time": "2021-12-01T11:28:53.946Z"
   },
   {
    "duration": 8,
    "start_time": "2021-12-01T11:29:05.516Z"
   },
   {
    "duration": 8,
    "start_time": "2021-12-01T12:38:23.588Z"
   },
   {
    "duration": 7,
    "start_time": "2021-12-01T12:38:27.636Z"
   },
   {
    "duration": 7,
    "start_time": "2021-12-01T12:38:37.712Z"
   },
   {
    "duration": 6,
    "start_time": "2021-12-01T12:39:08.269Z"
   },
   {
    "duration": 6,
    "start_time": "2021-12-01T12:43:13.826Z"
   },
   {
    "duration": 8,
    "start_time": "2021-12-01T12:47:18.694Z"
   },
   {
    "duration": 13,
    "start_time": "2021-12-01T12:47:27.741Z"
   },
   {
    "duration": 14,
    "start_time": "2021-12-01T12:47:34.026Z"
   },
   {
    "duration": 13,
    "start_time": "2021-12-01T12:47:36.912Z"
   },
   {
    "duration": 360,
    "start_time": "2021-12-01T12:47:46.920Z"
   },
   {
    "duration": 384,
    "start_time": "2021-12-01T12:47:48.791Z"
   },
   {
    "duration": 7,
    "start_time": "2021-12-01T12:47:58.517Z"
   },
   {
    "duration": 7,
    "start_time": "2021-12-01T12:48:03.371Z"
   },
   {
    "duration": 15,
    "start_time": "2021-12-01T12:48:17.030Z"
   },
   {
    "duration": 8,
    "start_time": "2021-12-01T12:48:33.134Z"
   },
   {
    "duration": 7,
    "start_time": "2021-12-01T12:48:38.321Z"
   },
   {
    "duration": 19,
    "start_time": "2021-12-01T12:49:17.011Z"
   },
   {
    "duration": 8,
    "start_time": "2021-12-01T12:49:18.359Z"
   },
   {
    "duration": 5,
    "start_time": "2021-12-01T12:49:25.981Z"
   },
   {
    "duration": 3,
    "start_time": "2021-12-01T12:50:20.630Z"
   },
   {
    "duration": 24,
    "start_time": "2021-12-01T12:50:20.635Z"
   },
   {
    "duration": 76,
    "start_time": "2021-12-01T12:50:20.661Z"
   },
   {
    "duration": 12,
    "start_time": "2021-12-01T12:50:20.739Z"
   },
   {
    "duration": 22,
    "start_time": "2021-12-01T12:50:20.753Z"
   },
   {
    "duration": 32,
    "start_time": "2021-12-01T12:50:20.777Z"
   },
   {
    "duration": 14,
    "start_time": "2021-12-01T12:50:20.812Z"
   },
   {
    "duration": 16,
    "start_time": "2021-12-01T12:50:20.830Z"
   },
   {
    "duration": 11,
    "start_time": "2021-12-01T12:50:20.849Z"
   },
   {
    "duration": 9,
    "start_time": "2021-12-01T12:50:20.862Z"
   },
   {
    "duration": 3,
    "start_time": "2021-12-01T12:50:20.873Z"
   },
   {
    "duration": 32,
    "start_time": "2021-12-01T12:50:20.879Z"
   },
   {
    "duration": 23,
    "start_time": "2021-12-01T12:50:20.914Z"
   },
   {
    "duration": 5,
    "start_time": "2021-12-01T12:50:20.939Z"
   },
   {
    "duration": 13,
    "start_time": "2021-12-01T12:50:20.945Z"
   },
   {
    "duration": 32,
    "start_time": "2021-12-01T12:50:20.960Z"
   },
   {
    "duration": 18,
    "start_time": "2021-12-01T12:50:20.994Z"
   },
   {
    "duration": 7410,
    "start_time": "2021-12-01T12:50:21.014Z"
   },
   {
    "duration": 6,
    "start_time": "2021-12-01T12:50:28.426Z"
   },
   {
    "duration": 32,
    "start_time": "2021-12-01T12:50:28.433Z"
   },
   {
    "duration": 224,
    "start_time": "2021-12-01T12:50:28.467Z"
   },
   {
    "duration": 6,
    "start_time": "2021-12-01T12:50:28.692Z"
   },
   {
    "duration": 50,
    "start_time": "2021-12-01T12:50:28.708Z"
   },
   {
    "duration": 34,
    "start_time": "2021-12-01T12:50:28.761Z"
   },
   {
    "duration": 29,
    "start_time": "2021-12-01T12:50:28.797Z"
   },
   {
    "duration": 19,
    "start_time": "2021-12-01T12:50:28.831Z"
   },
   {
    "duration": 10,
    "start_time": "2021-12-01T12:50:28.852Z"
   },
   {
    "duration": 18,
    "start_time": "2021-12-01T12:50:28.864Z"
   },
   {
    "duration": 26,
    "start_time": "2021-12-01T12:50:28.884Z"
   },
   {
    "duration": 23,
    "start_time": "2021-12-01T12:50:28.912Z"
   },
   {
    "duration": 32,
    "start_time": "2021-12-01T12:50:28.937Z"
   },
   {
    "duration": 28,
    "start_time": "2021-12-01T12:50:28.971Z"
   },
   {
    "duration": 38,
    "start_time": "2021-12-01T12:50:29.001Z"
   },
   {
    "duration": 20,
    "start_time": "2021-12-01T12:50:29.041Z"
   },
   {
    "duration": 4133,
    "start_time": "2021-12-01T12:50:29.063Z"
   },
   {
    "duration": 15,
    "start_time": "2021-12-01T12:50:33.198Z"
   },
   {
    "duration": 15,
    "start_time": "2021-12-01T12:50:33.220Z"
   },
   {
    "duration": 27,
    "start_time": "2021-12-01T12:50:33.237Z"
   },
   {
    "duration": 6,
    "start_time": "2021-12-01T12:50:33.267Z"
   },
   {
    "duration": 6955,
    "start_time": "2021-12-01T12:50:33.275Z"
   },
   {
    "duration": 8,
    "start_time": "2021-12-01T12:50:40.232Z"
   },
   {
    "duration": 20,
    "start_time": "2021-12-01T12:50:40.242Z"
   },
   {
    "duration": 10,
    "start_time": "2021-12-01T12:50:40.264Z"
   },
   {
    "duration": 3469,
    "start_time": "2021-12-01T12:50:40.276Z"
   },
   {
    "duration": 5,
    "start_time": "2021-12-01T12:50:43.747Z"
   },
   {
    "duration": 1130,
    "start_time": "2021-12-01T12:50:49.000Z"
   },
   {
    "duration": 6,
    "start_time": "2021-12-01T12:50:50.133Z"
   },
   {
    "duration": 6,
    "start_time": "2021-12-01T12:51:01.600Z"
   },
   {
    "duration": 4,
    "start_time": "2021-12-01T12:52:03.330Z"
   },
   {
    "duration": 14,
    "start_time": "2021-12-01T12:52:04.911Z"
   },
   {
    "duration": 3496,
    "start_time": "2021-12-01T12:52:36.931Z"
   },
   {
    "duration": 3670,
    "start_time": "2021-12-01T12:52:49.200Z"
   },
   {
    "duration": 17,
    "start_time": "2021-12-01T12:52:54.900Z"
   },
   {
    "duration": 3739,
    "start_time": "2021-12-01T12:53:33.199Z"
   },
   {
    "duration": 719,
    "start_time": "2021-12-01T12:53:41.358Z"
   },
   {
    "duration": 4,
    "start_time": "2021-12-01T12:53:42.079Z"
   },
   {
    "duration": 68,
    "start_time": "2021-12-01T12:53:42.087Z"
   },
   {
    "duration": 15,
    "start_time": "2021-12-01T12:53:42.157Z"
   },
   {
    "duration": 44,
    "start_time": "2021-12-01T12:53:42.174Z"
   },
   {
    "duration": 5,
    "start_time": "2021-12-01T12:53:42.220Z"
   },
   {
    "duration": 18,
    "start_time": "2021-12-01T12:53:42.227Z"
   },
   {
    "duration": 26,
    "start_time": "2021-12-01T12:53:42.247Z"
   },
   {
    "duration": 12,
    "start_time": "2021-12-01T12:53:42.276Z"
   },
   {
    "duration": 30,
    "start_time": "2021-12-01T12:53:42.290Z"
   },
   {
    "duration": 4,
    "start_time": "2021-12-01T12:53:42.321Z"
   },
   {
    "duration": 10,
    "start_time": "2021-12-01T12:53:42.327Z"
   },
   {
    "duration": 35,
    "start_time": "2021-12-01T12:53:42.338Z"
   },
   {
    "duration": 5,
    "start_time": "2021-12-01T12:53:42.375Z"
   },
   {
    "duration": 19,
    "start_time": "2021-12-01T12:53:42.382Z"
   },
   {
    "duration": 16,
    "start_time": "2021-12-01T12:53:42.403Z"
   },
   {
    "duration": 21,
    "start_time": "2021-12-01T12:53:42.421Z"
   },
   {
    "duration": 7185,
    "start_time": "2021-12-01T12:53:42.443Z"
   },
   {
    "duration": 5,
    "start_time": "2021-12-01T12:53:49.630Z"
   },
   {
    "duration": 19,
    "start_time": "2021-12-01T12:53:49.636Z"
   },
   {
    "duration": 187,
    "start_time": "2021-12-01T12:53:49.657Z"
   },
   {
    "duration": 7,
    "start_time": "2021-12-01T12:53:49.845Z"
   },
   {
    "duration": 70,
    "start_time": "2021-12-01T12:53:49.855Z"
   },
   {
    "duration": 25,
    "start_time": "2021-12-01T12:53:49.927Z"
   },
   {
    "duration": 23,
    "start_time": "2021-12-01T12:53:49.954Z"
   },
   {
    "duration": 42,
    "start_time": "2021-12-01T12:53:49.979Z"
   },
   {
    "duration": 9,
    "start_time": "2021-12-01T12:53:50.025Z"
   },
   {
    "duration": 12,
    "start_time": "2021-12-01T12:53:50.036Z"
   },
   {
    "duration": 10,
    "start_time": "2021-12-01T12:53:50.049Z"
   },
   {
    "duration": 19,
    "start_time": "2021-12-01T12:53:50.061Z"
   },
   {
    "duration": 28,
    "start_time": "2021-12-01T12:53:50.082Z"
   },
   {
    "duration": 14,
    "start_time": "2021-12-01T12:53:50.111Z"
   },
   {
    "duration": 12,
    "start_time": "2021-12-01T12:53:50.127Z"
   },
   {
    "duration": 14,
    "start_time": "2021-12-01T12:53:50.141Z"
   },
   {
    "duration": 3922,
    "start_time": "2021-12-01T12:53:50.157Z"
   },
   {
    "duration": 28,
    "start_time": "2021-12-01T12:53:54.082Z"
   },
   {
    "duration": 13,
    "start_time": "2021-12-01T12:53:54.112Z"
   },
   {
    "duration": 12,
    "start_time": "2021-12-01T12:53:54.127Z"
   },
   {
    "duration": 11,
    "start_time": "2021-12-01T12:53:54.140Z"
   },
   {
    "duration": 6839,
    "start_time": "2021-12-01T12:53:54.152Z"
   },
   {
    "duration": 14,
    "start_time": "2021-12-01T12:54:00.993Z"
   },
   {
    "duration": 32,
    "start_time": "2021-12-01T12:54:01.009Z"
   },
   {
    "duration": 26,
    "start_time": "2021-12-01T12:54:01.043Z"
   },
   {
    "duration": 3743,
    "start_time": "2021-12-01T12:54:01.071Z"
   },
   {
    "duration": 9029,
    "start_time": "2021-12-01T12:54:04.817Z"
   },
   {
    "duration": 1595,
    "start_time": "2021-12-01T12:54:12.253Z"
   },
   {
    "duration": 1590,
    "start_time": "2021-12-01T12:54:12.259Z"
   },
   {
    "duration": 1578,
    "start_time": "2021-12-01T12:54:12.273Z"
   },
   {
    "duration": 1565,
    "start_time": "2021-12-01T12:54:12.287Z"
   },
   {
    "duration": 1549,
    "start_time": "2021-12-01T12:54:12.304Z"
   },
   {
    "duration": 1544,
    "start_time": "2021-12-01T12:54:12.310Z"
   },
   {
    "duration": 1534,
    "start_time": "2021-12-01T12:54:12.322Z"
   },
   {
    "duration": 1529,
    "start_time": "2021-12-01T12:54:12.328Z"
   },
   {
    "duration": 1525,
    "start_time": "2021-12-01T12:54:12.333Z"
   },
   {
    "duration": 8,
    "start_time": "2021-12-01T12:54:59.797Z"
   },
   {
    "duration": 5,
    "start_time": "2021-12-01T12:56:32.497Z"
   },
   {
    "duration": 8974,
    "start_time": "2021-12-01T12:56:35.747Z"
   },
   {
    "duration": 7,
    "start_time": "2021-12-01T12:56:54.597Z"
   },
   {
    "duration": 7,
    "start_time": "2021-12-01T12:57:57.898Z"
   },
   {
    "duration": 687,
    "start_time": "2021-12-01T12:58:20.367Z"
   },
   {
    "duration": 6,
    "start_time": "2021-12-01T12:58:21.056Z"
   },
   {
    "duration": 97,
    "start_time": "2021-12-01T12:58:21.066Z"
   },
   {
    "duration": 15,
    "start_time": "2021-12-01T12:58:21.166Z"
   },
   {
    "duration": 48,
    "start_time": "2021-12-01T12:58:21.184Z"
   },
   {
    "duration": 5,
    "start_time": "2021-12-01T12:58:21.234Z"
   },
   {
    "duration": 37,
    "start_time": "2021-12-01T12:58:21.241Z"
   },
   {
    "duration": 21,
    "start_time": "2021-12-01T12:58:21.281Z"
   },
   {
    "duration": 21,
    "start_time": "2021-12-01T12:58:21.305Z"
   },
   {
    "duration": 20,
    "start_time": "2021-12-01T12:58:21.328Z"
   },
   {
    "duration": 8,
    "start_time": "2021-12-01T12:58:21.350Z"
   },
   {
    "duration": 15,
    "start_time": "2021-12-01T12:58:21.360Z"
   },
   {
    "duration": 25,
    "start_time": "2021-12-01T12:58:21.377Z"
   },
   {
    "duration": 13,
    "start_time": "2021-12-01T12:58:21.403Z"
   },
   {
    "duration": 17,
    "start_time": "2021-12-01T12:58:21.418Z"
   },
   {
    "duration": 16,
    "start_time": "2021-12-01T12:58:21.437Z"
   },
   {
    "duration": 30,
    "start_time": "2021-12-01T12:58:21.455Z"
   },
   {
    "duration": 7046,
    "start_time": "2021-12-01T12:58:21.487Z"
   },
   {
    "duration": 5,
    "start_time": "2021-12-01T12:58:28.535Z"
   },
   {
    "duration": 7,
    "start_time": "2021-12-01T12:58:28.542Z"
   },
   {
    "duration": 205,
    "start_time": "2021-12-01T12:58:28.550Z"
   },
   {
    "duration": 6,
    "start_time": "2021-12-01T12:58:28.757Z"
   },
   {
    "duration": 73,
    "start_time": "2021-12-01T12:58:28.767Z"
   },
   {
    "duration": 28,
    "start_time": "2021-12-01T12:58:28.843Z"
   },
   {
    "duration": 36,
    "start_time": "2021-12-01T12:58:28.873Z"
   },
   {
    "duration": 22,
    "start_time": "2021-12-01T12:58:28.910Z"
   },
   {
    "duration": 9,
    "start_time": "2021-12-01T12:58:28.933Z"
   },
   {
    "duration": 14,
    "start_time": "2021-12-01T12:58:28.944Z"
   },
   {
    "duration": 16,
    "start_time": "2021-12-01T12:58:28.959Z"
   },
   {
    "duration": 34,
    "start_time": "2021-12-01T12:58:28.977Z"
   },
   {
    "duration": 14,
    "start_time": "2021-12-01T12:58:29.013Z"
   },
   {
    "duration": 5,
    "start_time": "2021-12-01T12:58:29.029Z"
   },
   {
    "duration": 9,
    "start_time": "2021-12-01T12:58:29.036Z"
   },
   {
    "duration": 9,
    "start_time": "2021-12-01T12:58:29.046Z"
   },
   {
    "duration": 4037,
    "start_time": "2021-12-01T12:58:29.057Z"
   },
   {
    "duration": 20,
    "start_time": "2021-12-01T12:58:33.097Z"
   },
   {
    "duration": 12,
    "start_time": "2021-12-01T12:58:33.120Z"
   },
   {
    "duration": 36,
    "start_time": "2021-12-01T12:58:33.133Z"
   },
   {
    "duration": 7,
    "start_time": "2021-12-01T12:58:33.171Z"
   },
   {
    "duration": 6770,
    "start_time": "2021-12-01T12:58:33.180Z"
   },
   {
    "duration": 8,
    "start_time": "2021-12-01T12:58:39.952Z"
   },
   {
    "duration": 20,
    "start_time": "2021-12-01T12:58:39.962Z"
   },
   {
    "duration": 8,
    "start_time": "2021-12-01T12:58:39.984Z"
   },
   {
    "duration": 8,
    "start_time": "2021-12-01T12:58:43.571Z"
   },
   {
    "duration": 7,
    "start_time": "2021-12-01T12:59:18.267Z"
   },
   {
    "duration": 13,
    "start_time": "2021-12-01T12:59:31.405Z"
   },
   {
    "duration": 6,
    "start_time": "2021-12-01T12:59:51.217Z"
   },
   {
    "duration": 4,
    "start_time": "2021-12-01T13:00:03.758Z"
   },
   {
    "duration": 4,
    "start_time": "2021-12-01T13:00:12.658Z"
   },
   {
    "duration": 159,
    "start_time": "2021-12-01T13:00:15.357Z"
   },
   {
    "duration": 347,
    "start_time": "2021-12-01T13:00:17.905Z"
   },
   {
    "duration": 9,
    "start_time": "2021-12-01T13:00:20.716Z"
   },
   {
    "duration": 8,
    "start_time": "2021-12-01T13:00:29.783Z"
   },
   {
    "duration": 8,
    "start_time": "2021-12-01T13:00:56.337Z"
   },
   {
    "duration": 7,
    "start_time": "2021-12-01T13:00:57.287Z"
   },
   {
    "duration": 7,
    "start_time": "2021-12-01T13:01:12.318Z"
   },
   {
    "duration": 7,
    "start_time": "2021-12-01T13:01:13.017Z"
   },
   {
    "duration": 7,
    "start_time": "2021-12-01T13:01:22.035Z"
   },
   {
    "duration": 7,
    "start_time": "2021-12-01T13:01:23.385Z"
   },
   {
    "duration": 13,
    "start_time": "2021-12-01T13:01:42.835Z"
   },
   {
    "duration": 4,
    "start_time": "2021-12-01T13:03:19.017Z"
   },
   {
    "duration": 12,
    "start_time": "2021-12-01T13:03:20.145Z"
   },
   {
    "duration": 4,
    "start_time": "2021-12-01T13:03:23.786Z"
   },
   {
    "duration": 5,
    "start_time": "2021-12-01T13:04:22.294Z"
   },
   {
    "duration": 5,
    "start_time": "2021-12-01T13:04:30.177Z"
   },
   {
    "duration": 10,
    "start_time": "2021-12-01T13:04:34.260Z"
   },
   {
    "duration": 477,
    "start_time": "2021-12-01T13:04:47.818Z"
   },
   {
    "duration": 5,
    "start_time": "2021-12-01T13:05:02.966Z"
   },
   {
    "duration": 9392,
    "start_time": "2021-12-01T13:07:17.154Z"
   },
   {
    "duration": 9481,
    "start_time": "2021-12-01T13:07:32.271Z"
   },
   {
    "duration": 4,
    "start_time": "2021-12-01T13:08:22.675Z"
   },
   {
    "duration": 6,
    "start_time": "2021-12-01T13:12:29.487Z"
   },
   {
    "duration": 5,
    "start_time": "2021-12-01T13:12:35.890Z"
   },
   {
    "duration": 5158,
    "start_time": "2021-12-01T13:13:07.637Z"
   },
   {
    "duration": 5070,
    "start_time": "2021-12-01T13:13:17.147Z"
   },
   {
    "duration": 4419,
    "start_time": "2021-12-01T13:13:26.737Z"
   },
   {
    "duration": 5,
    "start_time": "2021-12-01T13:13:31.158Z"
   },
   {
    "duration": 5,
    "start_time": "2021-12-01T13:13:38.146Z"
   },
   {
    "duration": 4,
    "start_time": "2021-12-01T13:13:42.120Z"
   },
   {
    "duration": 4,
    "start_time": "2021-12-01T13:13:52.467Z"
   },
   {
    "duration": 5,
    "start_time": "2021-12-01T13:13:56.287Z"
   },
   {
    "duration": 3,
    "start_time": "2021-12-01T13:14:05.282Z"
   },
   {
    "duration": 56,
    "start_time": "2021-12-01T13:14:05.287Z"
   },
   {
    "duration": 59,
    "start_time": "2021-12-01T13:14:05.346Z"
   },
   {
    "duration": 16,
    "start_time": "2021-12-01T13:14:05.408Z"
   },
   {
    "duration": 30,
    "start_time": "2021-12-01T13:14:05.426Z"
   },
   {
    "duration": 31,
    "start_time": "2021-12-01T13:14:05.458Z"
   },
   {
    "duration": 38,
    "start_time": "2021-12-01T13:14:05.492Z"
   },
   {
    "duration": 36,
    "start_time": "2021-12-01T13:14:05.532Z"
   },
   {
    "duration": 19,
    "start_time": "2021-12-01T13:14:05.570Z"
   },
   {
    "duration": 37,
    "start_time": "2021-12-01T13:14:05.591Z"
   },
   {
    "duration": 13,
    "start_time": "2021-12-01T13:14:05.630Z"
   },
   {
    "duration": 15,
    "start_time": "2021-12-01T13:14:05.645Z"
   },
   {
    "duration": 40,
    "start_time": "2021-12-01T13:14:05.662Z"
   },
   {
    "duration": 10,
    "start_time": "2021-12-01T13:14:05.704Z"
   },
   {
    "duration": 11,
    "start_time": "2021-12-01T13:14:05.718Z"
   },
   {
    "duration": 16,
    "start_time": "2021-12-01T13:14:05.730Z"
   },
   {
    "duration": 21,
    "start_time": "2021-12-01T13:14:05.748Z"
   },
   {
    "duration": 6961,
    "start_time": "2021-12-01T13:14:05.771Z"
   },
   {
    "duration": 5,
    "start_time": "2021-12-01T13:14:12.735Z"
   },
   {
    "duration": 22,
    "start_time": "2021-12-01T13:14:12.742Z"
   },
   {
    "duration": 194,
    "start_time": "2021-12-01T13:14:12.766Z"
   },
   {
    "duration": 5,
    "start_time": "2021-12-01T13:14:12.962Z"
   },
   {
    "duration": 60,
    "start_time": "2021-12-01T13:14:12.969Z"
   },
   {
    "duration": 26,
    "start_time": "2021-12-01T13:14:13.031Z"
   },
   {
    "duration": 22,
    "start_time": "2021-12-01T13:14:13.058Z"
   },
   {
    "duration": 39,
    "start_time": "2021-12-01T13:14:13.082Z"
   },
   {
    "duration": 10,
    "start_time": "2021-12-01T13:14:13.123Z"
   },
   {
    "duration": 34,
    "start_time": "2021-12-01T13:14:13.135Z"
   },
   {
    "duration": 24,
    "start_time": "2021-12-01T13:14:13.171Z"
   },
   {
    "duration": 20,
    "start_time": "2021-12-01T13:14:13.197Z"
   },
   {
    "duration": 28,
    "start_time": "2021-12-01T13:14:13.220Z"
   },
   {
    "duration": 26,
    "start_time": "2021-12-01T13:14:13.250Z"
   },
   {
    "duration": 33,
    "start_time": "2021-12-01T13:14:13.277Z"
   },
   {
    "duration": 15,
    "start_time": "2021-12-01T13:14:13.313Z"
   },
   {
    "duration": 3800,
    "start_time": "2021-12-01T13:14:13.330Z"
   },
   {
    "duration": 14,
    "start_time": "2021-12-01T13:14:17.132Z"
   },
   {
    "duration": 10,
    "start_time": "2021-12-01T13:14:17.147Z"
   },
   {
    "duration": 30,
    "start_time": "2021-12-01T13:14:17.159Z"
   },
   {
    "duration": 32,
    "start_time": "2021-12-01T13:14:17.191Z"
   },
   {
    "duration": 6555,
    "start_time": "2021-12-01T13:14:17.225Z"
   },
   {
    "duration": 9,
    "start_time": "2021-12-01T13:14:23.782Z"
   },
   {
    "duration": 30,
    "start_time": "2021-12-01T13:14:23.792Z"
   },
   {
    "duration": 13,
    "start_time": "2021-12-01T13:14:23.824Z"
   },
   {
    "duration": 18,
    "start_time": "2021-12-01T13:14:23.839Z"
   },
   {
    "duration": 14,
    "start_time": "2021-12-01T13:14:23.859Z"
   },
   {
    "duration": 4471,
    "start_time": "2021-12-01T13:14:30.287Z"
   },
   {
    "duration": 4,
    "start_time": "2021-12-01T13:14:34.760Z"
   },
   {
    "duration": 6,
    "start_time": "2021-12-01T13:14:43.746Z"
   },
   {
    "duration": 628,
    "start_time": "2021-12-01T13:14:53.843Z"
   },
   {
    "duration": 5,
    "start_time": "2021-12-01T13:14:54.472Z"
   },
   {
    "duration": 74,
    "start_time": "2021-12-01T13:14:54.480Z"
   },
   {
    "duration": 11,
    "start_time": "2021-12-01T13:14:54.556Z"
   },
   {
    "duration": 47,
    "start_time": "2021-12-01T13:14:54.568Z"
   },
   {
    "duration": 6,
    "start_time": "2021-12-01T13:14:54.617Z"
   },
   {
    "duration": 13,
    "start_time": "2021-12-01T13:14:54.624Z"
   },
   {
    "duration": 29,
    "start_time": "2021-12-01T13:14:54.639Z"
   },
   {
    "duration": 14,
    "start_time": "2021-12-01T13:14:54.671Z"
   },
   {
    "duration": 7,
    "start_time": "2021-12-01T13:14:54.687Z"
   },
   {
    "duration": 11,
    "start_time": "2021-12-01T13:14:54.696Z"
   },
   {
    "duration": 21,
    "start_time": "2021-12-01T13:14:54.710Z"
   },
   {
    "duration": 21,
    "start_time": "2021-12-01T13:14:54.733Z"
   },
   {
    "duration": 6,
    "start_time": "2021-12-01T13:14:54.756Z"
   },
   {
    "duration": 23,
    "start_time": "2021-12-01T13:14:54.764Z"
   },
   {
    "duration": 38,
    "start_time": "2021-12-01T13:14:54.789Z"
   },
   {
    "duration": 24,
    "start_time": "2021-12-01T13:14:54.829Z"
   },
   {
    "duration": 6417,
    "start_time": "2021-12-01T13:14:54.855Z"
   },
   {
    "duration": 5,
    "start_time": "2021-12-01T13:15:01.274Z"
   },
   {
    "duration": 38,
    "start_time": "2021-12-01T13:15:01.280Z"
   },
   {
    "duration": 218,
    "start_time": "2021-12-01T13:15:01.321Z"
   },
   {
    "duration": 5,
    "start_time": "2021-12-01T13:15:01.541Z"
   },
   {
    "duration": 82,
    "start_time": "2021-12-01T13:15:01.548Z"
   },
   {
    "duration": 38,
    "start_time": "2021-12-01T13:15:01.632Z"
   },
   {
    "duration": 25,
    "start_time": "2021-12-01T13:15:01.671Z"
   },
   {
    "duration": 27,
    "start_time": "2021-12-01T13:15:01.698Z"
   },
   {
    "duration": 24,
    "start_time": "2021-12-01T13:15:01.729Z"
   },
   {
    "duration": 24,
    "start_time": "2021-12-01T13:15:01.756Z"
   },
   {
    "duration": 55,
    "start_time": "2021-12-01T13:15:01.782Z"
   },
   {
    "duration": 19,
    "start_time": "2021-12-01T13:15:01.839Z"
   },
   {
    "duration": 28,
    "start_time": "2021-12-01T13:15:01.860Z"
   },
   {
    "duration": 25,
    "start_time": "2021-12-01T13:15:01.890Z"
   },
   {
    "duration": 35,
    "start_time": "2021-12-01T13:15:01.917Z"
   },
   {
    "duration": 37,
    "start_time": "2021-12-01T13:15:01.954Z"
   },
   {
    "duration": 4133,
    "start_time": "2021-12-01T13:15:01.993Z"
   },
   {
    "duration": 19,
    "start_time": "2021-12-01T13:15:06.129Z"
   },
   {
    "duration": 16,
    "start_time": "2021-12-01T13:15:06.150Z"
   },
   {
    "duration": 21,
    "start_time": "2021-12-01T13:15:06.168Z"
   },
   {
    "duration": 16,
    "start_time": "2021-12-01T13:15:06.191Z"
   },
   {
    "duration": 6834,
    "start_time": "2021-12-01T13:15:06.215Z"
   },
   {
    "duration": 8,
    "start_time": "2021-12-01T13:15:13.051Z"
   },
   {
    "duration": 22,
    "start_time": "2021-12-01T13:15:13.060Z"
   },
   {
    "duration": 9,
    "start_time": "2021-12-01T13:15:13.083Z"
   },
   {
    "duration": 5,
    "start_time": "2021-12-01T13:15:13.108Z"
   },
   {
    "duration": 4,
    "start_time": "2021-12-01T13:15:21.552Z"
   },
   {
    "duration": 7,
    "start_time": "2021-12-01T13:15:21.942Z"
   },
   {
    "duration": 4,
    "start_time": "2021-12-01T13:15:54.332Z"
   },
   {
    "duration": 6,
    "start_time": "2021-12-01T13:15:54.944Z"
   },
   {
    "duration": 5918,
    "start_time": "2021-12-01T13:16:49.816Z"
   },
   {
    "duration": 6219,
    "start_time": "2021-12-01T13:17:01.042Z"
   },
   {
    "duration": 4,
    "start_time": "2021-12-01T13:17:07.263Z"
   },
   {
    "duration": 7,
    "start_time": "2021-12-01T13:17:20.534Z"
   },
   {
    "duration": 5,
    "start_time": "2021-12-01T13:17:29.173Z"
   },
   {
    "duration": 5,
    "start_time": "2021-12-01T13:17:52.412Z"
   },
   {
    "duration": 7,
    "start_time": "2021-12-01T13:18:25.023Z"
   },
   {
    "duration": 5,
    "start_time": "2021-12-01T13:18:41.813Z"
   },
   {
    "duration": 5,
    "start_time": "2021-12-01T13:25:48.323Z"
   },
   {
    "duration": 3,
    "start_time": "2021-12-01T13:26:22.717Z"
   },
   {
    "duration": 5743,
    "start_time": "2021-12-01T13:26:23.642Z"
   },
   {
    "duration": 7,
    "start_time": "2021-12-01T13:26:31.603Z"
   },
   {
    "duration": 5,
    "start_time": "2021-12-01T13:26:32.422Z"
   },
   {
    "duration": 3,
    "start_time": "2021-12-01T13:27:34.690Z"
   },
   {
    "duration": 7,
    "start_time": "2021-12-01T13:27:35.213Z"
   },
   {
    "duration": 4,
    "start_time": "2021-12-01T13:27:35.673Z"
   },
   {
    "duration": 8300,
    "start_time": "2021-12-01T13:27:40.206Z"
   },
   {
    "duration": 4,
    "start_time": "2021-12-01T13:29:42.423Z"
   },
   {
    "duration": 124,
    "start_time": "2021-12-01T13:30:27.966Z"
   },
   {
    "duration": 9498,
    "start_time": "2021-12-01T13:31:27.659Z"
   },
   {
    "duration": 10839,
    "start_time": "2021-12-01T13:32:10.723Z"
   },
   {
    "duration": 129,
    "start_time": "2021-12-01T13:32:59.693Z"
   },
   {
    "duration": 7,
    "start_time": "2021-12-01T13:33:04.593Z"
   },
   {
    "duration": 5,
    "start_time": "2021-12-01T13:33:13.642Z"
   },
   {
    "duration": 4849,
    "start_time": "2021-12-01T13:33:23.912Z"
   },
   {
    "duration": 1630,
    "start_time": "2021-12-01T13:33:27.133Z"
   },
   {
    "duration": 6,
    "start_time": "2021-12-01T13:33:41.233Z"
   },
   {
    "duration": 30,
    "start_time": "2021-12-01T13:33:41.241Z"
   },
   {
    "duration": 59,
    "start_time": "2021-12-01T13:33:41.274Z"
   },
   {
    "duration": 11,
    "start_time": "2021-12-01T13:33:41.336Z"
   },
   {
    "duration": 25,
    "start_time": "2021-12-01T13:33:41.349Z"
   },
   {
    "duration": 34,
    "start_time": "2021-12-01T13:33:41.376Z"
   },
   {
    "duration": 14,
    "start_time": "2021-12-01T13:33:41.411Z"
   },
   {
    "duration": 15,
    "start_time": "2021-12-01T13:33:41.427Z"
   },
   {
    "duration": 12,
    "start_time": "2021-12-01T13:33:41.445Z"
   },
   {
    "duration": 7,
    "start_time": "2021-12-01T13:33:41.459Z"
   },
   {
    "duration": 4,
    "start_time": "2021-12-01T13:33:41.468Z"
   },
   {
    "duration": 35,
    "start_time": "2021-12-01T13:33:41.473Z"
   },
   {
    "duration": 20,
    "start_time": "2021-12-01T13:33:41.511Z"
   },
   {
    "duration": 5,
    "start_time": "2021-12-01T13:33:41.533Z"
   },
   {
    "duration": 12,
    "start_time": "2021-12-01T13:33:41.540Z"
   },
   {
    "duration": 27,
    "start_time": "2021-12-01T13:33:41.554Z"
   },
   {
    "duration": 10,
    "start_time": "2021-12-01T13:33:41.583Z"
   },
   {
    "duration": 6732,
    "start_time": "2021-12-01T13:33:41.595Z"
   },
   {
    "duration": 4,
    "start_time": "2021-12-01T13:33:48.330Z"
   },
   {
    "duration": 10,
    "start_time": "2021-12-01T13:33:48.336Z"
   },
   {
    "duration": 189,
    "start_time": "2021-12-01T13:33:48.348Z"
   },
   {
    "duration": 8,
    "start_time": "2021-12-01T13:33:48.539Z"
   },
   {
    "duration": 67,
    "start_time": "2021-12-01T13:33:48.551Z"
   },
   {
    "duration": 26,
    "start_time": "2021-12-01T13:33:48.621Z"
   },
   {
    "duration": 23,
    "start_time": "2021-12-01T13:33:48.649Z"
   },
   {
    "duration": 55,
    "start_time": "2021-12-01T13:33:48.674Z"
   },
   {
    "duration": 10,
    "start_time": "2021-12-01T13:33:48.731Z"
   },
   {
    "duration": 13,
    "start_time": "2021-12-01T13:33:48.743Z"
   },
   {
    "duration": 11,
    "start_time": "2021-12-01T13:33:48.758Z"
   },
   {
    "duration": 10,
    "start_time": "2021-12-01T13:33:48.771Z"
   },
   {
    "duration": 33,
    "start_time": "2021-12-01T13:33:48.783Z"
   },
   {
    "duration": 9,
    "start_time": "2021-12-01T13:33:48.818Z"
   },
   {
    "duration": 11,
    "start_time": "2021-12-01T13:33:48.829Z"
   },
   {
    "duration": 12,
    "start_time": "2021-12-01T13:33:48.842Z"
   },
   {
    "duration": 3824,
    "start_time": "2021-12-01T13:33:48.856Z"
   },
   {
    "duration": 29,
    "start_time": "2021-12-01T13:33:52.682Z"
   },
   {
    "duration": 17,
    "start_time": "2021-12-01T13:33:52.713Z"
   },
   {
    "duration": 12,
    "start_time": "2021-12-01T13:33:52.731Z"
   },
   {
    "duration": 13,
    "start_time": "2021-12-01T13:33:52.745Z"
   },
   {
    "duration": 6806,
    "start_time": "2021-12-01T13:33:52.761Z"
   },
   {
    "duration": 9,
    "start_time": "2021-12-01T13:33:59.569Z"
   },
   {
    "duration": 12,
    "start_time": "2021-12-01T13:35:58.775Z"
   },
   {
    "duration": 15,
    "start_time": "2021-12-01T14:56:29.406Z"
   },
   {
    "duration": 629,
    "start_time": "2021-12-01T14:57:01.465Z"
   },
   {
    "duration": 5,
    "start_time": "2021-12-01T14:57:02.096Z"
   },
   {
    "duration": 66,
    "start_time": "2021-12-01T14:57:02.107Z"
   },
   {
    "duration": 14,
    "start_time": "2021-12-01T14:57:02.175Z"
   },
   {
    "duration": 37,
    "start_time": "2021-12-01T14:57:02.191Z"
   },
   {
    "duration": 6,
    "start_time": "2021-12-01T14:57:02.230Z"
   },
   {
    "duration": 12,
    "start_time": "2021-12-01T14:57:02.238Z"
   },
   {
    "duration": 12,
    "start_time": "2021-12-01T14:57:02.254Z"
   },
   {
    "duration": 47,
    "start_time": "2021-12-01T14:57:02.268Z"
   },
   {
    "duration": 8,
    "start_time": "2021-12-01T14:57:02.317Z"
   },
   {
    "duration": 6,
    "start_time": "2021-12-01T14:57:02.327Z"
   },
   {
    "duration": 9,
    "start_time": "2021-12-01T14:57:02.335Z"
   },
   {
    "duration": 25,
    "start_time": "2021-12-01T14:57:02.345Z"
   },
   {
    "duration": 5,
    "start_time": "2021-12-01T14:57:02.372Z"
   },
   {
    "duration": 9,
    "start_time": "2021-12-01T14:57:02.378Z"
   },
   {
    "duration": 27,
    "start_time": "2021-12-01T14:57:02.388Z"
   },
   {
    "duration": 11,
    "start_time": "2021-12-01T14:57:02.418Z"
   },
   {
    "duration": 2,
    "start_time": "2021-12-01T14:57:31.760Z"
   },
   {
    "duration": 28,
    "start_time": "2021-12-01T14:57:31.770Z"
   },
   {
    "duration": 57,
    "start_time": "2021-12-01T14:57:31.800Z"
   },
   {
    "duration": 12,
    "start_time": "2021-12-01T14:57:31.859Z"
   },
   {
    "duration": 40,
    "start_time": "2021-12-01T14:57:31.873Z"
   },
   {
    "duration": 9,
    "start_time": "2021-12-01T14:57:31.915Z"
   },
   {
    "duration": 11,
    "start_time": "2021-12-01T14:57:31.926Z"
   },
   {
    "duration": 13,
    "start_time": "2021-12-01T14:57:31.940Z"
   },
   {
    "duration": 13,
    "start_time": "2021-12-01T14:57:31.955Z"
   },
   {
    "duration": 43,
    "start_time": "2021-12-01T14:57:31.971Z"
   },
   {
    "duration": 4,
    "start_time": "2021-12-01T14:57:32.016Z"
   },
   {
    "duration": 5,
    "start_time": "2021-12-01T14:57:32.022Z"
   },
   {
    "duration": 13,
    "start_time": "2021-12-01T14:57:32.029Z"
   },
   {
    "duration": 6,
    "start_time": "2021-12-01T14:57:32.044Z"
   },
   {
    "duration": 11,
    "start_time": "2021-12-01T14:57:32.051Z"
   },
   {
    "duration": 9,
    "start_time": "2021-12-01T14:57:32.064Z"
   },
   {
    "duration": 12,
    "start_time": "2021-12-01T14:57:32.107Z"
   },
   {
    "duration": 6851,
    "start_time": "2021-12-01T14:57:32.121Z"
   },
   {
    "duration": 5,
    "start_time": "2021-12-01T14:57:38.974Z"
   },
   {
    "duration": 10,
    "start_time": "2021-12-01T14:57:38.980Z"
   },
   {
    "duration": 181,
    "start_time": "2021-12-01T14:57:38.992Z"
   },
   {
    "duration": 6,
    "start_time": "2021-12-01T14:57:39.175Z"
   },
   {
    "duration": 59,
    "start_time": "2021-12-01T14:57:39.182Z"
   },
   {
    "duration": 26,
    "start_time": "2021-12-01T14:57:39.243Z"
   },
   {
    "duration": 41,
    "start_time": "2021-12-01T14:57:39.271Z"
   },
   {
    "duration": 19,
    "start_time": "2021-12-01T14:57:39.313Z"
   },
   {
    "duration": 9,
    "start_time": "2021-12-01T14:57:39.334Z"
   },
   {
    "duration": 12,
    "start_time": "2021-12-01T14:57:39.347Z"
   },
   {
    "duration": 11,
    "start_time": "2021-12-01T14:57:39.361Z"
   },
   {
    "duration": 35,
    "start_time": "2021-12-01T14:57:39.374Z"
   },
   {
    "duration": 9,
    "start_time": "2021-12-01T14:57:39.411Z"
   },
   {
    "duration": 8,
    "start_time": "2021-12-01T14:57:39.421Z"
   },
   {
    "duration": 12,
    "start_time": "2021-12-01T14:57:39.431Z"
   },
   {
    "duration": 10,
    "start_time": "2021-12-01T14:57:39.445Z"
   },
   {
    "duration": 3839,
    "start_time": "2021-12-01T14:57:39.457Z"
   },
   {
    "duration": 14,
    "start_time": "2021-12-01T14:57:43.306Z"
   },
   {
    "duration": 21,
    "start_time": "2021-12-01T14:57:43.321Z"
   },
   {
    "duration": 33,
    "start_time": "2021-12-01T14:57:43.344Z"
   },
   {
    "duration": 21,
    "start_time": "2021-12-01T14:57:43.378Z"
   },
   {
    "duration": 6375,
    "start_time": "2021-12-01T14:57:43.401Z"
   },
   {
    "duration": 7,
    "start_time": "2021-12-01T14:57:49.778Z"
   },
   {
    "duration": 35,
    "start_time": "2021-12-01T14:57:49.788Z"
   },
   {
    "duration": 12,
    "start_time": "2021-12-01T14:57:54.150Z"
   },
   {
    "duration": 206,
    "start_time": "2021-12-02T06:27:12.788Z"
   },
   {
    "duration": 589,
    "start_time": "2021-12-02T06:33:35.598Z"
   },
   {
    "duration": 5,
    "start_time": "2021-12-02T06:33:36.189Z"
   },
   {
    "duration": 62,
    "start_time": "2021-12-02T06:33:36.198Z"
   },
   {
    "duration": 11,
    "start_time": "2021-12-02T06:33:36.262Z"
   },
   {
    "duration": 44,
    "start_time": "2021-12-02T06:33:36.274Z"
   },
   {
    "duration": 12,
    "start_time": "2021-12-02T06:33:36.320Z"
   },
   {
    "duration": 23,
    "start_time": "2021-12-02T06:33:36.334Z"
   },
   {
    "duration": 26,
    "start_time": "2021-12-02T06:33:36.358Z"
   },
   {
    "duration": 15,
    "start_time": "2021-12-02T06:33:36.386Z"
   },
   {
    "duration": 19,
    "start_time": "2021-12-02T06:33:36.403Z"
   },
   {
    "duration": 20,
    "start_time": "2021-12-02T06:33:36.424Z"
   },
   {
    "duration": 17,
    "start_time": "2021-12-02T06:33:36.446Z"
   },
   {
    "duration": 27,
    "start_time": "2021-12-02T06:33:36.464Z"
   },
   {
    "duration": 16,
    "start_time": "2021-12-02T06:33:36.493Z"
   },
   {
    "duration": 25,
    "start_time": "2021-12-02T06:33:36.511Z"
   },
   {
    "duration": 23,
    "start_time": "2021-12-02T06:33:36.538Z"
   },
   {
    "duration": 24,
    "start_time": "2021-12-02T06:33:36.562Z"
   },
   {
    "duration": 6189,
    "start_time": "2021-12-02T06:33:36.587Z"
   },
   {
    "duration": 4,
    "start_time": "2021-12-02T06:33:42.778Z"
   },
   {
    "duration": 25,
    "start_time": "2021-12-02T06:33:42.784Z"
   },
   {
    "duration": 176,
    "start_time": "2021-12-02T06:33:42.812Z"
   },
   {
    "duration": 7,
    "start_time": "2021-12-02T06:33:42.989Z"
   },
   {
    "duration": 59,
    "start_time": "2021-12-02T06:33:42.998Z"
   },
   {
    "duration": 33,
    "start_time": "2021-12-02T06:33:43.059Z"
   },
   {
    "duration": 32,
    "start_time": "2021-12-02T06:33:43.095Z"
   },
   {
    "duration": 15,
    "start_time": "2021-12-02T06:33:43.128Z"
   },
   {
    "duration": 18,
    "start_time": "2021-12-02T06:33:43.146Z"
   },
   {
    "duration": 28,
    "start_time": "2021-12-02T06:33:43.166Z"
   },
   {
    "duration": 8,
    "start_time": "2021-12-02T06:33:43.196Z"
   },
   {
    "duration": 16,
    "start_time": "2021-12-02T06:33:43.206Z"
   },
   {
    "duration": 27,
    "start_time": "2021-12-02T06:33:43.225Z"
   },
   {
    "duration": 24,
    "start_time": "2021-12-02T06:33:43.253Z"
   },
   {
    "duration": 24,
    "start_time": "2021-12-02T06:33:43.279Z"
   },
   {
    "duration": 26,
    "start_time": "2021-12-02T06:33:43.305Z"
   },
   {
    "duration": 3681,
    "start_time": "2021-12-02T06:33:43.333Z"
   },
   {
    "duration": 16,
    "start_time": "2021-12-02T06:33:47.017Z"
   },
   {
    "duration": 10,
    "start_time": "2021-12-02T06:33:47.035Z"
   },
   {
    "duration": 14,
    "start_time": "2021-12-02T06:33:47.047Z"
   },
   {
    "duration": 30,
    "start_time": "2021-12-02T06:33:47.063Z"
   },
   {
    "duration": 6140,
    "start_time": "2021-12-02T06:33:47.094Z"
   },
   {
    "duration": 8,
    "start_time": "2021-12-02T06:33:53.236Z"
   },
   {
    "duration": 46,
    "start_time": "2021-12-02T06:33:53.246Z"
   },
   {
    "duration": 20,
    "start_time": "2021-12-02T06:33:53.294Z"
   },
   {
    "duration": 242,
    "start_time": "2021-12-02T06:33:53.316Z"
   },
   {
    "duration": -3,
    "start_time": "2021-12-02T06:33:53.563Z"
   },
   {
    "duration": -8,
    "start_time": "2021-12-02T06:33:53.569Z"
   },
   {
    "duration": 4297,
    "start_time": "2021-12-02T06:35:13.139Z"
   },
   {
    "duration": -126,
    "start_time": "2021-12-02T06:35:17.564Z"
   },
   {
    "duration": 6,
    "start_time": "2021-12-02T06:35:31.398Z"
   },
   {
    "duration": 13,
    "start_time": "2021-12-02T06:35:32.837Z"
   },
   {
    "duration": 3,
    "start_time": "2021-12-02T06:35:40.264Z"
   },
   {
    "duration": 7691,
    "start_time": "2021-12-02T06:36:14.305Z"
   },
   {
    "duration": 13,
    "start_time": "2021-12-02T06:36:23.201Z"
   },
   {
    "duration": 4,
    "start_time": "2021-12-02T06:38:22.008Z"
   },
   {
    "duration": 169,
    "start_time": "2021-12-02T06:38:25.147Z"
   },
   {
    "duration": 6,
    "start_time": "2021-12-02T06:38:31.168Z"
   },
   {
    "duration": 3,
    "start_time": "2021-12-02T06:38:38.987Z"
   },
   {
    "duration": 4,
    "start_time": "2021-12-02T06:38:42.729Z"
   },
   {
    "duration": 6,
    "start_time": "2021-12-02T06:38:43.697Z"
   },
   {
    "duration": 4,
    "start_time": "2021-12-02T06:38:46.179Z"
   },
   {
    "duration": 6,
    "start_time": "2021-12-02T06:38:53.447Z"
   },
   {
    "duration": 3,
    "start_time": "2021-12-02T06:39:28.377Z"
   },
   {
    "duration": 2171,
    "start_time": "2021-12-02T06:40:49.147Z"
   },
   {
    "duration": 5,
    "start_time": "2021-12-02T06:41:00.228Z"
   },
   {
    "duration": 6,
    "start_time": "2021-12-02T06:41:45.557Z"
   },
   {
    "duration": 4,
    "start_time": "2021-12-02T06:42:33.781Z"
   },
   {
    "duration": 9,
    "start_time": "2021-12-02T06:44:09.297Z"
   },
   {
    "duration": 3,
    "start_time": "2021-12-02T06:44:19.408Z"
   },
   {
    "duration": 5,
    "start_time": "2021-12-02T06:44:28.917Z"
   },
   {
    "duration": 3,
    "start_time": "2021-12-02T06:44:34.559Z"
   },
   {
    "duration": 28843,
    "start_time": "2021-12-02T06:44:37.568Z"
   },
   {
    "duration": 4,
    "start_time": "2021-12-02T06:46:17.149Z"
   },
   {
    "duration": 6,
    "start_time": "2021-12-02T06:46:36.148Z"
   },
   {
    "duration": 10,
    "start_time": "2021-12-02T06:46:41.328Z"
   },
   {
    "duration": 7,
    "start_time": "2021-12-02T06:47:35.340Z"
   },
   {
    "duration": 7,
    "start_time": "2021-12-02T06:47:40.148Z"
   },
   {
    "duration": 6,
    "start_time": "2021-12-02T06:47:43.848Z"
   },
   {
    "duration": 4,
    "start_time": "2021-12-02T06:47:49.450Z"
   },
   {
    "duration": 6,
    "start_time": "2021-12-02T06:47:58.069Z"
   },
   {
    "duration": 4,
    "start_time": "2021-12-02T06:47:59.537Z"
   },
   {
    "duration": 8,
    "start_time": "2021-12-02T06:49:16.561Z"
   },
   {
    "duration": 3,
    "start_time": "2021-12-02T06:49:31.718Z"
   },
   {
    "duration": 3,
    "start_time": "2021-12-02T06:49:34.521Z"
   },
   {
    "duration": 8,
    "start_time": "2021-12-02T06:49:54.738Z"
   },
   {
    "duration": 213,
    "start_time": "2021-12-02T06:50:08.677Z"
   },
   {
    "duration": 7,
    "start_time": "2021-12-02T06:50:27.997Z"
   },
   {
    "duration": 168,
    "start_time": "2021-12-02T06:50:33.508Z"
   },
   {
    "duration": 10,
    "start_time": "2021-12-02T06:50:38.707Z"
   },
   {
    "duration": 8,
    "start_time": "2021-12-02T06:50:45.342Z"
   },
   {
    "duration": 8,
    "start_time": "2021-12-02T06:51:00.037Z"
   },
   {
    "duration": 19,
    "start_time": "2021-12-02T06:59:22.363Z"
   },
   {
    "duration": 561,
    "start_time": "2021-12-02T06:59:39.197Z"
   },
   {
    "duration": 7,
    "start_time": "2021-12-02T06:59:53.280Z"
   },
   {
    "duration": 205,
    "start_time": "2021-12-02T07:00:23.355Z"
   },
   {
    "duration": 3,
    "start_time": "2021-12-02T07:00:59.098Z"
   },
   {
    "duration": 15,
    "start_time": "2021-12-02T07:00:59.103Z"
   },
   {
    "duration": 9,
    "start_time": "2021-12-02T07:00:59.120Z"
   },
   {
    "duration": 60,
    "start_time": "2021-12-02T07:00:59.130Z"
   },
   {
    "duration": 10,
    "start_time": "2021-12-02T07:00:59.192Z"
   },
   {
    "duration": 31,
    "start_time": "2021-12-02T07:00:59.204Z"
   },
   {
    "duration": 12,
    "start_time": "2021-12-02T07:00:59.236Z"
   },
   {
    "duration": 14,
    "start_time": "2021-12-02T07:00:59.250Z"
   },
   {
    "duration": 21,
    "start_time": "2021-12-02T07:00:59.266Z"
   },
   {
    "duration": 14,
    "start_time": "2021-12-02T07:00:59.290Z"
   },
   {
    "duration": 17,
    "start_time": "2021-12-02T07:00:59.305Z"
   },
   {
    "duration": 10,
    "start_time": "2021-12-02T07:00:59.324Z"
   },
   {
    "duration": 8,
    "start_time": "2021-12-02T07:00:59.336Z"
   },
   {
    "duration": 28,
    "start_time": "2021-12-02T07:00:59.345Z"
   },
   {
    "duration": 13,
    "start_time": "2021-12-02T07:00:59.374Z"
   },
   {
    "duration": 16,
    "start_time": "2021-12-02T07:00:59.389Z"
   },
   {
    "duration": 16,
    "start_time": "2021-12-02T07:00:59.407Z"
   },
   {
    "duration": 13,
    "start_time": "2021-12-02T07:00:59.425Z"
   },
   {
    "duration": 6214,
    "start_time": "2021-12-02T07:00:59.440Z"
   },
   {
    "duration": 5,
    "start_time": "2021-12-02T07:01:05.655Z"
   },
   {
    "duration": 15,
    "start_time": "2021-12-02T07:01:05.661Z"
   },
   {
    "duration": 167,
    "start_time": "2021-12-02T07:01:05.678Z"
   },
   {
    "duration": 5,
    "start_time": "2021-12-02T07:01:05.847Z"
   },
   {
    "duration": 62,
    "start_time": "2021-12-02T07:01:05.854Z"
   },
   {
    "duration": 24,
    "start_time": "2021-12-02T07:01:05.918Z"
   },
   {
    "duration": 21,
    "start_time": "2021-12-02T07:01:05.943Z"
   },
   {
    "duration": 38,
    "start_time": "2021-12-02T07:01:05.967Z"
   },
   {
    "duration": 7,
    "start_time": "2021-12-02T07:01:06.007Z"
   },
   {
    "duration": 17,
    "start_time": "2021-12-02T07:01:06.016Z"
   },
   {
    "duration": 13,
    "start_time": "2021-12-02T07:01:06.035Z"
   },
   {
    "duration": 15,
    "start_time": "2021-12-02T07:01:06.050Z"
   },
   {
    "duration": 26,
    "start_time": "2021-12-02T07:01:06.066Z"
   },
   {
    "duration": 15,
    "start_time": "2021-12-02T07:01:06.094Z"
   },
   {
    "duration": 19,
    "start_time": "2021-12-02T07:01:06.111Z"
   },
   {
    "duration": 22,
    "start_time": "2021-12-02T07:01:06.131Z"
   },
   {
    "duration": 3491,
    "start_time": "2021-12-02T07:01:06.154Z"
   },
   {
    "duration": 13,
    "start_time": "2021-12-02T07:01:09.647Z"
   },
   {
    "duration": 8,
    "start_time": "2021-12-02T07:01:09.662Z"
   },
   {
    "duration": 32,
    "start_time": "2021-12-02T07:01:09.672Z"
   },
   {
    "duration": 4,
    "start_time": "2021-12-02T07:01:09.706Z"
   },
   {
    "duration": 5999,
    "start_time": "2021-12-02T07:01:09.712Z"
   },
   {
    "duration": 7,
    "start_time": "2021-12-02T07:01:15.713Z"
   },
   {
    "duration": 24,
    "start_time": "2021-12-02T07:01:15.722Z"
   },
   {
    "duration": 4925,
    "start_time": "2021-12-02T07:01:15.748Z"
   },
   {
    "duration": 17,
    "start_time": "2021-12-02T07:01:20.675Z"
   },
   {
    "duration": 14,
    "start_time": "2021-12-02T07:01:20.694Z"
   },
   {
    "duration": 16,
    "start_time": "2021-12-02T07:01:20.709Z"
   },
   {
    "duration": 2222,
    "start_time": "2021-12-02T07:01:20.726Z"
   },
   {
    "duration": 3,
    "start_time": "2021-12-02T07:01:22.950Z"
   },
   {
    "duration": 10,
    "start_time": "2021-12-02T07:01:22.955Z"
   },
   {
    "duration": 7,
    "start_time": "2021-12-02T07:01:22.967Z"
   },
   {
    "duration": 15,
    "start_time": "2021-12-02T07:01:22.975Z"
   },
   {
    "duration": 10,
    "start_time": "2021-12-02T07:01:23.019Z"
   },
   {
    "duration": 212,
    "start_time": "2021-12-02T07:01:23.031Z"
   },
   {
    "duration": 168,
    "start_time": "2021-12-02T07:01:42.151Z"
   },
   {
    "duration": 533,
    "start_time": "2021-12-02T07:02:32.683Z"
   },
   {
    "duration": 550,
    "start_time": "2021-12-02T07:04:22.295Z"
   },
   {
    "duration": 174,
    "start_time": "2021-12-02T07:05:46.976Z"
   },
   {
    "duration": 7,
    "start_time": "2021-12-02T07:05:51.382Z"
   },
   {
    "duration": 9,
    "start_time": "2021-12-02T07:06:05.955Z"
   },
   {
    "duration": 9,
    "start_time": "2021-12-02T07:06:43.356Z"
   },
   {
    "duration": 8,
    "start_time": "2021-12-02T07:07:15.365Z"
   },
   {
    "duration": 5,
    "start_time": "2021-12-02T07:09:13.528Z"
   },
   {
    "duration": 4,
    "start_time": "2021-12-02T07:10:40.578Z"
   },
   {
    "duration": 55,
    "start_time": "2021-12-02T07:10:44.412Z"
   },
   {
    "duration": 5,
    "start_time": "2021-12-02T07:10:48.741Z"
   },
   {
    "duration": 208,
    "start_time": "2021-12-02T07:11:02.210Z"
   },
   {
    "duration": 231,
    "start_time": "2021-12-02T07:11:32.159Z"
   },
   {
    "duration": 8,
    "start_time": "2021-12-02T07:11:38.616Z"
   },
   {
    "duration": 5,
    "start_time": "2021-12-02T07:11:41.513Z"
   },
   {
    "duration": 8,
    "start_time": "2021-12-02T07:11:56.068Z"
   },
   {
    "duration": 4,
    "start_time": "2021-12-02T07:11:59.368Z"
   },
   {
    "duration": 4,
    "start_time": "2021-12-02T07:12:06.254Z"
   },
   {
    "duration": 4,
    "start_time": "2021-12-02T07:12:09.320Z"
   },
   {
    "duration": 5,
    "start_time": "2021-12-02T07:12:30.168Z"
   },
   {
    "duration": 166,
    "start_time": "2021-12-02T07:13:40.448Z"
   },
   {
    "duration": 167,
    "start_time": "2021-12-02T07:14:32.119Z"
   },
   {
    "duration": 166,
    "start_time": "2021-12-02T07:14:42.239Z"
   },
   {
    "duration": 2,
    "start_time": "2021-12-02T07:14:45.804Z"
   },
   {
    "duration": 56,
    "start_time": "2021-12-02T07:14:56.787Z"
   },
   {
    "duration": 4,
    "start_time": "2021-12-02T07:15:01.020Z"
   },
   {
    "duration": 3,
    "start_time": "2021-12-02T07:15:11.247Z"
   },
   {
    "duration": 7,
    "start_time": "2021-12-02T07:15:52.618Z"
   },
   {
    "duration": 7,
    "start_time": "2021-12-02T07:15:56.468Z"
   },
   {
    "duration": 4,
    "start_time": "2021-12-02T07:15:56.999Z"
   },
   {
    "duration": 4,
    "start_time": "2021-12-02T07:16:02.855Z"
   },
   {
    "duration": 4,
    "start_time": "2021-12-02T07:16:10.068Z"
   },
   {
    "duration": 4,
    "start_time": "2021-12-02T07:16:20.189Z"
   },
   {
    "duration": 5,
    "start_time": "2021-12-02T07:16:24.538Z"
   },
   {
    "duration": 54,
    "start_time": "2021-12-02T07:18:17.429Z"
   },
   {
    "duration": 3,
    "start_time": "2021-12-02T07:18:33.196Z"
   },
   {
    "duration": 4,
    "start_time": "2021-12-02T07:18:39.968Z"
   },
   {
    "duration": 62,
    "start_time": "2021-12-02T07:19:02.679Z"
   },
   {
    "duration": 3,
    "start_time": "2021-12-02T07:20:02.989Z"
   },
   {
    "duration": 3,
    "start_time": "2021-12-02T07:20:09.219Z"
   },
   {
    "duration": 4,
    "start_time": "2021-12-02T07:20:39.618Z"
   },
   {
    "duration": 61,
    "start_time": "2021-12-02T07:21:22.769Z"
   },
   {
    "duration": 206,
    "start_time": "2021-12-02T07:22:13.427Z"
   },
   {
    "duration": 3,
    "start_time": "2021-12-02T07:22:20.232Z"
   },
   {
    "duration": 4,
    "start_time": "2021-12-02T07:22:21.046Z"
   },
   {
    "duration": 2812,
    "start_time": "2021-12-02T07:22:48.905Z"
   },
   {
    "duration": -25,
    "start_time": "2021-12-02T07:22:51.744Z"
   },
   {
    "duration": 2,
    "start_time": "2021-12-02T07:22:59.817Z"
   },
   {
    "duration": 4,
    "start_time": "2021-12-02T07:23:00.759Z"
   },
   {
    "duration": 3,
    "start_time": "2021-12-02T07:23:42.939Z"
   },
   {
    "duration": 3,
    "start_time": "2021-12-02T07:24:14.666Z"
   },
   {
    "duration": 4,
    "start_time": "2021-12-02T07:25:04.186Z"
   },
   {
    "duration": 4,
    "start_time": "2021-12-02T07:25:55.267Z"
   },
   {
    "duration": 3,
    "start_time": "2021-12-02T07:27:11.997Z"
   },
   {
    "duration": 3,
    "start_time": "2021-12-02T07:29:06.545Z"
   },
   {
    "duration": 171,
    "start_time": "2021-12-02T07:29:14.007Z"
   },
   {
    "duration": 4,
    "start_time": "2021-12-02T07:29:27.705Z"
   },
   {
    "duration": 5,
    "start_time": "2021-12-02T07:29:32.565Z"
   },
   {
    "duration": 6,
    "start_time": "2021-12-02T07:29:42.154Z"
   },
   {
    "duration": 170,
    "start_time": "2021-12-02T07:32:18.702Z"
   },
   {
    "duration": 169,
    "start_time": "2021-12-02T07:32:29.363Z"
   },
   {
    "duration": 3,
    "start_time": "2021-12-02T07:33:27.672Z"
   },
   {
    "duration": 3,
    "start_time": "2021-12-02T07:33:33.702Z"
   },
   {
    "duration": 162,
    "start_time": "2021-12-02T07:34:39.634Z"
   },
   {
    "duration": 175,
    "start_time": "2021-12-02T07:34:58.623Z"
   },
   {
    "duration": 4,
    "start_time": "2021-12-02T07:35:13.912Z"
   },
   {
    "duration": 4,
    "start_time": "2021-12-02T07:35:20.598Z"
   },
   {
    "duration": 165,
    "start_time": "2021-12-02T07:35:41.611Z"
   },
   {
    "duration": 4051,
    "start_time": "2021-12-02T07:35:52.882Z"
   },
   {
    "duration": 4449,
    "start_time": "2021-12-02T07:36:01.642Z"
   },
   {
    "duration": 4358,
    "start_time": "2021-12-02T07:36:15.931Z"
   },
   {
    "duration": 168,
    "start_time": "2021-12-02T07:36:32.149Z"
   },
   {
    "duration": 63,
    "start_time": "2021-12-02T07:37:23.701Z"
   },
   {
    "duration": 164,
    "start_time": "2021-12-02T07:37:36.201Z"
   },
   {
    "duration": 9,
    "start_time": "2021-12-02T07:37:43.298Z"
   },
   {
    "duration": 170,
    "start_time": "2021-12-02T07:38:26.561Z"
   },
   {
    "duration": 171,
    "start_time": "2021-12-02T07:38:32.139Z"
   },
   {
    "duration": 250,
    "start_time": "2021-12-02T07:38:42.639Z"
   },
   {
    "duration": 22,
    "start_time": "2021-12-02T07:39:04.031Z"
   },
   {
    "duration": 229,
    "start_time": "2021-12-02T07:39:15.873Z"
   },
   {
    "duration": 173,
    "start_time": "2021-12-02T07:39:40.521Z"
   },
   {
    "duration": 186,
    "start_time": "2021-12-02T07:39:45.200Z"
   },
   {
    "duration": 9,
    "start_time": "2021-12-02T07:40:04.230Z"
   },
   {
    "duration": 225,
    "start_time": "2021-12-02T07:40:26.690Z"
   },
   {
    "duration": 10,
    "start_time": "2021-12-02T07:40:31.550Z"
   },
   {
    "duration": 10,
    "start_time": "2021-12-02T07:40:42.531Z"
   },
   {
    "duration": 8,
    "start_time": "2021-12-02T07:40:47.541Z"
   },
   {
    "duration": 9,
    "start_time": "2021-12-02T07:40:51.400Z"
   },
   {
    "duration": 8,
    "start_time": "2021-12-02T07:42:10.040Z"
   },
   {
    "duration": 9,
    "start_time": "2021-12-02T07:42:29.270Z"
   },
   {
    "duration": 9,
    "start_time": "2021-12-02T07:42:38.860Z"
   },
   {
    "duration": 10,
    "start_time": "2021-12-02T07:42:46.650Z"
   },
   {
    "duration": 9,
    "start_time": "2021-12-02T07:43:12.540Z"
   },
   {
    "duration": 9,
    "start_time": "2021-12-02T07:43:18.911Z"
   },
   {
    "duration": 10,
    "start_time": "2021-12-02T07:44:23.315Z"
   },
   {
    "duration": 10,
    "start_time": "2021-12-02T07:44:27.720Z"
   },
   {
    "duration": 5,
    "start_time": "2021-12-02T07:44:44.789Z"
   },
   {
    "duration": 7,
    "start_time": "2021-12-02T07:44:47.080Z"
   },
   {
    "duration": 9,
    "start_time": "2021-12-02T07:46:39.348Z"
   },
   {
    "duration": 11,
    "start_time": "2021-12-02T07:46:43.673Z"
   },
   {
    "duration": 82,
    "start_time": "2021-12-02T07:48:51.728Z"
   },
   {
    "duration": 55,
    "start_time": "2021-12-02T07:50:33.577Z"
   },
   {
    "duration": 66,
    "start_time": "2021-12-02T07:50:44.992Z"
   },
   {
    "duration": 175,
    "start_time": "2021-12-02T07:50:51.369Z"
   },
   {
    "duration": 167,
    "start_time": "2021-12-02T07:50:59.553Z"
   },
   {
    "duration": 170,
    "start_time": "2021-12-02T07:51:07.672Z"
   },
   {
    "duration": 2621,
    "start_time": "2021-12-02T07:51:15.023Z"
   },
   {
    "duration": 2681,
    "start_time": "2021-12-02T07:51:26.162Z"
   },
   {
    "duration": 3,
    "start_time": "2021-12-02T07:51:37.738Z"
   },
   {
    "duration": 54,
    "start_time": "2021-12-02T07:52:40.436Z"
   },
   {
    "duration": 2494,
    "start_time": "2021-12-02T07:52:55.436Z"
   },
   {
    "duration": 3610,
    "start_time": "2021-12-02T07:53:33.999Z"
   },
   {
    "duration": 2878,
    "start_time": "2021-12-02T07:53:48.562Z"
   },
   {
    "duration": 9,
    "start_time": "2021-12-02T07:53:56.689Z"
   },
   {
    "duration": 9,
    "start_time": "2021-12-02T07:54:34.760Z"
   },
   {
    "duration": 10,
    "start_time": "2021-12-02T07:54:37.192Z"
   },
   {
    "duration": 5,
    "start_time": "2021-12-02T07:54:44.877Z"
   },
   {
    "duration": 4,
    "start_time": "2021-12-02T07:55:03.150Z"
   },
   {
    "duration": 4,
    "start_time": "2021-12-02T07:57:09.027Z"
   },
   {
    "duration": 7,
    "start_time": "2021-12-02T07:59:04.878Z"
   },
   {
    "duration": 3,
    "start_time": "2021-12-02T07:59:10.129Z"
   },
   {
    "duration": 6,
    "start_time": "2021-12-02T07:59:21.479Z"
   },
   {
    "duration": 10,
    "start_time": "2021-12-02T07:59:23.269Z"
   },
   {
    "duration": 3,
    "start_time": "2021-12-02T08:01:06.064Z"
   },
   {
    "duration": 4,
    "start_time": "2021-12-02T08:01:12.570Z"
   },
   {
    "duration": 4,
    "start_time": "2021-12-02T08:01:37.419Z"
   },
   {
    "duration": 3,
    "start_time": "2021-12-02T08:01:44.071Z"
   },
   {
    "duration": 3,
    "start_time": "2021-12-02T08:01:45.161Z"
   },
   {
    "duration": 3,
    "start_time": "2021-12-02T08:01:45.866Z"
   },
   {
    "duration": 3,
    "start_time": "2021-12-02T08:01:55.114Z"
   },
   {
    "duration": 4,
    "start_time": "2021-12-02T08:01:56.321Z"
   },
   {
    "duration": 3,
    "start_time": "2021-12-02T08:02:44.594Z"
   },
   {
    "duration": 3,
    "start_time": "2021-12-02T08:03:19.112Z"
   },
   {
    "duration": 3,
    "start_time": "2021-12-02T08:03:19.482Z"
   },
   {
    "duration": 3,
    "start_time": "2021-12-02T08:03:21.152Z"
   },
   {
    "duration": 4,
    "start_time": "2021-12-02T08:03:27.783Z"
   },
   {
    "duration": 14956,
    "start_time": "2021-12-02T08:05:04.792Z"
   },
   {
    "duration": 65,
    "start_time": "2021-12-02T08:05:57.170Z"
   },
   {
    "duration": 694,
    "start_time": "2021-12-02T08:06:30.793Z"
   },
   {
    "duration": 728,
    "start_time": "2021-12-02T08:06:35.293Z"
   },
   {
    "duration": 677,
    "start_time": "2021-12-02T08:06:50.542Z"
   },
   {
    "duration": 659,
    "start_time": "2021-12-02T08:07:16.394Z"
   },
   {
    "duration": 4444,
    "start_time": "2021-12-02T08:08:15.910Z"
   },
   {
    "duration": 15463,
    "start_time": "2021-12-02T08:08:43.734Z"
   },
   {
    "duration": 14,
    "start_time": "2021-12-02T08:09:08.944Z"
   },
   {
    "duration": 15,
    "start_time": "2021-12-02T08:09:19.853Z"
   },
   {
    "duration": 15,
    "start_time": "2021-12-02T08:09:31.433Z"
   },
   {
    "duration": 2427,
    "start_time": "2021-12-02T08:10:28.979Z"
   },
   {
    "duration": 4,
    "start_time": "2021-12-02T08:10:50.994Z"
   },
   {
    "duration": 7203,
    "start_time": "2021-12-02T08:11:28.395Z"
   },
   {
    "duration": 5,
    "start_time": "2021-12-02T08:11:41.525Z"
   },
   {
    "duration": 7096,
    "start_time": "2021-12-02T08:11:46.715Z"
   },
   {
    "duration": 7149,
    "start_time": "2021-12-02T08:13:00.235Z"
   },
   {
    "duration": 228,
    "start_time": "2021-12-02T08:14:42.966Z"
   },
   {
    "duration": 1869,
    "start_time": "2021-12-02T08:15:03.583Z"
   },
   {
    "duration": 56,
    "start_time": "2021-12-02T08:17:46.186Z"
   },
   {
    "duration": 175,
    "start_time": "2021-12-02T08:17:58.226Z"
   },
   {
    "duration": 19306,
    "start_time": "2021-12-02T08:18:25.143Z"
   },
   {
    "duration": 7,
    "start_time": "2021-12-02T08:19:16.067Z"
   },
   {
    "duration": 19092,
    "start_time": "2021-12-02T08:19:51.236Z"
   },
   {
    "duration": 6,
    "start_time": "2021-12-02T08:20:10.330Z"
   },
   {
    "duration": 2,
    "start_time": "2021-12-02T08:20:41.257Z"
   },
   {
    "duration": 9,
    "start_time": "2021-12-02T08:20:41.261Z"
   },
   {
    "duration": 9,
    "start_time": "2021-12-02T08:20:41.272Z"
   },
   {
    "duration": 5,
    "start_time": "2021-12-02T08:20:41.283Z"
   },
   {
    "duration": 58,
    "start_time": "2021-12-02T08:20:41.289Z"
   },
   {
    "duration": 12,
    "start_time": "2021-12-02T08:20:41.348Z"
   },
   {
    "duration": 30,
    "start_time": "2021-12-02T08:20:41.362Z"
   },
   {
    "duration": 5,
    "start_time": "2021-12-02T08:20:41.395Z"
   },
   {
    "duration": 10,
    "start_time": "2021-12-02T08:20:41.402Z"
   },
   {
    "duration": 12,
    "start_time": "2021-12-02T08:20:41.413Z"
   },
   {
    "duration": 10,
    "start_time": "2021-12-02T08:20:41.426Z"
   },
   {
    "duration": 6,
    "start_time": "2021-12-02T08:20:41.437Z"
   },
   {
    "duration": 3,
    "start_time": "2021-12-02T08:20:41.445Z"
   },
   {
    "duration": 43,
    "start_time": "2021-12-02T08:20:41.450Z"
   },
   {
    "duration": 12,
    "start_time": "2021-12-02T08:20:41.494Z"
   },
   {
    "duration": 5,
    "start_time": "2021-12-02T08:20:41.508Z"
   },
   {
    "duration": 9,
    "start_time": "2021-12-02T08:20:41.515Z"
   },
   {
    "duration": 8,
    "start_time": "2021-12-02T08:20:41.525Z"
   },
   {
    "duration": 10,
    "start_time": "2021-12-02T08:20:41.534Z"
   },
   {
    "duration": 6135,
    "start_time": "2021-12-02T08:20:41.545Z"
   },
   {
    "duration": 4,
    "start_time": "2021-12-02T08:20:47.682Z"
   },
   {
    "duration": 15,
    "start_time": "2021-12-02T08:20:47.688Z"
   },
   {
    "duration": 156,
    "start_time": "2021-12-02T08:20:47.707Z"
   },
   {
    "duration": 5,
    "start_time": "2021-12-02T08:20:47.865Z"
   },
   {
    "duration": 57,
    "start_time": "2021-12-02T08:20:47.872Z"
   },
   {
    "duration": 25,
    "start_time": "2021-12-02T08:20:47.931Z"
   },
   {
    "duration": 20,
    "start_time": "2021-12-02T08:20:47.957Z"
   },
   {
    "duration": 16,
    "start_time": "2021-12-02T08:20:47.990Z"
   },
   {
    "duration": 23,
    "start_time": "2021-12-02T08:20:48.008Z"
   },
   {
    "duration": 31,
    "start_time": "2021-12-02T08:20:48.032Z"
   },
   {
    "duration": 37,
    "start_time": "2021-12-02T08:20:48.064Z"
   },
   {
    "duration": 30,
    "start_time": "2021-12-02T08:20:48.102Z"
   },
   {
    "duration": 27,
    "start_time": "2021-12-02T08:20:48.134Z"
   },
   {
    "duration": 25,
    "start_time": "2021-12-02T08:20:48.163Z"
   },
   {
    "duration": 33,
    "start_time": "2021-12-02T08:20:48.189Z"
   },
   {
    "duration": 51,
    "start_time": "2021-12-02T08:20:48.224Z"
   },
   {
    "duration": 3415,
    "start_time": "2021-12-02T08:20:48.277Z"
   },
   {
    "duration": 13,
    "start_time": "2021-12-02T08:20:51.694Z"
   },
   {
    "duration": 37,
    "start_time": "2021-12-02T08:20:51.708Z"
   },
   {
    "duration": 30,
    "start_time": "2021-12-02T08:20:51.747Z"
   },
   {
    "duration": 28,
    "start_time": "2021-12-02T08:20:51.778Z"
   },
   {
    "duration": 5833,
    "start_time": "2021-12-02T08:20:51.807Z"
   },
   {
    "duration": 7,
    "start_time": "2021-12-02T08:20:57.642Z"
   },
   {
    "duration": 5,
    "start_time": "2021-12-02T08:20:57.651Z"
   },
   {
    "duration": 4951,
    "start_time": "2021-12-02T08:20:57.657Z"
   },
   {
    "duration": 13,
    "start_time": "2021-12-02T08:21:02.610Z"
   },
   {
    "duration": 23,
    "start_time": "2021-12-02T08:21:02.624Z"
   },
   {
    "duration": 15,
    "start_time": "2021-12-02T08:21:02.648Z"
   },
   {
    "duration": 27,
    "start_time": "2021-12-02T08:21:02.665Z"
   },
   {
    "duration": 18,
    "start_time": "2021-12-02T08:21:02.694Z"
   },
   {
    "duration": 13,
    "start_time": "2021-12-02T08:21:02.714Z"
   },
   {
    "duration": 15,
    "start_time": "2021-12-02T08:21:02.729Z"
   },
   {
    "duration": 10,
    "start_time": "2021-12-02T08:21:02.745Z"
   },
   {
    "duration": 17,
    "start_time": "2021-12-02T08:21:02.757Z"
   },
   {
    "duration": 34,
    "start_time": "2021-12-02T08:21:02.775Z"
   },
   {
    "duration": 41,
    "start_time": "2021-12-02T08:21:02.811Z"
   },
   {
    "duration": 21,
    "start_time": "2021-12-02T08:21:02.854Z"
   },
   {
    "duration": 35,
    "start_time": "2021-12-02T08:21:02.877Z"
   },
   {
    "duration": 29,
    "start_time": "2021-12-02T08:21:02.913Z"
   },
   {
    "duration": 34,
    "start_time": "2021-12-02T08:21:02.943Z"
   },
   {
    "duration": 22,
    "start_time": "2021-12-02T08:21:02.978Z"
   },
   {
    "duration": 30,
    "start_time": "2021-12-02T08:21:03.002Z"
   },
   {
    "duration": 42,
    "start_time": "2021-12-02T08:21:03.034Z"
   },
   {
    "duration": 20,
    "start_time": "2021-12-02T08:21:03.078Z"
   },
   {
    "duration": 28,
    "start_time": "2021-12-02T08:21:03.099Z"
   },
   {
    "duration": 25,
    "start_time": "2021-12-02T08:21:03.129Z"
   },
   {
    "duration": 20578,
    "start_time": "2021-12-02T08:21:03.155Z"
   },
   {
    "duration": 8,
    "start_time": "2021-12-02T08:21:26.236Z"
   },
   {
    "duration": 19405,
    "start_time": "2021-12-02T08:21:57.396Z"
   },
   {
    "duration": 7,
    "start_time": "2021-12-02T08:22:16.802Z"
   },
   {
    "duration": 19546,
    "start_time": "2021-12-02T08:23:34.656Z"
   },
   {
    "duration": 7,
    "start_time": "2021-12-02T08:23:54.204Z"
   },
   {
    "duration": 7,
    "start_time": "2021-12-02T08:25:11.390Z"
   },
   {
    "duration": 2,
    "start_time": "2021-12-02T08:25:31.097Z"
   },
   {
    "duration": 3,
    "start_time": "2021-12-02T08:26:01.210Z"
   },
   {
    "duration": 2,
    "start_time": "2021-12-02T08:26:12.150Z"
   },
   {
    "duration": 3,
    "start_time": "2021-12-02T08:26:40.557Z"
   },
   {
    "duration": 3,
    "start_time": "2021-12-02T08:26:40.888Z"
   },
   {
    "duration": 7,
    "start_time": "2021-12-02T08:26:50.597Z"
   },
   {
    "duration": 7,
    "start_time": "2021-12-02T08:27:04.917Z"
   },
   {
    "duration": 8,
    "start_time": "2021-12-02T08:27:08.616Z"
   },
   {
    "duration": 62,
    "start_time": "2021-12-02T08:31:32.098Z"
   },
   {
    "duration": 55,
    "start_time": "2021-12-02T08:32:03.248Z"
   },
   {
    "duration": 53,
    "start_time": "2021-12-02T08:33:07.627Z"
   },
   {
    "duration": 5,
    "start_time": "2021-12-02T08:33:14.417Z"
   },
   {
    "duration": 9,
    "start_time": "2021-12-02T08:34:23.756Z"
   },
   {
    "duration": 7,
    "start_time": "2021-12-02T08:34:28.406Z"
   },
   {
    "duration": 10,
    "start_time": "2021-12-02T08:35:12.386Z"
   },
   {
    "duration": 116,
    "start_time": "2021-12-02T08:35:33.235Z"
   },
   {
    "duration": 8,
    "start_time": "2021-12-02T08:37:17.174Z"
   },
   {
    "duration": 8,
    "start_time": "2021-12-02T08:37:23.244Z"
   },
   {
    "duration": 8,
    "start_time": "2021-12-02T08:38:33.083Z"
   },
   {
    "duration": 8,
    "start_time": "2021-12-02T08:39:18.554Z"
   },
   {
    "duration": 8,
    "start_time": "2021-12-02T08:41:25.743Z"
   },
   {
    "duration": 6,
    "start_time": "2021-12-02T08:41:32.222Z"
   },
   {
    "duration": 8,
    "start_time": "2021-12-02T08:48:21.872Z"
   },
   {
    "duration": 3,
    "start_time": "2021-12-02T08:48:41.512Z"
   },
   {
    "duration": 4,
    "start_time": "2021-12-02T08:48:55.991Z"
   },
   {
    "duration": 9,
    "start_time": "2021-12-02T08:49:30.584Z"
   },
   {
    "duration": 4,
    "start_time": "2021-12-02T08:49:30.944Z"
   },
   {
    "duration": 8,
    "start_time": "2021-12-02T08:49:35.335Z"
   },
   {
    "duration": 3,
    "start_time": "2021-12-02T08:49:37.922Z"
   },
   {
    "duration": 8,
    "start_time": "2021-12-02T08:54:32.197Z"
   },
   {
    "duration": 4,
    "start_time": "2021-12-02T08:54:32.573Z"
   },
   {
    "duration": 9,
    "start_time": "2021-12-02T08:55:14.750Z"
   },
   {
    "duration": 4,
    "start_time": "2021-12-02T08:55:15.651Z"
   },
   {
    "duration": 10,
    "start_time": "2021-12-02T08:56:10.050Z"
   },
   {
    "duration": 3,
    "start_time": "2021-12-02T08:56:11.161Z"
   },
   {
    "duration": 10,
    "start_time": "2021-12-02T08:56:28.311Z"
   },
   {
    "duration": 3,
    "start_time": "2021-12-02T08:56:29.066Z"
   },
   {
    "duration": 9,
    "start_time": "2021-12-02T08:57:48.845Z"
   },
   {
    "duration": 3,
    "start_time": "2021-12-02T08:57:49.371Z"
   },
   {
    "duration": 8,
    "start_time": "2021-12-02T09:01:15.320Z"
   },
   {
    "duration": 3,
    "start_time": "2021-12-02T09:02:03.884Z"
   },
   {
    "duration": 3,
    "start_time": "2021-12-02T09:02:06.871Z"
   },
   {
    "duration": 8,
    "start_time": "2021-12-02T09:04:20.938Z"
   },
   {
    "duration": 2,
    "start_time": "2021-12-02T09:04:21.287Z"
   },
   {
    "duration": 3,
    "start_time": "2021-12-02T09:04:21.839Z"
   },
   {
    "duration": 2,
    "start_time": "2021-12-02T09:04:28.934Z"
   },
   {
    "duration": 3,
    "start_time": "2021-12-02T09:06:42.042Z"
   },
   {
    "duration": 4,
    "start_time": "2021-12-02T09:06:42.350Z"
   },
   {
    "duration": 10,
    "start_time": "2021-12-02T09:06:59.648Z"
   },
   {
    "duration": 2,
    "start_time": "2021-12-02T09:06:59.871Z"
   },
   {
    "duration": 2,
    "start_time": "2021-12-02T09:07:00.101Z"
   },
   {
    "duration": 2,
    "start_time": "2021-12-02T09:07:00.340Z"
   },
   {
    "duration": 3,
    "start_time": "2021-12-02T09:07:00.580Z"
   },
   {
    "duration": 3,
    "start_time": "2021-12-02T09:07:00.960Z"
   },
   {
    "duration": 10,
    "start_time": "2021-12-02T09:08:10.931Z"
   },
   {
    "duration": 3,
    "start_time": "2021-12-02T09:10:27.911Z"
   },
   {
    "duration": 2,
    "start_time": "2021-12-02T09:10:49.844Z"
   },
   {
    "duration": 2,
    "start_time": "2021-12-02T09:10:50.059Z"
   },
   {
    "duration": 2,
    "start_time": "2021-12-02T09:10:50.184Z"
   },
   {
    "duration": 2,
    "start_time": "2021-12-02T09:10:50.376Z"
   },
   {
    "duration": 4,
    "start_time": "2021-12-02T09:10:50.831Z"
   },
   {
    "duration": 2,
    "start_time": "2021-12-02T09:11:41.111Z"
   },
   {
    "duration": 3,
    "start_time": "2021-12-02T09:13:25.631Z"
   },
   {
    "duration": 2,
    "start_time": "2021-12-02T09:13:26.621Z"
   },
   {
    "duration": 2,
    "start_time": "2021-12-02T09:13:26.744Z"
   },
   {
    "duration": 3,
    "start_time": "2021-12-02T09:13:26.891Z"
   },
   {
    "duration": 3,
    "start_time": "2021-12-02T09:13:27.035Z"
   },
   {
    "duration": 3,
    "start_time": "2021-12-02T09:13:27.531Z"
   },
   {
    "duration": 4,
    "start_time": "2021-12-02T09:13:42.980Z"
   },
   {
    "duration": 53,
    "start_time": "2021-12-02T09:17:51.322Z"
   },
   {
    "duration": 4,
    "start_time": "2021-12-02T09:17:51.641Z"
   },
   {
    "duration": 3,
    "start_time": "2021-12-02T09:17:57.401Z"
   },
   {
    "duration": 4,
    "start_time": "2021-12-02T09:17:58.062Z"
   },
   {
    "duration": 11,
    "start_time": "2021-12-02T09:18:21.902Z"
   },
   {
    "duration": 3,
    "start_time": "2021-12-02T09:18:23.906Z"
   },
   {
    "duration": 3,
    "start_time": "2021-12-02T09:18:24.287Z"
   },
   {
    "duration": 3,
    "start_time": "2021-12-02T09:18:24.681Z"
   },
   {
    "duration": 3,
    "start_time": "2021-12-02T09:18:25.641Z"
   },
   {
    "duration": 3,
    "start_time": "2021-12-02T09:18:26.262Z"
   },
   {
    "duration": 3,
    "start_time": "2021-12-02T09:19:24.392Z"
   },
   {
    "duration": 4,
    "start_time": "2021-12-02T09:19:25.932Z"
   },
   {
    "duration": 15,
    "start_time": "2021-12-02T09:24:47.302Z"
   },
   {
    "duration": 19,
    "start_time": "2021-12-02T09:24:51.222Z"
   },
   {
    "duration": 23,
    "start_time": "2021-12-02T09:25:17.332Z"
   },
   {
    "duration": 177,
    "start_time": "2021-12-02T09:27:07.212Z"
   },
   {
    "duration": 31,
    "start_time": "2021-12-02T09:27:16.200Z"
   },
   {
    "duration": 186,
    "start_time": "2021-12-02T09:28:16.745Z"
   },
   {
    "duration": 4,
    "start_time": "2021-12-02T09:28:23.402Z"
   },
   {
    "duration": 186,
    "start_time": "2021-12-02T09:28:26.729Z"
   },
   {
    "duration": 185,
    "start_time": "2021-12-02T09:28:38.183Z"
   },
   {
    "duration": 188,
    "start_time": "2021-12-02T09:28:42.155Z"
   },
   {
    "duration": 64,
    "start_time": "2021-12-02T09:28:49.173Z"
   },
   {
    "duration": 177,
    "start_time": "2021-12-02T09:28:56.531Z"
   },
   {
    "duration": 178,
    "start_time": "2021-12-02T09:30:08.806Z"
   },
   {
    "duration": 172,
    "start_time": "2021-12-02T09:31:17.562Z"
   },
   {
    "duration": 176,
    "start_time": "2021-12-02T09:31:25.862Z"
   },
   {
    "duration": 1849,
    "start_time": "2021-12-02T09:31:34.972Z"
   },
   {
    "duration": 171,
    "start_time": "2021-12-02T09:31:58.501Z"
   },
   {
    "duration": 721,
    "start_time": "2021-12-02T09:32:05.350Z"
   },
   {
    "duration": 33,
    "start_time": "2021-12-02T09:32:10.312Z"
   },
   {
    "duration": 277,
    "start_time": "2021-12-02T11:09:48.938Z"
   },
   {
    "duration": 574,
    "start_time": "2021-12-02T11:09:55.318Z"
   },
   {
    "duration": 4,
    "start_time": "2021-12-02T11:09:55.894Z"
   },
   {
    "duration": 488,
    "start_time": "2021-12-02T11:09:55.900Z"
   },
   {
    "duration": 2,
    "start_time": "2021-12-02T11:09:56.390Z"
   },
   {
    "duration": 53,
    "start_time": "2021-12-02T11:09:56.393Z"
   },
   {
    "duration": 9,
    "start_time": "2021-12-02T11:09:56.448Z"
   },
   {
    "duration": 21,
    "start_time": "2021-12-02T11:09:56.459Z"
   },
   {
    "duration": 7,
    "start_time": "2021-12-02T11:09:56.481Z"
   },
   {
    "duration": 6,
    "start_time": "2021-12-02T11:09:56.490Z"
   },
   {
    "duration": 10,
    "start_time": "2021-12-02T11:09:56.498Z"
   },
   {
    "duration": 9,
    "start_time": "2021-12-02T11:09:56.509Z"
   },
   {
    "duration": 7,
    "start_time": "2021-12-02T11:09:56.519Z"
   },
   {
    "duration": 3,
    "start_time": "2021-12-02T11:09:56.527Z"
   },
   {
    "duration": 10,
    "start_time": "2021-12-02T11:09:56.531Z"
   },
   {
    "duration": 13,
    "start_time": "2021-12-02T11:09:56.543Z"
   },
   {
    "duration": 4,
    "start_time": "2021-12-02T11:09:56.587Z"
   },
   {
    "duration": 7,
    "start_time": "2021-12-02T11:09:56.593Z"
   },
   {
    "duration": 8,
    "start_time": "2021-12-02T11:09:56.601Z"
   },
   {
    "duration": 10,
    "start_time": "2021-12-02T11:09:56.610Z"
   },
   {
    "duration": 6047,
    "start_time": "2021-12-02T11:09:56.622Z"
   },
   {
    "duration": 7,
    "start_time": "2021-12-02T11:10:02.671Z"
   },
   {
    "duration": 5,
    "start_time": "2021-12-02T11:10:02.688Z"
   },
   {
    "duration": 158,
    "start_time": "2021-12-02T11:10:02.695Z"
   },
   {
    "duration": 5,
    "start_time": "2021-12-02T11:10:02.855Z"
   },
   {
    "duration": 58,
    "start_time": "2021-12-02T11:10:02.861Z"
   },
   {
    "duration": 21,
    "start_time": "2021-12-02T11:10:02.920Z"
   },
   {
    "duration": 17,
    "start_time": "2021-12-02T11:10:02.945Z"
   },
   {
    "duration": 31,
    "start_time": "2021-12-02T11:10:02.964Z"
   },
   {
    "duration": 7,
    "start_time": "2021-12-02T11:10:02.997Z"
   },
   {
    "duration": 15,
    "start_time": "2021-12-02T11:10:03.005Z"
   },
   {
    "duration": 11,
    "start_time": "2021-12-02T11:10:03.022Z"
   },
   {
    "duration": 25,
    "start_time": "2021-12-02T11:10:03.034Z"
   },
   {
    "duration": 23,
    "start_time": "2021-12-02T11:10:03.061Z"
   },
   {
    "duration": 8,
    "start_time": "2021-12-02T11:10:03.086Z"
   },
   {
    "duration": 18,
    "start_time": "2021-12-02T11:10:03.096Z"
   },
   {
    "duration": 8,
    "start_time": "2021-12-02T11:10:03.115Z"
   },
   {
    "duration": 3423,
    "start_time": "2021-12-02T11:10:03.125Z"
   },
   {
    "duration": 18,
    "start_time": "2021-12-02T11:10:06.550Z"
   },
   {
    "duration": 21,
    "start_time": "2021-12-02T11:10:06.570Z"
   },
   {
    "duration": 23,
    "start_time": "2021-12-02T11:10:06.593Z"
   },
   {
    "duration": 7,
    "start_time": "2021-12-02T11:10:06.618Z"
   },
   {
    "duration": 5680,
    "start_time": "2021-12-02T11:10:06.627Z"
   },
   {
    "duration": 7,
    "start_time": "2021-12-02T11:10:12.308Z"
   },
   {
    "duration": 4,
    "start_time": "2021-12-02T11:10:12.316Z"
   },
   {
    "duration": 4589,
    "start_time": "2021-12-02T11:10:12.322Z"
   },
   {
    "duration": 11,
    "start_time": "2021-12-02T11:10:16.913Z"
   },
   {
    "duration": 5,
    "start_time": "2021-12-02T11:10:16.926Z"
   },
   {
    "duration": 6,
    "start_time": "2021-12-02T11:10:16.932Z"
   },
   {
    "duration": 7,
    "start_time": "2021-12-02T11:10:16.939Z"
   },
   {
    "duration": 3,
    "start_time": "2021-12-02T11:10:16.947Z"
   },
   {
    "duration": 6,
    "start_time": "2021-12-02T11:10:16.951Z"
   },
   {
    "duration": 8,
    "start_time": "2021-12-02T11:10:16.959Z"
   },
   {
    "duration": 25,
    "start_time": "2021-12-02T11:10:16.968Z"
   },
   {
    "duration": 10,
    "start_time": "2021-12-02T11:10:16.995Z"
   },
   {
    "duration": 5,
    "start_time": "2021-12-02T11:10:17.006Z"
   },
   {
    "duration": 6,
    "start_time": "2021-12-02T11:10:17.012Z"
   },
   {
    "duration": 5,
    "start_time": "2021-12-02T11:10:17.019Z"
   },
   {
    "duration": 12,
    "start_time": "2021-12-02T11:10:17.026Z"
   },
   {
    "duration": 8,
    "start_time": "2021-12-02T11:10:17.040Z"
   },
   {
    "duration": 5,
    "start_time": "2021-12-02T11:10:17.050Z"
   },
   {
    "duration": 301,
    "start_time": "2021-12-02T11:10:17.056Z"
   },
   {
    "duration": -19,
    "start_time": "2021-12-02T11:10:17.377Z"
   },
   {
    "duration": -32,
    "start_time": "2021-12-02T11:10:17.391Z"
   },
   {
    "duration": -37,
    "start_time": "2021-12-02T11:10:17.397Z"
   },
   {
    "duration": -41,
    "start_time": "2021-12-02T11:10:17.402Z"
   },
   {
    "duration": -46,
    "start_time": "2021-12-02T11:10:17.408Z"
   },
   {
    "duration": -51,
    "start_time": "2021-12-02T11:10:17.414Z"
   },
   {
    "duration": -56,
    "start_time": "2021-12-02T11:10:17.419Z"
   },
   {
    "duration": -60,
    "start_time": "2021-12-02T11:10:17.424Z"
   },
   {
    "duration": -64,
    "start_time": "2021-12-02T11:10:17.429Z"
   },
   {
    "duration": 244,
    "start_time": "2021-12-02T11:10:20.848Z"
   },
   {
    "duration": 7,
    "start_time": "2021-12-02T11:11:33.138Z"
   },
   {
    "duration": 252,
    "start_time": "2021-12-02T11:11:41.073Z"
   },
   {
    "duration": 242,
    "start_time": "2021-12-02T11:12:02.594Z"
   },
   {
    "duration": 18,
    "start_time": "2021-12-02T11:12:07.938Z"
   },
   {
    "duration": 18,
    "start_time": "2021-12-02T11:14:03.267Z"
   },
   {
    "duration": 16,
    "start_time": "2021-12-02T11:14:13.748Z"
   },
   {
    "duration": 16,
    "start_time": "2021-12-02T11:14:19.135Z"
   },
   {
    "duration": 247,
    "start_time": "2021-12-02T11:14:27.299Z"
   },
   {
    "duration": 17,
    "start_time": "2021-12-02T11:14:56.166Z"
   },
   {
    "duration": 18,
    "start_time": "2021-12-02T11:15:20.110Z"
   },
   {
    "duration": 3,
    "start_time": "2021-12-02T11:16:46.087Z"
   },
   {
    "duration": 84,
    "start_time": "2021-12-02T11:16:54.977Z"
   },
   {
    "duration": 290,
    "start_time": "2021-12-02T11:17:16.235Z"
   },
   {
    "duration": 18,
    "start_time": "2021-12-02T11:17:32.267Z"
   },
   {
    "duration": 260,
    "start_time": "2021-12-02T11:18:19.808Z"
   },
   {
    "duration": 17,
    "start_time": "2021-12-02T11:18:25.007Z"
   },
   {
    "duration": 243,
    "start_time": "2021-12-02T11:19:05.507Z"
   },
   {
    "duration": 241,
    "start_time": "2021-12-02T11:19:43.588Z"
   },
   {
    "duration": 16,
    "start_time": "2021-12-02T11:19:46.497Z"
   },
   {
    "duration": 1997,
    "start_time": "2021-12-02T11:20:02.328Z"
   },
   {
    "duration": 88,
    "start_time": "2021-12-02T11:20:10.256Z"
   },
   {
    "duration": 19,
    "start_time": "2021-12-02T11:20:23.440Z"
   },
   {
    "duration": 27,
    "start_time": "2021-12-02T11:21:12.788Z"
   },
   {
    "duration": 27,
    "start_time": "2021-12-02T11:22:25.543Z"
   },
   {
    "duration": 225,
    "start_time": "2021-12-02T11:22:27.177Z"
   },
   {
    "duration": 266,
    "start_time": "2021-12-02T11:22:31.138Z"
   },
   {
    "duration": 3,
    "start_time": "2021-12-02T11:22:38.588Z"
   },
   {
    "duration": 21,
    "start_time": "2021-12-02T11:22:38.592Z"
   },
   {
    "duration": 2,
    "start_time": "2021-12-02T11:22:38.615Z"
   },
   {
    "duration": 5,
    "start_time": "2021-12-02T11:22:38.618Z"
   },
   {
    "duration": 50,
    "start_time": "2021-12-02T11:22:38.624Z"
   },
   {
    "duration": 20,
    "start_time": "2021-12-02T11:22:38.676Z"
   },
   {
    "duration": 20,
    "start_time": "2021-12-02T11:22:38.698Z"
   },
   {
    "duration": 4,
    "start_time": "2021-12-02T11:22:38.719Z"
   },
   {
    "duration": 6,
    "start_time": "2021-12-02T11:22:38.726Z"
   },
   {
    "duration": 10,
    "start_time": "2021-12-02T11:22:38.734Z"
   },
   {
    "duration": 48,
    "start_time": "2021-12-02T11:22:38.745Z"
   },
   {
    "duration": 6,
    "start_time": "2021-12-02T11:22:38.795Z"
   },
   {
    "duration": 4,
    "start_time": "2021-12-02T11:22:38.802Z"
   },
   {
    "duration": 5,
    "start_time": "2021-12-02T11:22:38.807Z"
   },
   {
    "duration": 11,
    "start_time": "2021-12-02T11:22:38.813Z"
   },
   {
    "duration": 4,
    "start_time": "2021-12-02T11:22:38.825Z"
   },
   {
    "duration": 6,
    "start_time": "2021-12-02T11:22:38.830Z"
   },
   {
    "duration": 52,
    "start_time": "2021-12-02T11:22:38.837Z"
   },
   {
    "duration": 12,
    "start_time": "2021-12-02T11:22:38.890Z"
   },
   {
    "duration": 6030,
    "start_time": "2021-12-02T11:22:38.903Z"
   },
   {
    "duration": 4,
    "start_time": "2021-12-02T11:22:44.935Z"
   },
   {
    "duration": 8,
    "start_time": "2021-12-02T11:22:44.940Z"
   },
   {
    "duration": 163,
    "start_time": "2021-12-02T11:22:44.949Z"
   },
   {
    "duration": 6,
    "start_time": "2021-12-02T11:22:45.113Z"
   },
   {
    "duration": 38,
    "start_time": "2021-12-02T11:22:45.121Z"
   },
   {
    "duration": 39,
    "start_time": "2021-12-02T11:22:45.160Z"
   },
   {
    "duration": 17,
    "start_time": "2021-12-02T11:22:45.203Z"
   },
   {
    "duration": 14,
    "start_time": "2021-12-02T11:22:45.222Z"
   },
   {
    "duration": 7,
    "start_time": "2021-12-02T11:22:45.238Z"
   },
   {
    "duration": 12,
    "start_time": "2021-12-02T11:22:45.246Z"
   },
   {
    "duration": 29,
    "start_time": "2021-12-02T11:22:45.260Z"
   },
   {
    "duration": 16,
    "start_time": "2021-12-02T11:22:45.290Z"
   },
   {
    "duration": 9,
    "start_time": "2021-12-02T11:22:45.308Z"
   },
   {
    "duration": 6,
    "start_time": "2021-12-02T11:22:45.319Z"
   },
   {
    "duration": 10,
    "start_time": "2021-12-02T11:22:45.326Z"
   },
   {
    "duration": 8,
    "start_time": "2021-12-02T11:22:45.338Z"
   },
   {
    "duration": 3218,
    "start_time": "2021-12-02T11:22:45.348Z"
   },
   {
    "duration": 25,
    "start_time": "2021-12-02T11:22:48.567Z"
   },
   {
    "duration": 8,
    "start_time": "2021-12-02T11:22:48.593Z"
   },
   {
    "duration": 12,
    "start_time": "2021-12-02T11:22:48.603Z"
   },
   {
    "duration": 5,
    "start_time": "2021-12-02T11:22:48.616Z"
   },
   {
    "duration": 5648,
    "start_time": "2021-12-02T11:22:48.622Z"
   },
   {
    "duration": 7,
    "start_time": "2021-12-02T11:22:54.271Z"
   },
   {
    "duration": 9,
    "start_time": "2021-12-02T11:22:54.280Z"
   },
   {
    "duration": 4796,
    "start_time": "2021-12-02T11:22:54.291Z"
   },
   {
    "duration": 12,
    "start_time": "2021-12-02T11:22:59.089Z"
   },
   {
    "duration": 7,
    "start_time": "2021-12-02T11:22:59.103Z"
   },
   {
    "duration": 6,
    "start_time": "2021-12-02T11:22:59.111Z"
   },
   {
    "duration": 7,
    "start_time": "2021-12-02T11:22:59.118Z"
   },
   {
    "duration": 4,
    "start_time": "2021-12-02T11:22:59.127Z"
   },
   {
    "duration": 5,
    "start_time": "2021-12-02T11:22:59.132Z"
   },
   {
    "duration": 8,
    "start_time": "2021-12-02T11:22:59.138Z"
   },
   {
    "duration": 9,
    "start_time": "2021-12-02T11:22:59.147Z"
   },
   {
    "duration": 3,
    "start_time": "2021-12-02T11:22:59.158Z"
   },
   {
    "duration": 26,
    "start_time": "2021-12-02T11:22:59.163Z"
   },
   {
    "duration": 13,
    "start_time": "2021-12-02T11:22:59.190Z"
   },
   {
    "duration": 6,
    "start_time": "2021-12-02T11:22:59.205Z"
   },
   {
    "duration": 10,
    "start_time": "2021-12-02T11:22:59.213Z"
   },
   {
    "duration": 6,
    "start_time": "2021-12-02T11:22:59.224Z"
   },
   {
    "duration": 7,
    "start_time": "2021-12-02T11:22:59.232Z"
   },
   {
    "duration": 7,
    "start_time": "2021-12-02T11:22:59.241Z"
   },
   {
    "duration": 7,
    "start_time": "2021-12-02T11:22:59.250Z"
   },
   {
    "duration": 21555,
    "start_time": "2021-12-02T11:22:59.259Z"
   },
   {
    "duration": 6,
    "start_time": "2021-12-02T11:23:20.815Z"
   },
   {
    "duration": 10,
    "start_time": "2021-12-02T11:23:20.823Z"
   },
   {
    "duration": 2,
    "start_time": "2021-12-02T11:23:20.834Z"
   },
   {
    "duration": 226,
    "start_time": "2021-12-02T11:23:20.838Z"
   },
   {
    "duration": -8,
    "start_time": "2021-12-02T11:23:21.073Z"
   },
   {
    "duration": -13,
    "start_time": "2021-12-02T11:23:21.079Z"
   },
   {
    "duration": 22,
    "start_time": "2021-12-02T11:25:59.808Z"
   },
   {
    "duration": 23,
    "start_time": "2021-12-02T11:26:39.509Z"
   },
   {
    "duration": 30,
    "start_time": "2021-12-02T11:26:57.148Z"
   },
   {
    "duration": 6,
    "start_time": "2021-12-02T11:27:22.530Z"
   },
   {
    "duration": 5,
    "start_time": "2021-12-02T11:32:27.352Z"
   },
   {
    "duration": 7,
    "start_time": "2021-12-02T11:32:32.249Z"
   },
   {
    "duration": 7,
    "start_time": "2021-12-02T11:33:01.349Z"
   },
   {
    "duration": 7,
    "start_time": "2021-12-02T11:33:08.075Z"
   },
   {
    "duration": 6,
    "start_time": "2021-12-02T11:33:18.589Z"
   },
   {
    "duration": 243,
    "start_time": "2021-12-02T11:35:57.241Z"
   },
   {
    "duration": 404,
    "start_time": "2021-12-02T11:36:45.301Z"
   },
   {
    "duration": 271,
    "start_time": "2021-12-02T11:37:04.712Z"
   },
   {
    "duration": 16,
    "start_time": "2021-12-02T11:37:10.122Z"
   },
   {
    "duration": 247,
    "start_time": "2021-12-02T11:37:26.791Z"
   },
   {
    "duration": 14,
    "start_time": "2021-12-02T11:37:29.741Z"
   },
   {
    "duration": 10,
    "start_time": "2021-12-02T11:39:22.132Z"
   },
   {
    "duration": 4,
    "start_time": "2021-12-02T11:39:27.817Z"
   },
   {
    "duration": 3,
    "start_time": "2021-12-02T11:39:40.051Z"
   },
   {
    "duration": 359,
    "start_time": "2021-12-02T11:40:40.713Z"
   },
   {
    "duration": 11,
    "start_time": "2021-12-02T11:40:46.091Z"
   },
   {
    "duration": 3,
    "start_time": "2021-12-02T11:40:46.977Z"
   },
   {
    "duration": 234,
    "start_time": "2021-12-02T11:40:58.679Z"
   },
   {
    "duration": 12,
    "start_time": "2021-12-02T11:41:04.452Z"
   },
   {
    "duration": 4,
    "start_time": "2021-12-02T11:41:05.491Z"
   },
   {
    "duration": 10,
    "start_time": "2021-12-02T11:41:16.931Z"
   },
   {
    "duration": 3,
    "start_time": "2021-12-02T11:41:17.202Z"
   },
   {
    "duration": 3,
    "start_time": "2021-12-02T11:41:25.962Z"
   },
   {
    "duration": 4,
    "start_time": "2021-12-02T11:41:46.583Z"
   },
   {
    "duration": 10,
    "start_time": "2021-12-02T11:41:48.519Z"
   },
   {
    "duration": 4,
    "start_time": "2021-12-02T11:41:48.711Z"
   },
   {
    "duration": 4,
    "start_time": "2021-12-02T11:42:04.081Z"
   },
   {
    "duration": 11,
    "start_time": "2021-12-02T11:42:05.592Z"
   },
   {
    "duration": 18,
    "start_time": "2021-12-02T11:42:12.520Z"
   },
   {
    "duration": 4,
    "start_time": "2021-12-02T11:42:12.982Z"
   },
   {
    "duration": 10,
    "start_time": "2021-12-02T11:42:17.352Z"
   },
   {
    "duration": 4,
    "start_time": "2021-12-02T11:42:19.901Z"
   },
   {
    "duration": 16,
    "start_time": "2021-12-02T11:42:45.487Z"
   },
   {
    "duration": 7,
    "start_time": "2021-12-02T11:42:45.497Z"
   },
   {
    "duration": 10,
    "start_time": "2021-12-02T11:42:47.791Z"
   },
   {
    "duration": 4,
    "start_time": "2021-12-02T11:42:48.474Z"
   },
   {
    "duration": 11,
    "start_time": "2021-12-02T11:42:51.481Z"
   },
   {
    "duration": 4,
    "start_time": "2021-12-02T11:42:51.709Z"
   },
   {
    "duration": 11,
    "start_time": "2021-12-02T11:43:18.842Z"
   },
   {
    "duration": 12,
    "start_time": "2021-12-02T11:43:23.101Z"
   },
   {
    "duration": 4,
    "start_time": "2021-12-02T11:43:23.620Z"
   },
   {
    "duration": 11,
    "start_time": "2021-12-02T11:43:25.699Z"
   },
   {
    "duration": 3,
    "start_time": "2021-12-02T11:43:25.891Z"
   },
   {
    "duration": 3,
    "start_time": "2021-12-02T11:43:31.491Z"
   },
   {
    "duration": 15,
    "start_time": "2021-12-02T11:43:33.138Z"
   },
   {
    "duration": 4,
    "start_time": "2021-12-02T11:43:33.632Z"
   },
   {
    "duration": 11,
    "start_time": "2021-12-02T11:44:00.151Z"
   },
   {
    "duration": 4,
    "start_time": "2021-12-02T11:44:00.601Z"
   },
   {
    "duration": 2,
    "start_time": "2021-12-02T11:44:02.512Z"
   },
   {
    "duration": 12,
    "start_time": "2021-12-02T11:44:04.152Z"
   },
   {
    "duration": 4,
    "start_time": "2021-12-02T11:44:04.391Z"
   },
   {
    "duration": 12,
    "start_time": "2021-12-02T11:44:32.309Z"
   },
   {
    "duration": 4,
    "start_time": "2021-12-02T11:44:32.901Z"
   },
   {
    "duration": 567,
    "start_time": "2021-12-02T11:44:42.977Z"
   },
   {
    "duration": 4,
    "start_time": "2021-12-02T11:44:43.545Z"
   },
   {
    "duration": 523,
    "start_time": "2021-12-02T11:44:43.551Z"
   },
   {
    "duration": 2,
    "start_time": "2021-12-02T11:44:44.076Z"
   },
   {
    "duration": 49,
    "start_time": "2021-12-02T11:44:44.079Z"
   },
   {
    "duration": 10,
    "start_time": "2021-12-02T11:44:44.130Z"
   },
   {
    "duration": 22,
    "start_time": "2021-12-02T11:44:44.142Z"
   },
   {
    "duration": 5,
    "start_time": "2021-12-02T11:44:44.165Z"
   },
   {
    "duration": 18,
    "start_time": "2021-12-02T11:44:44.173Z"
   },
   {
    "duration": 10,
    "start_time": "2021-12-02T11:44:44.194Z"
   },
   {
    "duration": 9,
    "start_time": "2021-12-02T11:44:44.205Z"
   },
   {
    "duration": 6,
    "start_time": "2021-12-02T11:44:44.216Z"
   },
   {
    "duration": 3,
    "start_time": "2021-12-02T11:44:44.223Z"
   },
   {
    "duration": 5,
    "start_time": "2021-12-02T11:44:44.227Z"
   },
   {
    "duration": 11,
    "start_time": "2021-12-02T11:44:44.233Z"
   },
   {
    "duration": 4,
    "start_time": "2021-12-02T11:44:44.245Z"
   },
   {
    "duration": 39,
    "start_time": "2021-12-02T11:44:44.251Z"
   },
   {
    "duration": 8,
    "start_time": "2021-12-02T11:44:44.291Z"
   },
   {
    "duration": 16,
    "start_time": "2021-12-02T11:44:44.300Z"
   },
   {
    "duration": 5874,
    "start_time": "2021-12-02T11:44:44.317Z"
   },
   {
    "duration": 4,
    "start_time": "2021-12-02T11:44:50.193Z"
   },
   {
    "duration": 17,
    "start_time": "2021-12-02T11:44:50.198Z"
   },
   {
    "duration": 157,
    "start_time": "2021-12-02T11:44:50.217Z"
   },
   {
    "duration": 5,
    "start_time": "2021-12-02T11:44:50.376Z"
   },
   {
    "duration": 58,
    "start_time": "2021-12-02T11:44:50.382Z"
   },
   {
    "duration": 21,
    "start_time": "2021-12-02T11:44:50.442Z"
   },
   {
    "duration": 21,
    "start_time": "2021-12-02T11:44:50.467Z"
   },
   {
    "duration": 15,
    "start_time": "2021-12-02T11:44:50.490Z"
   },
   {
    "duration": 7,
    "start_time": "2021-12-02T11:44:50.506Z"
   },
   {
    "duration": 25,
    "start_time": "2021-12-02T11:44:50.515Z"
   },
   {
    "duration": 13,
    "start_time": "2021-12-02T11:44:50.542Z"
   },
   {
    "duration": 13,
    "start_time": "2021-12-02T11:44:50.557Z"
   },
   {
    "duration": 28,
    "start_time": "2021-12-02T11:44:50.571Z"
   },
   {
    "duration": 8,
    "start_time": "2021-12-02T11:44:50.601Z"
   },
   {
    "duration": 14,
    "start_time": "2021-12-02T11:44:50.610Z"
   },
   {
    "duration": 13,
    "start_time": "2021-12-02T11:44:50.625Z"
   },
   {
    "duration": 3317,
    "start_time": "2021-12-02T11:44:50.640Z"
   },
   {
    "duration": 29,
    "start_time": "2021-12-02T11:44:53.959Z"
   },
   {
    "duration": 8,
    "start_time": "2021-12-02T11:44:53.990Z"
   },
   {
    "duration": 14,
    "start_time": "2021-12-02T11:44:54.000Z"
   },
   {
    "duration": 10,
    "start_time": "2021-12-02T11:44:54.015Z"
   },
   {
    "duration": 5661,
    "start_time": "2021-12-02T11:44:54.026Z"
   },
   {
    "duration": 6,
    "start_time": "2021-12-02T11:44:59.689Z"
   },
   {
    "duration": 4,
    "start_time": "2021-12-02T11:44:59.697Z"
   },
   {
    "duration": 4747,
    "start_time": "2021-12-02T11:44:59.703Z"
   },
   {
    "duration": 12,
    "start_time": "2021-12-02T11:45:04.451Z"
   },
   {
    "duration": 9,
    "start_time": "2021-12-02T11:45:04.465Z"
   },
   {
    "duration": 12,
    "start_time": "2021-12-02T11:45:04.476Z"
   },
   {
    "duration": 8,
    "start_time": "2021-12-02T11:45:04.489Z"
   },
   {
    "duration": 5,
    "start_time": "2021-12-02T11:45:04.498Z"
   },
   {
    "duration": 7,
    "start_time": "2021-12-02T11:45:04.505Z"
   },
   {
    "duration": 12,
    "start_time": "2021-12-02T11:45:04.513Z"
   },
   {
    "duration": 8,
    "start_time": "2021-12-02T11:45:04.526Z"
   },
   {
    "duration": 5,
    "start_time": "2021-12-02T11:45:04.536Z"
   },
   {
    "duration": 6,
    "start_time": "2021-12-02T11:45:04.542Z"
   },
   {
    "duration": 7,
    "start_time": "2021-12-02T11:45:04.549Z"
   },
   {
    "duration": 8,
    "start_time": "2021-12-02T11:45:04.557Z"
   },
   {
    "duration": 21,
    "start_time": "2021-12-02T11:45:04.566Z"
   },
   {
    "duration": 2,
    "start_time": "2021-12-02T11:45:04.589Z"
   },
   {
    "duration": 7,
    "start_time": "2021-12-02T11:45:04.593Z"
   },
   {
    "duration": 5,
    "start_time": "2021-12-02T11:45:04.601Z"
   },
   {
    "duration": 5,
    "start_time": "2021-12-02T11:45:04.607Z"
   },
   {
    "duration": 19474,
    "start_time": "2021-12-02T11:45:04.614Z"
   },
   {
    "duration": 6,
    "start_time": "2021-12-02T11:45:24.090Z"
   },
   {
    "duration": 376,
    "start_time": "2021-12-02T11:45:24.098Z"
   },
   {
    "duration": 12,
    "start_time": "2021-12-02T11:45:49.395Z"
   },
   {
    "duration": 3,
    "start_time": "2021-12-02T11:45:50.097Z"
   },
   {
    "duration": 4,
    "start_time": "2021-12-02T11:46:07.627Z"
   },
   {
    "duration": 16,
    "start_time": "2021-12-02T11:46:29.917Z"
   },
   {
    "duration": 8,
    "start_time": "2021-12-02T11:46:34.217Z"
   },
   {
    "duration": 15,
    "start_time": "2021-12-02T11:46:41.129Z"
   },
   {
    "duration": 12,
    "start_time": "2021-12-02T11:46:55.257Z"
   },
   {
    "duration": 4,
    "start_time": "2021-12-02T11:46:55.637Z"
   },
   {
    "duration": 17,
    "start_time": "2021-12-02T11:47:24.327Z"
   },
   {
    "duration": 36,
    "start_time": "2021-12-02T11:47:30.528Z"
   },
   {
    "duration": 20,
    "start_time": "2021-12-02T11:47:44.777Z"
   },
   {
    "duration": 237,
    "start_time": "2021-12-02T11:48:18.473Z"
   },
   {
    "duration": 15,
    "start_time": "2021-12-02T11:48:21.596Z"
   },
   {
    "duration": 15,
    "start_time": "2021-12-02T11:51:39.548Z"
   },
   {
    "duration": 12,
    "start_time": "2021-12-02T11:51:41.917Z"
   },
   {
    "duration": 6,
    "start_time": "2021-12-02T11:51:46.127Z"
   },
   {
    "duration": 5,
    "start_time": "2021-12-02T11:51:49.287Z"
   },
   {
    "duration": 4,
    "start_time": "2021-12-02T11:51:53.777Z"
   },
   {
    "duration": 13,
    "start_time": "2021-12-02T11:52:15.807Z"
   },
   {
    "duration": 6,
    "start_time": "2021-12-02T11:52:22.648Z"
   },
   {
    "duration": 4,
    "start_time": "2021-12-02T11:52:35.775Z"
   },
   {
    "duration": 6,
    "start_time": "2021-12-02T11:52:38.717Z"
   },
   {
    "duration": 12,
    "start_time": "2021-12-02T11:57:21.637Z"
   },
   {
    "duration": 134,
    "start_time": "2021-12-02T11:58:03.685Z"
   },
   {
    "duration": 8,
    "start_time": "2021-12-02T11:58:08.257Z"
   },
   {
    "duration": 7,
    "start_time": "2021-12-02T11:58:14.587Z"
   },
   {
    "duration": 8,
    "start_time": "2021-12-02T11:58:33.572Z"
   },
   {
    "duration": 7,
    "start_time": "2021-12-02T11:58:38.939Z"
   },
   {
    "duration": 8,
    "start_time": "2021-12-02T11:58:43.827Z"
   },
   {
    "duration": 6,
    "start_time": "2021-12-02T11:58:58.610Z"
   },
   {
    "duration": 6,
    "start_time": "2021-12-02T11:59:07.598Z"
   },
   {
    "duration": 6,
    "start_time": "2021-12-02T11:59:25.321Z"
   },
   {
    "duration": 8,
    "start_time": "2021-12-02T11:59:41.578Z"
   },
   {
    "duration": 6,
    "start_time": "2021-12-02T11:59:47.197Z"
   },
   {
    "duration": 6,
    "start_time": "2021-12-02T12:00:01.107Z"
   },
   {
    "duration": 12,
    "start_time": "2021-12-02T12:00:02.777Z"
   },
   {
    "duration": 6,
    "start_time": "2021-12-02T12:00:02.997Z"
   },
   {
    "duration": 6,
    "start_time": "2021-12-02T12:00:15.233Z"
   },
   {
    "duration": 12,
    "start_time": "2021-12-02T12:00:15.878Z"
   },
   {
    "duration": 6,
    "start_time": "2021-12-02T12:03:01.507Z"
   },
   {
    "duration": 4,
    "start_time": "2021-12-02T12:03:11.449Z"
   },
   {
    "duration": 4,
    "start_time": "2021-12-02T12:03:15.207Z"
   },
   {
    "duration": 6,
    "start_time": "2021-12-02T12:03:18.977Z"
   },
   {
    "duration": 6,
    "start_time": "2021-12-02T12:03:29.483Z"
   },
   {
    "duration": 13,
    "start_time": "2021-12-02T12:04:08.078Z"
   },
   {
    "duration": 14,
    "start_time": "2021-12-02T12:04:13.530Z"
   },
   {
    "duration": 5,
    "start_time": "2021-12-02T12:04:15.978Z"
   },
   {
    "duration": 254,
    "start_time": "2021-12-02T12:04:38.687Z"
   },
   {
    "duration": 14,
    "start_time": "2021-12-02T12:04:40.907Z"
   },
   {
    "duration": 3034,
    "start_time": "2021-12-02T12:06:02.890Z"
   },
   {
    "duration": 3417,
    "start_time": "2021-12-02T12:06:09.496Z"
   },
   {
    "duration": 8,
    "start_time": "2021-12-02T12:06:18.398Z"
   },
   {
    "duration": 252,
    "start_time": "2021-12-02T12:06:29.447Z"
   },
   {
    "duration": 9,
    "start_time": "2021-12-02T12:06:47.087Z"
   },
   {
    "duration": 8,
    "start_time": "2021-12-02T12:06:58.198Z"
   },
   {
    "duration": 7,
    "start_time": "2021-12-02T12:13:14.640Z"
   },
   {
    "duration": 7,
    "start_time": "2021-12-02T12:13:19.910Z"
   },
   {
    "duration": 4,
    "start_time": "2021-12-02T12:13:26.811Z"
   },
   {
    "duration": 5,
    "start_time": "2021-12-02T12:13:48.027Z"
   },
   {
    "duration": 5,
    "start_time": "2021-12-02T12:13:51.340Z"
   },
   {
    "duration": 6,
    "start_time": "2021-12-02T12:13:54.106Z"
   },
   {
    "duration": 6,
    "start_time": "2021-12-02T12:13:58.962Z"
   },
   {
    "duration": 5,
    "start_time": "2021-12-02T12:14:54.550Z"
   },
   {
    "duration": 15,
    "start_time": "2021-12-02T12:15:13.110Z"
   },
   {
    "duration": 14,
    "start_time": "2021-12-02T12:15:42.540Z"
   },
   {
    "duration": 14,
    "start_time": "2021-12-02T12:15:48.901Z"
   },
   {
    "duration": 16,
    "start_time": "2021-12-02T12:16:44.809Z"
   },
   {
    "duration": 18,
    "start_time": "2021-12-02T12:17:00.000Z"
   },
   {
    "duration": 234,
    "start_time": "2021-12-02T12:17:26.970Z"
   },
   {
    "duration": 17,
    "start_time": "2021-12-02T12:17:31.248Z"
   },
   {
    "duration": 242,
    "start_time": "2021-12-02T12:17:32.060Z"
   },
   {
    "duration": 3,
    "start_time": "2021-12-02T12:17:48.531Z"
   },
   {
    "duration": 5,
    "start_time": "2021-12-02T12:17:52.829Z"
   },
   {
    "duration": 6,
    "start_time": "2021-12-02T12:18:20.071Z"
   },
   {
    "duration": 6,
    "start_time": "2021-12-02T12:18:27.190Z"
   },
   {
    "duration": 240,
    "start_time": "2021-12-02T12:18:36.260Z"
   },
   {
    "duration": 6,
    "start_time": "2021-12-02T12:18:47.030Z"
   },
   {
    "duration": 6,
    "start_time": "2021-12-02T12:18:59.740Z"
   },
   {
    "duration": 17,
    "start_time": "2021-12-02T12:21:08.980Z"
   },
   {
    "duration": 16,
    "start_time": "2021-12-02T12:21:42.131Z"
   },
   {
    "duration": 19214,
    "start_time": "2021-12-02T12:23:16.631Z"
   },
   {
    "duration": 6,
    "start_time": "2021-12-02T12:23:35.846Z"
   },
   {
    "duration": 19017,
    "start_time": "2021-12-02T12:23:51.241Z"
   },
   {
    "duration": 6,
    "start_time": "2021-12-02T12:24:10.260Z"
   },
   {
    "duration": 17,
    "start_time": "2021-12-02T12:24:29.380Z"
   },
   {
    "duration": 16,
    "start_time": "2021-12-02T12:24:42.820Z"
   },
   {
    "duration": 6,
    "start_time": "2021-12-02T12:25:09.725Z"
   },
   {
    "duration": 17,
    "start_time": "2021-12-02T12:28:30.412Z"
   },
   {
    "duration": 6,
    "start_time": "2021-12-02T12:29:10.943Z"
   },
   {
    "duration": 590,
    "start_time": "2021-12-02T12:36:53.063Z"
   },
   {
    "duration": 4,
    "start_time": "2021-12-02T12:36:53.656Z"
   },
   {
    "duration": 519,
    "start_time": "2021-12-02T12:36:53.662Z"
   },
   {
    "duration": 3,
    "start_time": "2021-12-02T12:36:54.182Z"
   },
   {
    "duration": 48,
    "start_time": "2021-12-02T12:36:54.187Z"
   },
   {
    "duration": 9,
    "start_time": "2021-12-02T12:36:54.237Z"
   },
   {
    "duration": 20,
    "start_time": "2021-12-02T12:36:54.248Z"
   },
   {
    "duration": 3,
    "start_time": "2021-12-02T12:36:54.270Z"
   },
   {
    "duration": 12,
    "start_time": "2021-12-02T12:36:54.276Z"
   },
   {
    "duration": 12,
    "start_time": "2021-12-02T12:36:54.290Z"
   },
   {
    "duration": 9,
    "start_time": "2021-12-02T12:36:54.303Z"
   },
   {
    "duration": 6,
    "start_time": "2021-12-02T12:36:54.313Z"
   },
   {
    "duration": 3,
    "start_time": "2021-12-02T12:36:54.320Z"
   },
   {
    "duration": 5,
    "start_time": "2021-12-02T12:36:54.324Z"
   },
   {
    "duration": 12,
    "start_time": "2021-12-02T12:36:54.330Z"
   },
   {
    "duration": 3,
    "start_time": "2021-12-02T12:36:54.343Z"
   },
   {
    "duration": 40,
    "start_time": "2021-12-02T12:36:54.348Z"
   },
   {
    "duration": 7,
    "start_time": "2021-12-02T12:36:54.389Z"
   },
   {
    "duration": 10,
    "start_time": "2021-12-02T12:36:54.397Z"
   },
   {
    "duration": 5779,
    "start_time": "2021-12-02T12:36:54.408Z"
   },
   {
    "duration": 4,
    "start_time": "2021-12-02T12:37:00.189Z"
   },
   {
    "duration": 12,
    "start_time": "2021-12-02T12:37:00.194Z"
   },
   {
    "duration": 147,
    "start_time": "2021-12-02T12:37:00.208Z"
   },
   {
    "duration": 6,
    "start_time": "2021-12-02T12:37:00.356Z"
   },
   {
    "duration": 52,
    "start_time": "2021-12-02T12:37:00.363Z"
   },
   {
    "duration": 22,
    "start_time": "2021-12-02T12:37:00.416Z"
   },
   {
    "duration": 18,
    "start_time": "2021-12-02T12:37:00.443Z"
   },
   {
    "duration": 37,
    "start_time": "2021-12-02T12:37:00.463Z"
   },
   {
    "duration": 8,
    "start_time": "2021-12-02T12:37:00.501Z"
   },
   {
    "duration": 13,
    "start_time": "2021-12-02T12:37:00.510Z"
   },
   {
    "duration": 14,
    "start_time": "2021-12-02T12:37:00.524Z"
   },
   {
    "duration": 10,
    "start_time": "2021-12-02T12:37:00.540Z"
   },
   {
    "duration": 11,
    "start_time": "2021-12-02T12:37:00.551Z"
   },
   {
    "duration": 6,
    "start_time": "2021-12-02T12:37:00.563Z"
   },
   {
    "duration": 19,
    "start_time": "2021-12-02T12:37:00.570Z"
   },
   {
    "duration": 6,
    "start_time": "2021-12-02T12:37:00.591Z"
   },
   {
    "duration": 3337,
    "start_time": "2021-12-02T12:37:00.599Z"
   },
   {
    "duration": 17,
    "start_time": "2021-12-02T12:37:03.938Z"
   },
   {
    "duration": 9,
    "start_time": "2021-12-02T12:37:03.957Z"
   },
   {
    "duration": 35,
    "start_time": "2021-12-02T12:37:03.967Z"
   },
   {
    "duration": 11,
    "start_time": "2021-12-02T12:37:04.003Z"
   },
   {
    "duration": 6272,
    "start_time": "2021-12-02T12:37:04.016Z"
   },
   {
    "duration": 7,
    "start_time": "2021-12-02T12:37:10.289Z"
   },
   {
    "duration": 5,
    "start_time": "2021-12-02T12:37:10.298Z"
   },
   {
    "duration": 4826,
    "start_time": "2021-12-02T12:37:10.304Z"
   },
   {
    "duration": 11,
    "start_time": "2021-12-02T12:37:15.132Z"
   },
   {
    "duration": 5,
    "start_time": "2021-12-02T12:37:15.144Z"
   },
   {
    "duration": 5,
    "start_time": "2021-12-02T12:37:15.151Z"
   },
   {
    "duration": 5,
    "start_time": "2021-12-02T12:37:15.157Z"
   },
   {
    "duration": 5,
    "start_time": "2021-12-02T12:37:15.164Z"
   },
   {
    "duration": 18,
    "start_time": "2021-12-02T12:37:15.170Z"
   },
   {
    "duration": 7,
    "start_time": "2021-12-02T12:37:15.189Z"
   },
   {
    "duration": 11,
    "start_time": "2021-12-02T12:37:15.197Z"
   },
   {
    "duration": 3,
    "start_time": "2021-12-02T12:37:15.210Z"
   },
   {
    "duration": 5,
    "start_time": "2021-12-02T12:37:15.214Z"
   },
   {
    "duration": 8,
    "start_time": "2021-12-02T12:37:15.220Z"
   },
   {
    "duration": 5,
    "start_time": "2021-12-02T12:37:15.229Z"
   },
   {
    "duration": 5,
    "start_time": "2021-12-02T12:37:15.235Z"
   },
   {
    "duration": 4,
    "start_time": "2021-12-02T12:37:15.241Z"
   },
   {
    "duration": 7,
    "start_time": "2021-12-02T12:37:15.247Z"
   },
   {
    "duration": 4,
    "start_time": "2021-12-02T12:37:15.256Z"
   },
   {
    "duration": 27,
    "start_time": "2021-12-02T12:37:15.261Z"
   },
   {
    "duration": 20467,
    "start_time": "2021-12-02T12:37:15.290Z"
   },
   {
    "duration": 6,
    "start_time": "2021-12-02T12:37:35.758Z"
   },
   {
    "duration": 33,
    "start_time": "2021-12-02T12:37:35.766Z"
   },
   {
    "duration": 10,
    "start_time": "2021-12-02T12:37:35.801Z"
   },
   {
    "duration": 16,
    "start_time": "2021-12-02T12:37:35.813Z"
   },
   {
    "duration": 6,
    "start_time": "2021-12-02T12:37:35.831Z"
   },
   {
    "duration": 19,
    "start_time": "2021-12-02T12:37:35.839Z"
   },
   {
    "duration": 30,
    "start_time": "2021-12-02T12:37:35.859Z"
   },
   {
    "duration": 22,
    "start_time": "2021-12-02T12:37:35.890Z"
   },
   {
    "duration": 5,
    "start_time": "2021-12-02T12:37:35.913Z"
   },
   {
    "duration": 3,
    "start_time": "2021-12-02T12:39:53.881Z"
   },
   {
    "duration": 22,
    "start_time": "2021-12-02T12:42:29.169Z"
   },
   {
    "duration": 49,
    "start_time": "2021-12-02T12:42:31.940Z"
   },
   {
    "duration": 10,
    "start_time": "2021-12-02T12:42:33.320Z"
   },
   {
    "duration": 19,
    "start_time": "2021-12-02T12:42:39.179Z"
   },
   {
    "duration": 18,
    "start_time": "2021-12-02T12:42:58.047Z"
   },
   {
    "duration": 8,
    "start_time": "2021-12-02T12:45:01.590Z"
   },
   {
    "duration": 5,
    "start_time": "2021-12-02T12:46:58.499Z"
   },
   {
    "duration": 305,
    "start_time": "2021-12-02T12:48:04.136Z"
   },
   {
    "duration": 28,
    "start_time": "2021-12-02T12:52:13.155Z"
   },
   {
    "duration": 231,
    "start_time": "2021-12-02T12:52:14.674Z"
   },
   {
    "duration": 7,
    "start_time": "2021-12-02T12:53:45.643Z"
   },
   {
    "duration": 5,
    "start_time": "2021-12-02T12:53:48.224Z"
   },
   {
    "duration": 8,
    "start_time": "2021-12-02T12:53:55.934Z"
   },
   {
    "duration": 5,
    "start_time": "2021-12-02T12:53:56.633Z"
   },
   {
    "duration": 3,
    "start_time": "2021-12-02T12:54:02.877Z"
   },
   {
    "duration": 50,
    "start_time": "2021-12-02T12:54:02.882Z"
   },
   {
    "duration": 9,
    "start_time": "2021-12-02T12:54:02.934Z"
   },
   {
    "duration": 17,
    "start_time": "2021-12-02T12:54:02.945Z"
   },
   {
    "duration": 4,
    "start_time": "2021-12-02T12:54:02.964Z"
   },
   {
    "duration": 19,
    "start_time": "2021-12-02T12:54:02.969Z"
   },
   {
    "duration": 10,
    "start_time": "2021-12-02T12:54:02.989Z"
   },
   {
    "duration": 8,
    "start_time": "2021-12-02T12:54:03.001Z"
   },
   {
    "duration": 5,
    "start_time": "2021-12-02T12:54:03.010Z"
   },
   {
    "duration": 6,
    "start_time": "2021-12-02T12:54:03.017Z"
   },
   {
    "duration": 13,
    "start_time": "2021-12-02T12:54:03.025Z"
   },
   {
    "duration": 4,
    "start_time": "2021-12-02T12:54:03.040Z"
   },
   {
    "duration": 5,
    "start_time": "2021-12-02T12:54:03.046Z"
   },
   {
    "duration": 35,
    "start_time": "2021-12-02T12:54:03.053Z"
   },
   {
    "duration": 10,
    "start_time": "2021-12-02T12:54:03.090Z"
   },
   {
    "duration": 8,
    "start_time": "2021-12-02T12:54:03.102Z"
   },
   {
    "duration": 10,
    "start_time": "2021-12-02T12:54:05.144Z"
   },
   {
    "duration": 4,
    "start_time": "2021-12-02T12:54:05.544Z"
   },
   {
    "duration": 10,
    "start_time": "2021-12-02T12:54:08.583Z"
   },
   {
    "duration": 4,
    "start_time": "2021-12-02T12:54:08.825Z"
   },
   {
    "duration": 4,
    "start_time": "2021-12-02T12:54:23.855Z"
   },
   {
    "duration": 540,
    "start_time": "2021-12-02T12:54:29.928Z"
   },
   {
    "duration": 49,
    "start_time": "2021-12-02T12:54:30.470Z"
   },
   {
    "duration": 10,
    "start_time": "2021-12-02T12:54:30.520Z"
   },
   {
    "duration": 29,
    "start_time": "2021-12-02T12:54:30.532Z"
   },
   {
    "duration": 6,
    "start_time": "2021-12-02T12:54:30.563Z"
   },
   {
    "duration": 18,
    "start_time": "2021-12-02T12:54:30.570Z"
   },
   {
    "duration": 10,
    "start_time": "2021-12-02T12:54:30.590Z"
   },
   {
    "duration": 10,
    "start_time": "2021-12-02T12:54:30.601Z"
   },
   {
    "duration": 7,
    "start_time": "2021-12-02T12:54:30.614Z"
   },
   {
    "duration": 9,
    "start_time": "2021-12-02T12:54:30.622Z"
   },
   {
    "duration": 18,
    "start_time": "2021-12-02T12:54:30.633Z"
   },
   {
    "duration": 5,
    "start_time": "2021-12-02T12:54:30.653Z"
   },
   {
    "duration": 29,
    "start_time": "2021-12-02T12:54:30.659Z"
   },
   {
    "duration": 10,
    "start_time": "2021-12-02T12:54:30.690Z"
   },
   {
    "duration": 22,
    "start_time": "2021-12-02T12:54:30.701Z"
   },
   {
    "duration": 17,
    "start_time": "2021-12-02T12:54:30.725Z"
   },
   {
    "duration": 5,
    "start_time": "2021-12-02T12:54:32.393Z"
   },
   {
    "duration": 7,
    "start_time": "2021-12-02T12:54:52.453Z"
   },
   {
    "duration": 6,
    "start_time": "2021-12-02T12:54:52.803Z"
   },
   {
    "duration": 531,
    "start_time": "2021-12-02T12:55:05.349Z"
   },
   {
    "duration": 47,
    "start_time": "2021-12-02T12:55:05.882Z"
   },
   {
    "duration": 10,
    "start_time": "2021-12-02T12:55:05.931Z"
   },
   {
    "duration": 24,
    "start_time": "2021-12-02T12:55:05.942Z"
   },
   {
    "duration": 4,
    "start_time": "2021-12-02T12:55:05.967Z"
   },
   {
    "duration": 20,
    "start_time": "2021-12-02T12:55:05.972Z"
   },
   {
    "duration": 11,
    "start_time": "2021-12-02T12:55:05.993Z"
   },
   {
    "duration": 10,
    "start_time": "2021-12-02T12:55:06.006Z"
   },
   {
    "duration": 5,
    "start_time": "2021-12-02T12:55:06.018Z"
   },
   {
    "duration": 7,
    "start_time": "2021-12-02T12:55:06.024Z"
   },
   {
    "duration": 14,
    "start_time": "2021-12-02T12:55:06.033Z"
   },
   {
    "duration": 4,
    "start_time": "2021-12-02T12:55:06.049Z"
   },
   {
    "duration": 33,
    "start_time": "2021-12-02T12:55:06.055Z"
   },
   {
    "duration": 7,
    "start_time": "2021-12-02T12:55:06.090Z"
   },
   {
    "duration": 9,
    "start_time": "2021-12-02T12:55:06.099Z"
   },
   {
    "duration": 10,
    "start_time": "2021-12-02T12:55:06.109Z"
   },
   {
    "duration": 5,
    "start_time": "2021-12-02T12:55:08.930Z"
   },
   {
    "duration": 5,
    "start_time": "2021-12-02T12:55:09.669Z"
   },
   {
    "duration": 5663,
    "start_time": "2021-12-02T12:55:19.059Z"
   },
   {
    "duration": -22,
    "start_time": "2021-12-02T12:55:24.747Z"
   },
   {
    "duration": 5755,
    "start_time": "2021-12-02T12:55:33.099Z"
   },
   {
    "duration": 28,
    "start_time": "2021-12-02T12:55:38.828Z"
   },
   {
    "duration": 5,
    "start_time": "2021-12-02T12:55:55.909Z"
   },
   {
    "duration": 5,
    "start_time": "2021-12-02T12:55:56.879Z"
   },
   {
    "duration": 9,
    "start_time": "2021-12-02T12:56:12.399Z"
   },
   {
    "duration": 5,
    "start_time": "2021-12-02T12:56:12.929Z"
   },
   {
    "duration": 5,
    "start_time": "2021-12-02T12:56:15.629Z"
   },
   {
    "duration": 5,
    "start_time": "2021-12-02T12:56:16.709Z"
   },
   {
    "duration": 8,
    "start_time": "2021-12-02T12:56:22.651Z"
   },
   {
    "duration": 9,
    "start_time": "2021-12-02T12:56:25.459Z"
   },
   {
    "duration": 5,
    "start_time": "2021-12-02T12:56:25.804Z"
   },
   {
    "duration": 4,
    "start_time": "2021-12-02T12:56:28.724Z"
   },
   {
    "duration": 584,
    "start_time": "2021-12-02T12:56:34.583Z"
   },
   {
    "duration": 51,
    "start_time": "2021-12-02T12:56:35.169Z"
   },
   {
    "duration": 9,
    "start_time": "2021-12-02T12:56:35.222Z"
   },
   {
    "duration": 27,
    "start_time": "2021-12-02T12:56:35.233Z"
   },
   {
    "duration": 4,
    "start_time": "2021-12-02T12:56:35.261Z"
   },
   {
    "duration": 22,
    "start_time": "2021-12-02T12:56:35.267Z"
   },
   {
    "duration": 17,
    "start_time": "2021-12-02T12:56:35.290Z"
   },
   {
    "duration": 10,
    "start_time": "2021-12-02T12:56:35.309Z"
   },
   {
    "duration": 3,
    "start_time": "2021-12-02T12:56:35.320Z"
   },
   {
    "duration": 5,
    "start_time": "2021-12-02T12:56:35.324Z"
   },
   {
    "duration": 12,
    "start_time": "2021-12-02T12:56:35.330Z"
   },
   {
    "duration": 4,
    "start_time": "2021-12-02T12:56:35.344Z"
   },
   {
    "duration": 20,
    "start_time": "2021-12-02T12:56:35.350Z"
   },
   {
    "duration": 13,
    "start_time": "2021-12-02T12:56:35.388Z"
   },
   {
    "duration": 17,
    "start_time": "2021-12-02T12:56:35.402Z"
   },
   {
    "duration": 13,
    "start_time": "2021-12-02T12:56:35.421Z"
   },
   {
    "duration": 5,
    "start_time": "2021-12-02T12:56:37.354Z"
   },
   {
    "duration": 10,
    "start_time": "2021-12-02T12:56:54.014Z"
   },
   {
    "duration": 5,
    "start_time": "2021-12-02T12:56:54.198Z"
   },
   {
    "duration": 573,
    "start_time": "2021-12-02T12:57:04.070Z"
   },
   {
    "duration": 48,
    "start_time": "2021-12-02T12:57:04.645Z"
   },
   {
    "duration": 10,
    "start_time": "2021-12-02T12:57:04.694Z"
   },
   {
    "duration": 22,
    "start_time": "2021-12-02T12:57:04.706Z"
   },
   {
    "duration": 5,
    "start_time": "2021-12-02T12:57:04.730Z"
   },
   {
    "duration": 7,
    "start_time": "2021-12-02T12:57:04.736Z"
   },
   {
    "duration": 11,
    "start_time": "2021-12-02T12:57:04.745Z"
   },
   {
    "duration": 38,
    "start_time": "2021-12-02T12:57:04.757Z"
   },
   {
    "duration": 3,
    "start_time": "2021-12-02T12:57:04.797Z"
   },
   {
    "duration": 6,
    "start_time": "2021-12-02T12:57:04.802Z"
   },
   {
    "duration": 11,
    "start_time": "2021-12-02T12:57:04.809Z"
   },
   {
    "duration": 4,
    "start_time": "2021-12-02T12:57:04.822Z"
   },
   {
    "duration": 6,
    "start_time": "2021-12-02T12:57:04.828Z"
   },
   {
    "duration": 6,
    "start_time": "2021-12-02T12:57:04.835Z"
   },
   {
    "duration": 8,
    "start_time": "2021-12-02T12:57:04.842Z"
   },
   {
    "duration": 11,
    "start_time": "2021-12-02T12:57:06.373Z"
   },
   {
    "duration": 6,
    "start_time": "2021-12-02T12:57:06.733Z"
   },
   {
    "duration": 290,
    "start_time": "2021-12-02T12:57:18.808Z"
   },
   {
    "duration": 560,
    "start_time": "2021-12-02T12:57:22.989Z"
   },
   {
    "duration": 47,
    "start_time": "2021-12-02T12:57:23.551Z"
   },
   {
    "duration": 9,
    "start_time": "2021-12-02T12:57:23.600Z"
   },
   {
    "duration": 24,
    "start_time": "2021-12-02T12:57:23.611Z"
   },
   {
    "duration": 3,
    "start_time": "2021-12-02T12:57:23.637Z"
   },
   {
    "duration": 7,
    "start_time": "2021-12-02T12:57:23.642Z"
   },
   {
    "duration": 9,
    "start_time": "2021-12-02T12:57:23.650Z"
   },
   {
    "duration": 33,
    "start_time": "2021-12-02T12:57:23.661Z"
   },
   {
    "duration": 3,
    "start_time": "2021-12-02T12:57:23.696Z"
   },
   {
    "duration": 6,
    "start_time": "2021-12-02T12:57:23.700Z"
   },
   {
    "duration": 11,
    "start_time": "2021-12-02T12:57:23.708Z"
   },
   {
    "duration": 3,
    "start_time": "2021-12-02T12:57:23.721Z"
   },
   {
    "duration": 7,
    "start_time": "2021-12-02T12:57:23.726Z"
   },
   {
    "duration": 9,
    "start_time": "2021-12-02T12:57:23.734Z"
   },
   {
    "duration": 13,
    "start_time": "2021-12-02T12:57:23.744Z"
   },
   {
    "duration": 302,
    "start_time": "2021-12-02T12:57:25.743Z"
   },
   {
    "duration": 4,
    "start_time": "2021-12-02T12:57:27.717Z"
   },
   {
    "duration": 317,
    "start_time": "2021-12-02T12:57:30.158Z"
   },
   {
    "duration": 3,
    "start_time": "2021-12-02T12:57:39.638Z"
   },
   {
    "duration": 48,
    "start_time": "2021-12-02T12:57:39.643Z"
   },
   {
    "duration": 10,
    "start_time": "2021-12-02T12:57:39.692Z"
   },
   {
    "duration": 18,
    "start_time": "2021-12-02T12:57:39.703Z"
   },
   {
    "duration": 5,
    "start_time": "2021-12-02T12:57:39.722Z"
   },
   {
    "duration": 8,
    "start_time": "2021-12-02T12:57:39.728Z"
   },
   {
    "duration": 8,
    "start_time": "2021-12-02T12:57:39.738Z"
   },
   {
    "duration": 9,
    "start_time": "2021-12-02T12:57:39.747Z"
   },
   {
    "duration": 3,
    "start_time": "2021-12-02T12:57:39.758Z"
   },
   {
    "duration": 3,
    "start_time": "2021-12-02T12:57:39.788Z"
   },
   {
    "duration": 12,
    "start_time": "2021-12-02T12:57:39.792Z"
   },
   {
    "duration": 4,
    "start_time": "2021-12-02T12:57:39.805Z"
   },
   {
    "duration": 6,
    "start_time": "2021-12-02T12:57:39.810Z"
   },
   {
    "duration": 7,
    "start_time": "2021-12-02T12:57:39.817Z"
   },
   {
    "duration": 8,
    "start_time": "2021-12-02T12:57:39.825Z"
   },
   {
    "duration": 296,
    "start_time": "2021-12-02T12:57:39.835Z"
   },
   {
    "duration": 70,
    "start_time": "2021-12-02T12:58:18.918Z"
   },
   {
    "duration": 79,
    "start_time": "2021-12-02T12:58:32.468Z"
   },
   {
    "duration": 6,
    "start_time": "2021-12-02T12:58:34.632Z"
   },
   {
    "duration": 10,
    "start_time": "2021-12-02T12:58:38.658Z"
   },
   {
    "duration": 5,
    "start_time": "2021-12-02T12:58:39.328Z"
   },
   {
    "duration": 262,
    "start_time": "2021-12-02T12:58:57.391Z"
   },
   {
    "duration": 219,
    "start_time": "2021-12-02T12:58:57.850Z"
   },
   {
    "duration": 518,
    "start_time": "2021-12-02T12:59:02.028Z"
   },
   {
    "duration": 47,
    "start_time": "2021-12-02T12:59:02.547Z"
   },
   {
    "duration": 11,
    "start_time": "2021-12-02T12:59:02.596Z"
   },
   {
    "duration": 24,
    "start_time": "2021-12-02T12:59:02.608Z"
   },
   {
    "duration": 4,
    "start_time": "2021-12-02T12:59:02.633Z"
   },
   {
    "duration": 7,
    "start_time": "2021-12-02T12:59:02.638Z"
   },
   {
    "duration": 10,
    "start_time": "2021-12-02T12:59:02.646Z"
   },
   {
    "duration": 33,
    "start_time": "2021-12-02T12:59:02.657Z"
   },
   {
    "duration": 3,
    "start_time": "2021-12-02T12:59:02.692Z"
   },
   {
    "duration": 5,
    "start_time": "2021-12-02T12:59:02.697Z"
   },
   {
    "duration": 13,
    "start_time": "2021-12-02T12:59:02.703Z"
   },
   {
    "duration": 4,
    "start_time": "2021-12-02T12:59:02.717Z"
   },
   {
    "duration": 7,
    "start_time": "2021-12-02T12:59:02.723Z"
   },
   {
    "duration": 6,
    "start_time": "2021-12-02T12:59:02.732Z"
   },
   {
    "duration": 10,
    "start_time": "2021-12-02T12:59:02.740Z"
   },
   {
    "duration": 1067,
    "start_time": "2021-12-02T12:59:04.340Z"
   },
   {
    "duration": 1331,
    "start_time": "2021-12-02T12:59:13.890Z"
   },
   {
    "duration": 10,
    "start_time": "2021-12-02T12:59:24.300Z"
   },
   {
    "duration": 5,
    "start_time": "2021-12-02T12:59:25.591Z"
   },
   {
    "duration": 634,
    "start_time": "2021-12-02T12:59:35.349Z"
   },
   {
    "duration": 57,
    "start_time": "2021-12-02T12:59:35.985Z"
   },
   {
    "duration": 13,
    "start_time": "2021-12-02T12:59:36.044Z"
   },
   {
    "duration": 31,
    "start_time": "2021-12-02T12:59:36.058Z"
   },
   {
    "duration": 4,
    "start_time": "2021-12-02T12:59:36.090Z"
   },
   {
    "duration": 19,
    "start_time": "2021-12-02T12:59:36.096Z"
   },
   {
    "duration": 16,
    "start_time": "2021-12-02T12:59:36.116Z"
   },
   {
    "duration": 10,
    "start_time": "2021-12-02T12:59:36.134Z"
   },
   {
    "duration": 3,
    "start_time": "2021-12-02T12:59:36.147Z"
   },
   {
    "duration": 6,
    "start_time": "2021-12-02T12:59:36.152Z"
   },
   {
    "duration": 28,
    "start_time": "2021-12-02T12:59:36.160Z"
   },
   {
    "duration": 6,
    "start_time": "2021-12-02T12:59:36.189Z"
   },
   {
    "duration": 6,
    "start_time": "2021-12-02T12:59:36.197Z"
   },
   {
    "duration": 10,
    "start_time": "2021-12-02T12:59:36.205Z"
   },
   {
    "duration": 11,
    "start_time": "2021-12-02T12:59:36.217Z"
   },
   {
    "duration": 13,
    "start_time": "2021-12-02T12:59:36.230Z"
   },
   {
    "duration": 5,
    "start_time": "2021-12-02T12:59:38.228Z"
   },
   {
    "duration": 4,
    "start_time": "2021-12-02T12:59:47.388Z"
   },
   {
    "duration": 5,
    "start_time": "2021-12-02T12:59:47.715Z"
   },
   {
    "duration": 3,
    "start_time": "2021-12-02T12:59:52.419Z"
   },
   {
    "duration": 46,
    "start_time": "2021-12-02T12:59:52.439Z"
   },
   {
    "duration": 9,
    "start_time": "2021-12-02T12:59:52.486Z"
   },
   {
    "duration": 19,
    "start_time": "2021-12-02T12:59:52.498Z"
   },
   {
    "duration": 4,
    "start_time": "2021-12-02T12:59:52.518Z"
   },
   {
    "duration": 9,
    "start_time": "2021-12-02T12:59:52.523Z"
   },
   {
    "duration": 12,
    "start_time": "2021-12-02T12:59:52.534Z"
   },
   {
    "duration": 10,
    "start_time": "2021-12-02T12:59:52.547Z"
   },
   {
    "duration": 30,
    "start_time": "2021-12-02T12:59:52.558Z"
   },
   {
    "duration": 3,
    "start_time": "2021-12-02T12:59:52.590Z"
   },
   {
    "duration": 13,
    "start_time": "2021-12-02T12:59:52.595Z"
   },
   {
    "duration": 4,
    "start_time": "2021-12-02T12:59:52.610Z"
   },
   {
    "duration": 8,
    "start_time": "2021-12-02T12:59:52.615Z"
   },
   {
    "duration": 8,
    "start_time": "2021-12-02T12:59:52.624Z"
   },
   {
    "duration": 9,
    "start_time": "2021-12-02T12:59:52.633Z"
   },
   {
    "duration": 4,
    "start_time": "2021-12-02T12:59:52.644Z"
   },
   {
    "duration": 526,
    "start_time": "2021-12-02T13:00:01.416Z"
   },
   {
    "duration": 48,
    "start_time": "2021-12-02T13:00:01.944Z"
   },
   {
    "duration": 9,
    "start_time": "2021-12-02T13:00:01.995Z"
   },
   {
    "duration": 48,
    "start_time": "2021-12-02T13:00:02.006Z"
   },
   {
    "duration": 11,
    "start_time": "2021-12-02T13:00:02.056Z"
   },
   {
    "duration": 12,
    "start_time": "2021-12-02T13:00:02.068Z"
   },
   {
    "duration": 11,
    "start_time": "2021-12-02T13:00:02.081Z"
   },
   {
    "duration": 9,
    "start_time": "2021-12-02T13:00:02.093Z"
   },
   {
    "duration": 15,
    "start_time": "2021-12-02T13:00:02.104Z"
   },
   {
    "duration": 12,
    "start_time": "2021-12-02T13:00:02.120Z"
   },
   {
    "duration": 17,
    "start_time": "2021-12-02T13:00:02.133Z"
   },
   {
    "duration": 4,
    "start_time": "2021-12-02T13:00:02.151Z"
   },
   {
    "duration": 7,
    "start_time": "2021-12-02T13:00:02.156Z"
   },
   {
    "duration": 13,
    "start_time": "2021-12-02T13:00:02.164Z"
   },
   {
    "duration": 9,
    "start_time": "2021-12-02T13:00:02.179Z"
   },
   {
    "duration": 13,
    "start_time": "2021-12-02T13:00:02.190Z"
   },
   {
    "duration": 5,
    "start_time": "2021-12-02T13:00:03.733Z"
   },
   {
    "duration": 40,
    "start_time": "2021-12-02T13:01:00.544Z"
   },
   {
    "duration": 5,
    "start_time": "2021-12-02T13:01:01.315Z"
   },
   {
    "duration": 17,
    "start_time": "2021-12-02T13:01:11.884Z"
   },
   {
    "duration": 6,
    "start_time": "2021-12-02T13:01:12.305Z"
   },
   {
    "duration": 571,
    "start_time": "2021-12-02T13:01:22.470Z"
   },
   {
    "duration": 48,
    "start_time": "2021-12-02T13:01:23.043Z"
   },
   {
    "duration": 11,
    "start_time": "2021-12-02T13:01:23.093Z"
   },
   {
    "duration": 23,
    "start_time": "2021-12-02T13:01:23.106Z"
   },
   {
    "duration": 4,
    "start_time": "2021-12-02T13:01:23.131Z"
   },
   {
    "duration": 7,
    "start_time": "2021-12-02T13:01:23.136Z"
   },
   {
    "duration": 11,
    "start_time": "2021-12-02T13:01:23.144Z"
   },
   {
    "duration": 35,
    "start_time": "2021-12-02T13:01:23.156Z"
   },
   {
    "duration": 3,
    "start_time": "2021-12-02T13:01:23.194Z"
   },
   {
    "duration": 5,
    "start_time": "2021-12-02T13:01:23.198Z"
   },
   {
    "duration": 14,
    "start_time": "2021-12-02T13:01:23.204Z"
   },
   {
    "duration": 4,
    "start_time": "2021-12-02T13:01:23.220Z"
   },
   {
    "duration": 5,
    "start_time": "2021-12-02T13:01:23.226Z"
   },
   {
    "duration": 7,
    "start_time": "2021-12-02T13:01:23.233Z"
   },
   {
    "duration": 9,
    "start_time": "2021-12-02T13:01:23.241Z"
   },
   {
    "duration": 74,
    "start_time": "2021-12-02T13:01:23.251Z"
   },
   {
    "duration": 5,
    "start_time": "2021-12-02T13:01:24.851Z"
   },
   {
    "duration": 77,
    "start_time": "2021-12-02T13:01:36.500Z"
   },
   {
    "duration": 16,
    "start_time": "2021-12-02T13:01:43.830Z"
   },
   {
    "duration": 6,
    "start_time": "2021-12-02T13:01:44.570Z"
   },
   {
    "duration": 13,
    "start_time": "2021-12-02T13:01:51.391Z"
   },
   {
    "duration": 7,
    "start_time": "2021-12-02T13:02:00.830Z"
   },
   {
    "duration": 536,
    "start_time": "2021-12-02T13:02:13.100Z"
   },
   {
    "duration": 48,
    "start_time": "2021-12-02T13:02:13.638Z"
   },
   {
    "duration": 10,
    "start_time": "2021-12-02T13:02:13.688Z"
   },
   {
    "duration": 28,
    "start_time": "2021-12-02T13:02:13.699Z"
   },
   {
    "duration": 4,
    "start_time": "2021-12-02T13:02:13.729Z"
   },
   {
    "duration": 7,
    "start_time": "2021-12-02T13:02:13.734Z"
   },
   {
    "duration": 9,
    "start_time": "2021-12-02T13:02:13.743Z"
   },
   {
    "duration": 9,
    "start_time": "2021-12-02T13:02:13.754Z"
   },
   {
    "duration": 3,
    "start_time": "2021-12-02T13:02:13.788Z"
   },
   {
    "duration": 5,
    "start_time": "2021-12-02T13:02:13.793Z"
   },
   {
    "duration": 14,
    "start_time": "2021-12-02T13:02:13.800Z"
   },
   {
    "duration": 4,
    "start_time": "2021-12-02T13:02:13.816Z"
   },
   {
    "duration": 16,
    "start_time": "2021-12-02T13:02:13.821Z"
   },
   {
    "duration": 11,
    "start_time": "2021-12-02T13:02:13.839Z"
   },
   {
    "duration": 10,
    "start_time": "2021-12-02T13:02:13.852Z"
   },
   {
    "duration": 6,
    "start_time": "2021-12-02T13:02:40.984Z"
   },
   {
    "duration": 37,
    "start_time": "2021-12-02T13:02:48.544Z"
   },
   {
    "duration": 4,
    "start_time": "2021-12-02T13:02:48.964Z"
   },
   {
    "duration": 6,
    "start_time": "2021-12-02T13:02:51.134Z"
   },
   {
    "duration": 652,
    "start_time": "2021-12-02T13:03:02.224Z"
   },
   {
    "duration": 49,
    "start_time": "2021-12-02T13:03:02.878Z"
   },
   {
    "duration": 10,
    "start_time": "2021-12-02T13:03:02.929Z"
   },
   {
    "duration": 24,
    "start_time": "2021-12-02T13:03:02.941Z"
   },
   {
    "duration": 5,
    "start_time": "2021-12-02T13:03:02.966Z"
   },
   {
    "duration": 15,
    "start_time": "2021-12-02T13:03:02.973Z"
   },
   {
    "duration": 11,
    "start_time": "2021-12-02T13:03:02.989Z"
   },
   {
    "duration": 10,
    "start_time": "2021-12-02T13:03:03.001Z"
   },
   {
    "duration": 2,
    "start_time": "2021-12-02T13:03:03.013Z"
   },
   {
    "duration": 4,
    "start_time": "2021-12-02T13:03:03.017Z"
   },
   {
    "duration": 15,
    "start_time": "2021-12-02T13:03:03.023Z"
   },
   {
    "duration": 4,
    "start_time": "2021-12-02T13:03:03.040Z"
   },
   {
    "duration": 10,
    "start_time": "2021-12-02T13:03:03.045Z"
   },
   {
    "duration": 32,
    "start_time": "2021-12-02T13:03:03.056Z"
   },
   {
    "duration": 8,
    "start_time": "2021-12-02T13:03:03.090Z"
   },
   {
    "duration": 7,
    "start_time": "2021-12-02T13:03:05.464Z"
   },
   {
    "duration": 58,
    "start_time": "2021-12-02T13:03:10.474Z"
   },
   {
    "duration": 5,
    "start_time": "2021-12-02T13:03:11.113Z"
   },
   {
    "duration": 19,
    "start_time": "2021-12-02T13:03:25.904Z"
   },
   {
    "duration": 288,
    "start_time": "2021-12-02T13:03:42.943Z"
   },
   {
    "duration": 18,
    "start_time": "2021-12-02T13:03:43.344Z"
   },
   {
    "duration": 10,
    "start_time": "2021-12-02T13:03:55.695Z"
   },
   {
    "duration": 16,
    "start_time": "2021-12-02T13:03:56.835Z"
   },
   {
    "duration": 15,
    "start_time": "2021-12-02T13:04:28.654Z"
   },
   {
    "duration": 17,
    "start_time": "2021-12-02T13:04:29.024Z"
   },
   {
    "duration": 7,
    "start_time": "2021-12-02T13:04:30.647Z"
   },
   {
    "duration": 16,
    "start_time": "2021-12-02T13:04:38.184Z"
   },
   {
    "duration": 45,
    "start_time": "2021-12-02T13:04:41.244Z"
   },
   {
    "duration": 10,
    "start_time": "2021-12-02T13:04:41.514Z"
   },
   {
    "duration": 18,
    "start_time": "2021-12-02T13:04:41.965Z"
   },
   {
    "duration": 4,
    "start_time": "2021-12-02T13:04:44.554Z"
   },
   {
    "duration": 6,
    "start_time": "2021-12-02T13:04:44.724Z"
   },
   {
    "duration": 10,
    "start_time": "2021-12-02T13:04:45.073Z"
   },
   {
    "duration": 10,
    "start_time": "2021-12-02T13:04:45.434Z"
   },
   {
    "duration": 4,
    "start_time": "2021-12-02T13:04:46.384Z"
   },
   {
    "duration": 4,
    "start_time": "2021-12-02T13:04:46.581Z"
   },
   {
    "duration": 11,
    "start_time": "2021-12-02T13:04:46.887Z"
   },
   {
    "duration": 5,
    "start_time": "2021-12-02T13:04:47.844Z"
   },
   {
    "duration": 6,
    "start_time": "2021-12-02T13:04:48.019Z"
   },
   {
    "duration": 8,
    "start_time": "2021-12-02T13:04:48.224Z"
   },
   {
    "duration": 10,
    "start_time": "2021-12-02T13:04:49.044Z"
   },
   {
    "duration": 8,
    "start_time": "2021-12-02T13:04:50.404Z"
   },
   {
    "duration": 38,
    "start_time": "2021-12-02T13:04:53.004Z"
   },
   {
    "duration": 17,
    "start_time": "2021-12-02T13:04:54.031Z"
   },
   {
    "duration": 283,
    "start_time": "2021-12-02T13:05:27.904Z"
   },
   {
    "duration": 17,
    "start_time": "2021-12-02T13:05:28.229Z"
   },
   {
    "duration": 79,
    "start_time": "2021-12-02T13:05:36.405Z"
   },
   {
    "duration": 19,
    "start_time": "2021-12-02T13:05:37.034Z"
   },
   {
    "duration": 102,
    "start_time": "2021-12-02T13:05:44.364Z"
   },
   {
    "duration": 20,
    "start_time": "2021-12-02T13:05:44.714Z"
   },
   {
    "duration": 239,
    "start_time": "2021-12-02T13:05:46.874Z"
   },
   {
    "duration": 11,
    "start_time": "2021-12-02T13:05:52.415Z"
   },
   {
    "duration": 36,
    "start_time": "2021-12-02T13:05:53.205Z"
   },
   {
    "duration": 3,
    "start_time": "2021-12-02T13:06:04.824Z"
   },
   {
    "duration": 51,
    "start_time": "2021-12-02T13:06:04.828Z"
   },
   {
    "duration": 11,
    "start_time": "2021-12-02T13:06:04.880Z"
   },
   {
    "duration": 21,
    "start_time": "2021-12-02T13:06:04.894Z"
   },
   {
    "duration": 5,
    "start_time": "2021-12-02T13:06:04.917Z"
   },
   {
    "duration": 8,
    "start_time": "2021-12-02T13:06:04.923Z"
   },
   {
    "duration": 9,
    "start_time": "2021-12-02T13:06:04.932Z"
   },
   {
    "duration": 10,
    "start_time": "2021-12-02T13:06:04.944Z"
   },
   {
    "duration": 33,
    "start_time": "2021-12-02T13:06:04.956Z"
   },
   {
    "duration": 5,
    "start_time": "2021-12-02T13:06:04.991Z"
   },
   {
    "duration": 13,
    "start_time": "2021-12-02T13:06:04.997Z"
   },
   {
    "duration": 4,
    "start_time": "2021-12-02T13:06:05.012Z"
   },
   {
    "duration": 7,
    "start_time": "2021-12-02T13:06:05.018Z"
   },
   {
    "duration": 7,
    "start_time": "2021-12-02T13:06:05.027Z"
   },
   {
    "duration": 9,
    "start_time": "2021-12-02T13:06:05.035Z"
   },
   {
    "duration": 43,
    "start_time": "2021-12-02T13:06:05.046Z"
   },
   {
    "duration": 28,
    "start_time": "2021-12-02T13:06:05.091Z"
   },
   {
    "duration": 7,
    "start_time": "2021-12-02T13:06:08.044Z"
   },
   {
    "duration": 47,
    "start_time": "2021-12-02T13:06:15.394Z"
   },
   {
    "duration": 10,
    "start_time": "2021-12-02T13:06:15.704Z"
   },
   {
    "duration": 19,
    "start_time": "2021-12-02T13:06:16.504Z"
   },
   {
    "duration": 6,
    "start_time": "2021-12-02T13:06:20.842Z"
   },
   {
    "duration": 22,
    "start_time": "2021-12-02T13:06:24.545Z"
   },
   {
    "duration": 20,
    "start_time": "2021-12-02T13:06:25.854Z"
   },
   {
    "duration": 14,
    "start_time": "2021-12-02T13:06:46.784Z"
   },
   {
    "duration": 19,
    "start_time": "2021-12-02T13:06:47.205Z"
   },
   {
    "duration": 46,
    "start_time": "2021-12-02T13:06:56.854Z"
   },
   {
    "duration": 3,
    "start_time": "2021-12-02T13:07:03.977Z"
   },
   {
    "duration": 48,
    "start_time": "2021-12-02T13:07:03.982Z"
   },
   {
    "duration": 10,
    "start_time": "2021-12-02T13:07:04.032Z"
   },
   {
    "duration": 18,
    "start_time": "2021-12-02T13:07:04.044Z"
   },
   {
    "duration": 6,
    "start_time": "2021-12-02T13:07:04.064Z"
   },
   {
    "duration": 17,
    "start_time": "2021-12-02T13:07:04.071Z"
   },
   {
    "duration": 8,
    "start_time": "2021-12-02T13:07:04.090Z"
   },
   {
    "duration": 9,
    "start_time": "2021-12-02T13:07:04.100Z"
   },
   {
    "duration": 4,
    "start_time": "2021-12-02T13:07:04.111Z"
   },
   {
    "duration": 3,
    "start_time": "2021-12-02T13:07:04.117Z"
   },
   {
    "duration": 12,
    "start_time": "2021-12-02T13:07:04.122Z"
   },
   {
    "duration": 6,
    "start_time": "2021-12-02T13:07:04.135Z"
   },
   {
    "duration": 8,
    "start_time": "2021-12-02T13:07:04.143Z"
   },
   {
    "duration": 6,
    "start_time": "2021-12-02T13:07:04.188Z"
   },
   {
    "duration": 9,
    "start_time": "2021-12-02T13:07:04.196Z"
   },
   {
    "duration": 6,
    "start_time": "2021-12-02T13:07:05.834Z"
   },
   {
    "duration": 23,
    "start_time": "2021-12-02T13:07:09.905Z"
   },
   {
    "duration": 20,
    "start_time": "2021-12-02T13:07:10.344Z"
   },
   {
    "duration": 48,
    "start_time": "2021-12-02T13:07:25.354Z"
   },
   {
    "duration": 18,
    "start_time": "2021-12-02T13:07:26.993Z"
   },
   {
    "duration": 45,
    "start_time": "2021-12-02T13:07:32.357Z"
   },
   {
    "duration": 3,
    "start_time": "2021-12-02T13:07:38.020Z"
   },
   {
    "duration": 57,
    "start_time": "2021-12-02T13:07:38.025Z"
   },
   {
    "duration": 9,
    "start_time": "2021-12-02T13:07:38.084Z"
   },
   {
    "duration": 19,
    "start_time": "2021-12-02T13:07:38.095Z"
   },
   {
    "duration": 4,
    "start_time": "2021-12-02T13:07:38.116Z"
   },
   {
    "duration": 13,
    "start_time": "2021-12-02T13:07:38.121Z"
   },
   {
    "duration": 8,
    "start_time": "2021-12-02T13:07:38.136Z"
   },
   {
    "duration": 9,
    "start_time": "2021-12-02T13:07:38.146Z"
   },
   {
    "duration": 3,
    "start_time": "2021-12-02T13:07:38.157Z"
   },
   {
    "duration": 26,
    "start_time": "2021-12-02T13:07:38.162Z"
   },
   {
    "duration": 11,
    "start_time": "2021-12-02T13:07:38.190Z"
   },
   {
    "duration": 4,
    "start_time": "2021-12-02T13:07:38.203Z"
   },
   {
    "duration": 7,
    "start_time": "2021-12-02T13:07:38.208Z"
   },
   {
    "duration": 8,
    "start_time": "2021-12-02T13:07:38.216Z"
   },
   {
    "duration": 8,
    "start_time": "2021-12-02T13:07:38.226Z"
   },
   {
    "duration": 17571,
    "start_time": "2021-12-02T13:07:40.568Z"
   },
   {
    "duration": 20,
    "start_time": "2021-12-02T13:07:58.141Z"
   },
   {
    "duration": 892,
    "start_time": "2021-12-02T13:08:39.954Z"
   },
   {
    "duration": 49,
    "start_time": "2021-12-02T13:08:40.799Z"
   },
   {
    "duration": 47,
    "start_time": "2021-12-02T13:08:56.744Z"
   },
   {
    "duration": 2,
    "start_time": "2021-12-02T13:09:03.086Z"
   },
   {
    "duration": 57,
    "start_time": "2021-12-02T13:09:03.090Z"
   },
   {
    "duration": 9,
    "start_time": "2021-12-02T13:09:03.149Z"
   },
   {
    "duration": 20,
    "start_time": "2021-12-02T13:09:03.159Z"
   },
   {
    "duration": 6,
    "start_time": "2021-12-02T13:09:03.181Z"
   },
   {
    "duration": 10,
    "start_time": "2021-12-02T13:09:03.189Z"
   },
   {
    "duration": 10,
    "start_time": "2021-12-02T13:09:03.201Z"
   },
   {
    "duration": 10,
    "start_time": "2021-12-02T13:09:03.212Z"
   },
   {
    "duration": 4,
    "start_time": "2021-12-02T13:09:03.225Z"
   },
   {
    "duration": 3,
    "start_time": "2021-12-02T13:09:03.238Z"
   },
   {
    "duration": 14,
    "start_time": "2021-12-02T13:09:03.242Z"
   },
   {
    "duration": 8,
    "start_time": "2021-12-02T13:09:03.258Z"
   },
   {
    "duration": 21,
    "start_time": "2021-12-02T13:09:03.267Z"
   },
   {
    "duration": 6,
    "start_time": "2021-12-02T13:09:03.290Z"
   },
   {
    "duration": 8,
    "start_time": "2021-12-02T13:09:03.297Z"
   },
   {
    "duration": 6,
    "start_time": "2021-12-02T13:09:04.574Z"
   },
   {
    "duration": 261,
    "start_time": "2021-12-02T13:09:06.454Z"
   },
   {
    "duration": 10257,
    "start_time": "2021-12-02T13:09:34.804Z"
   },
   {
    "duration": 16,
    "start_time": "2021-12-02T13:09:46.896Z"
   },
   {
    "duration": 5,
    "start_time": "2021-12-02T13:10:49.944Z"
   },
   {
    "duration": 17,
    "start_time": "2021-12-02T13:10:52.930Z"
   },
   {
    "duration": 46,
    "start_time": "2021-12-02T13:11:02.894Z"
   },
   {
    "duration": 6,
    "start_time": "2021-12-02T13:11:06.434Z"
   },
   {
    "duration": 18,
    "start_time": "2021-12-02T13:11:09.892Z"
   },
   {
    "duration": 244,
    "start_time": "2021-12-02T13:11:17.129Z"
   },
   {
    "duration": 18,
    "start_time": "2021-12-02T13:11:17.537Z"
   },
   {
    "duration": 3,
    "start_time": "2021-12-02T13:11:28.784Z"
   },
   {
    "duration": 51,
    "start_time": "2021-12-02T13:11:28.789Z"
   },
   {
    "duration": 9,
    "start_time": "2021-12-02T13:11:28.841Z"
   },
   {
    "duration": 18,
    "start_time": "2021-12-02T13:11:28.852Z"
   },
   {
    "duration": 15,
    "start_time": "2021-12-02T13:11:28.872Z"
   },
   {
    "duration": 6,
    "start_time": "2021-12-02T13:11:28.889Z"
   },
   {
    "duration": 11,
    "start_time": "2021-12-02T13:11:28.897Z"
   },
   {
    "duration": 10,
    "start_time": "2021-12-02T13:11:28.910Z"
   },
   {
    "duration": 3,
    "start_time": "2021-12-02T13:11:28.922Z"
   },
   {
    "duration": 5,
    "start_time": "2021-12-02T13:11:28.926Z"
   },
   {
    "duration": 12,
    "start_time": "2021-12-02T13:11:28.933Z"
   },
   {
    "duration": 5,
    "start_time": "2021-12-02T13:11:28.946Z"
   },
   {
    "duration": 6,
    "start_time": "2021-12-02T13:11:28.988Z"
   },
   {
    "duration": 8,
    "start_time": "2021-12-02T13:11:28.996Z"
   },
   {
    "duration": 12,
    "start_time": "2021-12-02T13:11:29.005Z"
   },
   {
    "duration": 7,
    "start_time": "2021-12-02T13:11:33.251Z"
   },
   {
    "duration": 475,
    "start_time": "2021-12-02T13:11:46.084Z"
   },
   {
    "duration": 544,
    "start_time": "2021-12-02T13:12:09.901Z"
   },
   {
    "duration": 58,
    "start_time": "2021-12-02T13:12:10.447Z"
   },
   {
    "duration": 10,
    "start_time": "2021-12-02T13:12:10.507Z"
   },
   {
    "duration": 25,
    "start_time": "2021-12-02T13:12:10.519Z"
   },
   {
    "duration": 5,
    "start_time": "2021-12-02T13:12:10.545Z"
   },
   {
    "duration": 9,
    "start_time": "2021-12-02T13:12:10.552Z"
   },
   {
    "duration": 10,
    "start_time": "2021-12-02T13:12:10.588Z"
   },
   {
    "duration": 9,
    "start_time": "2021-12-02T13:12:10.599Z"
   },
   {
    "duration": 3,
    "start_time": "2021-12-02T13:12:10.611Z"
   },
   {
    "duration": 11,
    "start_time": "2021-12-02T13:12:10.615Z"
   },
   {
    "duration": 14,
    "start_time": "2021-12-02T13:12:10.627Z"
   },
   {
    "duration": 3,
    "start_time": "2021-12-02T13:12:10.643Z"
   },
   {
    "duration": 6,
    "start_time": "2021-12-02T13:12:10.648Z"
   },
   {
    "duration": 7,
    "start_time": "2021-12-02T13:12:10.656Z"
   },
   {
    "duration": 30,
    "start_time": "2021-12-02T13:12:10.665Z"
   },
   {
    "duration": 289,
    "start_time": "2021-12-02T13:12:13.054Z"
   },
   {
    "duration": 287,
    "start_time": "2021-12-02T13:12:28.332Z"
   },
   {
    "duration": 63,
    "start_time": "2021-12-02T13:12:48.020Z"
   },
   {
    "duration": 24,
    "start_time": "2021-12-02T13:12:48.911Z"
   },
   {
    "duration": 231,
    "start_time": "2021-12-02T13:12:58.621Z"
   },
   {
    "duration": 81,
    "start_time": "2021-12-02T13:13:20.120Z"
   },
   {
    "duration": 9,
    "start_time": "2021-12-02T13:13:22.970Z"
   },
   {
    "duration": 18,
    "start_time": "2021-12-02T13:13:24.091Z"
   },
   {
    "duration": 45,
    "start_time": "2021-12-02T13:13:30.691Z"
   },
   {
    "duration": 7,
    "start_time": "2021-12-02T13:13:37.921Z"
   },
   {
    "duration": 9,
    "start_time": "2021-12-02T13:13:40.990Z"
   },
   {
    "duration": 19,
    "start_time": "2021-12-02T13:13:41.440Z"
   },
   {
    "duration": 10,
    "start_time": "2021-12-02T13:14:04.720Z"
   },
   {
    "duration": 19,
    "start_time": "2021-12-02T13:14:08.430Z"
   },
   {
    "duration": 10,
    "start_time": "2021-12-02T13:14:13.799Z"
   },
   {
    "duration": 18,
    "start_time": "2021-12-02T13:14:14.630Z"
   },
   {
    "duration": 6,
    "start_time": "2021-12-02T13:15:05.419Z"
   },
   {
    "duration": 10,
    "start_time": "2021-12-02T13:15:29.380Z"
   },
   {
    "duration": 20,
    "start_time": "2021-12-02T13:15:29.829Z"
   },
   {
    "duration": 3,
    "start_time": "2021-12-02T13:15:39.702Z"
   },
   {
    "duration": 59,
    "start_time": "2021-12-02T13:15:39.707Z"
   },
   {
    "duration": 10,
    "start_time": "2021-12-02T13:15:39.768Z"
   },
   {
    "duration": 18,
    "start_time": "2021-12-02T13:15:39.779Z"
   },
   {
    "duration": 7,
    "start_time": "2021-12-02T13:15:39.798Z"
   },
   {
    "duration": 7,
    "start_time": "2021-12-02T13:15:39.806Z"
   },
   {
    "duration": 9,
    "start_time": "2021-12-02T13:15:39.814Z"
   },
   {
    "duration": 15,
    "start_time": "2021-12-02T13:15:39.826Z"
   },
   {
    "duration": 11,
    "start_time": "2021-12-02T13:15:39.843Z"
   },
   {
    "duration": 10,
    "start_time": "2021-12-02T13:15:39.856Z"
   },
   {
    "duration": 31,
    "start_time": "2021-12-02T13:15:39.868Z"
   },
   {
    "duration": 6,
    "start_time": "2021-12-02T13:15:39.900Z"
   },
   {
    "duration": 12,
    "start_time": "2021-12-02T13:15:39.907Z"
   },
   {
    "duration": 15,
    "start_time": "2021-12-02T13:15:39.921Z"
   },
   {
    "duration": 18,
    "start_time": "2021-12-02T13:15:39.938Z"
   },
   {
    "duration": 21,
    "start_time": "2021-12-02T13:15:39.957Z"
   },
   {
    "duration": 6,
    "start_time": "2021-12-02T13:15:46.090Z"
   },
   {
    "duration": 235,
    "start_time": "2021-12-02T13:17:19.101Z"
   },
   {
    "duration": 223,
    "start_time": "2021-12-02T13:17:26.150Z"
   },
   {
    "duration": 235,
    "start_time": "2021-12-02T13:17:36.170Z"
   },
   {
    "duration": 36,
    "start_time": "2021-12-02T13:17:41.811Z"
   },
   {
    "duration": 18,
    "start_time": "2021-12-02T13:17:45.030Z"
   },
   {
    "duration": 3,
    "start_time": "2021-12-02T13:17:56.339Z"
   },
   {
    "duration": 48,
    "start_time": "2021-12-02T13:17:56.345Z"
   },
   {
    "duration": 9,
    "start_time": "2021-12-02T13:17:56.395Z"
   },
   {
    "duration": 18,
    "start_time": "2021-12-02T13:17:56.406Z"
   },
   {
    "duration": 4,
    "start_time": "2021-12-02T13:17:56.426Z"
   },
   {
    "duration": 7,
    "start_time": "2021-12-02T13:17:56.431Z"
   },
   {
    "duration": 12,
    "start_time": "2021-12-02T13:17:56.440Z"
   },
   {
    "duration": 39,
    "start_time": "2021-12-02T13:17:56.453Z"
   },
   {
    "duration": 3,
    "start_time": "2021-12-02T13:17:56.494Z"
   },
   {
    "duration": 9,
    "start_time": "2021-12-02T13:17:56.499Z"
   },
   {
    "duration": 13,
    "start_time": "2021-12-02T13:17:56.509Z"
   },
   {
    "duration": 5,
    "start_time": "2021-12-02T13:17:56.523Z"
   },
   {
    "duration": 6,
    "start_time": "2021-12-02T13:17:56.529Z"
   },
   {
    "duration": 9,
    "start_time": "2021-12-02T13:17:56.536Z"
   },
   {
    "duration": 13,
    "start_time": "2021-12-02T13:17:56.546Z"
   },
   {
    "duration": 7,
    "start_time": "2021-12-02T13:17:58.320Z"
   },
   {
    "duration": 37,
    "start_time": "2021-12-02T13:18:01.191Z"
   },
   {
    "duration": 30,
    "start_time": "2021-12-02T13:18:04.483Z"
   },
   {
    "duration": 16,
    "start_time": "2021-12-02T13:18:09.271Z"
   },
   {
    "duration": 16,
    "start_time": "2021-12-02T13:18:10.941Z"
   },
   {
    "duration": 7,
    "start_time": "2021-12-02T13:18:28.220Z"
   },
   {
    "duration": 160,
    "start_time": "2021-12-02T13:23:01.733Z"
   },
   {
    "duration": 23,
    "start_time": "2021-12-02T13:23:02.185Z"
   },
   {
    "duration": 543,
    "start_time": "2021-12-02T13:23:11.943Z"
   },
   {
    "duration": 50,
    "start_time": "2021-12-02T13:23:12.488Z"
   },
   {
    "duration": 10,
    "start_time": "2021-12-02T13:23:12.540Z"
   },
   {
    "duration": 28,
    "start_time": "2021-12-02T13:23:12.552Z"
   },
   {
    "duration": 4,
    "start_time": "2021-12-02T13:23:12.587Z"
   },
   {
    "duration": 8,
    "start_time": "2021-12-02T13:23:12.593Z"
   },
   {
    "duration": 9,
    "start_time": "2021-12-02T13:23:12.602Z"
   },
   {
    "duration": 10,
    "start_time": "2021-12-02T13:23:12.614Z"
   },
   {
    "duration": 4,
    "start_time": "2021-12-02T13:23:12.626Z"
   },
   {
    "duration": 5,
    "start_time": "2021-12-02T13:23:12.631Z"
   },
   {
    "duration": 12,
    "start_time": "2021-12-02T13:23:12.637Z"
   },
   {
    "duration": 39,
    "start_time": "2021-12-02T13:23:12.651Z"
   },
   {
    "duration": 8,
    "start_time": "2021-12-02T13:23:12.692Z"
   },
   {
    "duration": 7,
    "start_time": "2021-12-02T13:23:12.702Z"
   },
   {
    "duration": 10,
    "start_time": "2021-12-02T13:23:12.711Z"
   },
   {
    "duration": 7,
    "start_time": "2021-12-02T13:23:12.723Z"
   },
   {
    "duration": 5956,
    "start_time": "2021-12-02T13:23:12.732Z"
   },
   {
    "duration": 123,
    "start_time": "2021-12-02T13:23:19.953Z"
   },
   {
    "duration": 17,
    "start_time": "2021-12-02T13:23:20.690Z"
   },
   {
    "duration": 123,
    "start_time": "2021-12-02T13:24:07.076Z"
   },
   {
    "duration": 17,
    "start_time": "2021-12-02T13:24:07.868Z"
   },
   {
    "duration": 7,
    "start_time": "2021-12-02T13:24:22.263Z"
   },
   {
    "duration": 144,
    "start_time": "2021-12-02T13:24:25.994Z"
   },
   {
    "duration": 6,
    "start_time": "2021-12-02T13:24:26.393Z"
   },
   {
    "duration": 43,
    "start_time": "2021-12-02T13:24:39.944Z"
   },
   {
    "duration": 46,
    "start_time": "2021-12-02T13:24:45.974Z"
   },
   {
    "duration": 21,
    "start_time": "2021-12-02T13:24:46.022Z"
   },
   {
    "duration": 19,
    "start_time": "2021-12-02T13:24:46.045Z"
   },
   {
    "duration": 31,
    "start_time": "2021-12-02T13:24:46.066Z"
   },
   {
    "duration": 7,
    "start_time": "2021-12-02T13:24:46.099Z"
   },
   {
    "duration": 10,
    "start_time": "2021-12-02T13:24:46.107Z"
   },
   {
    "duration": 10,
    "start_time": "2021-12-02T13:24:46.119Z"
   },
   {
    "duration": 10,
    "start_time": "2021-12-02T13:24:46.130Z"
   },
   {
    "duration": 11,
    "start_time": "2021-12-02T13:24:46.143Z"
   },
   {
    "duration": 5,
    "start_time": "2021-12-02T13:24:46.189Z"
   },
   {
    "duration": 9,
    "start_time": "2021-12-02T13:24:46.195Z"
   },
   {
    "duration": 8,
    "start_time": "2021-12-02T13:24:46.205Z"
   },
   {
    "duration": 3600,
    "start_time": "2021-12-02T13:24:46.214Z"
   },
   {
    "duration": 12,
    "start_time": "2021-12-02T13:24:49.816Z"
   },
   {
    "duration": 9,
    "start_time": "2021-12-02T13:24:49.829Z"
   },
   {
    "duration": 13,
    "start_time": "2021-12-02T13:24:49.839Z"
   },
   {
    "duration": 4,
    "start_time": "2021-12-02T13:24:49.853Z"
   },
   {
    "duration": 5674,
    "start_time": "2021-12-02T13:24:49.859Z"
   },
   {
    "duration": 9,
    "start_time": "2021-12-02T13:24:55.534Z"
   },
   {
    "duration": 5,
    "start_time": "2021-12-02T13:24:55.545Z"
   },
   {
    "duration": 4746,
    "start_time": "2021-12-02T13:24:55.552Z"
   },
   {
    "duration": 13,
    "start_time": "2021-12-02T13:25:00.299Z"
   },
   {
    "duration": 8,
    "start_time": "2021-12-02T13:25:00.314Z"
   },
   {
    "duration": 10,
    "start_time": "2021-12-02T13:25:00.323Z"
   },
   {
    "duration": 7,
    "start_time": "2021-12-02T13:25:00.334Z"
   },
   {
    "duration": 7,
    "start_time": "2021-12-02T13:25:00.342Z"
   },
   {
    "duration": 5,
    "start_time": "2021-12-02T13:25:00.352Z"
   },
   {
    "duration": 12,
    "start_time": "2021-12-02T13:25:00.359Z"
   },
   {
    "duration": 22,
    "start_time": "2021-12-02T13:25:00.372Z"
   },
   {
    "duration": 4,
    "start_time": "2021-12-02T13:25:00.395Z"
   },
   {
    "duration": 5,
    "start_time": "2021-12-02T13:25:00.400Z"
   },
   {
    "duration": 10,
    "start_time": "2021-12-02T13:25:00.406Z"
   },
   {
    "duration": 9,
    "start_time": "2021-12-02T13:25:00.418Z"
   },
   {
    "duration": 6,
    "start_time": "2021-12-02T13:25:00.428Z"
   },
   {
    "duration": 4,
    "start_time": "2021-12-02T13:25:00.436Z"
   },
   {
    "duration": 6,
    "start_time": "2021-12-02T13:25:00.441Z"
   },
   {
    "duration": 6,
    "start_time": "2021-12-02T13:25:00.449Z"
   },
   {
    "duration": 31,
    "start_time": "2021-12-02T13:25:00.457Z"
   },
   {
    "duration": 19300,
    "start_time": "2021-12-02T13:25:00.490Z"
   },
   {
    "duration": 6,
    "start_time": "2021-12-02T13:25:19.792Z"
   },
   {
    "duration": 26,
    "start_time": "2021-12-02T13:25:19.800Z"
   },
   {
    "duration": 9,
    "start_time": "2021-12-02T13:25:19.828Z"
   },
   {
    "duration": 19,
    "start_time": "2021-12-02T13:25:19.839Z"
   },
   {
    "duration": 5,
    "start_time": "2021-12-02T13:25:19.860Z"
   },
   {
    "duration": 15,
    "start_time": "2021-12-02T13:25:19.887Z"
   },
   {
    "duration": 5,
    "start_time": "2021-12-02T13:25:19.904Z"
   },
   {
    "duration": 17,
    "start_time": "2021-12-02T13:25:19.910Z"
   },
   {
    "duration": 5,
    "start_time": "2021-12-02T13:25:19.928Z"
   },
   {
    "duration": 723,
    "start_time": "2021-12-03T06:00:19.897Z"
   },
   {
    "duration": 66,
    "start_time": "2021-12-03T06:00:20.623Z"
   },
   {
    "duration": 14,
    "start_time": "2021-12-03T06:00:20.692Z"
   },
   {
    "duration": 56,
    "start_time": "2021-12-03T06:00:20.709Z"
   },
   {
    "duration": 5,
    "start_time": "2021-12-03T06:00:20.768Z"
   },
   {
    "duration": 10,
    "start_time": "2021-12-03T06:00:20.776Z"
   },
   {
    "duration": 14,
    "start_time": "2021-12-03T06:00:20.789Z"
   },
   {
    "duration": 52,
    "start_time": "2021-12-03T06:00:20.807Z"
   },
   {
    "duration": 5,
    "start_time": "2021-12-03T06:00:20.863Z"
   },
   {
    "duration": 7,
    "start_time": "2021-12-03T06:00:20.870Z"
   },
   {
    "duration": 19,
    "start_time": "2021-12-03T06:00:20.880Z"
   },
   {
    "duration": 6,
    "start_time": "2021-12-03T06:00:20.901Z"
   },
   {
    "duration": 10,
    "start_time": "2021-12-03T06:00:20.909Z"
   },
   {
    "duration": 45,
    "start_time": "2021-12-03T06:00:20.921Z"
   },
   {
    "duration": 19,
    "start_time": "2021-12-03T06:00:20.969Z"
   },
   {
    "duration": 10,
    "start_time": "2021-12-03T06:00:20.990Z"
   },
   {
    "duration": 10499,
    "start_time": "2021-12-03T06:00:21.003Z"
   },
   {
    "duration": 28,
    "start_time": "2021-12-03T06:00:31.505Z"
   },
   {
    "duration": 28,
    "start_time": "2021-12-03T06:00:31.536Z"
   },
   {
    "duration": 277,
    "start_time": "2021-12-03T06:00:31.567Z"
   },
   {
    "duration": 12,
    "start_time": "2021-12-03T06:00:31.847Z"
   },
   {
    "duration": 66,
    "start_time": "2021-12-03T06:00:31.861Z"
   },
   {
    "duration": 53,
    "start_time": "2021-12-03T06:00:31.933Z"
   },
   {
    "duration": 29,
    "start_time": "2021-12-03T06:00:31.990Z"
   },
   {
    "duration": 43,
    "start_time": "2021-12-03T06:00:32.021Z"
   },
   {
    "duration": 11,
    "start_time": "2021-12-03T06:00:32.067Z"
   },
   {
    "duration": 13,
    "start_time": "2021-12-03T06:00:32.081Z"
   },
   {
    "duration": 12,
    "start_time": "2021-12-03T06:00:32.097Z"
   },
   {
    "duration": 16,
    "start_time": "2021-12-03T06:00:32.111Z"
   },
   {
    "duration": 13,
    "start_time": "2021-12-03T06:00:32.160Z"
   },
   {
    "duration": 25,
    "start_time": "2021-12-03T06:00:32.175Z"
   },
   {
    "duration": 23,
    "start_time": "2021-12-03T06:00:32.202Z"
   },
   {
    "duration": 13,
    "start_time": "2021-12-03T06:00:32.227Z"
   },
   {
    "duration": 4663,
    "start_time": "2021-12-03T06:00:32.243Z"
   },
   {
    "duration": 21,
    "start_time": "2021-12-03T06:00:36.908Z"
   },
   {
    "duration": 34,
    "start_time": "2021-12-03T06:00:36.931Z"
   },
   {
    "duration": 21,
    "start_time": "2021-12-03T06:00:36.968Z"
   },
   {
    "duration": 7,
    "start_time": "2021-12-03T06:00:36.992Z"
   },
   {
    "duration": 9677,
    "start_time": "2021-12-03T06:00:37.002Z"
   },
   {
    "duration": 11,
    "start_time": "2021-12-03T06:00:46.682Z"
   },
   {
    "duration": 7,
    "start_time": "2021-12-03T06:00:46.696Z"
   },
   {
    "duration": 8406,
    "start_time": "2021-12-03T06:00:46.706Z"
   },
   {
    "duration": 19,
    "start_time": "2021-12-03T06:00:55.114Z"
   },
   {
    "duration": 24,
    "start_time": "2021-12-03T06:00:55.136Z"
   },
   {
    "duration": 9,
    "start_time": "2021-12-03T06:00:55.163Z"
   },
   {
    "duration": 7,
    "start_time": "2021-12-03T06:00:55.175Z"
   },
   {
    "duration": 9,
    "start_time": "2021-12-03T06:00:55.185Z"
   },
   {
    "duration": 9,
    "start_time": "2021-12-03T06:00:55.196Z"
   },
   {
    "duration": 11,
    "start_time": "2021-12-03T06:00:55.207Z"
   },
   {
    "duration": 41,
    "start_time": "2021-12-03T06:00:55.221Z"
   },
   {
    "duration": 6,
    "start_time": "2021-12-03T06:00:55.265Z"
   },
   {
    "duration": 4,
    "start_time": "2021-12-03T06:00:55.273Z"
   },
   {
    "duration": 6,
    "start_time": "2021-12-03T06:00:55.279Z"
   },
   {
    "duration": 10,
    "start_time": "2021-12-03T06:00:55.288Z"
   },
   {
    "duration": 13,
    "start_time": "2021-12-03T06:00:55.301Z"
   },
   {
    "duration": 10,
    "start_time": "2021-12-03T06:00:55.317Z"
   },
   {
    "duration": 34,
    "start_time": "2021-12-03T06:00:55.330Z"
   },
   {
    "duration": 5,
    "start_time": "2021-12-03T06:00:55.366Z"
   },
   {
    "duration": 7,
    "start_time": "2021-12-03T06:00:55.374Z"
   },
   {
    "duration": 32643,
    "start_time": "2021-12-03T06:00:55.383Z"
   },
   {
    "duration": 10,
    "start_time": "2021-12-03T06:01:28.028Z"
   },
   {
    "duration": 44,
    "start_time": "2021-12-03T06:01:28.040Z"
   },
   {
    "duration": 14,
    "start_time": "2021-12-03T06:01:28.087Z"
   },
   {
    "duration": 26,
    "start_time": "2021-12-03T06:01:28.103Z"
   },
   {
    "duration": 9,
    "start_time": "2021-12-03T06:01:28.131Z"
   },
   {
    "duration": 32,
    "start_time": "2021-12-03T06:01:28.142Z"
   },
   {
    "duration": 7,
    "start_time": "2021-12-03T06:01:28.177Z"
   },
   {
    "duration": 32,
    "start_time": "2021-12-03T06:01:28.192Z"
   },
   {
    "duration": 10,
    "start_time": "2021-12-03T06:01:28.226Z"
   },
   {
    "duration": 361,
    "start_time": "2021-12-03T08:17:48.562Z"
   },
   {
    "duration": 764,
    "start_time": "2021-12-03T08:17:54.022Z"
   },
   {
    "duration": 80,
    "start_time": "2021-12-03T08:17:54.789Z"
   },
   {
    "duration": 26,
    "start_time": "2021-12-03T08:17:54.872Z"
   },
   {
    "duration": 14,
    "start_time": "2021-12-03T08:17:56.171Z"
   },
   {
    "duration": 49,
    "start_time": "2021-12-03T08:17:56.660Z"
   },
   {
    "duration": 58,
    "start_time": "2021-12-03T08:18:07.581Z"
   },
   {
    "duration": 48,
    "start_time": "2021-12-03T08:21:09.051Z"
   },
   {
    "duration": 53,
    "start_time": "2021-12-03T08:21:32.731Z"
   },
   {
    "duration": 24,
    "start_time": "2021-12-03T08:30:17.462Z"
   },
   {
    "duration": 3,
    "start_time": "2021-12-03T08:30:25.871Z"
   },
   {
    "duration": 412,
    "start_time": "2021-12-03T08:31:53.641Z"
   },
   {
    "duration": 16,
    "start_time": "2021-12-03T08:32:18.771Z"
   },
   {
    "duration": 96,
    "start_time": "2021-12-03T09:29:11.022Z"
   },
   {
    "duration": 297,
    "start_time": "2021-12-03T09:31:15.173Z"
   },
   {
    "duration": 293,
    "start_time": "2021-12-03T09:31:21.712Z"
   },
   {
    "duration": 93,
    "start_time": "2021-12-03T09:31:58.711Z"
   },
   {
    "duration": 69,
    "start_time": "2021-12-03T09:32:01.302Z"
   },
   {
    "duration": 34577,
    "start_time": "2021-12-03T09:32:10.791Z"
   },
   {
    "duration": 97,
    "start_time": "2021-12-03T09:33:09.002Z"
   },
   {
    "duration": 10,
    "start_time": "2021-12-03T09:33:11.701Z"
   },
   {
    "duration": 299,
    "start_time": "2021-12-03T09:33:19.602Z"
   },
   {
    "duration": 13,
    "start_time": "2021-12-03T09:33:24.642Z"
   },
   {
    "duration": 13,
    "start_time": "2021-12-03T09:33:34.421Z"
   },
   {
    "duration": 101,
    "start_time": "2021-12-03T09:33:55.553Z"
   },
   {
    "duration": 18660,
    "start_time": "2021-12-03T09:34:03.622Z"
   },
   {
    "duration": 8,
    "start_time": "2021-12-03T09:34:22.285Z"
   },
   {
    "duration": 28,
    "start_time": "2021-12-03T09:34:32.346Z"
   },
   {
    "duration": 1007,
    "start_time": "2021-12-03T09:34:47.186Z"
   },
   {
    "duration": 92,
    "start_time": "2021-12-03T09:34:48.197Z"
   },
   {
    "duration": 23,
    "start_time": "2021-12-03T09:34:48.293Z"
   },
   {
    "duration": 78,
    "start_time": "2021-12-03T09:34:48.319Z"
   },
   {
    "duration": 48,
    "start_time": "2021-12-03T09:34:48.400Z"
   },
   {
    "duration": 33,
    "start_time": "2021-12-03T09:34:48.451Z"
   },
   {
    "duration": 10,
    "start_time": "2021-12-03T09:34:48.486Z"
   },
   {
    "duration": 10,
    "start_time": "2021-12-03T09:34:48.499Z"
   },
   {
    "duration": 11,
    "start_time": "2021-12-03T09:34:48.511Z"
   },
   {
    "duration": 11,
    "start_time": "2021-12-03T09:34:48.524Z"
   },
   {
    "duration": 44,
    "start_time": "2021-12-03T09:34:48.538Z"
   },
   {
    "duration": 13,
    "start_time": "2021-12-03T09:34:56.026Z"
   },
   {
    "duration": 10,
    "start_time": "2021-12-03T09:35:54.086Z"
   },
   {
    "duration": 3,
    "start_time": "2021-12-03T09:36:08.737Z"
   },
   {
    "duration": 100,
    "start_time": "2021-12-03T09:37:08.106Z"
   },
   {
    "duration": 6,
    "start_time": "2021-12-03T09:37:14.515Z"
   },
   {
    "duration": 18,
    "start_time": "2021-12-03T09:37:21.475Z"
   },
   {
    "duration": 3,
    "start_time": "2021-12-03T09:42:46.267Z"
   },
   {
    "duration": 62,
    "start_time": "2021-12-03T09:42:46.280Z"
   },
   {
    "duration": 15,
    "start_time": "2021-12-03T09:42:46.344Z"
   },
   {
    "duration": 47,
    "start_time": "2021-12-03T09:42:46.363Z"
   },
   {
    "duration": 78,
    "start_time": "2021-12-03T09:42:46.414Z"
   },
   {
    "duration": 7,
    "start_time": "2021-12-03T09:42:46.495Z"
   },
   {
    "duration": 16,
    "start_time": "2021-12-03T09:42:46.505Z"
   },
   {
    "duration": 12,
    "start_time": "2021-12-03T09:42:46.524Z"
   },
   {
    "duration": 45,
    "start_time": "2021-12-03T09:42:46.538Z"
   },
   {
    "duration": 9,
    "start_time": "2021-12-03T09:42:46.588Z"
   },
   {
    "duration": 19,
    "start_time": "2021-12-03T09:42:46.601Z"
   },
   {
    "duration": 28,
    "start_time": "2021-12-03T09:42:46.623Z"
   },
   {
    "duration": 6,
    "start_time": "2021-12-03T09:42:46.654Z"
   },
   {
    "duration": 486,
    "start_time": "2021-12-03T09:42:46.683Z"
   },
   {
    "duration": 157,
    "start_time": "2021-12-03T09:42:47.015Z"
   },
   {
    "duration": 143,
    "start_time": "2021-12-03T09:42:47.030Z"
   },
   {
    "duration": 137,
    "start_time": "2021-12-03T09:42:47.037Z"
   },
   {
    "duration": 133,
    "start_time": "2021-12-03T09:42:47.043Z"
   },
   {
    "duration": 128,
    "start_time": "2021-12-03T09:42:47.049Z"
   },
   {
    "duration": 123,
    "start_time": "2021-12-03T09:42:47.055Z"
   },
   {
    "duration": 119,
    "start_time": "2021-12-03T09:42:47.060Z"
   },
   {
    "duration": 115,
    "start_time": "2021-12-03T09:42:47.066Z"
   },
   {
    "duration": 109,
    "start_time": "2021-12-03T09:42:47.073Z"
   },
   {
    "duration": 104,
    "start_time": "2021-12-03T09:42:47.079Z"
   },
   {
    "duration": 96,
    "start_time": "2021-12-03T09:42:47.089Z"
   },
   {
    "duration": 6,
    "start_time": "2021-12-03T09:43:06.746Z"
   },
   {
    "duration": 74,
    "start_time": "2021-12-03T09:43:06.755Z"
   },
   {
    "duration": 21,
    "start_time": "2021-12-03T09:43:06.832Z"
   },
   {
    "duration": 74,
    "start_time": "2021-12-03T09:43:06.856Z"
   },
   {
    "duration": 95,
    "start_time": "2021-12-03T09:43:06.933Z"
   },
   {
    "duration": 7,
    "start_time": "2021-12-03T09:43:07.031Z"
   },
   {
    "duration": 13,
    "start_time": "2021-12-03T09:43:07.041Z"
   },
   {
    "duration": 25,
    "start_time": "2021-12-03T09:43:07.057Z"
   },
   {
    "duration": 8,
    "start_time": "2021-12-03T09:43:07.084Z"
   },
   {
    "duration": 10,
    "start_time": "2021-12-03T09:43:07.094Z"
   },
   {
    "duration": 7,
    "start_time": "2021-12-03T09:43:07.107Z"
   },
   {
    "duration": 16,
    "start_time": "2021-12-03T09:43:07.116Z"
   },
   {
    "duration": 5,
    "start_time": "2021-12-03T09:43:07.135Z"
   },
   {
    "duration": 351,
    "start_time": "2021-12-03T09:43:07.183Z"
   },
   {
    "duration": 187,
    "start_time": "2021-12-03T09:43:07.350Z"
   },
   {
    "duration": 181,
    "start_time": "2021-12-03T09:43:07.357Z"
   },
   {
    "duration": 175,
    "start_time": "2021-12-03T09:43:07.364Z"
   },
   {
    "duration": 168,
    "start_time": "2021-12-03T09:43:07.372Z"
   },
   {
    "duration": 163,
    "start_time": "2021-12-03T09:43:07.379Z"
   },
   {
    "duration": 157,
    "start_time": "2021-12-03T09:43:07.386Z"
   },
   {
    "duration": 152,
    "start_time": "2021-12-03T09:43:07.392Z"
   },
   {
    "duration": 147,
    "start_time": "2021-12-03T09:43:07.398Z"
   },
   {
    "duration": 142,
    "start_time": "2021-12-03T09:43:07.405Z"
   },
   {
    "duration": 138,
    "start_time": "2021-12-03T09:43:07.410Z"
   },
   {
    "duration": 133,
    "start_time": "2021-12-03T09:43:07.416Z"
   },
   {
    "duration": 11,
    "start_time": "2021-12-03T09:43:42.765Z"
   },
   {
    "duration": 13,
    "start_time": "2021-12-03T09:43:56.796Z"
   },
   {
    "duration": 13,
    "start_time": "2021-12-03T09:44:12.936Z"
   },
   {
    "duration": 5,
    "start_time": "2021-12-03T09:44:13.826Z"
   },
   {
    "duration": 16,
    "start_time": "2021-12-03T09:44:14.934Z"
   },
   {
    "duration": 7,
    "start_time": "2021-12-03T09:44:21.630Z"
   },
   {
    "duration": 699,
    "start_time": "2021-12-03T09:44:21.640Z"
   },
   {
    "duration": 16,
    "start_time": "2021-12-03T09:44:54.726Z"
   },
   {
    "duration": 6,
    "start_time": "2021-12-03T09:45:14.443Z"
   },
   {
    "duration": 7,
    "start_time": "2021-12-03T09:45:22.905Z"
   },
   {
    "duration": 9,
    "start_time": "2021-12-03T09:45:44.345Z"
   },
   {
    "duration": 17,
    "start_time": "2021-12-03T09:45:44.797Z"
   },
   {
    "duration": 981,
    "start_time": "2021-12-03T09:46:09.222Z"
   },
   {
    "duration": 88,
    "start_time": "2021-12-03T09:46:10.206Z"
   },
   {
    "duration": 21,
    "start_time": "2021-12-03T09:46:10.298Z"
   },
   {
    "duration": 69,
    "start_time": "2021-12-03T09:46:10.323Z"
   },
   {
    "duration": 49,
    "start_time": "2021-12-03T09:46:10.396Z"
   },
   {
    "duration": 6,
    "start_time": "2021-12-03T09:46:10.447Z"
   },
   {
    "duration": 10,
    "start_time": "2021-12-03T09:46:10.482Z"
   },
   {
    "duration": 13,
    "start_time": "2021-12-03T09:46:10.495Z"
   },
   {
    "duration": 12,
    "start_time": "2021-12-03T09:46:10.510Z"
   },
   {
    "duration": 8,
    "start_time": "2021-12-03T09:46:12.184Z"
   },
   {
    "duration": 12,
    "start_time": "2021-12-03T09:46:12.634Z"
   },
   {
    "duration": 7,
    "start_time": "2021-12-03T09:46:21.451Z"
   },
   {
    "duration": 12,
    "start_time": "2021-12-03T09:46:34.444Z"
   },
   {
    "duration": 6,
    "start_time": "2021-12-03T09:46:36.395Z"
   },
   {
    "duration": 15,
    "start_time": "2021-12-03T09:46:37.024Z"
   },
   {
    "duration": 7,
    "start_time": "2021-12-03T09:46:37.744Z"
   },
   {
    "duration": 5,
    "start_time": "2021-12-03T09:46:41.904Z"
   },
   {
    "duration": 389,
    "start_time": "2021-12-03T09:46:42.714Z"
   },
   {
    "duration": 9,
    "start_time": "2021-12-03T09:48:03.084Z"
   },
   {
    "duration": 12,
    "start_time": "2021-12-03T09:48:03.489Z"
   },
   {
    "duration": 5,
    "start_time": "2021-12-03T09:48:04.435Z"
   },
   {
    "duration": 16,
    "start_time": "2021-12-03T09:48:05.181Z"
   },
   {
    "duration": 745,
    "start_time": "2021-12-03T09:48:22.071Z"
   },
   {
    "duration": 67,
    "start_time": "2021-12-03T09:48:22.819Z"
   },
   {
    "duration": 19,
    "start_time": "2021-12-03T09:48:22.890Z"
   },
   {
    "duration": 41,
    "start_time": "2021-12-03T09:48:22.912Z"
   },
   {
    "duration": 73,
    "start_time": "2021-12-03T09:48:22.955Z"
   },
   {
    "duration": 8,
    "start_time": "2021-12-03T09:48:23.030Z"
   },
   {
    "duration": 10,
    "start_time": "2021-12-03T09:48:23.040Z"
   },
   {
    "duration": 38,
    "start_time": "2021-12-03T09:48:23.052Z"
   },
   {
    "duration": 9,
    "start_time": "2021-12-03T09:48:23.094Z"
   },
   {
    "duration": 12,
    "start_time": "2021-12-03T09:48:24.761Z"
   },
   {
    "duration": 5,
    "start_time": "2021-12-03T09:48:26.632Z"
   },
   {
    "duration": 17,
    "start_time": "2021-12-03T09:48:27.592Z"
   },
   {
    "duration": 9,
    "start_time": "2021-12-03T09:49:16.813Z"
   },
   {
    "duration": 11,
    "start_time": "2021-12-03T09:49:17.253Z"
   },
   {
    "duration": 9,
    "start_time": "2021-12-03T09:49:24.434Z"
   },
   {
    "duration": 13,
    "start_time": "2021-12-03T09:49:25.093Z"
   },
   {
    "duration": 5,
    "start_time": "2021-12-03T09:49:26.553Z"
   },
   {
    "duration": 14,
    "start_time": "2021-12-03T09:49:27.263Z"
   },
   {
    "duration": 12,
    "start_time": "2021-12-03T09:49:36.851Z"
   },
   {
    "duration": 14,
    "start_time": "2021-12-03T09:49:37.163Z"
   },
   {
    "duration": 5,
    "start_time": "2021-12-03T09:49:41.434Z"
   },
   {
    "duration": 15,
    "start_time": "2021-12-03T09:49:42.003Z"
   },
   {
    "duration": 9,
    "start_time": "2021-12-03T09:49:46.843Z"
   },
   {
    "duration": 12,
    "start_time": "2021-12-03T09:49:47.080Z"
   },
   {
    "duration": 5,
    "start_time": "2021-12-03T09:49:48.143Z"
   },
   {
    "duration": 15,
    "start_time": "2021-12-03T09:49:48.972Z"
   },
   {
    "duration": 387,
    "start_time": "2021-12-03T09:50:06.783Z"
   },
   {
    "duration": 9,
    "start_time": "2021-12-03T09:50:13.203Z"
   },
   {
    "duration": 12,
    "start_time": "2021-12-03T09:50:14.023Z"
   },
   {
    "duration": 4,
    "start_time": "2021-12-03T09:50:16.053Z"
   },
   {
    "duration": 16,
    "start_time": "2021-12-03T09:50:16.744Z"
   },
   {
    "duration": 303,
    "start_time": "2021-12-03T09:51:02.121Z"
   },
   {
    "duration": 8,
    "start_time": "2021-12-03T09:51:04.913Z"
   },
   {
    "duration": 12,
    "start_time": "2021-12-03T09:51:05.393Z"
   },
   {
    "duration": 6,
    "start_time": "2021-12-03T09:51:08.223Z"
   },
   {
    "duration": 14,
    "start_time": "2021-12-03T09:51:08.917Z"
   },
   {
    "duration": 342,
    "start_time": "2021-12-03T12:06:59.546Z"
   },
   {
    "duration": 243,
    "start_time": "2021-12-03T12:07:46.420Z"
   },
   {
    "duration": 786,
    "start_time": "2021-12-03T12:07:51.333Z"
   },
   {
    "duration": 64,
    "start_time": "2021-12-03T12:07:52.122Z"
   },
   {
    "duration": 15,
    "start_time": "2021-12-03T12:07:52.189Z"
   },
   {
    "duration": 62,
    "start_time": "2021-12-03T12:07:52.207Z"
   },
   {
    "duration": 46,
    "start_time": "2021-12-03T12:07:52.271Z"
   },
   {
    "duration": 6,
    "start_time": "2021-12-03T12:07:52.320Z"
   },
   {
    "duration": 43,
    "start_time": "2021-12-03T12:07:52.329Z"
   },
   {
    "duration": 9,
    "start_time": "2021-12-03T12:07:52.374Z"
   },
   {
    "duration": 11,
    "start_time": "2021-12-03T12:07:56.691Z"
   },
   {
    "duration": 13,
    "start_time": "2021-12-03T12:08:07.398Z"
   },
   {
    "duration": 12,
    "start_time": "2021-12-03T12:08:15.001Z"
   },
   {
    "duration": 304,
    "start_time": "2021-12-03T12:10:11.710Z"
   },
   {
    "duration": 245,
    "start_time": "2021-12-03T12:11:16.860Z"
   },
   {
    "duration": 12,
    "start_time": "2021-12-03T12:11:37.790Z"
   },
   {
    "duration": 12,
    "start_time": "2021-12-03T12:11:43.170Z"
   },
   {
    "duration": 13,
    "start_time": "2021-12-03T12:12:10.330Z"
   },
   {
    "duration": 11,
    "start_time": "2021-12-03T12:12:59.460Z"
   },
   {
    "duration": 86,
    "start_time": "2021-12-03T12:13:19.899Z"
   },
   {
    "duration": 79,
    "start_time": "2021-12-03T12:14:13.780Z"
   },
   {
    "duration": 84,
    "start_time": "2021-12-03T12:14:43.750Z"
   },
   {
    "duration": 80,
    "start_time": "2021-12-03T12:14:52.910Z"
   },
   {
    "duration": 84,
    "start_time": "2021-12-03T12:15:05.233Z"
   },
   {
    "duration": 91,
    "start_time": "2021-12-03T12:15:13.290Z"
   },
   {
    "duration": 265,
    "start_time": "2021-12-03T12:15:26.648Z"
   },
   {
    "duration": 20,
    "start_time": "2021-12-03T12:15:33.490Z"
   },
   {
    "duration": 88,
    "start_time": "2021-12-03T12:16:29.033Z"
   },
   {
    "duration": 79,
    "start_time": "2021-12-03T12:16:37.932Z"
   },
   {
    "duration": 13,
    "start_time": "2021-12-03T12:16:48.400Z"
   },
   {
    "duration": 89,
    "start_time": "2021-12-03T12:16:59.447Z"
   },
   {
    "duration": 90,
    "start_time": "2021-12-03T12:17:17.937Z"
   },
   {
    "duration": 13,
    "start_time": "2021-12-03T12:17:21.070Z"
   },
   {
    "duration": 4148,
    "start_time": "2021-12-03T12:20:46.221Z"
   },
   {
    "duration": 8,
    "start_time": "2021-12-03T12:21:43.810Z"
   },
   {
    "duration": 8,
    "start_time": "2021-12-03T12:21:46.540Z"
   },
   {
    "duration": 8,
    "start_time": "2021-12-03T12:22:07.271Z"
   },
   {
    "duration": 9,
    "start_time": "2021-12-03T12:22:10.182Z"
   },
   {
    "duration": 7,
    "start_time": "2021-12-03T12:22:18.610Z"
   },
   {
    "duration": 9,
    "start_time": "2021-12-03T12:22:29.585Z"
   },
   {
    "duration": 10,
    "start_time": "2021-12-03T12:23:10.700Z"
   },
   {
    "duration": 9,
    "start_time": "2021-12-03T12:23:16.338Z"
   },
   {
    "duration": 9,
    "start_time": "2021-12-03T12:24:29.218Z"
   },
   {
    "duration": 12,
    "start_time": "2021-12-03T12:24:35.146Z"
   },
   {
    "duration": 8,
    "start_time": "2021-12-03T12:24:50.860Z"
   },
   {
    "duration": 263,
    "start_time": "2021-12-03T12:25:17.529Z"
   },
   {
    "duration": 3093,
    "start_time": "2021-12-03T12:25:21.509Z"
   },
   {
    "duration": 33,
    "start_time": "2021-12-03T12:25:33.840Z"
   },
   {
    "duration": 7,
    "start_time": "2021-12-03T12:25:49.170Z"
   },
   {
    "duration": 5,
    "start_time": "2021-12-03T12:26:22.000Z"
   },
   {
    "duration": 8,
    "start_time": "2021-12-03T12:26:28.203Z"
   },
   {
    "duration": 8,
    "start_time": "2021-12-03T12:27:00.680Z"
   },
   {
    "duration": 6,
    "start_time": "2021-12-03T12:27:07.370Z"
   },
   {
    "duration": 34,
    "start_time": "2021-12-03T12:27:10.900Z"
   },
   {
    "duration": 286,
    "start_time": "2021-12-03T12:27:35.410Z"
   },
   {
    "duration": 37,
    "start_time": "2021-12-03T12:27:40.830Z"
   },
   {
    "duration": 261,
    "start_time": "2021-12-03T12:30:55.150Z"
   },
   {
    "duration": 46,
    "start_time": "2021-12-03T12:31:24.850Z"
   },
   {
    "duration": 278,
    "start_time": "2021-12-03T12:32:28.389Z"
   },
   {
    "duration": 67,
    "start_time": "2021-12-03T12:32:32.120Z"
   },
   {
    "duration": 760,
    "start_time": "2021-12-03T12:32:42.358Z"
   },
   {
    "duration": 66,
    "start_time": "2021-12-03T12:32:43.120Z"
   },
   {
    "duration": 15,
    "start_time": "2021-12-03T12:32:43.189Z"
   },
   {
    "duration": 65,
    "start_time": "2021-12-03T12:32:43.206Z"
   },
   {
    "duration": 56,
    "start_time": "2021-12-03T12:32:43.274Z"
   },
   {
    "duration": 6,
    "start_time": "2021-12-03T12:32:43.333Z"
   },
   {
    "duration": 30,
    "start_time": "2021-12-03T12:32:43.342Z"
   },
   {
    "duration": 11,
    "start_time": "2021-12-03T12:32:43.375Z"
   },
   {
    "duration": 15,
    "start_time": "2021-12-03T12:32:43.389Z"
   },
   {
    "duration": 67,
    "start_time": "2021-12-03T12:33:20.789Z"
   },
   {
    "duration": 11,
    "start_time": "2021-12-03T12:33:42.368Z"
   },
   {
    "duration": 11,
    "start_time": "2021-12-03T12:33:52.838Z"
   },
   {
    "duration": 12,
    "start_time": "2021-12-03T12:33:56.140Z"
   },
   {
    "duration": 17,
    "start_time": "2021-12-03T12:34:15.260Z"
   },
   {
    "duration": 373,
    "start_time": "2021-12-03T12:34:39.037Z"
   },
   {
    "duration": 61,
    "start_time": "2021-12-03T12:34:46.857Z"
   },
   {
    "duration": 75,
    "start_time": "2021-12-03T12:34:53.829Z"
   },
   {
    "duration": 86,
    "start_time": "2021-12-03T12:35:22.337Z"
   },
   {
    "duration": 87,
    "start_time": "2021-12-03T12:35:22.915Z"
   },
   {
    "duration": 272,
    "start_time": "2021-12-03T12:35:50.975Z"
   },
   {
    "duration": 434,
    "start_time": "2021-12-03T12:35:58.025Z"
   },
   {
    "duration": 8,
    "start_time": "2021-12-03T12:36:02.404Z"
   },
   {
    "duration": 246,
    "start_time": "2021-12-03T12:36:19.715Z"
   },
   {
    "duration": 86,
    "start_time": "2021-12-03T12:36:43.225Z"
   },
   {
    "duration": 80,
    "start_time": "2021-12-03T12:36:59.485Z"
   },
   {
    "duration": 71,
    "start_time": "2021-12-03T12:37:31.285Z"
   },
   {
    "duration": 250,
    "start_time": "2021-12-03T12:38:18.595Z"
   },
   {
    "duration": 246,
    "start_time": "2021-12-03T12:38:24.685Z"
   },
   {
    "duration": 8,
    "start_time": "2021-12-03T12:43:16.175Z"
   },
   {
    "duration": 4062,
    "start_time": "2021-12-03T12:43:23.104Z"
   },
   {
    "duration": 11,
    "start_time": "2021-12-03T12:43:45.545Z"
   },
   {
    "duration": 98,
    "start_time": "2021-12-03T12:44:03.336Z"
   },
   {
    "duration": 36,
    "start_time": "2021-12-03T12:44:08.035Z"
   },
   {
    "duration": 13,
    "start_time": "2021-12-03T12:44:28.554Z"
   },
   {
    "duration": 3919,
    "start_time": "2021-12-03T12:44:45.361Z"
   },
   {
    "duration": 271,
    "start_time": "2021-12-03T12:45:10.135Z"
   },
   {
    "duration": 257,
    "start_time": "2021-12-03T12:45:31.194Z"
   },
   {
    "duration": 523,
    "start_time": "2021-12-03T12:46:44.549Z"
   },
   {
    "duration": 517,
    "start_time": "2021-12-03T12:46:44.556Z"
   },
   {
    "duration": 14,
    "start_time": "2021-12-03T12:46:46.834Z"
   },
   {
    "duration": 20,
    "start_time": "2021-12-03T12:46:58.914Z"
   },
   {
    "duration": 12,
    "start_time": "2021-12-03T12:47:23.705Z"
   },
   {
    "duration": 35,
    "start_time": "2021-12-03T12:47:49.405Z"
   },
   {
    "duration": 12,
    "start_time": "2021-12-03T12:47:59.596Z"
   },
   {
    "duration": 9,
    "start_time": "2021-12-03T12:48:22.793Z"
   },
   {
    "duration": 13,
    "start_time": "2021-12-03T12:48:45.797Z"
   },
   {
    "duration": 12,
    "start_time": "2021-12-03T12:48:59.951Z"
   },
   {
    "duration": 302,
    "start_time": "2021-12-03T12:50:01.984Z"
   },
   {
    "duration": 270,
    "start_time": "2021-12-03T12:53:23.115Z"
   },
   {
    "duration": 261,
    "start_time": "2021-12-03T12:53:39.804Z"
   },
   {
    "duration": 9,
    "start_time": "2021-12-03T12:53:42.910Z"
   },
   {
    "duration": 305,
    "start_time": "2021-12-03T12:54:11.714Z"
   },
   {
    "duration": 4756,
    "start_time": "2021-12-03T12:54:33.324Z"
   },
   {
    "duration": 80,
    "start_time": "2021-12-03T12:55:06.595Z"
   },
   {
    "duration": 94,
    "start_time": "2021-12-03T12:55:10.994Z"
   },
   {
    "duration": 262,
    "start_time": "2021-12-03T12:55:15.164Z"
   },
   {
    "duration": 4159,
    "start_time": "2021-12-03T12:55:36.415Z"
   },
   {
    "duration": 313,
    "start_time": "2021-12-03T12:57:42.175Z"
   },
   {
    "duration": 242,
    "start_time": "2021-12-03T12:58:02.075Z"
   },
   {
    "duration": 243,
    "start_time": "2021-12-03T12:58:17.104Z"
   },
   {
    "duration": 262,
    "start_time": "2021-12-03T12:58:45.684Z"
   },
   {
    "duration": 281,
    "start_time": "2021-12-03T13:00:50.080Z"
   },
   {
    "duration": 261,
    "start_time": "2021-12-03T13:01:11.474Z"
   },
   {
    "duration": 263,
    "start_time": "2021-12-03T13:01:14.235Z"
   },
   {
    "duration": 758,
    "start_time": "2021-12-03T13:01:22.091Z"
   },
   {
    "duration": 66,
    "start_time": "2021-12-03T13:01:22.852Z"
   },
   {
    "duration": 16,
    "start_time": "2021-12-03T13:01:22.921Z"
   },
   {
    "duration": 60,
    "start_time": "2021-12-03T13:01:22.940Z"
   },
   {
    "duration": 67,
    "start_time": "2021-12-03T13:01:23.003Z"
   },
   {
    "duration": 7,
    "start_time": "2021-12-03T13:01:23.073Z"
   },
   {
    "duration": 16,
    "start_time": "2021-12-03T13:01:23.082Z"
   },
   {
    "duration": 16,
    "start_time": "2021-12-03T13:01:23.102Z"
   },
   {
    "duration": 13,
    "start_time": "2021-12-03T13:01:26.078Z"
   },
   {
    "duration": 20,
    "start_time": "2021-12-03T13:02:06.191Z"
   },
   {
    "duration": 353,
    "start_time": "2021-12-03T13:02:23.551Z"
   },
   {
    "duration": 19,
    "start_time": "2021-12-03T13:02:31.602Z"
   },
   {
    "duration": 19,
    "start_time": "2021-12-03T13:02:57.477Z"
   },
   {
    "duration": 372,
    "start_time": "2021-12-03T13:04:11.551Z"
   },
   {
    "duration": 44,
    "start_time": "2021-12-03T13:04:35.184Z"
   },
   {
    "duration": 45,
    "start_time": "2021-12-03T13:04:50.562Z"
   },
   {
    "duration": 15,
    "start_time": "2021-12-03T13:04:54.494Z"
   },
   {
    "duration": 34,
    "start_time": "2021-12-03T13:05:22.081Z"
   },
   {
    "duration": 13,
    "start_time": "2021-12-03T13:05:28.841Z"
   },
   {
    "duration": 60,
    "start_time": "2021-12-03T13:05:37.520Z"
   },
   {
    "duration": 7636,
    "start_time": "2021-12-03T13:05:58.121Z"
   },
   {
    "duration": 46,
    "start_time": "2021-12-03T13:06:16.483Z"
   },
   {
    "duration": 18,
    "start_time": "2021-12-03T13:08:59.121Z"
   },
   {
    "duration": 44,
    "start_time": "2021-12-03T13:09:28.321Z"
   },
   {
    "duration": 13,
    "start_time": "2021-12-03T13:09:32.701Z"
   },
   {
    "duration": 16,
    "start_time": "2021-12-03T13:10:08.871Z"
   },
   {
    "duration": 85,
    "start_time": "2021-12-03T13:11:46.952Z"
   },
   {
    "duration": 275,
    "start_time": "2021-12-03T13:12:06.472Z"
   },
   {
    "duration": 3069,
    "start_time": "2021-12-03T13:12:13.011Z"
   },
   {
    "duration": 10,
    "start_time": "2021-12-03T13:12:19.091Z"
   },
   {
    "duration": 17,
    "start_time": "2021-12-03T13:12:23.710Z"
   },
   {
    "duration": 42,
    "start_time": "2021-12-03T13:13:58.021Z"
   },
   {
    "duration": 13,
    "start_time": "2021-12-03T13:14:02.739Z"
   },
   {
    "duration": 10,
    "start_time": "2021-12-03T13:14:04.711Z"
   },
   {
    "duration": 4,
    "start_time": "2021-12-03T13:14:21.033Z"
   },
   {
    "duration": 67,
    "start_time": "2021-12-03T13:14:21.040Z"
   },
   {
    "duration": 16,
    "start_time": "2021-12-03T13:14:21.110Z"
   },
   {
    "duration": 52,
    "start_time": "2021-12-03T13:14:21.129Z"
   },
   {
    "duration": 47,
    "start_time": "2021-12-03T13:14:21.184Z"
   },
   {
    "duration": 35,
    "start_time": "2021-12-03T13:14:21.234Z"
   },
   {
    "duration": 10,
    "start_time": "2021-12-03T13:14:21.271Z"
   },
   {
    "duration": 17,
    "start_time": "2021-12-03T13:14:21.283Z"
   },
   {
    "duration": 17,
    "start_time": "2021-12-03T13:14:21.303Z"
   },
   {
    "duration": 708,
    "start_time": "2021-12-03T13:14:29.420Z"
   },
   {
    "duration": 70,
    "start_time": "2021-12-03T13:14:30.130Z"
   },
   {
    "duration": 19,
    "start_time": "2021-12-03T13:14:30.204Z"
   },
   {
    "duration": 68,
    "start_time": "2021-12-03T13:14:30.227Z"
   },
   {
    "duration": 72,
    "start_time": "2021-12-03T13:14:30.299Z"
   },
   {
    "duration": 6,
    "start_time": "2021-12-03T13:14:30.373Z"
   },
   {
    "duration": 26,
    "start_time": "2021-12-03T13:14:30.382Z"
   },
   {
    "duration": 15,
    "start_time": "2021-12-03T13:14:30.411Z"
   },
   {
    "duration": 10,
    "start_time": "2021-12-03T13:14:33.094Z"
   },
   {
    "duration": 40,
    "start_time": "2021-12-03T13:14:33.670Z"
   },
   {
    "duration": 8,
    "start_time": "2021-12-03T13:14:45.048Z"
   },
   {
    "duration": 5,
    "start_time": "2021-12-03T13:15:19.479Z"
   },
   {
    "duration": 6,
    "start_time": "2021-12-03T13:15:22.729Z"
   },
   {
    "duration": 3226,
    "start_time": "2021-12-03T13:15:33.009Z"
   },
   {
    "duration": 6,
    "start_time": "2021-12-03T13:15:39.188Z"
   },
   {
    "duration": 770,
    "start_time": "2021-12-03T13:15:50.270Z"
   },
   {
    "duration": 68,
    "start_time": "2021-12-03T13:15:51.042Z"
   },
   {
    "duration": 17,
    "start_time": "2021-12-03T13:15:51.113Z"
   },
   {
    "duration": 63,
    "start_time": "2021-12-03T13:15:51.133Z"
   },
   {
    "duration": 47,
    "start_time": "2021-12-03T13:15:51.199Z"
   },
   {
    "duration": 7,
    "start_time": "2021-12-03T13:15:51.268Z"
   },
   {
    "duration": 32,
    "start_time": "2021-12-03T13:15:51.278Z"
   },
   {
    "duration": 23,
    "start_time": "2021-12-03T13:15:51.313Z"
   },
   {
    "duration": 23,
    "start_time": "2021-12-03T13:15:51.339Z"
   },
   {
    "duration": 12,
    "start_time": "2021-12-03T13:15:51.365Z"
   },
   {
    "duration": 48,
    "start_time": "2021-12-03T13:15:51.379Z"
   },
   {
    "duration": 39,
    "start_time": "2021-12-03T13:15:51.430Z"
   },
   {
    "duration": 5,
    "start_time": "2021-12-03T13:15:51.471Z"
   },
   {
    "duration": 570,
    "start_time": "2021-12-03T13:19:07.826Z"
   },
   {
    "duration": 10,
    "start_time": "2021-12-03T13:19:09.410Z"
   },
   {
    "duration": 24,
    "start_time": "2021-12-03T13:19:11.928Z"
   },
   {
    "duration": 327,
    "start_time": "2021-12-03T13:20:31.520Z"
   },
   {
    "duration": 24,
    "start_time": "2021-12-03T13:20:33.140Z"
   },
   {
    "duration": 739,
    "start_time": "2021-12-03T13:20:42.020Z"
   },
   {
    "duration": 68,
    "start_time": "2021-12-03T13:20:42.761Z"
   },
   {
    "duration": 17,
    "start_time": "2021-12-03T13:20:42.832Z"
   },
   {
    "duration": 57,
    "start_time": "2021-12-03T13:20:42.852Z"
   },
   {
    "duration": 68,
    "start_time": "2021-12-03T13:20:42.912Z"
   },
   {
    "duration": 7,
    "start_time": "2021-12-03T13:20:42.982Z"
   },
   {
    "duration": 19,
    "start_time": "2021-12-03T13:20:42.991Z"
   },
   {
    "duration": 20,
    "start_time": "2021-12-03T13:20:43.014Z"
   },
   {
    "duration": 30,
    "start_time": "2021-12-03T13:20:43.037Z"
   },
   {
    "duration": 9,
    "start_time": "2021-12-03T13:20:43.069Z"
   },
   {
    "duration": 342,
    "start_time": "2021-12-03T13:20:43.080Z"
   },
   {
    "duration": 1015,
    "start_time": "2021-12-03T13:21:15.740Z"
   },
   {
    "duration": 326,
    "start_time": "2021-12-03T13:21:23.879Z"
   },
   {
    "duration": 25,
    "start_time": "2021-12-03T13:21:27.789Z"
   },
   {
    "duration": 9,
    "start_time": "2021-12-03T13:22:05.507Z"
   },
   {
    "duration": 14,
    "start_time": "2021-12-03T13:22:07.010Z"
   },
   {
    "duration": 5,
    "start_time": "2021-12-03T13:22:16.600Z"
   },
   {
    "duration": 14,
    "start_time": "2021-12-03T13:22:17.540Z"
   },
   {
    "duration": 797,
    "start_time": "2021-12-03T13:26:21.588Z"
   },
   {
    "duration": 64,
    "start_time": "2021-12-03T13:26:22.388Z"
   },
   {
    "duration": 26,
    "start_time": "2021-12-03T13:26:22.455Z"
   },
   {
    "duration": 47,
    "start_time": "2021-12-03T13:26:22.483Z"
   },
   {
    "duration": 74,
    "start_time": "2021-12-03T13:26:22.533Z"
   },
   {
    "duration": 6,
    "start_time": "2021-12-03T13:26:22.609Z"
   },
   {
    "duration": 35,
    "start_time": "2021-12-03T13:26:22.618Z"
   },
   {
    "duration": 15,
    "start_time": "2021-12-03T13:26:22.656Z"
   },
   {
    "duration": 18,
    "start_time": "2021-12-03T13:26:22.675Z"
   },
   {
    "duration": 8,
    "start_time": "2021-12-03T13:26:22.697Z"
   },
   {
    "duration": 379,
    "start_time": "2021-12-03T13:26:22.708Z"
   },
   {
    "duration": 419,
    "start_time": "2021-12-03T13:26:22.673Z"
   },
   {
    "duration": 413,
    "start_time": "2021-12-03T13:26:22.681Z"
   },
   {
    "duration": 408,
    "start_time": "2021-12-03T13:26:22.688Z"
   },
   {
    "duration": 406,
    "start_time": "2021-12-03T13:26:22.693Z"
   },
   {
    "duration": 400,
    "start_time": "2021-12-03T13:26:22.700Z"
   },
   {
    "duration": 398,
    "start_time": "2021-12-03T13:26:22.705Z"
   },
   {
    "duration": 392,
    "start_time": "2021-12-03T13:26:22.712Z"
   },
   {
    "duration": 388,
    "start_time": "2021-12-03T13:26:22.718Z"
   },
   {
    "duration": 385,
    "start_time": "2021-12-03T13:26:22.724Z"
   },
   {
    "duration": 381,
    "start_time": "2021-12-03T13:26:22.730Z"
   },
   {
    "duration": 377,
    "start_time": "2021-12-03T13:26:22.736Z"
   },
   {
    "duration": 373,
    "start_time": "2021-12-03T13:26:22.742Z"
   },
   {
    "duration": 368,
    "start_time": "2021-12-03T13:26:22.749Z"
   },
   {
    "duration": 364,
    "start_time": "2021-12-03T13:26:22.755Z"
   },
   {
    "duration": 361,
    "start_time": "2021-12-03T13:26:22.761Z"
   },
   {
    "duration": 345,
    "start_time": "2021-12-03T13:26:22.779Z"
   },
   {
    "duration": 340,
    "start_time": "2021-12-03T13:26:22.786Z"
   },
   {
    "duration": 335,
    "start_time": "2021-12-03T13:26:22.792Z"
   },
   {
    "duration": 330,
    "start_time": "2021-12-03T13:26:22.799Z"
   },
   {
    "duration": 362,
    "start_time": "2021-12-03T13:26:22.805Z"
   },
   {
    "duration": 359,
    "start_time": "2021-12-03T13:26:22.811Z"
   },
   {
    "duration": 355,
    "start_time": "2021-12-03T13:26:22.817Z"
   },
   {
    "duration": 348,
    "start_time": "2021-12-03T13:26:22.826Z"
   },
   {
    "duration": 342,
    "start_time": "2021-12-03T13:26:22.834Z"
   },
   {
    "duration": 337,
    "start_time": "2021-12-03T13:26:22.841Z"
   },
   {
    "duration": 333,
    "start_time": "2021-12-03T13:26:22.847Z"
   },
   {
    "duration": 330,
    "start_time": "2021-12-03T13:26:22.853Z"
   },
   {
    "duration": 325,
    "start_time": "2021-12-03T13:26:22.859Z"
   },
   {
    "duration": 322,
    "start_time": "2021-12-03T13:26:22.865Z"
   },
   {
    "duration": 318,
    "start_time": "2021-12-03T13:26:22.871Z"
   },
   {
    "duration": 303,
    "start_time": "2021-12-03T13:26:22.888Z"
   },
   {
    "duration": 297,
    "start_time": "2021-12-03T13:26:22.896Z"
   },
   {
    "duration": 292,
    "start_time": "2021-12-03T13:26:22.903Z"
   },
   {
    "duration": 289,
    "start_time": "2021-12-03T13:26:22.909Z"
   },
   {
    "duration": 284,
    "start_time": "2021-12-03T13:26:22.916Z"
   },
   {
    "duration": 280,
    "start_time": "2021-12-03T13:26:22.922Z"
   },
   {
    "duration": 273,
    "start_time": "2021-12-03T13:26:22.931Z"
   },
   {
    "duration": 329,
    "start_time": "2021-12-03T13:26:22.937Z"
   },
   {
    "duration": 325,
    "start_time": "2021-12-03T13:26:22.943Z"
   },
   {
    "duration": 321,
    "start_time": "2021-12-03T13:26:22.949Z"
   },
   {
    "duration": 317,
    "start_time": "2021-12-03T13:26:22.955Z"
   },
   {
    "duration": 312,
    "start_time": "2021-12-03T13:26:22.961Z"
   },
   {
    "duration": 308,
    "start_time": "2021-12-03T13:26:22.967Z"
   },
   {
    "duration": 305,
    "start_time": "2021-12-03T13:26:22.972Z"
   },
   {
    "duration": 301,
    "start_time": "2021-12-03T13:26:22.978Z"
   },
   {
    "duration": 297,
    "start_time": "2021-12-03T13:26:22.983Z"
   },
   {
    "duration": 283,
    "start_time": "2021-12-03T13:26:22.999Z"
   },
   {
    "duration": 279,
    "start_time": "2021-12-03T13:26:23.005Z"
   },
   {
    "duration": 273,
    "start_time": "2021-12-03T13:26:23.012Z"
   },
   {
    "duration": 269,
    "start_time": "2021-12-03T13:26:23.017Z"
   },
   {
    "duration": 265,
    "start_time": "2021-12-03T13:26:23.023Z"
   },
   {
    "duration": 260,
    "start_time": "2021-12-03T13:26:23.030Z"
   },
   {
    "duration": 255,
    "start_time": "2021-12-03T13:26:23.036Z"
   },
   {
    "duration": 252,
    "start_time": "2021-12-03T13:26:23.041Z"
   },
   {
    "duration": 247,
    "start_time": "2021-12-03T13:26:23.047Z"
   },
   {
    "duration": 243,
    "start_time": "2021-12-03T13:26:23.053Z"
   },
   {
    "duration": 238,
    "start_time": "2021-12-03T13:26:23.059Z"
   },
   {
    "duration": 234,
    "start_time": "2021-12-03T13:26:23.065Z"
   },
   {
    "duration": 229,
    "start_time": "2021-12-03T13:26:23.071Z"
   },
   {
    "duration": 225,
    "start_time": "2021-12-03T13:26:23.077Z"
   },
   {
    "duration": 220,
    "start_time": "2021-12-03T13:26:23.083Z"
   },
   {
    "duration": 216,
    "start_time": "2021-12-03T13:26:23.089Z"
   },
   {
    "duration": 272,
    "start_time": "2021-12-03T13:26:23.095Z"
   },
   {
    "duration": 257,
    "start_time": "2021-12-03T13:26:23.111Z"
   },
   {
    "duration": 252,
    "start_time": "2021-12-03T13:26:23.118Z"
   },
   {
    "duration": 272,
    "start_time": "2021-12-03T13:26:53.819Z"
   },
   {
    "duration": 32,
    "start_time": "2021-12-03T13:27:00.028Z"
   },
   {
    "duration": 257,
    "start_time": "2021-12-03T13:27:02.298Z"
   },
   {
    "duration": 1063,
    "start_time": "2021-12-03T13:27:13.069Z"
   },
   {
    "duration": 591,
    "start_time": "2021-12-03T13:27:23.619Z"
   },
   {
    "duration": 23,
    "start_time": "2021-12-03T13:27:25.848Z"
   },
   {
    "duration": 821,
    "start_time": "2021-12-03T13:27:37.302Z"
   },
   {
    "duration": 93,
    "start_time": "2021-12-03T13:27:38.126Z"
   },
   {
    "duration": 26,
    "start_time": "2021-12-03T13:27:38.223Z"
   },
   {
    "duration": 83,
    "start_time": "2021-12-03T13:27:38.253Z"
   },
   {
    "duration": 96,
    "start_time": "2021-12-03T13:27:38.339Z"
   },
   {
    "duration": 8,
    "start_time": "2021-12-03T13:27:38.438Z"
   },
   {
    "duration": 15,
    "start_time": "2021-12-03T13:27:38.468Z"
   },
   {
    "duration": 26,
    "start_time": "2021-12-03T13:27:38.485Z"
   },
   {
    "duration": 20,
    "start_time": "2021-12-03T13:27:38.516Z"
   },
   {
    "duration": 12,
    "start_time": "2021-12-03T13:27:38.540Z"
   },
   {
    "duration": 434,
    "start_time": "2021-12-03T13:27:38.571Z"
   },
   {
    "duration": 9,
    "start_time": "2021-12-03T13:28:29.701Z"
   },
   {
    "duration": 297,
    "start_time": "2021-12-03T13:28:30.041Z"
   },
   {
    "duration": 799,
    "start_time": "2021-12-03T13:28:38.222Z"
   },
   {
    "duration": 69,
    "start_time": "2021-12-03T13:28:39.024Z"
   },
   {
    "duration": 16,
    "start_time": "2021-12-03T13:28:39.096Z"
   },
   {
    "duration": 65,
    "start_time": "2021-12-03T13:28:39.115Z"
   },
   {
    "duration": 56,
    "start_time": "2021-12-03T13:28:39.183Z"
   },
   {
    "duration": 7,
    "start_time": "2021-12-03T13:28:39.267Z"
   },
   {
    "duration": 12,
    "start_time": "2021-12-03T13:28:39.277Z"
   },
   {
    "duration": 13,
    "start_time": "2021-12-03T13:28:39.291Z"
   },
   {
    "duration": 12,
    "start_time": "2021-12-03T13:28:39.308Z"
   },
   {
    "duration": 5,
    "start_time": "2021-12-03T13:28:39.323Z"
   },
   {
    "duration": 543,
    "start_time": "2021-12-03T13:28:41.010Z"
   },
   {
    "duration": 13,
    "start_time": "2021-12-03T13:28:45.381Z"
   },
   {
    "duration": 543,
    "start_time": "2021-12-03T13:28:54.950Z"
   },
   {
    "duration": 12,
    "start_time": "2021-12-03T13:28:55.559Z"
   },
   {
    "duration": 549,
    "start_time": "2021-12-03T13:28:58.429Z"
   },
   {
    "duration": 13,
    "start_time": "2021-12-03T13:28:58.981Z"
   },
   {
    "duration": 1057,
    "start_time": "2021-12-03T13:29:12.161Z"
   },
   {
    "duration": 94,
    "start_time": "2021-12-03T13:29:13.222Z"
   },
   {
    "duration": 24,
    "start_time": "2021-12-03T13:29:13.321Z"
   },
   {
    "duration": 58,
    "start_time": "2021-12-03T13:29:13.348Z"
   },
   {
    "duration": 75,
    "start_time": "2021-12-03T13:29:13.408Z"
   },
   {
    "duration": 7,
    "start_time": "2021-12-03T13:29:13.485Z"
   },
   {
    "duration": 12,
    "start_time": "2021-12-03T13:29:13.495Z"
   },
   {
    "duration": 10,
    "start_time": "2021-12-03T13:29:13.509Z"
   },
   {
    "duration": 52,
    "start_time": "2021-12-03T13:29:13.523Z"
   },
   {
    "duration": 4,
    "start_time": "2021-12-03T13:29:17.281Z"
   },
   {
    "duration": 565,
    "start_time": "2021-12-03T13:29:18.230Z"
   },
   {
    "duration": 12,
    "start_time": "2021-12-03T13:29:18.860Z"
   },
   {
    "duration": 533,
    "start_time": "2021-12-03T13:29:26.149Z"
   },
   {
    "duration": 12,
    "start_time": "2021-12-03T13:29:26.711Z"
   },
   {
    "duration": 608,
    "start_time": "2021-12-03T13:29:29.890Z"
   },
   {
    "duration": 12,
    "start_time": "2021-12-03T13:29:30.501Z"
   },
   {
    "duration": 82,
    "start_time": "2021-12-03T13:29:39.460Z"
   },
   {
    "duration": 10,
    "start_time": "2021-12-03T13:31:29.360Z"
   },
   {
    "duration": 20,
    "start_time": "2021-12-03T13:32:29.189Z"
   },
   {
    "duration": 336,
    "start_time": "2021-12-03T13:33:12.850Z"
   },
   {
    "duration": 86,
    "start_time": "2021-12-03T13:34:19.270Z"
   },
   {
    "duration": 536,
    "start_time": "2021-12-03T13:34:25.390Z"
   },
   {
    "duration": 11,
    "start_time": "2021-12-03T13:34:26.991Z"
   },
   {
    "duration": 253,
    "start_time": "2021-12-03T13:34:54.200Z"
   },
   {
    "duration": 12,
    "start_time": "2021-12-03T13:34:54.853Z"
   },
   {
    "duration": 737,
    "start_time": "2021-12-03T13:35:08.271Z"
   },
   {
    "duration": 14,
    "start_time": "2021-12-03T13:35:15.250Z"
   },
   {
    "duration": 547,
    "start_time": "2021-12-03T13:35:36.773Z"
   },
   {
    "duration": 13,
    "start_time": "2021-12-03T13:35:37.976Z"
   },
   {
    "duration": 752,
    "start_time": "2021-12-03T13:35:45.103Z"
   },
   {
    "duration": 72,
    "start_time": "2021-12-03T13:35:45.858Z"
   },
   {
    "duration": 16,
    "start_time": "2021-12-03T13:35:45.932Z"
   },
   {
    "duration": 52,
    "start_time": "2021-12-03T13:35:45.951Z"
   },
   {
    "duration": 69,
    "start_time": "2021-12-03T13:35:46.005Z"
   },
   {
    "duration": 8,
    "start_time": "2021-12-03T13:35:46.077Z"
   },
   {
    "duration": 10,
    "start_time": "2021-12-03T13:35:46.088Z"
   },
   {
    "duration": 18,
    "start_time": "2021-12-03T13:35:46.100Z"
   },
   {
    "duration": 50,
    "start_time": "2021-12-03T13:35:46.121Z"
   },
   {
    "duration": 8,
    "start_time": "2021-12-03T13:35:46.174Z"
   },
   {
    "duration": 948,
    "start_time": "2021-12-03T13:35:46.184Z"
   },
   {
    "duration": 356,
    "start_time": "2021-12-03T13:36:58.151Z"
   },
   {
    "duration": 25,
    "start_time": "2021-12-03T13:36:58.610Z"
   },
   {
    "duration": 14,
    "start_time": "2021-12-03T13:37:01.711Z"
   },
   {
    "duration": 5,
    "start_time": "2021-12-03T13:37:06.240Z"
   },
   {
    "duration": 14,
    "start_time": "2021-12-03T13:37:07.261Z"
   },
   {
    "duration": 11,
    "start_time": "2021-12-03T13:37:20.251Z"
   },
   {
    "duration": 406,
    "start_time": "2021-12-03T13:37:21.039Z"
   },
   {
    "duration": 255,
    "start_time": "2021-12-03T13:37:26.517Z"
   },
   {
    "duration": 771,
    "start_time": "2021-12-03T13:37:42.251Z"
   },
   {
    "duration": 63,
    "start_time": "2021-12-03T13:37:43.025Z"
   },
   {
    "duration": 16,
    "start_time": "2021-12-03T13:37:43.091Z"
   },
   {
    "duration": 62,
    "start_time": "2021-12-03T13:37:43.110Z"
   },
   {
    "duration": 49,
    "start_time": "2021-12-03T13:37:43.174Z"
   },
   {
    "duration": 6,
    "start_time": "2021-12-03T13:37:43.225Z"
   },
   {
    "duration": 37,
    "start_time": "2021-12-03T13:37:43.233Z"
   },
   {
    "duration": 18,
    "start_time": "2021-12-03T13:37:43.273Z"
   },
   {
    "duration": 11,
    "start_time": "2021-12-03T13:38:01.432Z"
   },
   {
    "duration": 10,
    "start_time": "2021-12-03T13:38:14.640Z"
   },
   {
    "duration": 13,
    "start_time": "2021-12-03T13:38:17.090Z"
   },
   {
    "duration": 8,
    "start_time": "2021-12-03T13:38:26.030Z"
   },
   {
    "duration": 902,
    "start_time": "2021-12-03T13:38:26.550Z"
   },
   {
    "duration": 24,
    "start_time": "2021-12-03T13:38:31.790Z"
   },
   {
    "duration": 5,
    "start_time": "2021-12-03T13:38:35.095Z"
   },
   {
    "duration": 15,
    "start_time": "2021-12-03T13:38:35.391Z"
   },
   {
    "duration": 6,
    "start_time": "2021-12-03T13:38:37.335Z"
   },
   {
    "duration": 4,
    "start_time": "2021-12-03T13:39:39.700Z"
   },
   {
    "duration": 71,
    "start_time": "2021-12-03T13:39:39.712Z"
   },
   {
    "duration": 15,
    "start_time": "2021-12-03T13:39:39.786Z"
   },
   {
    "duration": 36,
    "start_time": "2021-12-03T13:39:39.804Z"
   },
   {
    "duration": 46,
    "start_time": "2021-12-03T13:39:39.867Z"
   },
   {
    "duration": 7,
    "start_time": "2021-12-03T13:39:39.915Z"
   },
   {
    "duration": 18,
    "start_time": "2021-12-03T13:39:39.924Z"
   },
   {
    "duration": 11,
    "start_time": "2021-12-03T13:39:39.968Z"
   },
   {
    "duration": 20,
    "start_time": "2021-12-03T13:39:39.982Z"
   },
   {
    "duration": 7,
    "start_time": "2021-12-03T13:39:40.008Z"
   },
   {
    "duration": 968,
    "start_time": "2021-12-03T13:39:40.020Z"
   },
   {
    "duration": 24,
    "start_time": "2021-12-03T13:39:40.990Z"
   },
   {
    "duration": 5,
    "start_time": "2021-12-03T13:39:41.016Z"
   },
   {
    "duration": 43,
    "start_time": "2021-12-03T13:39:41.024Z"
   },
   {
    "duration": 6,
    "start_time": "2021-12-03T13:39:41.070Z"
   },
   {
    "duration": 11,
    "start_time": "2021-12-03T13:39:41.078Z"
   },
   {
    "duration": 10,
    "start_time": "2021-12-03T13:39:41.092Z"
   },
   {
    "duration": 20,
    "start_time": "2021-12-03T13:39:41.104Z"
   },
   {
    "duration": 7,
    "start_time": "2021-12-03T13:39:41.127Z"
   },
   {
    "duration": 8,
    "start_time": "2021-12-03T13:39:41.168Z"
   },
   {
    "duration": 12,
    "start_time": "2021-12-03T13:39:41.179Z"
   },
   {
    "duration": 15,
    "start_time": "2021-12-03T13:39:41.193Z"
   },
   {
    "duration": 8,
    "start_time": "2021-12-03T13:39:41.211Z"
   },
   {
    "duration": 10886,
    "start_time": "2021-12-03T13:39:41.222Z"
   },
   {
    "duration": 31,
    "start_time": "2021-12-03T13:39:52.110Z"
   },
   {
    "duration": 49,
    "start_time": "2021-12-03T13:39:52.144Z"
   },
   {
    "duration": 294,
    "start_time": "2021-12-03T13:39:52.195Z"
   },
   {
    "duration": 248,
    "start_time": "2021-12-03T13:39:54.367Z"
   },
   {
    "duration": 10,
    "start_time": "2021-12-03T13:39:54.780Z"
   },
   {
    "duration": 5,
    "start_time": "2021-12-03T13:40:08.850Z"
   },
   {
    "duration": 9,
    "start_time": "2021-12-03T13:40:20.440Z"
   },
   {
    "duration": 849,
    "start_time": "2021-12-06T07:16:31.003Z"
   },
   {
    "duration": 67,
    "start_time": "2021-12-06T07:16:31.855Z"
   },
   {
    "duration": 17,
    "start_time": "2021-12-06T07:16:31.925Z"
   },
   {
    "duration": 52,
    "start_time": "2021-12-06T07:16:31.945Z"
   },
   {
    "duration": 65,
    "start_time": "2021-12-06T07:16:32.000Z"
   },
   {
    "duration": 6,
    "start_time": "2021-12-06T07:16:32.068Z"
   },
   {
    "duration": 29,
    "start_time": "2021-12-06T07:16:32.076Z"
   },
   {
    "duration": 30,
    "start_time": "2021-12-06T07:16:32.108Z"
   },
   {
    "duration": 17,
    "start_time": "2021-12-06T07:16:32.141Z"
   },
   {
    "duration": 7,
    "start_time": "2021-12-06T07:16:32.161Z"
   },
   {
    "duration": 901,
    "start_time": "2021-12-06T07:16:32.171Z"
   },
   {
    "duration": 26,
    "start_time": "2021-12-06T07:16:33.075Z"
   },
   {
    "duration": 26,
    "start_time": "2021-12-06T07:16:33.103Z"
   },
   {
    "duration": 13,
    "start_time": "2021-12-06T07:16:33.131Z"
   },
   {
    "duration": 5,
    "start_time": "2021-12-06T07:16:33.146Z"
   },
   {
    "duration": 6,
    "start_time": "2021-12-06T07:16:33.153Z"
   },
   {
    "duration": 10,
    "start_time": "2021-12-06T07:16:33.161Z"
   },
   {
    "duration": 22,
    "start_time": "2021-12-06T07:16:33.173Z"
   },
   {
    "duration": 36,
    "start_time": "2021-12-06T07:16:33.197Z"
   },
   {
    "duration": 13,
    "start_time": "2021-12-06T07:16:33.236Z"
   },
   {
    "duration": 12,
    "start_time": "2021-12-06T07:16:33.251Z"
   },
   {
    "duration": 13,
    "start_time": "2021-12-06T07:16:33.265Z"
   },
   {
    "duration": 50,
    "start_time": "2021-12-06T07:16:33.283Z"
   },
   {
    "duration": 10525,
    "start_time": "2021-12-06T07:16:33.337Z"
   },
   {
    "duration": 28,
    "start_time": "2021-12-06T07:16:43.865Z"
   },
   {
    "duration": 17,
    "start_time": "2021-12-06T07:16:43.895Z"
   },
   {
    "duration": 286,
    "start_time": "2021-12-06T07:16:43.929Z"
   },
   {
    "duration": 13,
    "start_time": "2021-12-06T07:16:44.217Z"
   },
   {
    "duration": 6,
    "start_time": "2021-12-06T07:16:44.233Z"
   },
   {
    "duration": 97,
    "start_time": "2021-12-06T07:16:44.242Z"
   },
   {
    "duration": 36,
    "start_time": "2021-12-06T07:16:44.342Z"
   },
   {
    "duration": 62,
    "start_time": "2021-12-06T07:16:44.381Z"
   },
   {
    "duration": 26,
    "start_time": "2021-12-06T07:16:44.446Z"
   },
   {
    "duration": 12,
    "start_time": "2021-12-06T07:16:44.475Z"
   },
   {
    "duration": 45,
    "start_time": "2021-12-06T07:16:44.490Z"
   },
   {
    "duration": 13,
    "start_time": "2021-12-06T07:16:44.538Z"
   },
   {
    "duration": 15,
    "start_time": "2021-12-06T07:16:44.553Z"
   },
   {
    "duration": 14,
    "start_time": "2021-12-06T07:16:44.570Z"
   },
   {
    "duration": 45,
    "start_time": "2021-12-06T07:16:44.586Z"
   },
   {
    "duration": 17,
    "start_time": "2021-12-06T07:16:44.633Z"
   },
   {
    "duration": 19,
    "start_time": "2021-12-06T07:16:44.653Z"
   },
   {
    "duration": 4769,
    "start_time": "2021-12-06T07:16:44.674Z"
   },
   {
    "duration": 19,
    "start_time": "2021-12-06T07:16:49.446Z"
   },
   {
    "duration": 13,
    "start_time": "2021-12-06T07:16:49.467Z"
   },
   {
    "duration": 46,
    "start_time": "2021-12-06T07:16:49.483Z"
   },
   {
    "duration": 6,
    "start_time": "2021-12-06T07:16:49.531Z"
   },
   {
    "duration": 9766,
    "start_time": "2021-12-06T07:16:49.539Z"
   },
   {
    "duration": 10,
    "start_time": "2021-12-06T07:16:59.308Z"
   },
   {
    "duration": 5,
    "start_time": "2021-12-06T07:16:59.330Z"
   },
   {
    "duration": 8264,
    "start_time": "2021-12-06T07:16:59.337Z"
   },
   {
    "duration": 31,
    "start_time": "2021-12-06T07:17:07.603Z"
   },
   {
    "duration": 6,
    "start_time": "2021-12-06T07:17:07.636Z"
   },
   {
    "duration": 7,
    "start_time": "2021-12-06T07:17:07.644Z"
   },
   {
    "duration": 6,
    "start_time": "2021-12-06T07:17:07.653Z"
   },
   {
    "duration": 4,
    "start_time": "2021-12-06T07:17:07.662Z"
   },
   {
    "duration": 8,
    "start_time": "2021-12-06T07:17:07.668Z"
   },
   {
    "duration": 52,
    "start_time": "2021-12-06T07:17:07.678Z"
   },
   {
    "duration": 14,
    "start_time": "2021-12-06T07:17:07.732Z"
   },
   {
    "duration": 8,
    "start_time": "2021-12-06T07:17:07.749Z"
   },
   {
    "duration": 7,
    "start_time": "2021-12-06T07:17:07.760Z"
   },
   {
    "duration": 9,
    "start_time": "2021-12-06T07:17:07.770Z"
   },
   {
    "duration": 13,
    "start_time": "2021-12-06T07:17:07.781Z"
   },
   {
    "duration": 6,
    "start_time": "2021-12-06T07:17:07.830Z"
   },
   {
    "duration": 6,
    "start_time": "2021-12-06T07:17:07.839Z"
   },
   {
    "duration": 6,
    "start_time": "2021-12-06T07:17:07.848Z"
   },
   {
    "duration": 8,
    "start_time": "2021-12-06T07:17:07.857Z"
   },
   {
    "duration": 8,
    "start_time": "2021-12-06T07:17:07.868Z"
   },
   {
    "duration": 33380,
    "start_time": "2021-12-06T07:17:07.884Z"
   },
   {
    "duration": 11,
    "start_time": "2021-12-06T07:17:41.268Z"
   },
   {
    "duration": 62,
    "start_time": "2021-12-06T07:17:41.282Z"
   },
   {
    "duration": 15,
    "start_time": "2021-12-06T07:17:41.346Z"
   },
   {
    "duration": 27,
    "start_time": "2021-12-06T07:17:41.363Z"
   },
   {
    "duration": 38,
    "start_time": "2021-12-06T07:17:41.392Z"
   },
   {
    "duration": 28,
    "start_time": "2021-12-06T07:17:41.433Z"
   },
   {
    "duration": 8,
    "start_time": "2021-12-06T07:17:41.463Z"
   },
   {
    "duration": 61,
    "start_time": "2021-12-06T07:17:41.473Z"
   },
   {
    "duration": 9,
    "start_time": "2021-12-06T07:17:41.536Z"
   },
   {
    "duration": 101,
    "start_time": "2021-12-06T07:21:47.910Z"
   },
   {
    "duration": 168,
    "start_time": "2021-12-06T07:21:53.454Z"
   },
   {
    "duration": 96,
    "start_time": "2021-12-06T07:22:29.584Z"
   },
   {
    "duration": 394,
    "start_time": "2021-12-06T07:22:38.994Z"
   },
   {
    "duration": 18,
    "start_time": "2021-12-06T07:23:00.824Z"
   },
   {
    "duration": 303,
    "start_time": "2021-12-06T07:23:02.153Z"
   },
   {
    "duration": 558,
    "start_time": "2021-12-06T07:23:08.953Z"
   },
   {
    "duration": 4,
    "start_time": "2021-12-06T07:23:15.413Z"
   },
   {
    "duration": 425,
    "start_time": "2021-12-06T07:23:34.166Z"
   },
   {
    "duration": 5,
    "start_time": "2021-12-06T07:23:43.823Z"
   },
   {
    "duration": 294,
    "start_time": "2021-12-06T07:23:47.503Z"
   },
   {
    "duration": 5,
    "start_time": "2021-12-06T07:23:51.843Z"
   },
   {
    "duration": 975,
    "start_time": "2021-12-06T07:24:04.254Z"
   },
   {
    "duration": 69,
    "start_time": "2021-12-06T07:24:05.232Z"
   },
   {
    "duration": 17,
    "start_time": "2021-12-06T07:24:05.303Z"
   },
   {
    "duration": 42,
    "start_time": "2021-12-06T07:24:05.330Z"
   },
   {
    "duration": 77,
    "start_time": "2021-12-06T07:24:05.374Z"
   },
   {
    "duration": 6,
    "start_time": "2021-12-06T07:24:05.454Z"
   },
   {
    "duration": 9,
    "start_time": "2021-12-06T07:24:05.465Z"
   },
   {
    "duration": 9,
    "start_time": "2021-12-06T07:24:05.478Z"
   },
   {
    "duration": 50,
    "start_time": "2021-12-06T07:24:05.490Z"
   },
   {
    "duration": 7,
    "start_time": "2021-12-06T07:24:05.542Z"
   },
   {
    "duration": 940,
    "start_time": "2021-12-06T07:24:05.551Z"
   },
   {
    "duration": 24,
    "start_time": "2021-12-06T07:24:06.493Z"
   },
   {
    "duration": 5,
    "start_time": "2021-12-06T07:24:06.529Z"
   },
   {
    "duration": 16,
    "start_time": "2021-12-06T07:24:06.536Z"
   },
   {
    "duration": 5,
    "start_time": "2021-12-06T07:24:06.554Z"
   },
   {
    "duration": 6,
    "start_time": "2021-12-06T07:24:06.561Z"
   },
   {
    "duration": 9,
    "start_time": "2021-12-06T07:24:06.569Z"
   },
   {
    "duration": 61,
    "start_time": "2021-12-06T07:24:06.580Z"
   },
   {
    "duration": 6,
    "start_time": "2021-12-06T07:24:06.644Z"
   },
   {
    "duration": 14,
    "start_time": "2021-12-06T07:24:06.653Z"
   },
   {
    "duration": 11,
    "start_time": "2021-12-06T07:24:06.669Z"
   },
   {
    "duration": 48,
    "start_time": "2021-12-06T07:24:06.682Z"
   },
   {
    "duration": 8,
    "start_time": "2021-12-06T07:24:06.733Z"
   },
   {
    "duration": 11007,
    "start_time": "2021-12-06T07:24:06.744Z"
   },
   {
    "duration": 30,
    "start_time": "2021-12-06T07:24:17.759Z"
   },
   {
    "duration": 36,
    "start_time": "2021-12-06T07:24:17.792Z"
   },
   {
    "duration": 281,
    "start_time": "2021-12-06T07:24:17.831Z"
   },
   {
    "duration": 17,
    "start_time": "2021-12-06T07:24:18.114Z"
   },
   {
    "duration": 5,
    "start_time": "2021-12-06T07:24:18.133Z"
   },
   {
    "duration": 88,
    "start_time": "2021-12-06T07:24:18.141Z"
   },
   {
    "duration": 34,
    "start_time": "2021-12-06T07:24:18.232Z"
   },
   {
    "duration": 31,
    "start_time": "2021-12-06T07:24:18.268Z"
   },
   {
    "duration": 48,
    "start_time": "2021-12-06T07:24:18.302Z"
   },
   {
    "duration": 13,
    "start_time": "2021-12-06T07:24:18.353Z"
   },
   {
    "duration": 15,
    "start_time": "2021-12-06T07:24:18.368Z"
   },
   {
    "duration": 50,
    "start_time": "2021-12-06T07:24:18.385Z"
   },
   {
    "duration": 12,
    "start_time": "2021-12-06T07:24:18.438Z"
   },
   {
    "duration": 13,
    "start_time": "2021-12-06T07:24:18.452Z"
   },
   {
    "duration": 6,
    "start_time": "2021-12-06T07:24:18.468Z"
   },
   {
    "duration": 433,
    "start_time": "2021-12-06T07:24:27.163Z"
   },
   {
    "duration": 709,
    "start_time": "2021-12-06T07:25:03.031Z"
   },
   {
    "duration": 707,
    "start_time": "2021-12-06T07:25:11.697Z"
   },
   {
    "duration": 7232,
    "start_time": "2021-12-06T07:25:14.562Z"
   },
   {
    "duration": 10,
    "start_time": "2021-12-06T07:25:23.003Z"
   },
   {
    "duration": 304,
    "start_time": "2021-12-06T07:25:57.789Z"
   },
   {
    "duration": 555,
    "start_time": "2021-12-06T07:27:32.500Z"
   },
   {
    "duration": 313,
    "start_time": "2021-12-06T07:27:45.446Z"
   },
   {
    "duration": 300,
    "start_time": "2021-12-06T07:27:48.563Z"
   },
   {
    "duration": 290,
    "start_time": "2021-12-06T07:28:25.533Z"
   },
   {
    "duration": 317,
    "start_time": "2021-12-06T07:28:32.743Z"
   },
   {
    "duration": 291,
    "start_time": "2021-12-06T07:30:27.973Z"
   },
   {
    "duration": 303,
    "start_time": "2021-12-06T07:31:17.963Z"
   },
   {
    "duration": 314,
    "start_time": "2021-12-06T07:31:20.702Z"
   },
   {
    "duration": 296,
    "start_time": "2021-12-06T07:31:26.333Z"
   },
   {
    "duration": 292,
    "start_time": "2021-12-06T07:31:32.743Z"
   },
   {
    "duration": 27,
    "start_time": "2021-12-06T07:31:38.653Z"
   },
   {
    "duration": 23,
    "start_time": "2021-12-06T07:31:50.806Z"
   },
   {
    "duration": 350,
    "start_time": "2021-12-06T07:31:59.661Z"
   },
   {
    "duration": 992,
    "start_time": "2021-12-06T07:32:08.454Z"
   },
   {
    "duration": 415,
    "start_time": "2021-12-06T07:32:27.263Z"
   },
   {
    "duration": 306,
    "start_time": "2021-12-06T07:32:29.003Z"
   },
   {
    "duration": 7872,
    "start_time": "2021-12-06T07:32:42.463Z"
   },
   {
    "duration": 11,
    "start_time": "2021-12-06T07:32:55.133Z"
   },
   {
    "duration": 12,
    "start_time": "2021-12-06T07:34:08.332Z"
   },
   {
    "duration": 303,
    "start_time": "2021-12-06T07:34:09.954Z"
   },
   {
    "duration": 5,
    "start_time": "2021-12-06T07:34:20.453Z"
   },
   {
    "duration": 296,
    "start_time": "2021-12-06T07:34:28.733Z"
   },
   {
    "duration": 4,
    "start_time": "2021-12-06T07:34:51.464Z"
   },
   {
    "duration": 65,
    "start_time": "2021-12-06T07:34:51.475Z"
   },
   {
    "duration": 13,
    "start_time": "2021-12-06T07:34:51.543Z"
   },
   {
    "duration": 35,
    "start_time": "2021-12-06T07:34:51.559Z"
   },
   {
    "duration": 76,
    "start_time": "2021-12-06T07:34:51.596Z"
   },
   {
    "duration": 7,
    "start_time": "2021-12-06T07:34:51.674Z"
   },
   {
    "duration": 16,
    "start_time": "2021-12-06T07:34:51.684Z"
   },
   {
    "duration": 10,
    "start_time": "2021-12-06T07:34:51.729Z"
   },
   {
    "duration": 19,
    "start_time": "2021-12-06T07:34:51.741Z"
   },
   {
    "duration": 7,
    "start_time": "2021-12-06T07:34:51.763Z"
   },
   {
    "duration": 927,
    "start_time": "2021-12-06T07:34:51.773Z"
   },
   {
    "duration": 32,
    "start_time": "2021-12-06T07:34:52.702Z"
   },
   {
    "duration": 13,
    "start_time": "2021-12-06T07:34:52.737Z"
   },
   {
    "duration": 23,
    "start_time": "2021-12-06T07:34:52.752Z"
   },
   {
    "duration": 19,
    "start_time": "2021-12-06T07:34:52.778Z"
   },
   {
    "duration": 25,
    "start_time": "2021-12-06T07:34:52.799Z"
   },
   {
    "duration": 15,
    "start_time": "2021-12-06T07:34:52.827Z"
   },
   {
    "duration": 25,
    "start_time": "2021-12-06T07:34:52.845Z"
   },
   {
    "duration": 9,
    "start_time": "2021-12-06T07:34:52.873Z"
   },
   {
    "duration": 34,
    "start_time": "2021-12-06T07:34:52.886Z"
   },
   {
    "duration": 23,
    "start_time": "2021-12-06T07:34:52.922Z"
   },
   {
    "duration": 14,
    "start_time": "2021-12-06T07:34:52.947Z"
   },
   {
    "duration": 30,
    "start_time": "2021-12-06T07:34:52.964Z"
   },
   {
    "duration": 11382,
    "start_time": "2021-12-06T07:34:52.998Z"
   },
   {
    "duration": 27,
    "start_time": "2021-12-06T07:35:04.382Z"
   },
   {
    "duration": 23,
    "start_time": "2021-12-06T07:35:04.412Z"
   },
   {
    "duration": 287,
    "start_time": "2021-12-06T07:35:04.437Z"
   },
   {
    "duration": 8,
    "start_time": "2021-12-06T07:35:04.731Z"
   },
   {
    "duration": 6,
    "start_time": "2021-12-06T07:35:04.742Z"
   },
   {
    "duration": 99,
    "start_time": "2021-12-06T07:35:04.751Z"
   },
   {
    "duration": 33,
    "start_time": "2021-12-06T07:35:04.853Z"
   },
   {
    "duration": 47,
    "start_time": "2021-12-06T07:35:04.888Z"
   },
   {
    "duration": 23,
    "start_time": "2021-12-06T07:35:04.938Z"
   },
   {
    "duration": 10,
    "start_time": "2021-12-06T07:35:04.964Z"
   },
   {
    "duration": 16,
    "start_time": "2021-12-06T07:35:04.977Z"
   },
   {
    "duration": 37,
    "start_time": "2021-12-06T07:35:04.996Z"
   },
   {
    "duration": 18,
    "start_time": "2021-12-06T07:35:05.036Z"
   },
   {
    "duration": 15,
    "start_time": "2021-12-06T07:35:05.057Z"
   },
   {
    "duration": 19,
    "start_time": "2021-12-06T07:35:05.074Z"
   },
   {
    "duration": 21,
    "start_time": "2021-12-06T07:35:05.095Z"
   },
   {
    "duration": 12,
    "start_time": "2021-12-06T07:35:15.935Z"
   },
   {
    "duration": 5,
    "start_time": "2021-12-06T07:35:16.743Z"
   },
   {
    "duration": 15,
    "start_time": "2021-12-06T07:39:09.136Z"
   },
   {
    "duration": 5,
    "start_time": "2021-12-06T07:39:09.574Z"
   },
   {
    "duration": 326,
    "start_time": "2021-12-06T07:39:16.463Z"
   },
   {
    "duration": 5,
    "start_time": "2021-12-06T07:39:16.873Z"
   },
   {
    "duration": 5,
    "start_time": "2021-12-06T07:39:25.094Z"
   },
   {
    "duration": 68,
    "start_time": "2021-12-06T07:39:25.106Z"
   },
   {
    "duration": 13,
    "start_time": "2021-12-06T07:39:25.177Z"
   },
   {
    "duration": 54,
    "start_time": "2021-12-06T07:39:25.194Z"
   },
   {
    "duration": 78,
    "start_time": "2021-12-06T07:39:25.251Z"
   },
   {
    "duration": 7,
    "start_time": "2021-12-06T07:39:25.331Z"
   },
   {
    "duration": 15,
    "start_time": "2021-12-06T07:39:25.340Z"
   },
   {
    "duration": 10,
    "start_time": "2021-12-06T07:39:25.358Z"
   },
   {
    "duration": 14,
    "start_time": "2021-12-06T07:39:25.370Z"
   },
   {
    "duration": 45,
    "start_time": "2021-12-06T07:39:25.388Z"
   },
   {
    "duration": 923,
    "start_time": "2021-12-06T07:39:25.436Z"
   },
   {
    "duration": 22,
    "start_time": "2021-12-06T07:39:26.362Z"
   },
   {
    "duration": 5,
    "start_time": "2021-12-06T07:39:26.386Z"
   },
   {
    "duration": 41,
    "start_time": "2021-12-06T07:39:26.393Z"
   },
   {
    "duration": 5,
    "start_time": "2021-12-06T07:39:26.437Z"
   },
   {
    "duration": 6,
    "start_time": "2021-12-06T07:39:26.444Z"
   },
   {
    "duration": 10,
    "start_time": "2021-12-06T07:39:26.452Z"
   },
   {
    "duration": 18,
    "start_time": "2021-12-06T07:39:26.464Z"
   },
   {
    "duration": 7,
    "start_time": "2021-12-06T07:39:26.484Z"
   },
   {
    "duration": 43,
    "start_time": "2021-12-06T07:39:26.493Z"
   },
   {
    "duration": 10,
    "start_time": "2021-12-06T07:39:26.539Z"
   },
   {
    "duration": 14,
    "start_time": "2021-12-06T07:39:26.552Z"
   },
   {
    "duration": 9,
    "start_time": "2021-12-06T07:39:26.569Z"
   },
   {
    "duration": 10592,
    "start_time": "2021-12-06T07:39:26.630Z"
   },
   {
    "duration": 25,
    "start_time": "2021-12-06T07:39:37.225Z"
   },
   {
    "duration": 11,
    "start_time": "2021-12-06T07:39:37.252Z"
   },
   {
    "duration": 297,
    "start_time": "2021-12-06T07:39:37.265Z"
   },
   {
    "duration": 8,
    "start_time": "2021-12-06T07:39:37.566Z"
   },
   {
    "duration": 10,
    "start_time": "2021-12-06T07:39:37.577Z"
   },
   {
    "duration": 87,
    "start_time": "2021-12-06T07:39:37.589Z"
   },
   {
    "duration": 35,
    "start_time": "2021-12-06T07:39:37.678Z"
   },
   {
    "duration": 42,
    "start_time": "2021-12-06T07:39:37.715Z"
   },
   {
    "duration": 24,
    "start_time": "2021-12-06T07:39:37.759Z"
   },
   {
    "duration": 43,
    "start_time": "2021-12-06T07:39:37.786Z"
   },
   {
    "duration": 12,
    "start_time": "2021-12-06T07:39:37.831Z"
   },
   {
    "duration": 11,
    "start_time": "2021-12-06T07:39:37.845Z"
   },
   {
    "duration": 17,
    "start_time": "2021-12-06T07:39:37.858Z"
   },
   {
    "duration": 13,
    "start_time": "2021-12-06T07:39:37.878Z"
   },
   {
    "duration": 39,
    "start_time": "2021-12-06T07:39:37.893Z"
   },
   {
    "duration": 10,
    "start_time": "2021-12-06T07:39:37.934Z"
   },
   {
    "duration": 11,
    "start_time": "2021-12-06T07:39:52.583Z"
   },
   {
    "duration": 6,
    "start_time": "2021-12-06T07:39:54.813Z"
   },
   {
    "duration": 2044,
    "start_time": "2021-12-06T07:41:48.262Z"
   },
   {
    "duration": 13,
    "start_time": "2021-12-06T07:41:50.942Z"
   },
   {
    "duration": 1980,
    "start_time": "2021-12-06T07:41:51.652Z"
   },
   {
    "duration": 17,
    "start_time": "2021-12-06T07:42:48.377Z"
   },
   {
    "duration": 19,
    "start_time": "2021-12-06T07:43:40.623Z"
   },
   {
    "duration": 16,
    "start_time": "2021-12-06T07:43:41.722Z"
   },
   {
    "duration": 18,
    "start_time": "2021-12-06T07:43:47.953Z"
   },
   {
    "duration": 16,
    "start_time": "2021-12-06T07:47:28.593Z"
   },
   {
    "duration": 296,
    "start_time": "2021-12-06T07:49:35.073Z"
   },
   {
    "duration": 4,
    "start_time": "2021-12-06T07:49:49.245Z"
   },
   {
    "duration": 273,
    "start_time": "2021-12-06T07:54:38.849Z"
   },
   {
    "duration": 290,
    "start_time": "2021-12-06T07:54:49.245Z"
   },
   {
    "duration": 6,
    "start_time": "2021-12-06T07:55:13.540Z"
   },
   {
    "duration": 3,
    "start_time": "2021-12-06T07:55:27.931Z"
   },
   {
    "duration": 6,
    "start_time": "2021-12-06T07:55:32.615Z"
   },
   {
    "duration": 4,
    "start_time": "2021-12-06T07:55:38.580Z"
   },
   {
    "duration": 312,
    "start_time": "2021-12-06T07:55:54.278Z"
   },
   {
    "duration": 7,
    "start_time": "2021-12-06T07:56:12.101Z"
   },
   {
    "duration": 8126,
    "start_time": "2021-12-06T07:56:38.190Z"
   },
   {
    "duration": 7866,
    "start_time": "2021-12-06T07:57:00.020Z"
   },
   {
    "duration": 718,
    "start_time": "2021-12-06T07:57:07.172Z"
   },
   {
    "duration": 710,
    "start_time": "2021-12-06T07:57:07.181Z"
   },
   {
    "duration": 705,
    "start_time": "2021-12-06T07:57:07.188Z"
   },
   {
    "duration": 699,
    "start_time": "2021-12-06T07:57:07.195Z"
   },
   {
    "duration": 694,
    "start_time": "2021-12-06T07:57:07.201Z"
   },
   {
    "duration": 687,
    "start_time": "2021-12-06T07:57:07.209Z"
   },
   {
    "duration": 682,
    "start_time": "2021-12-06T07:57:07.215Z"
   },
   {
    "duration": 677,
    "start_time": "2021-12-06T07:57:07.222Z"
   },
   {
    "duration": 670,
    "start_time": "2021-12-06T07:57:07.230Z"
   },
   {
    "duration": 664,
    "start_time": "2021-12-06T07:57:07.237Z"
   },
   {
    "duration": 649,
    "start_time": "2021-12-06T07:57:07.253Z"
   },
   {
    "duration": 643,
    "start_time": "2021-12-06T07:57:07.260Z"
   },
   {
    "duration": 639,
    "start_time": "2021-12-06T07:57:07.266Z"
   },
   {
    "duration": 631,
    "start_time": "2021-12-06T07:57:07.275Z"
   },
   {
    "duration": 624,
    "start_time": "2021-12-06T07:57:07.283Z"
   },
   {
    "duration": 617,
    "start_time": "2021-12-06T07:57:07.291Z"
   },
   {
    "duration": 613,
    "start_time": "2021-12-06T07:57:07.297Z"
   },
   {
    "duration": 607,
    "start_time": "2021-12-06T07:57:07.304Z"
   },
   {
    "duration": 601,
    "start_time": "2021-12-06T07:57:07.311Z"
   },
   {
    "duration": 595,
    "start_time": "2021-12-06T07:57:07.318Z"
   },
   {
    "duration": 590,
    "start_time": "2021-12-06T07:57:07.324Z"
   },
   {
    "duration": 584,
    "start_time": "2021-12-06T07:57:07.332Z"
   },
   {
    "duration": 579,
    "start_time": "2021-12-06T07:57:07.338Z"
   },
   {
    "duration": 573,
    "start_time": "2021-12-06T07:57:07.345Z"
   },
   {
    "duration": 567,
    "start_time": "2021-12-06T07:57:07.352Z"
   },
   {
    "duration": 551,
    "start_time": "2021-12-06T07:57:07.369Z"
   },
   {
    "duration": 546,
    "start_time": "2021-12-06T07:57:07.376Z"
   },
   {
    "duration": 540,
    "start_time": "2021-12-06T07:57:07.383Z"
   },
   {
    "duration": 537,
    "start_time": "2021-12-06T07:57:07.388Z"
   },
   {
    "duration": 530,
    "start_time": "2021-12-06T07:57:07.396Z"
   },
   {
    "duration": 526,
    "start_time": "2021-12-06T07:57:07.401Z"
   },
   {
    "duration": 521,
    "start_time": "2021-12-06T07:57:07.408Z"
   },
   {
    "duration": 514,
    "start_time": "2021-12-06T07:57:07.416Z"
   },
   {
    "duration": 504,
    "start_time": "2021-12-06T07:57:07.427Z"
   },
   {
    "duration": 496,
    "start_time": "2021-12-06T07:57:07.436Z"
   },
   {
    "duration": 491,
    "start_time": "2021-12-06T07:57:07.443Z"
   },
   {
    "duration": 486,
    "start_time": "2021-12-06T07:57:07.449Z"
   },
   {
    "duration": 481,
    "start_time": "2021-12-06T07:57:07.455Z"
   },
   {
    "duration": 476,
    "start_time": "2021-12-06T07:57:07.462Z"
   },
   {
    "duration": 460,
    "start_time": "2021-12-06T07:57:07.479Z"
   },
   {
    "duration": 455,
    "start_time": "2021-12-06T07:57:07.485Z"
   },
   {
    "duration": 451,
    "start_time": "2021-12-06T07:57:07.491Z"
   },
   {
    "duration": 446,
    "start_time": "2021-12-06T07:57:07.497Z"
   },
   {
    "duration": 440,
    "start_time": "2021-12-06T07:57:07.504Z"
   },
   {
    "duration": 435,
    "start_time": "2021-12-06T07:57:07.511Z"
   },
   {
    "duration": 741,
    "start_time": "2021-12-06T07:57:23.951Z"
   },
   {
    "duration": 70,
    "start_time": "2021-12-06T07:57:24.694Z"
   },
   {
    "duration": 16,
    "start_time": "2021-12-06T07:57:24.766Z"
   },
   {
    "duration": 62,
    "start_time": "2021-12-06T07:57:24.785Z"
   },
   {
    "duration": 52,
    "start_time": "2021-12-06T07:57:24.849Z"
   },
   {
    "duration": 30,
    "start_time": "2021-12-06T07:57:24.903Z"
   },
   {
    "duration": 9,
    "start_time": "2021-12-06T07:57:24.935Z"
   },
   {
    "duration": 10,
    "start_time": "2021-12-06T07:57:24.948Z"
   },
   {
    "duration": 12,
    "start_time": "2021-12-06T07:57:24.962Z"
   },
   {
    "duration": 7,
    "start_time": "2021-12-06T07:57:24.976Z"
   },
   {
    "duration": 968,
    "start_time": "2021-12-06T07:57:24.985Z"
   },
   {
    "duration": 27,
    "start_time": "2021-12-06T07:57:25.956Z"
   },
   {
    "duration": 9,
    "start_time": "2021-12-06T07:57:25.986Z"
   },
   {
    "duration": 37,
    "start_time": "2021-12-06T07:57:25.998Z"
   },
   {
    "duration": 6,
    "start_time": "2021-12-06T07:57:26.038Z"
   },
   {
    "duration": 7,
    "start_time": "2021-12-06T07:57:26.047Z"
   },
   {
    "duration": 9,
    "start_time": "2021-12-06T07:57:26.057Z"
   },
   {
    "duration": 15,
    "start_time": "2021-12-06T07:57:26.068Z"
   },
   {
    "duration": 47,
    "start_time": "2021-12-06T07:57:26.086Z"
   },
   {
    "duration": 13,
    "start_time": "2021-12-06T07:57:26.135Z"
   },
   {
    "duration": 13,
    "start_time": "2021-12-06T07:57:26.150Z"
   },
   {
    "duration": 16,
    "start_time": "2021-12-06T07:57:26.165Z"
   },
   {
    "duration": 43,
    "start_time": "2021-12-06T07:57:26.188Z"
   },
   {
    "duration": 10874,
    "start_time": "2021-12-06T07:57:26.234Z"
   },
   {
    "duration": 39,
    "start_time": "2021-12-06T07:57:37.111Z"
   },
   {
    "duration": 11,
    "start_time": "2021-12-06T07:57:37.153Z"
   },
   {
    "duration": 299,
    "start_time": "2021-12-06T07:57:37.166Z"
   },
   {
    "duration": 7,
    "start_time": "2021-12-06T07:57:37.468Z"
   },
   {
    "duration": 13,
    "start_time": "2021-12-06T07:57:37.477Z"
   },
   {
    "duration": 87,
    "start_time": "2021-12-06T07:57:37.493Z"
   },
   {
    "duration": 34,
    "start_time": "2021-12-06T07:57:37.583Z"
   },
   {
    "duration": 28,
    "start_time": "2021-12-06T07:57:37.630Z"
   },
   {
    "duration": 23,
    "start_time": "2021-12-06T07:57:37.660Z"
   },
   {
    "duration": 12,
    "start_time": "2021-12-06T07:57:37.686Z"
   },
   {
    "duration": 42,
    "start_time": "2021-12-06T07:57:37.700Z"
   },
   {
    "duration": 29,
    "start_time": "2021-12-06T07:57:37.745Z"
   },
   {
    "duration": 19,
    "start_time": "2021-12-06T07:57:37.776Z"
   },
   {
    "duration": 32,
    "start_time": "2021-12-06T07:57:37.798Z"
   },
   {
    "duration": 12,
    "start_time": "2021-12-06T07:57:37.833Z"
   },
   {
    "duration": 15,
    "start_time": "2021-12-06T07:57:37.847Z"
   },
   {
    "duration": 23,
    "start_time": "2021-12-06T07:57:37.865Z"
   },
   {
    "duration": 38,
    "start_time": "2021-12-06T07:57:37.890Z"
   },
   {
    "duration": 10,
    "start_time": "2021-12-06T07:57:37.931Z"
   },
   {
    "duration": 4731,
    "start_time": "2021-12-06T07:57:37.943Z"
   },
   {
    "duration": 19,
    "start_time": "2021-12-06T07:57:42.677Z"
   },
   {
    "duration": 13,
    "start_time": "2021-12-06T07:57:48.580Z"
   },
   {
    "duration": 7,
    "start_time": "2021-12-06T07:57:52.235Z"
   },
   {
    "duration": 393,
    "start_time": "2021-12-06T07:58:02.420Z"
   },
   {
    "duration": 288,
    "start_time": "2021-12-06T07:58:12.789Z"
   },
   {
    "duration": 12,
    "start_time": "2021-12-06T07:58:18.400Z"
   },
   {
    "duration": 8,
    "start_time": "2021-12-06T07:58:26.300Z"
   },
   {
    "duration": 7,
    "start_time": "2021-12-06T07:58:31.599Z"
   },
   {
    "duration": 10,
    "start_time": "2021-12-06T07:58:45.804Z"
   },
   {
    "duration": 6,
    "start_time": "2021-12-06T08:00:36.570Z"
   },
   {
    "duration": 7,
    "start_time": "2021-12-06T08:01:31.029Z"
   },
   {
    "duration": 10,
    "start_time": "2021-12-06T08:01:46.499Z"
   },
   {
    "duration": 302,
    "start_time": "2021-12-06T08:03:59.809Z"
   },
   {
    "duration": 4,
    "start_time": "2021-12-06T08:04:07.264Z"
   },
   {
    "duration": 10,
    "start_time": "2021-12-06T08:04:18.459Z"
   },
   {
    "duration": 4,
    "start_time": "2021-12-06T08:04:40.791Z"
   },
   {
    "duration": 6,
    "start_time": "2021-12-06T08:04:46.870Z"
   },
   {
    "duration": 426,
    "start_time": "2021-12-06T08:05:00.590Z"
   },
   {
    "duration": 6,
    "start_time": "2021-12-06T08:05:06.988Z"
   },
   {
    "duration": 18,
    "start_time": "2021-12-06T08:07:19.545Z"
   },
   {
    "duration": 387,
    "start_time": "2021-12-06T08:07:46.980Z"
   },
   {
    "duration": 18,
    "start_time": "2021-12-06T08:08:09.370Z"
   },
   {
    "duration": 342,
    "start_time": "2021-12-06T08:08:34.408Z"
   },
   {
    "duration": 18,
    "start_time": "2021-12-06T08:09:14.619Z"
   },
   {
    "duration": 17,
    "start_time": "2021-12-06T08:09:35.930Z"
   },
   {
    "duration": 15,
    "start_time": "2021-12-06T08:09:48.199Z"
   },
   {
    "duration": 14,
    "start_time": "2021-12-06T08:12:23.793Z"
   },
   {
    "duration": 12,
    "start_time": "2021-12-06T08:12:55.845Z"
   },
   {
    "duration": 14,
    "start_time": "2021-12-06T08:13:02.454Z"
   },
   {
    "duration": 293,
    "start_time": "2021-12-06T08:13:38.865Z"
   },
   {
    "duration": 13,
    "start_time": "2021-12-06T08:14:04.025Z"
   },
   {
    "duration": 13,
    "start_time": "2021-12-06T08:14:10.449Z"
   },
   {
    "duration": 14,
    "start_time": "2021-12-06T08:14:53.534Z"
   },
   {
    "duration": 305,
    "start_time": "2021-12-06T08:16:50.545Z"
   },
   {
    "duration": 16,
    "start_time": "2021-12-06T08:20:02.524Z"
   },
   {
    "duration": 114,
    "start_time": "2021-12-06T08:21:00.025Z"
   },
   {
    "duration": 16,
    "start_time": "2021-12-06T08:21:05.175Z"
   },
   {
    "duration": 16,
    "start_time": "2021-12-06T08:22:02.894Z"
   },
   {
    "duration": 16,
    "start_time": "2021-12-06T08:22:09.374Z"
   },
   {
    "duration": 97,
    "start_time": "2021-12-06T08:23:54.014Z"
   },
   {
    "duration": 99,
    "start_time": "2021-12-06T08:23:55.925Z"
   },
   {
    "duration": 16,
    "start_time": "2021-12-06T08:26:01.084Z"
   },
   {
    "duration": 16,
    "start_time": "2021-12-06T08:26:31.977Z"
   },
   {
    "duration": 18,
    "start_time": "2021-12-06T08:26:31.996Z"
   },
   {
    "duration": 12,
    "start_time": "2021-12-06T08:26:32.017Z"
   },
   {
    "duration": 10197,
    "start_time": "2021-12-06T08:26:32.032Z"
   },
   {
    "duration": 10,
    "start_time": "2021-12-06T08:26:42.231Z"
   },
   {
    "duration": 9,
    "start_time": "2021-12-06T08:26:42.243Z"
   },
   {
    "duration": 9786,
    "start_time": "2021-12-06T08:26:42.254Z"
   },
   {
    "duration": 19,
    "start_time": "2021-12-06T08:26:52.043Z"
   },
   {
    "duration": 6,
    "start_time": "2021-12-06T08:26:52.065Z"
   },
   {
    "duration": 7,
    "start_time": "2021-12-06T08:26:52.073Z"
   },
   {
    "duration": 11,
    "start_time": "2021-12-06T08:26:52.082Z"
   },
   {
    "duration": 36,
    "start_time": "2021-12-06T08:26:52.095Z"
   },
   {
    "duration": 8,
    "start_time": "2021-12-06T08:26:52.133Z"
   },
   {
    "duration": 10,
    "start_time": "2021-12-06T08:26:52.143Z"
   },
   {
    "duration": 13,
    "start_time": "2021-12-06T08:26:52.156Z"
   },
   {
    "duration": 8,
    "start_time": "2021-12-06T08:26:52.172Z"
   },
   {
    "duration": 5,
    "start_time": "2021-12-06T08:26:52.183Z"
   },
   {
    "duration": 7,
    "start_time": "2021-12-06T08:26:52.230Z"
   },
   {
    "duration": 8,
    "start_time": "2021-12-06T08:26:52.240Z"
   },
   {
    "duration": 6,
    "start_time": "2021-12-06T08:26:52.251Z"
   },
   {
    "duration": 6,
    "start_time": "2021-12-06T08:26:52.259Z"
   },
   {
    "duration": 7,
    "start_time": "2021-12-06T08:26:52.267Z"
   },
   {
    "duration": 52,
    "start_time": "2021-12-06T08:26:52.278Z"
   },
   {
    "duration": 10,
    "start_time": "2021-12-06T08:26:52.333Z"
   },
   {
    "duration": 33057,
    "start_time": "2021-12-06T08:26:52.346Z"
   },
   {
    "duration": 23,
    "start_time": "2021-12-06T08:27:25.406Z"
   },
   {
    "duration": 36,
    "start_time": "2021-12-06T08:27:25.433Z"
   },
   {
    "duration": 32,
    "start_time": "2021-12-06T08:27:25.473Z"
   },
   {
    "duration": 47,
    "start_time": "2021-12-06T08:27:25.508Z"
   },
   {
    "duration": 10,
    "start_time": "2021-12-06T08:27:25.558Z"
   },
   {
    "duration": 62,
    "start_time": "2021-12-06T08:27:25.570Z"
   },
   {
    "duration": 9,
    "start_time": "2021-12-06T08:27:25.635Z"
   },
   {
    "duration": 36,
    "start_time": "2021-12-06T08:27:25.646Z"
   },
   {
    "duration": 13,
    "start_time": "2021-12-06T08:27:25.686Z"
   },
   {
    "duration": 4,
    "start_time": "2021-12-06T08:32:16.685Z"
   },
   {
    "duration": 8,
    "start_time": "2021-12-06T08:32:57.995Z"
   },
   {
    "duration": 5,
    "start_time": "2021-12-06T08:33:09.054Z"
   },
   {
    "duration": 10,
    "start_time": "2021-12-06T08:33:10.765Z"
   },
   {
    "duration": 5,
    "start_time": "2021-12-06T08:33:57.641Z"
   },
   {
    "duration": 4,
    "start_time": "2021-12-06T08:34:10.144Z"
   },
   {
    "duration": 9,
    "start_time": "2021-12-06T08:34:30.094Z"
   },
   {
    "duration": 8,
    "start_time": "2021-12-06T08:34:36.444Z"
   },
   {
    "duration": 11,
    "start_time": "2021-12-06T08:34:40.559Z"
   },
   {
    "duration": 11,
    "start_time": "2021-12-06T08:34:58.175Z"
   },
   {
    "duration": 95,
    "start_time": "2021-12-06T08:35:09.366Z"
   },
   {
    "duration": 316,
    "start_time": "2021-12-06T08:35:16.745Z"
   },
   {
    "duration": 11,
    "start_time": "2021-12-06T08:36:07.724Z"
   },
   {
    "duration": 12,
    "start_time": "2021-12-06T08:36:13.284Z"
   },
   {
    "duration": 11,
    "start_time": "2021-12-06T08:36:18.754Z"
   },
   {
    "duration": 13,
    "start_time": "2021-12-06T08:36:35.724Z"
   },
   {
    "duration": 11,
    "start_time": "2021-12-06T08:36:38.034Z"
   },
   {
    "duration": 13,
    "start_time": "2021-12-06T08:36:41.364Z"
   },
   {
    "duration": 97,
    "start_time": "2021-12-06T08:36:45.425Z"
   },
   {
    "duration": 12,
    "start_time": "2021-12-06T08:36:49.234Z"
   },
   {
    "duration": 21,
    "start_time": "2021-12-06T08:37:17.105Z"
   },
   {
    "duration": 21,
    "start_time": "2021-12-06T08:37:26.274Z"
   },
   {
    "duration": 34,
    "start_time": "2021-12-06T08:37:29.219Z"
   },
   {
    "duration": 20,
    "start_time": "2021-12-06T08:37:49.935Z"
   },
   {
    "duration": 44,
    "start_time": "2021-12-06T08:37:52.025Z"
   },
   {
    "duration": 4,
    "start_time": "2021-12-06T08:38:41.245Z"
   },
   {
    "duration": 15,
    "start_time": "2021-12-06T08:39:46.295Z"
   },
   {
    "duration": 9,
    "start_time": "2021-12-06T08:39:46.674Z"
   },
   {
    "duration": 10,
    "start_time": "2021-12-06T08:39:59.981Z"
   },
   {
    "duration": 10,
    "start_time": "2021-12-06T08:40:00.354Z"
   },
   {
    "duration": 9,
    "start_time": "2021-12-06T08:42:38.570Z"
   },
   {
    "duration": 7,
    "start_time": "2021-12-06T08:42:53.134Z"
   },
   {
    "duration": 100,
    "start_time": "2021-12-06T08:45:38.514Z"
   },
   {
    "duration": 433,
    "start_time": "2021-12-06T08:46:10.115Z"
   },
   {
    "duration": 99,
    "start_time": "2021-12-06T08:48:54.156Z"
   },
   {
    "duration": 393,
    "start_time": "2021-12-06T08:48:57.415Z"
   },
   {
    "duration": 6,
    "start_time": "2021-12-06T08:49:08.664Z"
   },
   {
    "duration": 8,
    "start_time": "2021-12-06T08:49:55.946Z"
   },
   {
    "duration": 6,
    "start_time": "2021-12-06T08:50:05.655Z"
   },
   {
    "duration": 101,
    "start_time": "2021-12-06T08:50:09.215Z"
   },
   {
    "duration": 7,
    "start_time": "2021-12-06T08:50:20.855Z"
   },
   {
    "duration": 309,
    "start_time": "2021-12-06T08:51:05.005Z"
   },
   {
    "duration": 863,
    "start_time": "2021-12-06T08:51:19.235Z"
   },
   {
    "duration": 31,
    "start_time": "2021-12-06T08:54:16.796Z"
   },
   {
    "duration": 28,
    "start_time": "2021-12-06T08:54:26.425Z"
   },
   {
    "duration": 29,
    "start_time": "2021-12-06T08:54:32.169Z"
   },
   {
    "duration": 12,
    "start_time": "2021-12-06T08:54:35.575Z"
   },
   {
    "duration": 10,
    "start_time": "2021-12-06T08:55:37.376Z"
   },
   {
    "duration": 28,
    "start_time": "2021-12-06T08:55:38.805Z"
   },
   {
    "duration": 10,
    "start_time": "2021-12-06T08:55:39.286Z"
   },
   {
    "duration": 7,
    "start_time": "2021-12-06T08:56:08.735Z"
   },
   {
    "duration": 6,
    "start_time": "2021-12-06T08:56:13.976Z"
   },
   {
    "duration": 321,
    "start_time": "2021-12-06T08:59:40.265Z"
   },
   {
    "duration": 140,
    "start_time": "2021-12-06T08:59:42.783Z"
   },
   {
    "duration": 288,
    "start_time": "2021-12-06T08:59:47.410Z"
   },
   {
    "duration": 309,
    "start_time": "2021-12-06T09:00:00.504Z"
   },
   {
    "duration": 295,
    "start_time": "2021-12-06T09:02:59.555Z"
   },
   {
    "duration": 6,
    "start_time": "2021-12-06T09:03:03.285Z"
   },
   {
    "duration": 108,
    "start_time": "2021-12-06T09:03:12.066Z"
   },
   {
    "duration": 757,
    "start_time": "2021-12-06T09:04:58.343Z"
   },
   {
    "duration": 757,
    "start_time": "2021-12-06T09:04:58.352Z"
   },
   {
    "duration": 5,
    "start_time": "2021-12-06T09:05:00.765Z"
   },
   {
    "duration": 5,
    "start_time": "2021-12-06T09:05:01.627Z"
   },
   {
    "duration": 6,
    "start_time": "2021-12-06T09:05:07.934Z"
   },
   {
    "duration": 289,
    "start_time": "2021-12-06T09:05:16.697Z"
   },
   {
    "duration": 6,
    "start_time": "2021-12-06T09:05:23.055Z"
   },
   {
    "duration": 6,
    "start_time": "2021-12-06T09:05:26.415Z"
   },
   {
    "duration": 6,
    "start_time": "2021-12-06T09:06:28.885Z"
   },
   {
    "duration": 5,
    "start_time": "2021-12-06T09:06:36.675Z"
   },
   {
    "duration": 4,
    "start_time": "2021-12-06T09:06:44.065Z"
   },
   {
    "duration": 5,
    "start_time": "2021-12-06T09:06:44.893Z"
   },
   {
    "duration": 315,
    "start_time": "2021-12-06T09:06:48.159Z"
   },
   {
    "duration": 302,
    "start_time": "2021-12-06T09:07:24.104Z"
   },
   {
    "duration": 107,
    "start_time": "2021-12-06T09:07:38.705Z"
   },
   {
    "duration": 6,
    "start_time": "2021-12-06T09:07:55.745Z"
   },
   {
    "duration": 6,
    "start_time": "2021-12-06T09:08:30.614Z"
   },
   {
    "duration": 6,
    "start_time": "2021-12-06T09:08:37.928Z"
   },
   {
    "duration": 8,
    "start_time": "2021-12-06T09:08:47.866Z"
   },
   {
    "duration": 7,
    "start_time": "2021-12-06T09:09:07.785Z"
   },
   {
    "duration": 7,
    "start_time": "2021-12-06T09:09:17.775Z"
   },
   {
    "duration": 7,
    "start_time": "2021-12-06T09:09:28.965Z"
   },
   {
    "duration": 290,
    "start_time": "2021-12-06T09:09:35.687Z"
   },
   {
    "duration": 5,
    "start_time": "2021-12-06T09:09:57.575Z"
   },
   {
    "duration": 6,
    "start_time": "2021-12-06T09:10:47.415Z"
   },
   {
    "duration": 6,
    "start_time": "2021-12-06T09:11:24.891Z"
   },
   {
    "duration": 5,
    "start_time": "2021-12-06T09:11:28.426Z"
   },
   {
    "duration": 5,
    "start_time": "2021-12-06T09:11:31.526Z"
   },
   {
    "duration": 8,
    "start_time": "2021-12-06T09:11:38.795Z"
   },
   {
    "duration": 9,
    "start_time": "2021-12-06T09:11:47.248Z"
   },
   {
    "duration": 5,
    "start_time": "2021-12-06T09:11:47.865Z"
   },
   {
    "duration": 300,
    "start_time": "2021-12-06T09:12:55.835Z"
   },
   {
    "duration": 8,
    "start_time": "2021-12-06T09:13:02.573Z"
   },
   {
    "duration": 312,
    "start_time": "2021-12-06T09:13:07.425Z"
   },
   {
    "duration": 10,
    "start_time": "2021-12-06T09:13:13.945Z"
   },
   {
    "duration": 8,
    "start_time": "2021-12-06T09:13:18.695Z"
   },
   {
    "duration": 10,
    "start_time": "2021-12-06T09:13:34.395Z"
   },
   {
    "duration": 6,
    "start_time": "2021-12-06T09:14:04.461Z"
   },
   {
    "duration": 4,
    "start_time": "2021-12-06T09:14:09.305Z"
   },
   {
    "duration": 10,
    "start_time": "2021-12-06T09:14:29.495Z"
   },
   {
    "duration": 11,
    "start_time": "2021-12-06T09:14:59.126Z"
   },
   {
    "duration": 5,
    "start_time": "2021-12-06T09:15:05.755Z"
   },
   {
    "duration": 10,
    "start_time": "2021-12-06T09:15:10.065Z"
   },
   {
    "duration": 5,
    "start_time": "2021-12-06T09:15:10.425Z"
   },
   {
    "duration": 23,
    "start_time": "2021-12-06T09:15:19.112Z"
   },
   {
    "duration": 10,
    "start_time": "2021-12-06T09:15:20.970Z"
   },
   {
    "duration": 4,
    "start_time": "2021-12-06T09:15:21.823Z"
   },
   {
    "duration": 25,
    "start_time": "2021-12-06T09:15:25.885Z"
   },
   {
    "duration": 10,
    "start_time": "2021-12-06T09:15:27.736Z"
   },
   {
    "duration": 5,
    "start_time": "2021-12-06T09:15:28.346Z"
   },
   {
    "duration": 37,
    "start_time": "2021-12-06T09:15:33.977Z"
   },
   {
    "duration": 10,
    "start_time": "2021-12-06T09:15:36.596Z"
   },
   {
    "duration": 5,
    "start_time": "2021-12-06T09:15:36.876Z"
   },
   {
    "duration": 19,
    "start_time": "2021-12-06T09:15:51.077Z"
   },
   {
    "duration": 8,
    "start_time": "2021-12-06T09:15:53.307Z"
   },
   {
    "duration": 7,
    "start_time": "2021-12-06T09:16:00.277Z"
   },
   {
    "duration": 5,
    "start_time": "2021-12-06T09:16:02.574Z"
   },
   {
    "duration": 10,
    "start_time": "2021-12-06T09:16:08.051Z"
   },
   {
    "duration": 705,
    "start_time": "2021-12-06T09:18:14.357Z"
   },
   {
    "duration": 77,
    "start_time": "2021-12-06T09:18:15.065Z"
   },
   {
    "duration": 14,
    "start_time": "2021-12-06T09:18:15.145Z"
   },
   {
    "duration": 56,
    "start_time": "2021-12-06T09:18:15.162Z"
   },
   {
    "duration": 44,
    "start_time": "2021-12-06T09:18:15.221Z"
   },
   {
    "duration": 6,
    "start_time": "2021-12-06T09:18:15.268Z"
   },
   {
    "duration": 12,
    "start_time": "2021-12-06T09:18:15.277Z"
   },
   {
    "duration": 9,
    "start_time": "2021-12-06T09:18:15.318Z"
   },
   {
    "duration": 12,
    "start_time": "2021-12-06T09:18:15.331Z"
   },
   {
    "duration": 7,
    "start_time": "2021-12-06T09:18:15.345Z"
   },
   {
    "duration": 897,
    "start_time": "2021-12-06T09:18:15.354Z"
   },
   {
    "duration": 23,
    "start_time": "2021-12-06T09:18:16.254Z"
   },
   {
    "duration": 5,
    "start_time": "2021-12-06T09:18:16.280Z"
   },
   {
    "duration": 40,
    "start_time": "2021-12-06T09:18:16.288Z"
   },
   {
    "duration": 6,
    "start_time": "2021-12-06T09:18:16.330Z"
   },
   {
    "duration": 6,
    "start_time": "2021-12-06T09:18:16.339Z"
   },
   {
    "duration": 10,
    "start_time": "2021-12-06T09:18:16.348Z"
   },
   {
    "duration": 57,
    "start_time": "2021-12-06T09:18:16.360Z"
   },
   {
    "duration": 8,
    "start_time": "2021-12-06T09:18:16.419Z"
   },
   {
    "duration": 9,
    "start_time": "2021-12-06T09:18:16.430Z"
   },
   {
    "duration": 11,
    "start_time": "2021-12-06T09:18:16.442Z"
   },
   {
    "duration": 61,
    "start_time": "2021-12-06T09:18:16.456Z"
   },
   {
    "duration": 8,
    "start_time": "2021-12-06T09:18:16.520Z"
   },
   {
    "duration": 9751,
    "start_time": "2021-12-06T09:18:16.531Z"
   },
   {
    "duration": 35,
    "start_time": "2021-12-06T09:18:26.285Z"
   },
   {
    "duration": 10,
    "start_time": "2021-12-06T09:18:26.322Z"
   },
   {
    "duration": 279,
    "start_time": "2021-12-06T09:18:26.338Z"
   },
   {
    "duration": 8,
    "start_time": "2021-12-06T09:18:26.620Z"
   },
   {
    "duration": 5,
    "start_time": "2021-12-06T09:18:26.631Z"
   },
   {
    "duration": 88,
    "start_time": "2021-12-06T09:18:26.638Z"
   },
   {
    "duration": 30,
    "start_time": "2021-12-06T09:18:26.729Z"
   },
   {
    "duration": 25,
    "start_time": "2021-12-06T09:18:26.762Z"
   },
   {
    "duration": 42,
    "start_time": "2021-12-06T09:18:26.789Z"
   },
   {
    "duration": 11,
    "start_time": "2021-12-06T09:18:26.833Z"
   },
   {
    "duration": 11,
    "start_time": "2021-12-06T09:18:26.846Z"
   },
   {
    "duration": 18,
    "start_time": "2021-12-06T09:18:26.859Z"
   },
   {
    "duration": 47,
    "start_time": "2021-12-06T09:18:26.879Z"
   },
   {
    "duration": 16,
    "start_time": "2021-12-06T09:18:26.929Z"
   },
   {
    "duration": 10,
    "start_time": "2021-12-06T09:18:26.947Z"
   },
   {
    "duration": 11,
    "start_time": "2021-12-06T09:18:26.959Z"
   },
   {
    "duration": 54,
    "start_time": "2021-12-06T09:18:26.972Z"
   },
   {
    "duration": 16,
    "start_time": "2021-12-06T09:18:27.029Z"
   },
   {
    "duration": 17,
    "start_time": "2021-12-06T09:18:27.048Z"
   },
   {
    "duration": 4449,
    "start_time": "2021-12-06T09:18:27.068Z"
   },
   {
    "duration": 20,
    "start_time": "2021-12-06T09:18:31.520Z"
   },
   {
    "duration": 13,
    "start_time": "2021-12-06T09:18:31.543Z"
   },
   {
    "duration": 12,
    "start_time": "2021-12-06T09:18:31.559Z"
   },
   {
    "duration": 57,
    "start_time": "2021-12-06T09:18:31.574Z"
   },
   {
    "duration": 18,
    "start_time": "2021-12-06T09:18:31.633Z"
   },
   {
    "duration": 11,
    "start_time": "2021-12-06T09:18:31.653Z"
   },
   {
    "duration": 9379,
    "start_time": "2021-12-06T09:18:31.666Z"
   },
   {
    "duration": 9,
    "start_time": "2021-12-06T09:18:41.047Z"
   },
   {
    "duration": 6,
    "start_time": "2021-12-06T09:18:41.058Z"
   },
   {
    "duration": 7925,
    "start_time": "2021-12-06T09:18:41.066Z"
   },
   {
    "duration": 26,
    "start_time": "2021-12-06T09:18:48.994Z"
   },
   {
    "duration": 5,
    "start_time": "2021-12-06T09:18:49.022Z"
   },
   {
    "duration": 5,
    "start_time": "2021-12-06T09:18:49.029Z"
   },
   {
    "duration": 8,
    "start_time": "2021-12-06T09:18:49.036Z"
   },
   {
    "duration": 4,
    "start_time": "2021-12-06T09:18:49.046Z"
   },
   {
    "duration": 6,
    "start_time": "2021-12-06T09:18:49.053Z"
   },
   {
    "duration": 10,
    "start_time": "2021-12-06T09:18:49.061Z"
   },
   {
    "duration": 52,
    "start_time": "2021-12-06T09:18:49.074Z"
   },
   {
    "duration": 6,
    "start_time": "2021-12-06T09:18:49.128Z"
   },
   {
    "duration": 14,
    "start_time": "2021-12-06T09:18:49.136Z"
   },
   {
    "duration": 11,
    "start_time": "2021-12-06T09:18:49.153Z"
   },
   {
    "duration": 68,
    "start_time": "2021-12-06T09:18:49.167Z"
   },
   {
    "duration": 17,
    "start_time": "2021-12-06T09:18:49.237Z"
   },
   {
    "duration": 5,
    "start_time": "2021-12-06T09:18:49.257Z"
   },
   {
    "duration": 24,
    "start_time": "2021-12-06T09:18:49.264Z"
   },
   {
    "duration": 32,
    "start_time": "2021-12-06T09:18:49.290Z"
   },
   {
    "duration": 5,
    "start_time": "2021-12-06T09:18:49.326Z"
   },
   {
    "duration": 24,
    "start_time": "2021-12-06T09:18:49.334Z"
   },
   {
    "duration": 9,
    "start_time": "2021-12-06T09:18:49.360Z"
   },
   {
    "duration": 48,
    "start_time": "2021-12-06T09:18:49.372Z"
   },
   {
    "duration": 23,
    "start_time": "2021-12-06T09:18:49.423Z"
   },
   {
    "duration": 9,
    "start_time": "2021-12-06T09:18:49.448Z"
   },
   {
    "duration": 6,
    "start_time": "2021-12-06T09:18:49.460Z"
   },
   {
    "duration": 511,
    "start_time": "2021-12-06T09:19:50.025Z"
   },
   {
    "duration": 204,
    "start_time": "2021-12-06T09:19:54.254Z"
   },
   {
    "duration": 371,
    "start_time": "2021-12-06T09:23:11.363Z"
   },
   {
    "duration": 87,
    "start_time": "2021-12-06T09:23:27.425Z"
   },
   {
    "duration": 464,
    "start_time": "2021-12-06T10:21:37.057Z"
   },
   {
    "duration": 608,
    "start_time": "2021-12-06T10:21:42.466Z"
   },
   {
    "duration": 52,
    "start_time": "2021-12-06T10:21:43.076Z"
   },
   {
    "duration": 11,
    "start_time": "2021-12-06T10:21:43.130Z"
   },
   {
    "duration": 30,
    "start_time": "2021-12-06T10:21:43.143Z"
   },
   {
    "duration": 51,
    "start_time": "2021-12-06T10:21:43.174Z"
   },
   {
    "duration": 4,
    "start_time": "2021-12-06T10:21:43.227Z"
   },
   {
    "duration": 11,
    "start_time": "2021-12-06T10:21:43.233Z"
   },
   {
    "duration": 6,
    "start_time": "2021-12-06T10:21:43.248Z"
   },
   {
    "duration": 8,
    "start_time": "2021-12-06T10:21:43.257Z"
   },
   {
    "duration": 6,
    "start_time": "2021-12-06T10:21:43.266Z"
   },
   {
    "duration": 684,
    "start_time": "2021-12-06T10:21:43.274Z"
   },
   {
    "duration": 16,
    "start_time": "2021-12-06T10:21:43.959Z"
   },
   {
    "duration": 3,
    "start_time": "2021-12-06T10:21:43.977Z"
   },
   {
    "duration": 33,
    "start_time": "2021-12-06T10:21:43.982Z"
   },
   {
    "duration": 4,
    "start_time": "2021-12-06T10:21:44.016Z"
   },
   {
    "duration": 5,
    "start_time": "2021-12-06T10:21:44.021Z"
   },
   {
    "duration": 7,
    "start_time": "2021-12-06T10:21:44.028Z"
   },
   {
    "duration": 15,
    "start_time": "2021-12-06T10:21:44.036Z"
   },
   {
    "duration": 4,
    "start_time": "2021-12-06T10:21:44.053Z"
   },
   {
    "duration": 19,
    "start_time": "2021-12-06T10:21:44.059Z"
   },
   {
    "duration": 30,
    "start_time": "2021-12-06T10:21:44.080Z"
   },
   {
    "duration": 10,
    "start_time": "2021-12-06T10:21:44.111Z"
   },
   {
    "duration": 6,
    "start_time": "2021-12-06T10:21:44.125Z"
   },
   {
    "duration": 6389,
    "start_time": "2021-12-06T10:21:44.134Z"
   },
   {
    "duration": 18,
    "start_time": "2021-12-06T10:21:50.524Z"
   },
   {
    "duration": 25,
    "start_time": "2021-12-06T10:21:50.543Z"
   },
   {
    "duration": 165,
    "start_time": "2021-12-06T10:21:50.570Z"
   },
   {
    "duration": 6,
    "start_time": "2021-12-06T10:21:50.736Z"
   },
   {
    "duration": 10,
    "start_time": "2021-12-06T10:21:50.744Z"
   },
   {
    "duration": 68,
    "start_time": "2021-12-06T10:21:50.756Z"
   },
   {
    "duration": 24,
    "start_time": "2021-12-06T10:21:50.825Z"
   },
   {
    "duration": 20,
    "start_time": "2021-12-06T10:21:50.851Z"
   },
   {
    "duration": 34,
    "start_time": "2021-12-06T10:21:50.873Z"
   },
   {
    "duration": 9,
    "start_time": "2021-12-06T10:21:50.909Z"
   },
   {
    "duration": 10,
    "start_time": "2021-12-06T10:21:50.920Z"
   },
   {
    "duration": 16,
    "start_time": "2021-12-06T10:21:50.932Z"
   },
   {
    "duration": 11,
    "start_time": "2021-12-06T10:21:50.950Z"
   },
   {
    "duration": 14,
    "start_time": "2021-12-06T10:21:50.963Z"
   },
   {
    "duration": 32,
    "start_time": "2021-12-06T10:21:50.978Z"
   },
   {
    "duration": 12,
    "start_time": "2021-12-06T10:21:51.012Z"
   },
   {
    "duration": 18,
    "start_time": "2021-12-06T10:21:51.026Z"
   },
   {
    "duration": 11,
    "start_time": "2021-12-06T10:21:51.045Z"
   },
   {
    "duration": 9,
    "start_time": "2021-12-06T10:21:51.058Z"
   },
   {
    "duration": 3586,
    "start_time": "2021-12-06T10:21:51.069Z"
   },
   {
    "duration": 13,
    "start_time": "2021-12-06T10:21:54.657Z"
   },
   {
    "duration": 8,
    "start_time": "2021-12-06T10:21:54.672Z"
   },
   {
    "duration": 31,
    "start_time": "2021-12-06T10:21:54.682Z"
   },
   {
    "duration": 13,
    "start_time": "2021-12-06T10:21:54.715Z"
   },
   {
    "duration": 551,
    "start_time": "2021-12-06T10:21:54.729Z"
   },
   {
    "duration": 27,
    "start_time": "2021-12-06T10:21:55.281Z"
   },
   {
    "duration": 13,
    "start_time": "2021-12-06T10:21:55.309Z"
   },
   {
    "duration": 6136,
    "start_time": "2021-12-06T10:21:55.324Z"
   },
   {
    "duration": 7,
    "start_time": "2021-12-06T10:22:01.461Z"
   },
   {
    "duration": 14,
    "start_time": "2021-12-06T10:22:01.470Z"
   },
   {
    "duration": 5400,
    "start_time": "2021-12-06T10:22:01.486Z"
   },
   {
    "duration": 19,
    "start_time": "2021-12-06T10:22:06.888Z"
   },
   {
    "duration": 7,
    "start_time": "2021-12-06T10:22:06.909Z"
   },
   {
    "duration": 6,
    "start_time": "2021-12-06T10:22:06.917Z"
   },
   {
    "duration": 5,
    "start_time": "2021-12-06T10:22:06.925Z"
   },
   {
    "duration": 10,
    "start_time": "2021-12-06T10:22:06.932Z"
   },
   {
    "duration": 7,
    "start_time": "2021-12-06T10:22:06.944Z"
   },
   {
    "duration": 15,
    "start_time": "2021-12-06T10:22:06.953Z"
   },
   {
    "duration": 11,
    "start_time": "2021-12-06T10:22:06.970Z"
   },
   {
    "duration": 5,
    "start_time": "2021-12-06T10:22:06.982Z"
   },
   {
    "duration": 25,
    "start_time": "2021-12-06T10:22:06.989Z"
   },
   {
    "duration": 7,
    "start_time": "2021-12-06T10:22:07.016Z"
   },
   {
    "duration": 22,
    "start_time": "2021-12-06T10:22:07.025Z"
   },
   {
    "duration": 12,
    "start_time": "2021-12-06T10:22:07.052Z"
   },
   {
    "duration": 3,
    "start_time": "2021-12-06T10:22:07.066Z"
   },
   {
    "duration": 48,
    "start_time": "2021-12-06T10:22:07.071Z"
   },
   {
    "duration": 7,
    "start_time": "2021-12-06T10:22:07.120Z"
   },
   {
    "duration": 5,
    "start_time": "2021-12-06T10:22:07.128Z"
   },
   {
    "duration": 18,
    "start_time": "2021-12-06T10:22:07.135Z"
   },
   {
    "duration": 7,
    "start_time": "2021-12-06T10:22:07.155Z"
   },
   {
    "duration": 99,
    "start_time": "2021-12-06T10:22:07.163Z"
   },
   {
    "duration": -23000,
    "start_time": "2021-12-06T10:22:30.264Z"
   },
   {
    "duration": -23004,
    "start_time": "2021-12-06T10:22:30.269Z"
   },
   {
    "duration": -23009,
    "start_time": "2021-12-06T10:22:30.275Z"
   },
   {
    "duration": 8517,
    "start_time": "2021-12-06T10:23:17.512Z"
   },
   {
    "duration": 93,
    "start_time": "2021-12-06T10:25:38.642Z"
   },
   {
    "duration": 15,
    "start_time": "2021-12-06T10:25:45.591Z"
   },
   {
    "duration": 7,
    "start_time": "2021-12-06T10:25:45.748Z"
   },
   {
    "duration": 4,
    "start_time": "2021-12-06T10:25:45.924Z"
   },
   {
    "duration": 13,
    "start_time": "2021-12-06T10:30:59.918Z"
   },
   {
    "duration": 17,
    "start_time": "2021-12-06T10:31:02.639Z"
   },
   {
    "duration": 27,
    "start_time": "2021-12-06T10:32:06.612Z"
   },
   {
    "duration": 135,
    "start_time": "2021-12-06T10:34:15.810Z"
   },
   {
    "duration": 5351,
    "start_time": "2021-12-06T10:34:30.815Z"
   },
   {
    "duration": 17,
    "start_time": "2021-12-06T10:35:03.272Z"
   },
   {
    "duration": 19,
    "start_time": "2021-12-06T10:35:31.681Z"
   },
   {
    "duration": 15,
    "start_time": "2021-12-06T10:35:47.518Z"
   },
   {
    "duration": 15,
    "start_time": "2021-12-06T10:36:14.961Z"
   },
   {
    "duration": 19,
    "start_time": "2021-12-06T10:36:19.987Z"
   },
   {
    "duration": 15,
    "start_time": "2021-12-06T10:36:45.643Z"
   },
   {
    "duration": 14,
    "start_time": "2021-12-06T10:37:34.502Z"
   },
   {
    "duration": 30,
    "start_time": "2021-12-06T10:38:07.614Z"
   },
   {
    "duration": 20,
    "start_time": "2021-12-06T10:38:17.712Z"
   },
   {
    "duration": 304,
    "start_time": "2021-12-06T11:02:19.578Z"
   },
   {
    "duration": 724,
    "start_time": "2021-12-06T11:02:23.818Z"
   },
   {
    "duration": 64,
    "start_time": "2021-12-06T11:02:24.545Z"
   },
   {
    "duration": 16,
    "start_time": "2021-12-06T11:02:24.612Z"
   },
   {
    "duration": 60,
    "start_time": "2021-12-06T11:02:24.632Z"
   },
   {
    "duration": 51,
    "start_time": "2021-12-06T11:02:24.694Z"
   },
   {
    "duration": 23,
    "start_time": "2021-12-06T11:02:24.747Z"
   },
   {
    "duration": 16,
    "start_time": "2021-12-06T11:02:24.773Z"
   },
   {
    "duration": 9,
    "start_time": "2021-12-06T11:02:24.792Z"
   },
   {
    "duration": 14,
    "start_time": "2021-12-06T11:02:24.805Z"
   },
   {
    "duration": 47,
    "start_time": "2021-12-06T11:02:24.821Z"
   },
   {
    "duration": 966,
    "start_time": "2021-12-06T11:02:24.871Z"
   },
   {
    "duration": 31,
    "start_time": "2021-12-06T11:02:25.839Z"
   },
   {
    "duration": 5,
    "start_time": "2021-12-06T11:02:25.873Z"
   },
   {
    "duration": 17,
    "start_time": "2021-12-06T11:02:25.880Z"
   },
   {
    "duration": 16,
    "start_time": "2021-12-06T11:02:25.899Z"
   },
   {
    "duration": 294,
    "start_time": "2021-12-06T11:02:36.437Z"
   },
   {
    "duration": 100,
    "start_time": "2021-12-06T11:03:14.897Z"
   },
   {
    "duration": 9,
    "start_time": "2021-12-06T11:03:17.628Z"
   },
   {
    "duration": 11,
    "start_time": "2021-12-06T11:04:09.970Z"
   },
   {
    "duration": 116,
    "start_time": "2021-12-06T11:04:32.517Z"
   },
   {
    "duration": 3,
    "start_time": "2021-12-06T11:05:07.140Z"
   },
   {
    "duration": 104,
    "start_time": "2021-12-06T11:05:12.331Z"
   },
   {
    "duration": 90,
    "start_time": "2021-12-06T11:05:31.017Z"
   },
   {
    "duration": 150,
    "start_time": "2021-12-06T11:06:05.817Z"
   },
   {
    "duration": 99,
    "start_time": "2021-12-06T11:06:17.502Z"
   },
   {
    "duration": 97,
    "start_time": "2021-12-06T11:06:38.306Z"
   },
   {
    "duration": 87,
    "start_time": "2021-12-06T11:06:40.946Z"
   },
   {
    "duration": 86,
    "start_time": "2021-12-06T11:07:30.378Z"
   },
   {
    "duration": 72,
    "start_time": "2021-12-06T11:07:44.488Z"
   },
   {
    "duration": 23,
    "start_time": "2021-12-06T11:07:53.627Z"
   },
   {
    "duration": 280,
    "start_time": "2021-12-06T11:09:41.878Z"
   },
   {
    "duration": 4,
    "start_time": "2021-12-06T11:09:46.648Z"
   },
   {
    "duration": 65,
    "start_time": "2021-12-06T11:09:46.654Z"
   },
   {
    "duration": 15,
    "start_time": "2021-12-06T11:09:46.722Z"
   },
   {
    "duration": 59,
    "start_time": "2021-12-06T11:09:46.741Z"
   },
   {
    "duration": 85,
    "start_time": "2021-12-06T11:09:46.802Z"
   },
   {
    "duration": 6,
    "start_time": "2021-12-06T11:09:46.889Z"
   },
   {
    "duration": 14,
    "start_time": "2021-12-06T11:09:46.897Z"
   },
   {
    "duration": 10,
    "start_time": "2021-12-06T11:09:46.916Z"
   },
   {
    "duration": 51,
    "start_time": "2021-12-06T11:09:46.929Z"
   },
   {
    "duration": 9,
    "start_time": "2021-12-06T11:09:46.984Z"
   },
   {
    "duration": 7,
    "start_time": "2021-12-06T11:09:46.995Z"
   },
   {
    "duration": 99,
    "start_time": "2021-12-06T11:09:47.004Z"
   },
   {
    "duration": 28,
    "start_time": "2021-12-06T11:09:47.105Z"
   },
   {
    "duration": 6,
    "start_time": "2021-12-06T11:09:47.136Z"
   },
   {
    "duration": 13,
    "start_time": "2021-12-06T11:09:47.167Z"
   },
   {
    "duration": 8,
    "start_time": "2021-12-06T11:09:47.183Z"
   },
   {
    "duration": 8,
    "start_time": "2021-12-06T11:09:47.193Z"
   },
   {
    "duration": 1095,
    "start_time": "2021-12-06T11:09:47.203Z"
   },
   {
    "duration": 732,
    "start_time": "2021-12-06T11:09:47.572Z"
   },
   {
    "duration": 720,
    "start_time": "2021-12-06T11:09:47.586Z"
   },
   {
    "duration": 697,
    "start_time": "2021-12-06T11:09:47.612Z"
   },
   {
    "duration": 689,
    "start_time": "2021-12-06T11:09:47.622Z"
   },
   {
    "duration": 681,
    "start_time": "2021-12-06T11:09:47.631Z"
   },
   {
    "duration": 674,
    "start_time": "2021-12-06T11:09:47.639Z"
   },
   {
    "duration": 668,
    "start_time": "2021-12-06T11:09:47.646Z"
   },
   {
    "duration": 662,
    "start_time": "2021-12-06T11:09:47.654Z"
   },
   {
    "duration": 655,
    "start_time": "2021-12-06T11:09:47.662Z"
   },
   {
    "duration": 638,
    "start_time": "2021-12-06T11:09:47.680Z"
   },
   {
    "duration": 633,
    "start_time": "2021-12-06T11:09:47.687Z"
   },
   {
    "duration": 627,
    "start_time": "2021-12-06T11:09:47.694Z"
   },
   {
    "duration": 620,
    "start_time": "2021-12-06T11:09:47.702Z"
   },
   {
    "duration": 614,
    "start_time": "2021-12-06T11:09:47.710Z"
   },
   {
    "duration": 608,
    "start_time": "2021-12-06T11:09:47.717Z"
   },
   {
    "duration": 603,
    "start_time": "2021-12-06T11:09:47.723Z"
   },
   {
    "duration": 598,
    "start_time": "2021-12-06T11:09:47.730Z"
   },
   {
    "duration": 591,
    "start_time": "2021-12-06T11:09:47.738Z"
   },
   {
    "duration": 584,
    "start_time": "2021-12-06T11:09:47.746Z"
   },
   {
    "duration": 579,
    "start_time": "2021-12-06T11:09:47.753Z"
   },
   {
    "duration": 573,
    "start_time": "2021-12-06T11:09:47.761Z"
   },
   {
    "duration": 567,
    "start_time": "2021-12-06T11:09:47.768Z"
   },
   {
    "duration": 559,
    "start_time": "2021-12-06T11:09:47.778Z"
   },
   {
    "duration": 540,
    "start_time": "2021-12-06T11:09:47.798Z"
   },
   {
    "duration": 533,
    "start_time": "2021-12-06T11:09:47.806Z"
   },
   {
    "duration": 528,
    "start_time": "2021-12-06T11:09:47.812Z"
   },
   {
    "duration": 506,
    "start_time": "2021-12-06T11:09:47.835Z"
   },
   {
    "duration": 525,
    "start_time": "2021-12-06T11:09:47.842Z"
   },
   {
    "duration": 511,
    "start_time": "2021-12-06T11:09:47.858Z"
   },
   {
    "duration": 505,
    "start_time": "2021-12-06T11:09:47.865Z"
   },
   {
    "duration": 1203,
    "start_time": "2021-12-06T11:10:38.067Z"
   },
   {
    "duration": 1145,
    "start_time": "2021-12-06T11:10:42.430Z"
   },
   {
    "duration": 859,
    "start_time": "2021-12-06T11:11:10.155Z"
   },
   {
    "duration": 65,
    "start_time": "2021-12-06T11:11:11.017Z"
   },
   {
    "duration": 16,
    "start_time": "2021-12-06T11:11:11.085Z"
   },
   {
    "duration": 66,
    "start_time": "2021-12-06T11:11:11.104Z"
   },
   {
    "duration": 48,
    "start_time": "2021-12-06T11:11:11.173Z"
   },
   {
    "duration": 7,
    "start_time": "2021-12-06T11:11:11.223Z"
   },
   {
    "duration": 39,
    "start_time": "2021-12-06T11:11:11.232Z"
   },
   {
    "duration": 10,
    "start_time": "2021-12-06T11:11:11.274Z"
   },
   {
    "duration": 13,
    "start_time": "2021-12-06T11:11:11.288Z"
   },
   {
    "duration": 7,
    "start_time": "2021-12-06T11:11:11.303Z"
   },
   {
    "duration": 5,
    "start_time": "2021-12-06T11:11:11.312Z"
   },
   {
    "duration": 114,
    "start_time": "2021-12-06T11:11:11.320Z"
   },
   {
    "duration": 36,
    "start_time": "2021-12-06T11:11:11.436Z"
   },
   {
    "duration": 4,
    "start_time": "2021-12-06T11:11:11.475Z"
   },
   {
    "duration": 18,
    "start_time": "2021-12-06T11:11:11.481Z"
   },
   {
    "duration": 5,
    "start_time": "2021-12-06T11:11:11.502Z"
   },
   {
    "duration": 9,
    "start_time": "2021-12-06T11:11:11.509Z"
   },
   {
    "duration": 1349,
    "start_time": "2021-12-06T11:11:11.521Z"
   },
   {
    "duration": 715,
    "start_time": "2021-12-06T11:11:12.161Z"
   },
   {
    "duration": 710,
    "start_time": "2021-12-06T11:11:12.168Z"
   },
   {
    "duration": 705,
    "start_time": "2021-12-06T11:11:12.175Z"
   },
   {
    "duration": 698,
    "start_time": "2021-12-06T11:11:12.183Z"
   },
   {
    "duration": 692,
    "start_time": "2021-12-06T11:11:12.190Z"
   },
   {
    "duration": 687,
    "start_time": "2021-12-06T11:11:12.196Z"
   },
   {
    "duration": 681,
    "start_time": "2021-12-06T11:11:12.204Z"
   },
   {
    "duration": 675,
    "start_time": "2021-12-06T11:11:12.211Z"
   },
   {
    "duration": 668,
    "start_time": "2021-12-06T11:11:12.219Z"
   },
   {
    "duration": 652,
    "start_time": "2021-12-06T11:11:12.237Z"
   },
   {
    "duration": 645,
    "start_time": "2021-12-06T11:11:12.245Z"
   },
   {
    "duration": 639,
    "start_time": "2021-12-06T11:11:12.253Z"
   },
   {
    "duration": 633,
    "start_time": "2021-12-06T11:11:12.260Z"
   },
   {
    "duration": 627,
    "start_time": "2021-12-06T11:11:12.267Z"
   },
   {
    "duration": 621,
    "start_time": "2021-12-06T11:11:12.274Z"
   },
   {
    "duration": 617,
    "start_time": "2021-12-06T11:11:12.280Z"
   },
   {
    "duration": 611,
    "start_time": "2021-12-06T11:11:12.287Z"
   },
   {
    "duration": 607,
    "start_time": "2021-12-06T11:11:12.293Z"
   },
   {
    "duration": 601,
    "start_time": "2021-12-06T11:11:12.300Z"
   },
   {
    "duration": 595,
    "start_time": "2021-12-06T11:11:12.308Z"
   },
   {
    "duration": 587,
    "start_time": "2021-12-06T11:11:12.317Z"
   },
   {
    "duration": 582,
    "start_time": "2021-12-06T11:11:12.324Z"
   },
   {
    "duration": 577,
    "start_time": "2021-12-06T11:11:12.331Z"
   },
   {
    "duration": 560,
    "start_time": "2021-12-06T11:11:12.349Z"
   },
   {
    "duration": 552,
    "start_time": "2021-12-06T11:11:12.359Z"
   },
   {
    "duration": 546,
    "start_time": "2021-12-06T11:11:12.366Z"
   },
   {
    "duration": 539,
    "start_time": "2021-12-06T11:11:12.374Z"
   },
   {
    "duration": 585,
    "start_time": "2021-12-06T11:11:12.381Z"
   },
   {
    "duration": 578,
    "start_time": "2021-12-06T11:11:12.390Z"
   },
   {
    "duration": 573,
    "start_time": "2021-12-06T11:11:12.397Z"
   },
   {
    "duration": 565,
    "start_time": "2021-12-06T11:11:12.406Z"
   },
   {
    "duration": 561,
    "start_time": "2021-12-06T11:11:12.412Z"
   },
   {
    "duration": 553,
    "start_time": "2021-12-06T11:11:12.421Z"
   },
   {
    "duration": 549,
    "start_time": "2021-12-06T11:11:12.427Z"
   },
   {
    "duration": 542,
    "start_time": "2021-12-06T11:11:12.435Z"
   },
   {
    "duration": 537,
    "start_time": "2021-12-06T11:11:12.442Z"
   },
   {
    "duration": 520,
    "start_time": "2021-12-06T11:11:12.460Z"
   },
   {
    "duration": 515,
    "start_time": "2021-12-06T11:11:12.467Z"
   },
   {
    "duration": 509,
    "start_time": "2021-12-06T11:11:12.474Z"
   },
   {
    "duration": 505,
    "start_time": "2021-12-06T11:11:12.480Z"
   },
   {
    "duration": 469,
    "start_time": "2021-12-06T11:11:12.517Z"
   },
   {
    "duration": 464,
    "start_time": "2021-12-06T11:11:12.524Z"
   },
   {
    "duration": 458,
    "start_time": "2021-12-06T11:11:12.531Z"
   },
   {
    "duration": 452,
    "start_time": "2021-12-06T11:11:12.538Z"
   },
   {
    "duration": 414,
    "start_time": "2021-12-06T11:11:12.577Z"
   },
   {
    "duration": 206,
    "start_time": "2021-12-06T11:11:12.787Z"
   },
   {
    "duration": 174,
    "start_time": "2021-12-06T11:11:12.820Z"
   },
   {
    "duration": 138,
    "start_time": "2021-12-06T11:11:12.857Z"
   },
   {
    "duration": 107,
    "start_time": "2021-12-06T11:11:12.890Z"
   },
   {
    "duration": 74,
    "start_time": "2021-12-06T11:11:12.924Z"
   },
   {
    "duration": 36,
    "start_time": "2021-12-06T11:11:12.963Z"
   },
   {
    "duration": -10,
    "start_time": "2021-12-06T11:11:13.010Z"
   },
   {
    "duration": -69,
    "start_time": "2021-12-06T11:11:13.070Z"
   },
   {
    "duration": -98,
    "start_time": "2021-12-06T11:11:13.101Z"
   },
   {
    "duration": -136,
    "start_time": "2021-12-06T11:11:13.140Z"
   },
   {
    "duration": -98,
    "start_time": "2021-12-06T11:11:13.170Z"
   },
   {
    "duration": -129,
    "start_time": "2021-12-06T11:11:13.202Z"
   },
   {
    "duration": -152,
    "start_time": "2021-12-06T11:11:13.226Z"
   },
   {
    "duration": -199,
    "start_time": "2021-12-06T11:11:13.275Z"
   },
   {
    "duration": -232,
    "start_time": "2021-12-06T11:11:13.309Z"
   },
   {
    "duration": 4,
    "start_time": "2021-12-06T11:11:50.525Z"
   },
   {
    "duration": 3,
    "start_time": "2021-12-06T11:11:54.624Z"
   },
   {
    "duration": 62,
    "start_time": "2021-12-06T11:11:55.009Z"
   },
   {
    "duration": 25,
    "start_time": "2021-12-06T11:11:55.495Z"
   },
   {
    "duration": 769,
    "start_time": "2021-12-06T11:12:09.617Z"
   },
   {
    "duration": 63,
    "start_time": "2021-12-06T11:12:10.388Z"
   },
   {
    "duration": 20,
    "start_time": "2021-12-06T11:12:10.454Z"
   },
   {
    "duration": 42,
    "start_time": "2021-12-06T11:12:10.477Z"
   },
   {
    "duration": 78,
    "start_time": "2021-12-06T11:12:10.522Z"
   },
   {
    "duration": 6,
    "start_time": "2021-12-06T11:12:10.602Z"
   },
   {
    "duration": 11,
    "start_time": "2021-12-06T11:12:10.610Z"
   },
   {
    "duration": 48,
    "start_time": "2021-12-06T11:12:10.626Z"
   },
   {
    "duration": 13,
    "start_time": "2021-12-06T11:12:10.677Z"
   },
   {
    "duration": 3,
    "start_time": "2021-12-06T11:12:10.692Z"
   },
   {
    "duration": 79,
    "start_time": "2021-12-06T11:12:10.698Z"
   },
   {
    "duration": 11,
    "start_time": "2021-12-06T11:12:10.779Z"
   },
   {
    "duration": 24,
    "start_time": "2021-12-06T11:12:10.792Z"
   },
   {
    "duration": 21,
    "start_time": "2021-12-06T11:12:10.819Z"
   },
   {
    "duration": 5,
    "start_time": "2021-12-06T11:12:10.843Z"
   },
   {
    "duration": 17,
    "start_time": "2021-12-06T11:12:10.850Z"
   },
   {
    "duration": 7,
    "start_time": "2021-12-06T11:12:10.870Z"
   },
   {
    "duration": 18,
    "start_time": "2021-12-06T11:12:10.880Z"
   },
   {
    "duration": 7,
    "start_time": "2021-12-06T11:12:10.900Z"
   },
   {
    "duration": 10,
    "start_time": "2021-12-06T11:12:10.909Z"
   },
   {
    "duration": 49,
    "start_time": "2021-12-06T11:12:10.922Z"
   },
   {
    "duration": 17,
    "start_time": "2021-12-06T11:12:10.973Z"
   },
   {
    "duration": 8,
    "start_time": "2021-12-06T11:12:10.996Z"
   },
   {
    "duration": 10896,
    "start_time": "2021-12-06T11:12:11.008Z"
   },
   {
    "duration": 29,
    "start_time": "2021-12-06T11:12:21.906Z"
   },
   {
    "duration": 33,
    "start_time": "2021-12-06T11:12:21.937Z"
   },
   {
    "duration": 285,
    "start_time": "2021-12-06T11:12:21.972Z"
   },
   {
    "duration": 8,
    "start_time": "2021-12-06T11:12:22.260Z"
   },
   {
    "duration": 11,
    "start_time": "2021-12-06T11:12:22.270Z"
   },
   {
    "duration": 87,
    "start_time": "2021-12-06T11:12:22.283Z"
   },
   {
    "duration": 37,
    "start_time": "2021-12-06T11:12:22.372Z"
   },
   {
    "duration": 29,
    "start_time": "2021-12-06T11:12:22.411Z"
   },
   {
    "duration": 46,
    "start_time": "2021-12-06T11:12:22.443Z"
   },
   {
    "duration": 12,
    "start_time": "2021-12-06T11:12:22.492Z"
   },
   {
    "duration": 18,
    "start_time": "2021-12-06T11:12:22.507Z"
   },
   {
    "duration": 47,
    "start_time": "2021-12-06T11:12:22.528Z"
   },
   {
    "duration": 24,
    "start_time": "2021-12-06T11:12:22.578Z"
   },
   {
    "duration": 18,
    "start_time": "2021-12-06T11:12:22.605Z"
   },
   {
    "duration": 9,
    "start_time": "2021-12-06T11:12:22.626Z"
   },
   {
    "duration": 34,
    "start_time": "2021-12-06T11:12:22.638Z"
   },
   {
    "duration": 21,
    "start_time": "2021-12-06T11:12:22.675Z"
   },
   {
    "duration": 19,
    "start_time": "2021-12-06T11:12:22.698Z"
   },
   {
    "duration": 47,
    "start_time": "2021-12-06T11:12:22.719Z"
   },
   {
    "duration": 4616,
    "start_time": "2021-12-06T11:12:22.769Z"
   },
   {
    "duration": 22,
    "start_time": "2021-12-06T11:12:27.388Z"
   },
   {
    "duration": 13,
    "start_time": "2021-12-06T11:12:27.413Z"
   },
   {
    "duration": 45,
    "start_time": "2021-12-06T11:12:27.428Z"
   },
   {
    "duration": 20,
    "start_time": "2021-12-06T11:12:27.476Z"
   },
   {
    "duration": 19,
    "start_time": "2021-12-06T11:12:27.498Z"
   },
   {
    "duration": 8,
    "start_time": "2021-12-06T11:12:27.519Z"
   },
   {
    "duration": 10023,
    "start_time": "2021-12-06T11:12:27.529Z"
   },
   {
    "duration": 15,
    "start_time": "2021-12-06T11:12:37.554Z"
   },
   {
    "duration": 10,
    "start_time": "2021-12-06T11:12:37.572Z"
   },
   {
    "duration": 8679,
    "start_time": "2021-12-06T11:12:37.584Z"
   },
   {
    "duration": 19,
    "start_time": "2021-12-06T11:12:46.266Z"
   },
   {
    "duration": 10,
    "start_time": "2021-12-06T11:12:46.287Z"
   },
   {
    "duration": 12,
    "start_time": "2021-12-06T11:12:46.299Z"
   },
   {
    "duration": 8,
    "start_time": "2021-12-06T11:12:46.313Z"
   },
   {
    "duration": 6,
    "start_time": "2021-12-06T11:12:46.323Z"
   },
   {
    "duration": 8,
    "start_time": "2021-12-06T11:12:46.331Z"
   },
   {
    "duration": 11,
    "start_time": "2021-12-06T11:12:46.342Z"
   },
   {
    "duration": 18,
    "start_time": "2021-12-06T11:12:46.356Z"
   },
   {
    "duration": 13,
    "start_time": "2021-12-06T11:12:46.376Z"
   },
   {
    "duration": 20,
    "start_time": "2021-12-06T11:12:46.391Z"
   },
   {
    "duration": 9,
    "start_time": "2021-12-06T11:12:46.414Z"
   },
   {
    "duration": 38,
    "start_time": "2021-12-06T11:12:46.425Z"
   },
   {
    "duration": 14,
    "start_time": "2021-12-06T11:12:46.465Z"
   },
   {
    "duration": 4,
    "start_time": "2021-12-06T11:12:46.487Z"
   },
   {
    "duration": 23,
    "start_time": "2021-12-06T11:12:46.494Z"
   },
   {
    "duration": 8,
    "start_time": "2021-12-06T11:12:46.520Z"
   },
   {
    "duration": 8,
    "start_time": "2021-12-06T11:12:46.531Z"
   },
   {
    "duration": 25,
    "start_time": "2021-12-06T11:12:46.542Z"
   },
   {
    "duration": 10,
    "start_time": "2021-12-06T11:12:46.570Z"
   },
   {
    "duration": 112,
    "start_time": "2021-12-06T11:12:46.583Z"
   },
   {
    "duration": -50,
    "start_time": "2021-12-06T11:12:46.747Z"
   },
   {
    "duration": -66,
    "start_time": "2021-12-06T11:12:46.765Z"
   },
   {
    "duration": -71,
    "start_time": "2021-12-06T11:12:46.772Z"
   },
   {
    "duration": -76,
    "start_time": "2021-12-06T11:12:46.778Z"
   },
   {
    "duration": 12015,
    "start_time": "2021-12-06T11:12:59.838Z"
   },
   {
    "duration": 13152,
    "start_time": "2021-12-06T11:14:35.573Z"
   },
   {
    "duration": 6138,
    "start_time": "2021-12-06T11:18:32.927Z"
   },
   {
    "duration": 583,
    "start_time": "2021-12-06T11:18:38.485Z"
   },
   {
    "duration": 6483,
    "start_time": "2021-12-06T11:18:41.307Z"
   },
   {
    "duration": 5277,
    "start_time": "2021-12-06T11:18:51.288Z"
   },
   {
    "duration": 735,
    "start_time": "2021-12-06T11:18:55.832Z"
   },
   {
    "duration": 19,
    "start_time": "2021-12-06T11:19:05.398Z"
   },
   {
    "duration": 7,
    "start_time": "2021-12-06T11:19:08.537Z"
   },
   {
    "duration": 9,
    "start_time": "2021-12-06T11:19:10.267Z"
   },
   {
    "duration": 25,
    "start_time": "2021-12-06T11:19:44.697Z"
   },
   {
    "duration": 10,
    "start_time": "2021-12-06T11:19:46.127Z"
   },
   {
    "duration": 6,
    "start_time": "2021-12-06T11:21:48.426Z"
   },
   {
    "duration": 26,
    "start_time": "2021-12-06T11:21:50.334Z"
   },
   {
    "duration": 6,
    "start_time": "2021-12-06T11:21:50.865Z"
   },
   {
    "duration": 10,
    "start_time": "2021-12-06T11:22:04.095Z"
   },
   {
    "duration": 28,
    "start_time": "2021-12-06T11:22:19.825Z"
   },
   {
    "duration": 10,
    "start_time": "2021-12-06T11:22:20.425Z"
   },
   {
    "duration": 268,
    "start_time": "2021-12-06T11:22:44.234Z"
   },
   {
    "duration": 371,
    "start_time": "2021-12-06T11:22:52.584Z"
   },
   {
    "duration": 11,
    "start_time": "2021-12-06T11:23:08.870Z"
   },
   {
    "duration": 10,
    "start_time": "2021-12-06T11:23:19.159Z"
   },
   {
    "duration": 27,
    "start_time": "2021-12-06T11:24:02.124Z"
   },
   {
    "duration": 12,
    "start_time": "2021-12-06T11:24:19.124Z"
   },
   {
    "duration": 28,
    "start_time": "2021-12-06T11:24:21.585Z"
   },
   {
    "duration": 12,
    "start_time": "2021-12-06T11:24:21.944Z"
   },
   {
    "duration": 90,
    "start_time": "2021-12-06T11:26:05.585Z"
   },
   {
    "duration": 121,
    "start_time": "2021-12-06T11:26:08.139Z"
   },
   {
    "duration": 14,
    "start_time": "2021-12-06T11:27:06.035Z"
   },
   {
    "duration": 783,
    "start_time": "2021-12-06T11:29:50.378Z"
   },
   {
    "duration": 66,
    "start_time": "2021-12-06T11:29:51.164Z"
   },
   {
    "duration": 16,
    "start_time": "2021-12-06T11:29:51.233Z"
   },
   {
    "duration": 56,
    "start_time": "2021-12-06T11:29:51.252Z"
   },
   {
    "duration": 79,
    "start_time": "2021-12-06T11:29:51.310Z"
   },
   {
    "duration": 6,
    "start_time": "2021-12-06T11:29:51.392Z"
   },
   {
    "duration": 17,
    "start_time": "2021-12-06T11:29:51.401Z"
   },
   {
    "duration": 14,
    "start_time": "2021-12-06T11:29:51.422Z"
   },
   {
    "duration": 39,
    "start_time": "2021-12-06T11:29:51.439Z"
   },
   {
    "duration": 3,
    "start_time": "2021-12-06T11:29:51.481Z"
   },
   {
    "duration": 83,
    "start_time": "2021-12-06T11:29:51.486Z"
   },
   {
    "duration": 12,
    "start_time": "2021-12-06T11:29:51.571Z"
   },
   {
    "duration": 4,
    "start_time": "2021-12-06T11:29:51.586Z"
   },
   {
    "duration": 18,
    "start_time": "2021-12-06T11:29:51.593Z"
   },
   {
    "duration": 5,
    "start_time": "2021-12-06T11:29:51.614Z"
   },
   {
    "duration": 47,
    "start_time": "2021-12-06T11:29:51.622Z"
   },
   {
    "duration": 6,
    "start_time": "2021-12-06T11:29:51.671Z"
   },
   {
    "duration": 30,
    "start_time": "2021-12-06T11:29:51.679Z"
   },
   {
    "duration": 8,
    "start_time": "2021-12-06T11:29:51.711Z"
   },
   {
    "duration": 12,
    "start_time": "2021-12-06T11:29:51.722Z"
   },
   {
    "duration": 35,
    "start_time": "2021-12-06T11:29:51.737Z"
   },
   {
    "duration": 17,
    "start_time": "2021-12-06T11:29:51.775Z"
   },
   {
    "duration": 9,
    "start_time": "2021-12-06T11:29:51.797Z"
   },
   {
    "duration": 812,
    "start_time": "2021-12-06T11:30:40.395Z"
   },
   {
    "duration": 805,
    "start_time": "2021-12-06T11:30:40.403Z"
   },
   {
    "duration": 799,
    "start_time": "2021-12-06T11:30:40.411Z"
   },
   {
    "duration": 785,
    "start_time": "2021-12-06T11:30:40.426Z"
   },
   {
    "duration": 776,
    "start_time": "2021-12-06T11:30:40.437Z"
   },
   {
    "duration": 768,
    "start_time": "2021-12-06T11:30:40.446Z"
   },
   {
    "duration": 763,
    "start_time": "2021-12-06T11:30:40.453Z"
   },
   {
    "duration": 757,
    "start_time": "2021-12-06T11:30:40.460Z"
   },
   {
    "duration": 750,
    "start_time": "2021-12-06T11:30:40.468Z"
   },
   {
    "duration": 743,
    "start_time": "2021-12-06T11:30:40.476Z"
   },
   {
    "duration": 728,
    "start_time": "2021-12-06T11:30:40.493Z"
   },
   {
    "duration": 722,
    "start_time": "2021-12-06T11:30:40.500Z"
   },
   {
    "duration": 715,
    "start_time": "2021-12-06T11:30:40.509Z"
   },
   {
    "duration": 709,
    "start_time": "2021-12-06T11:30:40.516Z"
   },
   {
    "duration": 701,
    "start_time": "2021-12-06T11:30:40.525Z"
   },
   {
    "duration": 694,
    "start_time": "2021-12-06T11:30:40.534Z"
   },
   {
    "duration": 687,
    "start_time": "2021-12-06T11:30:40.542Z"
   },
   {
    "duration": 677,
    "start_time": "2021-12-06T11:30:40.553Z"
   },
   {
    "duration": 672,
    "start_time": "2021-12-06T11:30:40.560Z"
   },
   {
    "duration": 665,
    "start_time": "2021-12-06T11:30:40.568Z"
   },
   {
    "duration": 658,
    "start_time": "2021-12-06T11:30:40.576Z"
   },
   {
    "duration": 648,
    "start_time": "2021-12-06T11:30:40.588Z"
   },
   {
    "duration": 631,
    "start_time": "2021-12-06T11:30:40.606Z"
   },
   {
    "duration": 625,
    "start_time": "2021-12-06T11:30:40.613Z"
   },
   {
    "duration": 647,
    "start_time": "2021-12-06T11:30:40.620Z"
   },
   {
    "duration": 641,
    "start_time": "2021-12-06T11:30:40.628Z"
   },
   {
    "duration": 633,
    "start_time": "2021-12-06T11:30:40.637Z"
   },
   {
    "duration": 625,
    "start_time": "2021-12-06T11:30:40.646Z"
   },
   {
    "duration": 619,
    "start_time": "2021-12-06T11:30:40.654Z"
   },
   {
    "duration": 611,
    "start_time": "2021-12-06T11:30:40.663Z"
   },
   {
    "duration": 604,
    "start_time": "2021-12-06T11:30:40.671Z"
   },
   {
    "duration": 381,
    "start_time": "2021-12-06T11:30:40.895Z"
   },
   {
    "duration": 376,
    "start_time": "2021-12-06T11:30:40.902Z"
   },
   {
    "duration": 368,
    "start_time": "2021-12-06T11:30:40.911Z"
   },
   {
    "duration": 358,
    "start_time": "2021-12-06T11:30:40.923Z"
   },
   {
    "duration": 299,
    "start_time": "2021-12-06T11:30:40.983Z"
   },
   {
    "duration": 292,
    "start_time": "2021-12-06T11:30:40.992Z"
   },
   {
    "duration": 285,
    "start_time": "2021-12-06T11:30:41.000Z"
   },
   {
    "duration": 277,
    "start_time": "2021-12-06T11:30:41.009Z"
   },
   {
    "duration": 271,
    "start_time": "2021-12-06T11:30:41.017Z"
   },
   {
    "duration": 263,
    "start_time": "2021-12-06T11:30:41.026Z"
   },
   {
    "duration": 213,
    "start_time": "2021-12-06T11:30:41.077Z"
   },
   {
    "duration": 198,
    "start_time": "2021-12-06T11:30:41.094Z"
   },
   {
    "duration": 190,
    "start_time": "2021-12-06T11:30:41.103Z"
   },
   {
    "duration": 185,
    "start_time": "2021-12-06T11:30:41.110Z"
   },
   {
    "duration": 143,
    "start_time": "2021-12-06T11:30:41.153Z"
   },
   {
    "duration": 138,
    "start_time": "2021-12-06T11:30:41.160Z"
   },
   {
    "duration": 132,
    "start_time": "2021-12-06T11:30:41.167Z"
   },
   {
    "duration": 60,
    "start_time": "2021-12-06T11:30:41.240Z"
   },
   {
    "duration": 55,
    "start_time": "2021-12-06T11:30:41.247Z"
   },
   {
    "duration": 48,
    "start_time": "2021-12-06T11:30:41.255Z"
   },
   {
    "duration": -156,
    "start_time": "2021-12-06T11:30:41.460Z"
   },
   {
    "duration": -113,
    "start_time": "2021-12-06T11:30:41.479Z"
   },
   {
    "duration": -119,
    "start_time": "2021-12-06T11:30:41.487Z"
   },
   {
    "duration": -125,
    "start_time": "2021-12-06T11:30:41.494Z"
   },
   {
    "duration": -156,
    "start_time": "2021-12-06T11:30:41.527Z"
   },
   {
    "duration": -172,
    "start_time": "2021-12-06T11:30:41.544Z"
   },
   {
    "duration": -181,
    "start_time": "2021-12-06T11:30:41.554Z"
   },
   {
    "duration": -186,
    "start_time": "2021-12-06T11:30:41.561Z"
   },
   {
    "duration": -192,
    "start_time": "2021-12-06T11:30:41.568Z"
   },
   {
    "duration": -197,
    "start_time": "2021-12-06T11:30:41.575Z"
   },
   {
    "duration": -205,
    "start_time": "2021-12-06T11:30:41.584Z"
   },
   {
    "duration": -228,
    "start_time": "2021-12-06T11:30:41.609Z"
   },
   {
    "duration": -235,
    "start_time": "2021-12-06T11:30:41.617Z"
   },
   {
    "duration": -257,
    "start_time": "2021-12-06T11:30:41.640Z"
   },
   {
    "duration": -271,
    "start_time": "2021-12-06T11:30:41.656Z"
   },
   {
    "duration": -277,
    "start_time": "2021-12-06T11:30:41.663Z"
   },
   {
    "duration": -284,
    "start_time": "2021-12-06T11:30:41.671Z"
   },
   {
    "duration": -297,
    "start_time": "2021-12-06T11:30:41.686Z"
   },
   {
    "duration": -304,
    "start_time": "2021-12-06T11:30:41.694Z"
   },
   {
    "duration": -308,
    "start_time": "2021-12-06T11:30:41.700Z"
   },
   {
    "duration": -315,
    "start_time": "2021-12-06T11:30:41.708Z"
   },
   {
    "duration": -328,
    "start_time": "2021-12-06T11:30:41.722Z"
   },
   {
    "duration": -352,
    "start_time": "2021-12-06T11:30:41.748Z"
   },
   {
    "duration": 26,
    "start_time": "2021-12-06T11:30:53.855Z"
   },
   {
    "duration": 10,
    "start_time": "2021-12-06T11:30:59.806Z"
   },
   {
    "duration": 11,
    "start_time": "2021-12-06T11:31:09.136Z"
   },
   {
    "duration": 11,
    "start_time": "2021-12-06T11:31:14.167Z"
   },
   {
    "duration": 29,
    "start_time": "2021-12-06T11:32:11.086Z"
   },
   {
    "duration": 65,
    "start_time": "2021-12-06T11:32:11.118Z"
   },
   {
    "duration": 15,
    "start_time": "2021-12-06T11:32:11.186Z"
   },
   {
    "duration": 71,
    "start_time": "2021-12-06T11:32:11.205Z"
   },
   {
    "duration": 51,
    "start_time": "2021-12-06T11:32:11.278Z"
   },
   {
    "duration": 36,
    "start_time": "2021-12-06T11:32:11.332Z"
   },
   {
    "duration": 11,
    "start_time": "2021-12-06T11:32:11.370Z"
   },
   {
    "duration": 10,
    "start_time": "2021-12-06T11:32:11.385Z"
   },
   {
    "duration": 18,
    "start_time": "2021-12-06T11:32:11.399Z"
   },
   {
    "duration": 3,
    "start_time": "2021-12-06T11:32:11.420Z"
   },
   {
    "duration": 58,
    "start_time": "2021-12-06T11:32:11.468Z"
   },
   {
    "duration": 40,
    "start_time": "2021-12-06T11:32:11.529Z"
   },
   {
    "duration": 5,
    "start_time": "2021-12-06T11:32:11.571Z"
   },
   {
    "duration": 18,
    "start_time": "2021-12-06T11:32:11.579Z"
   },
   {
    "duration": 6,
    "start_time": "2021-12-06T11:32:11.599Z"
   },
   {
    "duration": 5,
    "start_time": "2021-12-06T11:32:11.607Z"
   },
   {
    "duration": 9,
    "start_time": "2021-12-06T11:32:11.615Z"
   },
   {
    "duration": 55,
    "start_time": "2021-12-06T11:32:11.626Z"
   },
   {
    "duration": 8,
    "start_time": "2021-12-06T11:32:11.685Z"
   },
   {
    "duration": 10,
    "start_time": "2021-12-06T11:32:11.696Z"
   },
   {
    "duration": 12,
    "start_time": "2021-12-06T11:32:11.708Z"
   },
   {
    "duration": 57,
    "start_time": "2021-12-06T11:32:11.722Z"
   },
   {
    "duration": 9,
    "start_time": "2021-12-06T11:32:11.785Z"
   },
   {
    "duration": 10872,
    "start_time": "2021-12-06T11:32:11.799Z"
   },
   {
    "duration": 29,
    "start_time": "2021-12-06T11:32:22.674Z"
   },
   {
    "duration": 11,
    "start_time": "2021-12-06T11:32:22.706Z"
   },
   {
    "duration": 310,
    "start_time": "2021-12-06T11:32:22.720Z"
   },
   {
    "duration": 8,
    "start_time": "2021-12-06T11:32:23.033Z"
   },
   {
    "duration": 23,
    "start_time": "2021-12-06T11:32:23.044Z"
   },
   {
    "duration": 87,
    "start_time": "2021-12-06T11:32:23.069Z"
   },
   {
    "duration": 34,
    "start_time": "2021-12-06T11:32:23.158Z"
   },
   {
    "duration": 28,
    "start_time": "2021-12-06T11:32:23.194Z"
   },
   {
    "duration": 50,
    "start_time": "2021-12-06T11:32:23.224Z"
   },
   {
    "duration": 13,
    "start_time": "2021-12-06T11:32:23.276Z"
   },
   {
    "duration": 14,
    "start_time": "2021-12-06T11:32:23.291Z"
   },
   {
    "duration": 13,
    "start_time": "2021-12-06T11:32:23.307Z"
   },
   {
    "duration": 47,
    "start_time": "2021-12-06T11:32:23.322Z"
   },
   {
    "duration": 14,
    "start_time": "2021-12-06T11:32:23.372Z"
   },
   {
    "duration": 10,
    "start_time": "2021-12-06T11:32:23.388Z"
   },
   {
    "duration": 11,
    "start_time": "2021-12-06T11:32:23.400Z"
   },
   {
    "duration": 53,
    "start_time": "2021-12-06T11:32:23.414Z"
   },
   {
    "duration": 18,
    "start_time": "2021-12-06T11:32:23.470Z"
   },
   {
    "duration": 14,
    "start_time": "2021-12-06T11:32:23.492Z"
   },
   {
    "duration": 4703,
    "start_time": "2021-12-06T11:32:23.509Z"
   },
   {
    "duration": 19,
    "start_time": "2021-12-06T11:32:28.215Z"
   },
   {
    "duration": 35,
    "start_time": "2021-12-06T11:32:28.237Z"
   },
   {
    "duration": 12261,
    "start_time": "2021-12-06T11:32:28.275Z"
   },
   {
    "duration": 18,
    "start_time": "2021-12-06T11:32:40.538Z"
   },
   {
    "duration": 5,
    "start_time": "2021-12-06T11:32:40.568Z"
   },
   {
    "duration": 10334,
    "start_time": "2021-12-06T11:32:40.575Z"
   },
   {
    "duration": 9,
    "start_time": "2021-12-06T11:32:50.912Z"
   },
   {
    "duration": 11,
    "start_time": "2021-12-06T11:32:50.924Z"
   },
   {
    "duration": 8851,
    "start_time": "2021-12-06T11:32:50.937Z"
   },
   {
    "duration": 22,
    "start_time": "2021-12-06T11:32:59.790Z"
   },
   {
    "duration": 8,
    "start_time": "2021-12-06T11:32:59.814Z"
   },
   {
    "duration": 10,
    "start_time": "2021-12-06T11:32:59.825Z"
   },
   {
    "duration": 33,
    "start_time": "2021-12-06T11:32:59.837Z"
   },
   {
    "duration": 7,
    "start_time": "2021-12-06T11:32:59.873Z"
   },
   {
    "duration": 9,
    "start_time": "2021-12-06T11:32:59.882Z"
   },
   {
    "duration": 11,
    "start_time": "2021-12-06T11:32:59.893Z"
   },
   {
    "duration": 18,
    "start_time": "2021-12-06T11:32:59.907Z"
   },
   {
    "duration": 6,
    "start_time": "2021-12-06T11:32:59.928Z"
   },
   {
    "duration": 11,
    "start_time": "2021-12-06T11:32:59.968Z"
   },
   {
    "duration": 9,
    "start_time": "2021-12-06T11:32:59.981Z"
   },
   {
    "duration": 35,
    "start_time": "2021-12-06T11:32:59.993Z"
   },
   {
    "duration": 39,
    "start_time": "2021-12-06T11:33:00.031Z"
   },
   {
    "duration": 44,
    "start_time": "2021-12-06T11:33:00.073Z"
   },
   {
    "duration": 11,
    "start_time": "2021-12-06T11:33:00.124Z"
   },
   {
    "duration": 48,
    "start_time": "2021-12-06T11:33:00.139Z"
   },
   {
    "duration": 14,
    "start_time": "2021-12-06T11:33:00.190Z"
   },
   {
    "duration": 30,
    "start_time": "2021-12-06T11:33:00.207Z"
   },
   {
    "duration": 39,
    "start_time": "2021-12-06T11:33:00.239Z"
   },
   {
    "duration": 810,
    "start_time": "2021-12-07T06:58:34.219Z"
   },
   {
    "duration": 66,
    "start_time": "2021-12-07T06:58:35.032Z"
   },
   {
    "duration": 16,
    "start_time": "2021-12-07T06:58:35.106Z"
   },
   {
    "duration": 65,
    "start_time": "2021-12-07T06:58:35.124Z"
   },
   {
    "duration": 47,
    "start_time": "2021-12-07T06:58:35.192Z"
   },
   {
    "duration": 20,
    "start_time": "2021-12-07T06:58:35.241Z"
   },
   {
    "duration": 11,
    "start_time": "2021-12-07T06:58:35.267Z"
   },
   {
    "duration": 11,
    "start_time": "2021-12-07T06:58:35.282Z"
   },
   {
    "duration": 17,
    "start_time": "2021-12-07T06:58:35.295Z"
   },
   {
    "duration": 46,
    "start_time": "2021-12-07T06:58:35.314Z"
   },
   {
    "duration": 57,
    "start_time": "2021-12-07T06:58:35.363Z"
   },
   {
    "duration": 13,
    "start_time": "2021-12-07T06:58:35.423Z"
   },
   {
    "duration": 6,
    "start_time": "2021-12-07T06:58:35.460Z"
   },
   {
    "duration": 15,
    "start_time": "2021-12-07T06:58:35.468Z"
   },
   {
    "duration": 5,
    "start_time": "2021-12-07T06:58:35.486Z"
   },
   {
    "duration": 5,
    "start_time": "2021-12-07T06:58:35.493Z"
   },
   {
    "duration": 6,
    "start_time": "2021-12-07T06:58:35.500Z"
   },
   {
    "duration": 67,
    "start_time": "2021-12-07T06:58:35.508Z"
   },
   {
    "duration": 7,
    "start_time": "2021-12-07T06:58:35.577Z"
   },
   {
    "duration": 12,
    "start_time": "2021-12-07T06:58:35.587Z"
   },
   {
    "duration": 19,
    "start_time": "2021-12-07T06:58:35.601Z"
   },
   {
    "duration": 39,
    "start_time": "2021-12-07T06:58:35.626Z"
   },
   {
    "duration": 9,
    "start_time": "2021-12-07T06:58:35.668Z"
   },
   {
    "duration": 10528,
    "start_time": "2021-12-07T06:58:35.679Z"
   },
   {
    "duration": 30,
    "start_time": "2021-12-07T06:58:46.209Z"
   },
   {
    "duration": 25,
    "start_time": "2021-12-07T06:58:46.241Z"
   },
   {
    "duration": 294,
    "start_time": "2021-12-07T06:58:46.269Z"
   },
   {
    "duration": 8,
    "start_time": "2021-12-07T06:58:46.566Z"
   },
   {
    "duration": 5,
    "start_time": "2021-12-07T06:58:46.577Z"
   },
   {
    "duration": 92,
    "start_time": "2021-12-07T06:58:46.584Z"
   },
   {
    "duration": 33,
    "start_time": "2021-12-07T06:58:46.678Z"
   },
   {
    "duration": 46,
    "start_time": "2021-12-07T06:58:46.713Z"
   },
   {
    "duration": 25,
    "start_time": "2021-12-07T06:58:46.761Z"
   },
   {
    "duration": 12,
    "start_time": "2021-12-07T06:58:46.788Z"
   },
   {
    "duration": 13,
    "start_time": "2021-12-07T06:58:46.802Z"
   },
   {
    "duration": 49,
    "start_time": "2021-12-07T06:58:46.817Z"
   },
   {
    "duration": 12,
    "start_time": "2021-12-07T06:58:46.869Z"
   },
   {
    "duration": 19,
    "start_time": "2021-12-07T06:58:46.884Z"
   },
   {
    "duration": 8,
    "start_time": "2021-12-07T06:58:46.906Z"
   },
   {
    "duration": 46,
    "start_time": "2021-12-07T06:58:46.916Z"
   },
   {
    "duration": 18,
    "start_time": "2021-12-07T06:58:46.965Z"
   },
   {
    "duration": 16,
    "start_time": "2021-12-07T06:58:46.986Z"
   },
   {
    "duration": 15,
    "start_time": "2021-12-07T06:58:47.004Z"
   },
   {
    "duration": 5058,
    "start_time": "2021-12-07T06:58:47.021Z"
   },
   {
    "duration": 18,
    "start_time": "2021-12-07T06:58:52.081Z"
   },
   {
    "duration": 16,
    "start_time": "2021-12-07T06:58:52.101Z"
   },
   {
    "duration": 12243,
    "start_time": "2021-12-07T06:58:52.120Z"
   },
   {
    "duration": 19,
    "start_time": "2021-12-07T06:59:04.365Z"
   },
   {
    "duration": 7,
    "start_time": "2021-12-07T06:59:04.386Z"
   },
   {
    "duration": 9615,
    "start_time": "2021-12-07T06:59:04.395Z"
   },
   {
    "duration": 9,
    "start_time": "2021-12-07T06:59:14.013Z"
   },
   {
    "duration": 11,
    "start_time": "2021-12-07T06:59:14.024Z"
   },
   {
    "duration": 8547,
    "start_time": "2021-12-07T06:59:14.037Z"
   },
   {
    "duration": 18,
    "start_time": "2021-12-07T06:59:22.587Z"
   },
   {
    "duration": 8,
    "start_time": "2021-12-07T06:59:22.607Z"
   },
   {
    "duration": 9,
    "start_time": "2021-12-07T06:59:22.617Z"
   },
   {
    "duration": 31,
    "start_time": "2021-12-07T06:59:22.628Z"
   },
   {
    "duration": 4,
    "start_time": "2021-12-07T06:59:22.661Z"
   },
   {
    "duration": 5,
    "start_time": "2021-12-07T06:59:22.667Z"
   },
   {
    "duration": 9,
    "start_time": "2021-12-07T06:59:22.674Z"
   },
   {
    "duration": 14,
    "start_time": "2021-12-07T06:59:22.685Z"
   },
   {
    "duration": 6,
    "start_time": "2021-12-07T06:59:22.701Z"
   },
   {
    "duration": 56,
    "start_time": "2021-12-07T06:59:22.710Z"
   },
   {
    "duration": 9,
    "start_time": "2021-12-07T06:59:22.768Z"
   },
   {
    "duration": 39,
    "start_time": "2021-12-07T06:59:22.779Z"
   },
   {
    "duration": 39,
    "start_time": "2021-12-07T06:59:22.821Z"
   },
   {
    "duration": 28,
    "start_time": "2021-12-07T06:59:22.867Z"
   },
   {
    "duration": 11,
    "start_time": "2021-12-07T06:59:22.898Z"
   },
   {
    "duration": 59,
    "start_time": "2021-12-07T06:59:22.912Z"
   },
   {
    "duration": 11,
    "start_time": "2021-12-07T06:59:22.973Z"
   },
   {
    "duration": 25,
    "start_time": "2021-12-07T06:59:22.987Z"
   },
   {
    "duration": 10,
    "start_time": "2021-12-07T06:59:23.014Z"
   }
  ],
  "kernelspec": {
   "display_name": "Python 3",
   "language": "python",
   "name": "python3"
  },
  "language_info": {
   "codemirror_mode": {
    "name": "ipython",
    "version": 3
   },
   "file_extension": ".py",
   "mimetype": "text/x-python",
   "name": "python",
   "nbconvert_exporter": "python",
   "pygments_lexer": "ipython3",
   "version": "3.8.8"
  },
  "toc": {
   "base_numbering": 1,
   "nav_menu": {},
   "number_sections": true,
   "sideBar": true,
   "skip_h1_title": true,
   "title_cell": "Table of Contents",
   "title_sidebar": "Contents",
   "toc_cell": false,
   "toc_position": {},
   "toc_section_display": true,
   "toc_window_display": true
  }
 },
 "nbformat": 4,
 "nbformat_minor": 2
}
